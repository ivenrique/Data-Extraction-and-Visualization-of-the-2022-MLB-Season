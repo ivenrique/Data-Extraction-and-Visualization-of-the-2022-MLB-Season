{
 "cells": [
  {
   "cell_type": "code",
   "execution_count": 1,
   "id": "9c11c0f5",
   "metadata": {},
   "outputs": [],
   "source": [
    "import numpy as np\n",
    "import pandas as pd\n",
    "\n",
    "import requests\n",
    "from bs4 import BeautifulSoup\n",
    "\n",
    "from time import sleep\n",
    "\n",
    "from pprint import pprint\n"
   ]
  },
  {
   "cell_type": "code",
   "execution_count": 2,
   "id": "77eca1cd",
   "metadata": {},
   "outputs": [
    {
     "name": "stdout",
     "output_type": "stream",
     "text": [
      "['https://www.mlb.com/es/stats/2022?page=1', 'https://www.mlb.com/es/stats/2022?page=2', 'https://www.mlb.com/es/stats/2022?page=3', 'https://www.mlb.com/es/stats/2022?page=4', 'https://www.mlb.com/es/stats/2022?page=5', 'https://www.mlb.com/es/stats/2022?page=6', 'https://www.mlb.com/es/stats/2022?page=7']\n"
     ]
    }
   ],
   "source": [
    "\n",
    "urls_paginas=[]\n",
    "for i in range(1,8):\n",
    "    string_url = f\"https://www.mlb.com/es/stats/2022?page={i}\"\n",
    "    urls_paginas.append(string_url)\n",
    "print(urls_paginas)"
   ]
  },
  {
   "cell_type": "code",
   "execution_count": 248,
   "id": "06b43f7c",
   "metadata": {},
   "outputs": [
    {
     "name": "stdout",
     "output_type": "stream",
     "text": [
      "https://www.mlb.com/es/stats/2022?page=1\n",
      "https://www.mlb.com/es/stats/2022?page=2\n",
      "https://www.mlb.com/es/stats/2022?page=3\n",
      "https://www.mlb.com/es/stats/2022?page=4\n",
      "https://www.mlb.com/es/stats/2022?page=5\n",
      "https://www.mlb.com/es/stats/2022?page=6\n",
      "https://www.mlb.com/es/stats/2022?page=7\n"
     ]
    }
   ],
   "source": [
    "Nombre_Apellido=[]\n",
    "lista_ref=[]\n",
    "lista_link_player=[]\n",
    "EQUIPO=[]\n",
    "J=[]\n",
    "TB=[]\n",
    "C=[]\n",
    "H=[]\n",
    "DOBLE=[]\n",
    "TRIPLE=[]\n",
    "HR=[]\n",
    "CI=[]\n",
    "BB=[]\n",
    "P=[]\n",
    "BR=[]\n",
    "AR=[]\n",
    "PRO=[]\n",
    "OBP=[]\n",
    "SLG=[]\n",
    "\n",
    "for url in (urls_paginas):          \n",
    "               \n",
    "        response = requests.get(url)\n",
    "        soup = BeautifulSoup(response.text, \"html.parser\")\n",
    "        \n",
    "        print(url)\n",
    "        \n",
    "        ########NOMBRE Y APELLIDO\n",
    "        for bs in soup.find_all(\"span\", class_=\"full-3fV3c9pF\"):\n",
    "            Nombre_Apellido.append(bs.text)      \n",
    "        ############ ID   \n",
    "        for bs in soup.find_all(\"div\", class_=\"top-wrapper-1NLTqKbE\"):            \n",
    "            ref=bs.find(class_=\"bui-link\")[\"href\"].split(\"/\")[-1]\n",
    "            lista_ref.append(ref)\n",
    "        ######URL JUGADOR    \n",
    "            url_jugador= f\"https://www.mlb.com/es/player/{ref}\"\n",
    "            lista_link_player.append(url_jugador)\n",
    "        ###### EQUIPO\n",
    "        for bs in soup.find_all(class_=\"col-group-end-2UJpJVwW number-aY5arzrB align-left-3L2SU-Mk is-table-pinned-1WfPW2jT\"):\n",
    "            EQUIPO.append(bs.text)\n",
    "            \n",
    "        #### J,C,BB,BR,PRO    \n",
    "        a=soup.find_all(\"td\",class_=\"col-group-start-sa9unvY0 number-aY5arzrB align-right-3nN_D3xs is-table-pinned-1WfPW2jT\")\n",
    "        for x in range(0, len(a),5):\n",
    "            J.append(a[x:x+5][0].text)\n",
    "            C.append(a[x:x+5][1].text)\n",
    "            BB.append(a[x:x+5][2].text)\n",
    "            BR.append(a[x:x+5][3].text)\n",
    "            PRO.append(a[x:x+5][4].text)\n",
    "            \n",
    "        ######## TB, CI, P, AR   \n",
    "        b=soup.find_all(class_=\"col-group-end-2UJpJVwW number-aY5arzrB align-right-3nN_D3xs is-table-pinned-1WfPW2jT\")\n",
    "        for x in range(0, len(b),4):\n",
    "            TB.append(b[x:x+4][0].text)\n",
    "            CI.append(b[x:x+4][1].text)\n",
    "            P.append(b[x:x+4][2].text)\n",
    "            AR.append(b[x:x+4][3].text)\n",
    "        \n",
    "        ######## H, DOBLE, TRIPLE, HR, OBP, SLG\n",
    "        c=soup.find_all(class_=\"number-aY5arzrB align-right-3nN_D3xs is-table-pinned-1WfPW2jT\")\n",
    "        for x in range(0, len(c),6):\n",
    "            H.append(c[x:x+6][0].text)\n",
    "            DOBLE.append(c[x:x+6][1].text)\n",
    "            TRIPLE.append(c[x:x+6][2].text)\n",
    "            HR.append(c[x:x+6][3].text)\n",
    "            OBP.append(c[x:x+6][4].text)\n",
    "            SLG.append(c[x:x+6][5].text)          \n",
    "            \n",
    "            \n",
    "            \n",
    "            \n",
    "len(lista_link_player)\n",
    "Nombre=[Nombre_Apellido[x]for x in range(0,len(Nombre_Apellido),2)]\n",
    "Apellido=[Nombre_Apellido[x]for x in range(1,len(Nombre_Apellido),2)]\n",
    "            "
   ]
  },
  {
   "cell_type": "code",
   "execution_count": 249,
   "id": "bf570e93",
   "metadata": {},
   "outputs": [
    {
     "name": "stdout",
     "output_type": "stream",
     "text": [
      "['NYY', 'HOU', 'STL', 'HOU', 'LAD', 'SD', 'STL', 'BOS', 'ATL', 'LAA', 'LAD', 'NYM', 'CLE', 'SEA', 'SD', 'TEX', 'CLE', 'NYM', 'BOS', 'MIN', 'LAA', 'PHI', 'CWS', 'TB', 'HOU', 'PHI', 'TOR', 'NYY', 'NYM', 'TOR', 'SD', 'LAD', 'LAD', 'HOU', 'TOR', 'MIL', 'PIT', 'AZ', 'TOR', 'ATL', 'NYM', 'MIN', 'PHI', 'SEA', 'BOS', 'NYM', 'LAD', 'TOR', 'SD', 'COL', 'CHC', 'ATL', 'SEA', 'CLE', 'BAL', 'TB', 'NYY', 'TEX', 'NYM', 'MIL', 'MIN', 'ATL', 'NYY', 'OAK', 'TOR', 'MIL', 'TEX', 'CWS', 'OAK', 'AZ', 'COL', 'AZ', 'MIL', 'CHC', 'NYY', 'COL', 'COL', 'TEX', 'BOS', 'AZ', 'BAL', 'NYM', 'STL', 'COL', 'CHC', 'LAA', 'SD', 'SF', 'SD', 'KC', 'BAL', 'BAL', 'HOU', 'CLE', 'PHI', 'LAD', 'SF', 'HOU', 'WSH', 'SD', 'CWS', 'KC', 'WSH', 'CIN', 'MIL', 'SF', 'PHI', 'SEA', 'SEA', 'ATL', 'BOS', 'NYY', 'CWS', 'SEA', 'TOR', 'DET', 'BAL', 'PIT', 'LAD', 'WSH', 'HOU', 'BAL', 'OAK', 'NYY', 'WSH', 'SD', 'SEA', 'MIA', 'CLE', 'DET']\n"
     ]
    },
    {
     "data": {
      "text/plain": [
       "130"
      ]
     },
     "execution_count": 249,
     "metadata": {},
     "output_type": "execute_result"
    }
   ],
   "source": [
    "print(EQUIPO)\n",
    "len(EQUIPO)"
   ]
  },
  {
   "cell_type": "code",
   "execution_count": 250,
   "id": "48bb8cce",
   "metadata": {
    "scrolled": true
   },
   "outputs": [
    {
     "name": "stdout",
     "output_type": "stream",
     "text": [
      "['157', '135', '151', '141', '159', '150', '148', '141', '159', '157', '142', '160', '157', '132', '153', '157', '146', '148', '150', '136', '135', '155', '157', '137', '155', '139', '160', '130', '118', '133', '138', '160', '137', '150', '131', '125', '145', '160', '159', '162', '151', '144', '156', '150', '139', '161', '128', '139', '156', '150', '158', '162', '140', '147', '152', '153', '126', '151', '140', '153', '144', '119', '140', '148', '155', '139', '156', '134', '150', '151', '153', '125', '154', '135', '125', '135', '137', '161', '152', '137', '145', '136', '153', '141', '134', '127', '158', '140', '152', '150', '156', '145', '136', '153', '152', '136', '151', '143', '135', '150', '149', '129', '146', '145', '134', '148', '136', '131', '136', '124', '144', '132', '138', '145', '139', '144', '129', '136', '144', '124', '146', '150', '147', '142', '147', '152', '156', '140', '152', '131']\n"
     ]
    },
    {
     "data": {
      "text/plain": [
       "130"
      ]
     },
     "execution_count": 250,
     "metadata": {},
     "output_type": "execute_result"
    }
   ],
   "source": [
    "print(J)\n",
    "len(J)"
   ]
  },
  {
   "cell_type": "code",
   "execution_count": 251,
   "id": "9cda7ef0",
   "metadata": {},
   "outputs": [
    {
     "name": "stdout",
     "output_type": "stream",
     "text": [
      "['570', '470', '561', '527', '612', '578', '557', '555', '615', '586', '572', '597', '601', '511', '524', '593', '491', '533', '557', '522', '495', '577', '601', '473', '548', '504', '638', '465', '466', '513', '518', '652', '508', '544', '499', '474', '542', '583', '652', '616', '580', '547', '589', '543', '533', '630', '468', '470', '552', '575', '573', '640', '551', '563', '574', '586', '461', '593', '462', '529', '501', '467', '526', '537', '538', '563', '605', '510', '500', '531', '529', '443', '575', '481', '467', '530', '527', '657', '593', '492', '555', '495', '577', '506', '469', '489', '587', '488', '575', '591', '608', '535', '521', '637', '586', '464', '525', '519', '500', '517', '535', '460', '498', '526', '515', '485', '524', '431', '456', '470', '554', '478', '489', '518', '504', '555', '464', '505', '504', '448', '545', '494', '497', '483', '560', '451', '541', '471', '535', '481']\n"
     ]
    },
    {
     "data": {
      "text/plain": [
       "130"
      ]
     },
     "execution_count": 251,
     "metadata": {},
     "output_type": "execute_result"
    }
   ],
   "source": [
    "print(TB)\n",
    "len(TB)"
   ]
  },
  {
   "cell_type": "code",
   "execution_count": 252,
   "id": "fa5698f2",
   "metadata": {},
   "outputs": [
    {
     "name": "stdout",
     "output_type": "stream",
     "text": [
      "['133', '95', '106', '103', '117', '100', '73', '84', '90', '90', '117', '95', '90', '84', '93', '74', '66', '73', '84', '70', '73', '100', '85', '71', '93', '75', '90', '77', '76', '89', '87', '101', '68', '71', '71', '62', '74', '84', '91', '86', '102', '88', '81', '76', '76', '98', '61', '59', '78', '79', '72', '99', '65', '89', '78', '72', '54', '91', '71', '67', '61', '71', '73', '67', '83', '83', '88', '60', '55', '79', '67', '66', '99', '60', '74', '60', '72', '101', '75', '68', '62', '58', '95', '60', '67', '45', '88', '71', '82', '82', '89', '66', '72', '86', '79', '69', '72', '56', '55', '58', '66', '57', '62', '58', '66', '73', '56', '52', '51', '56', '89', '59', '61', '57', '70', '64', '39', '55', '70', '50', '53', '63', '61', '66', '64', '58', '61', '34', '72', '48']\n"
     ]
    },
    {
     "data": {
      "text/plain": [
       "130"
      ]
     },
     "execution_count": 252,
     "metadata": {},
     "output_type": "execute_result"
    }
   ],
   "source": [
    "print(C)\n",
    "len(C)"
   ]
  },
  {
   "cell_type": "code",
   "execution_count": 253,
   "id": "edf03741",
   "metadata": {},
   "outputs": [
    {
     "name": "stdout",
     "output_type": "stream",
     "text": [
      "['177', '144', '178', '158', '199', '172', '163', '164', '168', '160', '154', '162', '168', '145', '127', '179', '146', '174', '171', '152', '139', '126', '183', '140', '142', '139', '175', '104', '136', '137', '136', '194', '132', '140', '133', '121', '142', '141', '189', '148', '159', '173', '145', '128', '146', '170', '130', '134', '147', '148', '155', '177', '151', '168', '138', '154', '140', '145', '123', '116', '143', '124', '135', '134', '123', '134', '151', '138', '115', '125', '130', '119', '145', '135', '122', '140', '140', '163', '166', '118', '139', '119', '153', '131', '97', '129', '140', '127', '140', '150', '157', '134', '132', '180', '164', '91', '120', '124', '113', '130', '133', '100', '120', '134', '122', '104', '138', '87', '100', '106', '131', '106', '120', '126', '126', '132', '109', '123', '106', '105', '132', '109', '117', '126', '139', '83', '129', '111', '118', '97']\n"
     ]
    },
    {
     "data": {
      "text/plain": [
       "130"
      ]
     },
     "execution_count": 253,
     "metadata": {},
     "output_type": "execute_result"
    }
   ],
   "source": [
    "print(H)\n",
    "len(H)"
   ]
  },
  {
   "cell_type": "code",
   "execution_count": 254,
   "id": "f62f5234",
   "metadata": {},
   "outputs": [
    {
     "name": "stdout",
     "output_type": "stream",
     "text": [
      "['28', '29', '41', '39', '47', '37', '42', '42', '39', '30', '40', '27', '44', '25', '25', '26', '26', '39', '38', '24', '22', '21', '40', '33', '38', '26', '35', '21', '24', '22', '31', '39', '26', '28', '35', '23', '19', '25', '43', '44', '30', '31', '33', '24', '43', '25', '36', '19', '29', '28', '42', '32', '27', '25', '24', '41', '23', '24', '24', '23', '27', '24', '28', '37', '27', '31', '34', '28', '26', '23', '23', '25', '25', '22', '18', '22', '30', '31', '39', '42', '28', '26', '31', '21', '28', '22', '30', '22', '36', '31', '32', '35', '20', '26', '24', '22', '28', '23', '22', '29', '32', '21', '26', '25', '25', '31', '27', '18', '15', '19', '23', '28', '26', '24', '28', '27', '19', '24', '27', '16', '40', '25', '24', '20', '28', '16', '22', '19', '22', '23']\n"
     ]
    },
    {
     "data": {
      "text/plain": [
       "130"
      ]
     },
     "execution_count": 254,
     "metadata": {},
     "output_type": "execute_result"
    }
   ],
   "source": [
    "print(DOBLE)\n",
    "len(DOBLE)"
   ]
  },
  {
   "cell_type": "code",
   "execution_count": 255,
   "id": "41d4cc77",
   "metadata": {},
   "outputs": [
    {
     "name": "stdout",
     "output_type": "stream",
     "text": [
      "['0', '2', '0', '0', '2', '1', '1', '1', '2', '6', '3', '0', '5', '3', '2', '3', '3', '1', '0', '1', '2', '3', '0', '0', '0', '5', '0', '1', '5', '4', '2', '4', '3', '1', '1', '1', '4', '2', '1', '0', '7', '1', '2', '2', '1', '5', '0', '0', '3', '3', '2', '1', '1', '7', '0', '3', '3', '1', '0', '0', '3', '0', '1', '2', '1', '0', '5', '1', '3', '3', '3', '1', '4', '5', '0', '6', '3', '5', '1', '2', '1', '4', '4', '3', '0', '4', '4', '2', '2', '6', '4', '2', '2', '9', '3', '1', '1', '1', '0', '3', '0', '3', '2', '1', '0', '2', '0', '0', '0', '0', '1', '0', '1', '3', '1', '4', '0', '3', '3', '0', '0', '7', '2', '0', '4', '2', '4', '2', '3', '1']\n"
     ]
    },
    {
     "data": {
      "text/plain": [
       "130"
      ]
     },
     "execution_count": 255,
     "metadata": {},
     "output_type": "execute_result"
    }
   ],
   "source": [
    "print(TRIPLE)\n",
    "len(TRIPLE)"
   ]
  },
  {
   "cell_type": "code",
   "execution_count": 256,
   "id": "4ade882f",
   "metadata": {},
   "outputs": [
    {
     "name": "stdout",
     "output_type": "stream",
     "text": [
      "['62', '37', '35', '28', '21', '32', '30', '27', '38', '34', '35', '40', '29', '28', '27', '27', '17', '9', '15', '22', '23', '46', '15', '9', '23', '22', '32', '32', '16', '25', '28', '21', '24', '30', '25', '29', '27', '36', '24', '34', '16', '8', '30', '31', '16', '26', '13', '14', '17', '29', '17', '25', '20', '6', '33', '20', '5', '33', '13', '35', '13', '15', '24', '18', '27', '31', '27', '17', '25', '27', '20', '9', '14', '10', '12', '16', '13', '26', '11', '12', '22', '20', '13', '19', '25', '17', '17', '14', '15', '20', '16', '16', '22', '11', '13', '21', '19', '18', '22', '11', '17', '18', '17', '14', '17', '17', '13', '19', '14', '23', '17', '15', '14', '6', '11', '17', '16', '7', '19', '10', '8', '13', '7', '4', '1', '17', '3', '6', '0', '11']\n"
     ]
    },
    {
     "data": {
      "text/plain": [
       "130"
      ]
     },
     "execution_count": 256,
     "metadata": {},
     "output_type": "execute_result"
    }
   ],
   "source": [
    "print(HR)\n",
    "len(HR)"
   ]
  },
  {
   "cell_type": "code",
   "execution_count": 257,
   "id": "95c6aa86",
   "metadata": {},
   "outputs": [
    {
     "name": "stdout",
     "output_type": "stream",
     "text": [
      "['131', '97', '115', '57', '100', '102', '103', '88', '93', '95', '82', '131', '126', '75', '62', '76', '69', '62', '73', '64', '65', '94', '75', '57', '93', '84', '97', '75', '63', '76', '87', '100', '87', '107', '77', '72', '62', '94', '93', '103', '64', '49', '79', '87', '62', '107', '81', '63', '71', '102', '72', '96', '83', '52', '89', '89', '51', '83', '61', '89', '64', '50', '76', '66', '76', '98', '101', '76', '73', '74', '67', '56', '57', '55', '46', '78', '63', '83', '74', '52', '85', '69', '57', '73', '66', '52', '88', '62', '58', '80', '64', '60', '63', '71', '72', '69', '71', '63', '69', '59', '58', '62', '52', '78', '69', '57', '62', '60', '53', '56', '63', '62', '56', '42', '58', '67', '51', '41', '68', '64', '53', '50', '46', '48', '34', '53', '42', '36', '32', '38']\n"
     ]
    },
    {
     "data": {
      "text/plain": [
       "130"
      ]
     },
     "execution_count": 257,
     "metadata": {},
     "output_type": "execute_result"
    }
   ],
   "source": [
    "print(CI)\n",
    "len(CI)"
   ]
  },
  {
   "cell_type": "code",
   "execution_count": 258,
   "id": "f734d267",
   "metadata": {},
   "outputs": [
    {
     "name": "stdout",
     "output_type": "stream",
     "text": [
      "['111', '78', '79', '66', '84', '63', '52', '50', '57', '72', '55', '67', '69', '40', '135', '48', '34', '40', '57', '61', '60', '86', '62', '78', '87', '41', '58', '58', '26', '54', '38', '45', '56', '59', '34', '39', '56', '69', '41', '75', '71', '50', '72', '73', '52', '59', '50', '63', '81', '43', '58', '49', '35', '62', '55', '46', '52', '58', '48', '62', '41', '53', '39', '56', '68', '49', '40', '31', '51', '46', '60', '55', '88', '28', '67', '32', '46', '53', '42', '55', '43', '40', '46', '24', '53', '17', '70', '33', '73', '30', '47', '34', '22', '25', '31', '90', '59', '53', '55', '51', '39', '66', '41', '33', '57', '61', '29', '71', '84', '31', '56', '54', '32', '68', '38', '26', '28', '48', '38', '49', '30', '27', '45', '35', '45', '57', '46', '26', '54', '19']\n"
     ]
    },
    {
     "data": {
      "text/plain": [
       "130"
      ]
     },
     "execution_count": 258,
     "metadata": {},
     "output_type": "execute_result"
    }
   ],
   "source": [
    "print(BB)\n",
    "len(BB)"
   ]
  },
  {
   "cell_type": "code",
   "execution_count": 259,
   "id": "645e2df2",
   "metadata": {},
   "outputs": [
    {
     "name": "stdout",
     "output_type": "stream",
     "text": [
      "['175', '106', '141', '87', '102', '133', '72', '114', '168', '161', '104', '128', '82', '145', '96', '147', '112', '61', '118', '121', '120', '200', '110', '60', '77', '119', '116', '101', '97', '100', '126', '131', '96', '95', '152', '121', '141', '131', '155', '170', '116', '43', '169', '196', '145', '133', '89', '58', '102', '164', '149', '182', '94', '60', '122', '156', '77', '103', '97', '121', '96', '126', '129', '124', '170', '166', '183', '96', '146', '145', '158', '98', '162', '57', '71', '109', '101', '120', '86', '101', '154', '129', '111', '127', '183', '79', '131', '89', '103', '135', '126', '114', '135', '111', '110', '141', '103', '135', '179', '100', '92', '131', '132', '99', '124', '141', '130', '88', '103', '122', '167', '148', '98', '80', '85', '147', '119', '122', '150', '119', '73', '147', '69', '72', '114', '150', '73', '61', '87', '107']\n"
     ]
    },
    {
     "data": {
      "text/plain": [
       "130"
      ]
     },
     "execution_count": 259,
     "metadata": {},
     "output_type": "execute_result"
    }
   ],
   "source": [
    "print(P)\n",
    "len(P)"
   ]
  },
  {
   "cell_type": "code",
   "execution_count": 260,
   "id": "210b5d1d",
   "metadata": {},
   "outputs": [
    {
     "name": "stdout",
     "output_type": "stream",
     "text": [
      "['16', '1', '7', '18', '13', '9', '5', '3', '2', '11', '12', '5', '20', '25', '6', '2', '20', '4', '8', '0', '5', '10', '0', '3', '1', '21', '8', '6', '18', '14', '2', '27', '1', '25', '6', '1', '7', '2', '13', '0', '3', '4', '2', '0', '0', '16', '3', '0', '0', '0', '9', '18', '0', '19', '0', '32', '8', '3', '3', '2', '1', '29', '10', '1', '2', '8', '25', '0', '11', '16', '7', '23', '19', '20', '4', '4', '0', '25', '1', '5', '4', '0', '32', '4', '8', '6', '3', '21', '5', '30', '34', '2', '11', '18', '2', '2', '0', '0', '1', '12', '18', '2', '8', '4', '8', '5', '7', '0', '0', '2', '8', '2', '3', '3', '16', '9', '1', '20', '14', '4', '8', '35', '11', '22', '10', '7', '11', '9', '21', '5']\n"
     ]
    },
    {
     "data": {
      "text/plain": [
       "130"
      ]
     },
     "execution_count": 260,
     "metadata": {},
     "output_type": "execute_result"
    }
   ],
   "source": [
    "print(BR)\n",
    "len(BR)"
   ]
  },
  {
   "cell_type": "code",
   "execution_count": 261,
   "id": "8a5f55d1",
   "metadata": {},
   "outputs": [
    {
     "name": "stdout",
     "output_type": "stream",
     "text": [
      "['3', '1', '0', '1', '3', '1', '3', '1', '0', '9', '2', '1', '7', '7', '2', '2', '3', '0', '2', '1', '3', '1', '0', '3', '2', '1', '3', '5', '9', '2', '3', '3', '0', '4', '3', '1', '3', '2', '8', '0', '2', '4', '1', '0', '0', '6', '0', '0', '1', '0', '4', '7', '0', '5', '2', '12', '3', '0', '1', '1', '0', '11', '5', '0', '2', '3', '6', '0', '2', '6', '3', '3', '3', '2', '3', '1', '0', '8', '3', '1', '1', '2', '3', '0', '4', '2', '0', '6', '1', '7', '10', '4', '2', '4', '3', '0', '0', '0', '1', '2', '4', '3', '4', '3', '6', '1', '1', '0', '0', '1', '3', '2', '1', '2', '5', '2', '0', '5', '3', '0', '0', '9', '1', '4', '4', '1', '6', '3', '1', '0']\n"
     ]
    },
    {
     "data": {
      "text/plain": [
       "130"
      ]
     },
     "execution_count": 261,
     "metadata": {},
     "output_type": "execute_result"
    }
   ],
   "source": [
    "print(AR)\n",
    "len(AR)"
   ]
  },
  {
   "cell_type": "code",
   "execution_count": 262,
   "id": "4abc74f2",
   "metadata": {},
   "outputs": [
    {
     "name": "stdout",
     "output_type": "stream",
     "text": [
      "['.311', '.306', '.317', '.300', '.325', '.298', '.293', '.295', '.273', '.273', '.269', '.271', '.280', '.284', '.242', '.302', '.297', '.326', '.307', '.291', '.281', '.218', '.304', '.296', '.259', '.276', '.274', '.224', '.292', '.267', '.263', '.298', '.260', '.257', '.267', '.255', '.262', '.242', '.290', '.240', '.274', '.316', '.246', '.236', '.274', '.270', '.278', '.285', '.266', '.257', '.271', '.277', '.274', '.298', '.240', '.263', '.304', '.245', '.266', '.219', '.285', '.266', '.257', '.250', '.229', '.238', '.250', '.271', '.230', '.235', '.246', '.269', '.252', '.281', '.261', '.264', '.266', '.248', '.280', '.240', '.250', '.240', '.265', '.259', '.207', '.264', '.239', '.260', '.243', '.254', '.258', '.250', '.253', '.283', '.280', '.196', '.229', '.239', '.226', '.251', '.249', '.217', '.241', '.255', '.237', '.214', '.263', '.202', '.219', '.226', '.236', '.222', '.245', '.243', '.250', '.238', '.235', '.244', '.210', '.234', '.242', '.221', '.235', '.261', '.248', '.184', '.238', '.236', '.221', '.202']\n"
     ]
    },
    {
     "data": {
      "text/plain": [
       "130"
      ]
     },
     "execution_count": 262,
     "metadata": {},
     "output_type": "execute_result"
    }
   ],
   "source": [
    "print(PRO)\n",
    "len(PRO)"
   ]
  },
  {
   "cell_type": "code",
   "execution_count": 263,
   "id": "d3db4b5b",
   "metadata": {},
   "outputs": [
    {
     "name": "stdout",
     "output_type": "stream",
     "text": [
      "['.425', '.406', '.404', '.387', '.407', '.366', '.358', '.358', '.349', '.356', '.340', '.352', '.355', '.345', '.401', '.358', '.371', '.382', '.377', '.366', '.360', '.323', '.378', '.401', '.366', '.342', '.339', '.338', '.347', '.342', '.320', '.343', '.343', '.330', '.316', '.315', '.345', '.327', '.333', '.325', '.367', '.375', '.332', '.332', '.341', '.339', '.350', '.372', '.362', '.315', '.342', '.329', '.338', '.373', '.318', '.327', '.373', '.317', '.367', '.306', '.338', '.351', '.310', '.332', '.324', '.298', '.300', '.321', '.305', '.302', '.327', '.349', '.355', '.327', '.357', '.314', '.325', '.304', '.328', '.321', '.305', '.295', '.324', '.299', '.298', '.294', '.332', '.322', '.331', '.294', '.318', '.306', '.289', '.312', '.315', '.329', '.316', '.319', '.308', '.325', '.303', '.313', '.301', '.315', '.316', '.305', '.305', '.316', '.344', '.274', '.312', '.308', '.292', '.339', '.298', '.278', '.281', '.314', '.265', '.313', '.288', '.267', '.307', '.314', '.311', '.284', '.301', '.283', '.291', '.239']\n"
     ]
    },
    {
     "data": {
      "text/plain": [
       "130"
      ]
     },
     "execution_count": 263,
     "metadata": {},
     "output_type": "execute_result"
    }
   ],
   "source": [
    "print(OBP)\n",
    "len(OBP)"
   ]
  },
  {
   "cell_type": "code",
   "execution_count": 264,
   "id": "0505af2d",
   "metadata": {},
   "outputs": [
    {
     "name": "stdout",
     "output_type": "stream",
     "text": [
      "['.686', '.613', '.578', '.533', '.511', '.531', '.533', '.521', '.528', '.519', '.533', '.518', '.514', '.509', '.452', '.492', '.466', '.454', '.456', '.467', '.473', '.504', '.446', '.423', '.454', '.478', '.480', '.480', '.468', '.472', '.492', '.466', '.465', '.478', '.491', '.492', '.461', '.477', '.469', '.477', '.433', '.420', '.462', '.459', '.448', '.449', '.438', '.415', '.422', '.468', '.440', '.447', '.436', '.400', '.455', '.445', '.399', '.455', '.403', '.461', '.429', '.413', '.451', '.426', '.433', '.458', '.456', '.429', '.444', '.443', '.414', '.391', '.383', '.410', '.377', '.419', '.408', '.429', '.405', '.407', '.423', '.430', '.400', '.425', '.426', '.429', '.390', '.400', '.391', '.428', '.403', '.413', '.426', '.403', '.398', '.384', '.394', '.391', '.402', '.383', '.404', '.393', '.404', '.386', '.384', '.392', '.389', '.376', '.344', '.413', '.374', '.374', '.389', '.336', '.375', '.393', '.379', '.345', '.389', '.337', '.360', '.379', '.334', '.327', '.318', '.341', '.311', '.323', '.273', '.322']\n"
     ]
    },
    {
     "data": {
      "text/plain": [
       "130"
      ]
     },
     "execution_count": 264,
     "metadata": {},
     "output_type": "execute_result"
    }
   ],
   "source": [
    "print(SLG)\n",
    "len(SLG)"
   ]
  },
  {
   "cell_type": "code",
   "execution_count": 276,
   "id": "ca133428",
   "metadata": {},
   "outputs": [],
   "source": [
    "df_player_stat=pd.DataFrame()\n",
    "\n",
    "df_player_stat[\"id\"]=lista_ref\n",
    "df_player_stat[\"Nombre\"]=Nombre\n",
    "df_player_stat[\"Apellido\"]=Apellido\n",
    "df_player_stat[\"Team\"]=EQUIPO\n",
    "df_player_stat[\"Juegos_Jugados\"]=J\n",
    "df_player_stat[\"Turnos_Bate\"]=TB\n",
    "df_player_stat[\"Carrera\"]=C\n",
    "df_player_stat[\"Hits\"]=H\n",
    "df_player_stat[\"Dobles\"]=DOBLE\n",
    "df_player_stat[\"Triple\"]=TRIPLE\n",
    "df_player_stat[\"Jonrones\"]=HR\n",
    "df_player_stat[\"Carreras_Impulsadas\"]=CI\n",
    "df_player_stat[\"Boletos\"]=BB\n",
    "df_player_stat[\"Ponches\"]=P\n",
    "df_player_stat[\"Bases_Robadas\"]=BR\n",
    "df_player_stat[\"Atrapado_Robando\"]=AR\n",
    "df_player_stat[\"Promedio\"]=PRO\n",
    "df_player_stat[\"%_On_Base\"]=OBP\n",
    "df_player_stat[\"Slugging\"]=SLG\n",
    "\n",
    "\n"
   ]
  },
  {
   "cell_type": "code",
   "execution_count": 277,
   "id": "701be7e3",
   "metadata": {
    "scrolled": true
   },
   "outputs": [
    {
     "name": "stdout",
     "output_type": "stream",
     "text": [
      "<class 'pandas.core.frame.DataFrame'>\n",
      "RangeIndex: 130 entries, 0 to 129\n",
      "Data columns (total 19 columns):\n",
      " #   Column               Non-Null Count  Dtype \n",
      "---  ------               --------------  ----- \n",
      " 0   id                   130 non-null    object\n",
      " 1   Nombre               130 non-null    object\n",
      " 2   Apellido             130 non-null    object\n",
      " 3   Team                 130 non-null    object\n",
      " 4   Juegos_Jugados       130 non-null    object\n",
      " 5   Turnos_Bate          130 non-null    object\n",
      " 6   Carrera              130 non-null    object\n",
      " 7   Hits                 130 non-null    object\n",
      " 8   Dobles               130 non-null    object\n",
      " 9   Triple               130 non-null    object\n",
      " 10  Jonrones             130 non-null    object\n",
      " 11  Carreras_Impulsadas  130 non-null    object\n",
      " 12  Boletos              130 non-null    object\n",
      " 13  Ponches              130 non-null    object\n",
      " 14  Bases_Robadas        130 non-null    object\n",
      " 15  Atrapado_Robando     130 non-null    object\n",
      " 16  Promedio             130 non-null    object\n",
      " 17  %_On_Base            130 non-null    object\n",
      " 18  Slugging             130 non-null    object\n",
      "dtypes: object(19)\n",
      "memory usage: 19.4+ KB\n"
     ]
    }
   ],
   "source": [
    "df_player_stat.info()"
   ]
  },
  {
   "cell_type": "code",
   "execution_count": 279,
   "id": "6ccbe8f2",
   "metadata": {},
   "outputs": [
    {
     "data": {
      "text/html": [
       "<div>\n",
       "<style scoped>\n",
       "    .dataframe tbody tr th:only-of-type {\n",
       "        vertical-align: middle;\n",
       "    }\n",
       "\n",
       "    .dataframe tbody tr th {\n",
       "        vertical-align: top;\n",
       "    }\n",
       "\n",
       "    .dataframe thead th {\n",
       "        text-align: right;\n",
       "    }\n",
       "</style>\n",
       "<table border=\"1\" class=\"dataframe\">\n",
       "  <thead>\n",
       "    <tr style=\"text-align: right;\">\n",
       "      <th></th>\n",
       "      <th>id</th>\n",
       "      <th>Nombre</th>\n",
       "      <th>Apellido</th>\n",
       "      <th>Team</th>\n",
       "      <th>Juegos_Jugados</th>\n",
       "      <th>Turnos_Bate</th>\n",
       "      <th>Carrera</th>\n",
       "      <th>Hits</th>\n",
       "      <th>Dobles</th>\n",
       "      <th>Triple</th>\n",
       "      <th>Jonrones</th>\n",
       "      <th>Carreras_Impulsadas</th>\n",
       "      <th>Boletos</th>\n",
       "      <th>Ponches</th>\n",
       "      <th>Bases_Robadas</th>\n",
       "      <th>Atrapado_Robando</th>\n",
       "      <th>Promedio</th>\n",
       "      <th>%_On_Base</th>\n",
       "      <th>Slugging</th>\n",
       "    </tr>\n",
       "  </thead>\n",
       "  <tbody>\n",
       "    <tr>\n",
       "      <th>0</th>\n",
       "      <td>592450</td>\n",
       "      <td>Aaron</td>\n",
       "      <td>Judge</td>\n",
       "      <td>NYY</td>\n",
       "      <td>157</td>\n",
       "      <td>570</td>\n",
       "      <td>133</td>\n",
       "      <td>177</td>\n",
       "      <td>28</td>\n",
       "      <td>0</td>\n",
       "      <td>62</td>\n",
       "      <td>131</td>\n",
       "      <td>111</td>\n",
       "      <td>175</td>\n",
       "      <td>16</td>\n",
       "      <td>3</td>\n",
       "      <td>.311</td>\n",
       "      <td>.425</td>\n",
       "      <td>.686</td>\n",
       "    </tr>\n",
       "    <tr>\n",
       "      <th>1</th>\n",
       "      <td>670541</td>\n",
       "      <td>Yordan</td>\n",
       "      <td>Alvarez</td>\n",
       "      <td>HOU</td>\n",
       "      <td>135</td>\n",
       "      <td>470</td>\n",
       "      <td>95</td>\n",
       "      <td>144</td>\n",
       "      <td>29</td>\n",
       "      <td>2</td>\n",
       "      <td>37</td>\n",
       "      <td>97</td>\n",
       "      <td>78</td>\n",
       "      <td>106</td>\n",
       "      <td>1</td>\n",
       "      <td>1</td>\n",
       "      <td>.306</td>\n",
       "      <td>.406</td>\n",
       "      <td>.613</td>\n",
       "    </tr>\n",
       "    <tr>\n",
       "      <th>2</th>\n",
       "      <td>502671</td>\n",
       "      <td>Paul</td>\n",
       "      <td>Goldschmidt</td>\n",
       "      <td>STL</td>\n",
       "      <td>151</td>\n",
       "      <td>561</td>\n",
       "      <td>106</td>\n",
       "      <td>178</td>\n",
       "      <td>41</td>\n",
       "      <td>0</td>\n",
       "      <td>35</td>\n",
       "      <td>115</td>\n",
       "      <td>79</td>\n",
       "      <td>141</td>\n",
       "      <td>7</td>\n",
       "      <td>0</td>\n",
       "      <td>.317</td>\n",
       "      <td>.404</td>\n",
       "      <td>.578</td>\n",
       "    </tr>\n",
       "    <tr>\n",
       "      <th>3</th>\n",
       "      <td>514888</td>\n",
       "      <td>Jose</td>\n",
       "      <td>Altuve</td>\n",
       "      <td>HOU</td>\n",
       "      <td>141</td>\n",
       "      <td>527</td>\n",
       "      <td>103</td>\n",
       "      <td>158</td>\n",
       "      <td>39</td>\n",
       "      <td>0</td>\n",
       "      <td>28</td>\n",
       "      <td>57</td>\n",
       "      <td>66</td>\n",
       "      <td>87</td>\n",
       "      <td>18</td>\n",
       "      <td>1</td>\n",
       "      <td>.300</td>\n",
       "      <td>.387</td>\n",
       "      <td>.533</td>\n",
       "    </tr>\n",
       "    <tr>\n",
       "      <th>4</th>\n",
       "      <td>518692</td>\n",
       "      <td>Freddie</td>\n",
       "      <td>Freeman</td>\n",
       "      <td>LAD</td>\n",
       "      <td>159</td>\n",
       "      <td>612</td>\n",
       "      <td>117</td>\n",
       "      <td>199</td>\n",
       "      <td>47</td>\n",
       "      <td>2</td>\n",
       "      <td>21</td>\n",
       "      <td>100</td>\n",
       "      <td>84</td>\n",
       "      <td>102</td>\n",
       "      <td>13</td>\n",
       "      <td>3</td>\n",
       "      <td>.325</td>\n",
       "      <td>.407</td>\n",
       "      <td>.511</td>\n",
       "    </tr>\n",
       "    <tr>\n",
       "      <th>5</th>\n",
       "      <td>592518</td>\n",
       "      <td>Manny</td>\n",
       "      <td>Machado</td>\n",
       "      <td>SD</td>\n",
       "      <td>150</td>\n",
       "      <td>578</td>\n",
       "      <td>100</td>\n",
       "      <td>172</td>\n",
       "      <td>37</td>\n",
       "      <td>1</td>\n",
       "      <td>32</td>\n",
       "      <td>102</td>\n",
       "      <td>63</td>\n",
       "      <td>133</td>\n",
       "      <td>9</td>\n",
       "      <td>1</td>\n",
       "      <td>.298</td>\n",
       "      <td>.366</td>\n",
       "      <td>.531</td>\n",
       "    </tr>\n",
       "    <tr>\n",
       "      <th>6</th>\n",
       "      <td>571448</td>\n",
       "      <td>Nolan</td>\n",
       "      <td>Arenado</td>\n",
       "      <td>STL</td>\n",
       "      <td>148</td>\n",
       "      <td>557</td>\n",
       "      <td>73</td>\n",
       "      <td>163</td>\n",
       "      <td>42</td>\n",
       "      <td>1</td>\n",
       "      <td>30</td>\n",
       "      <td>103</td>\n",
       "      <td>52</td>\n",
       "      <td>72</td>\n",
       "      <td>5</td>\n",
       "      <td>3</td>\n",
       "      <td>.293</td>\n",
       "      <td>.358</td>\n",
       "      <td>.533</td>\n",
       "    </tr>\n",
       "    <tr>\n",
       "      <th>7</th>\n",
       "      <td>646240</td>\n",
       "      <td>Rafael</td>\n",
       "      <td>Devers</td>\n",
       "      <td>BOS</td>\n",
       "      <td>141</td>\n",
       "      <td>555</td>\n",
       "      <td>84</td>\n",
       "      <td>164</td>\n",
       "      <td>42</td>\n",
       "      <td>1</td>\n",
       "      <td>27</td>\n",
       "      <td>88</td>\n",
       "      <td>50</td>\n",
       "      <td>114</td>\n",
       "      <td>3</td>\n",
       "      <td>1</td>\n",
       "      <td>.295</td>\n",
       "      <td>.358</td>\n",
       "      <td>.521</td>\n",
       "    </tr>\n",
       "    <tr>\n",
       "      <th>8</th>\n",
       "      <td>663586</td>\n",
       "      <td>Austin</td>\n",
       "      <td>Riley</td>\n",
       "      <td>ATL</td>\n",
       "      <td>159</td>\n",
       "      <td>615</td>\n",
       "      <td>90</td>\n",
       "      <td>168</td>\n",
       "      <td>39</td>\n",
       "      <td>2</td>\n",
       "      <td>38</td>\n",
       "      <td>93</td>\n",
       "      <td>57</td>\n",
       "      <td>168</td>\n",
       "      <td>2</td>\n",
       "      <td>0</td>\n",
       "      <td>.273</td>\n",
       "      <td>.349</td>\n",
       "      <td>.528</td>\n",
       "    </tr>\n",
       "    <tr>\n",
       "      <th>9</th>\n",
       "      <td>660271</td>\n",
       "      <td>Shohei</td>\n",
       "      <td>Ohtani</td>\n",
       "      <td>LAA</td>\n",
       "      <td>157</td>\n",
       "      <td>586</td>\n",
       "      <td>90</td>\n",
       "      <td>160</td>\n",
       "      <td>30</td>\n",
       "      <td>6</td>\n",
       "      <td>34</td>\n",
       "      <td>95</td>\n",
       "      <td>72</td>\n",
       "      <td>161</td>\n",
       "      <td>11</td>\n",
       "      <td>9</td>\n",
       "      <td>.273</td>\n",
       "      <td>.356</td>\n",
       "      <td>.519</td>\n",
       "    </tr>\n",
       "    <tr>\n",
       "      <th>10</th>\n",
       "      <td>605141</td>\n",
       "      <td>Mookie</td>\n",
       "      <td>Betts</td>\n",
       "      <td>LAD</td>\n",
       "      <td>142</td>\n",
       "      <td>572</td>\n",
       "      <td>117</td>\n",
       "      <td>154</td>\n",
       "      <td>40</td>\n",
       "      <td>3</td>\n",
       "      <td>35</td>\n",
       "      <td>82</td>\n",
       "      <td>55</td>\n",
       "      <td>104</td>\n",
       "      <td>12</td>\n",
       "      <td>2</td>\n",
       "      <td>.269</td>\n",
       "      <td>.340</td>\n",
       "      <td>.533</td>\n",
       "    </tr>\n",
       "    <tr>\n",
       "      <th>11</th>\n",
       "      <td>624413</td>\n",
       "      <td>Pete</td>\n",
       "      <td>Alonso</td>\n",
       "      <td>NYM</td>\n",
       "      <td>160</td>\n",
       "      <td>597</td>\n",
       "      <td>95</td>\n",
       "      <td>162</td>\n",
       "      <td>27</td>\n",
       "      <td>0</td>\n",
       "      <td>40</td>\n",
       "      <td>131</td>\n",
       "      <td>67</td>\n",
       "      <td>128</td>\n",
       "      <td>5</td>\n",
       "      <td>1</td>\n",
       "      <td>.271</td>\n",
       "      <td>.352</td>\n",
       "      <td>.518</td>\n",
       "    </tr>\n",
       "    <tr>\n",
       "      <th>12</th>\n",
       "      <td>608070</td>\n",
       "      <td>Jose</td>\n",
       "      <td>Ramirez</td>\n",
       "      <td>CLE</td>\n",
       "      <td>157</td>\n",
       "      <td>601</td>\n",
       "      <td>90</td>\n",
       "      <td>168</td>\n",
       "      <td>44</td>\n",
       "      <td>5</td>\n",
       "      <td>29</td>\n",
       "      <td>126</td>\n",
       "      <td>69</td>\n",
       "      <td>82</td>\n",
       "      <td>20</td>\n",
       "      <td>7</td>\n",
       "      <td>.280</td>\n",
       "      <td>.355</td>\n",
       "      <td>.514</td>\n",
       "    </tr>\n",
       "    <tr>\n",
       "      <th>13</th>\n",
       "      <td>677594</td>\n",
       "      <td>Julio</td>\n",
       "      <td>Rodriguez</td>\n",
       "      <td>SEA</td>\n",
       "      <td>132</td>\n",
       "      <td>511</td>\n",
       "      <td>84</td>\n",
       "      <td>145</td>\n",
       "      <td>25</td>\n",
       "      <td>3</td>\n",
       "      <td>28</td>\n",
       "      <td>75</td>\n",
       "      <td>40</td>\n",
       "      <td>145</td>\n",
       "      <td>25</td>\n",
       "      <td>7</td>\n",
       "      <td>.284</td>\n",
       "      <td>.345</td>\n",
       "      <td>.509</td>\n",
       "    </tr>\n",
       "    <tr>\n",
       "      <th>14</th>\n",
       "      <td>665742</td>\n",
       "      <td>Juan</td>\n",
       "      <td>Soto</td>\n",
       "      <td>SD</td>\n",
       "      <td>153</td>\n",
       "      <td>524</td>\n",
       "      <td>93</td>\n",
       "      <td>127</td>\n",
       "      <td>25</td>\n",
       "      <td>2</td>\n",
       "      <td>27</td>\n",
       "      <td>62</td>\n",
       "      <td>135</td>\n",
       "      <td>96</td>\n",
       "      <td>6</td>\n",
       "      <td>2</td>\n",
       "      <td>.242</td>\n",
       "      <td>.401</td>\n",
       "      <td>.452</td>\n",
       "    </tr>\n",
       "    <tr>\n",
       "      <th>15</th>\n",
       "      <td>663993</td>\n",
       "      <td>Nathaniel</td>\n",
       "      <td>Lowe</td>\n",
       "      <td>TEX</td>\n",
       "      <td>157</td>\n",
       "      <td>593</td>\n",
       "      <td>74</td>\n",
       "      <td>179</td>\n",
       "      <td>26</td>\n",
       "      <td>3</td>\n",
       "      <td>27</td>\n",
       "      <td>76</td>\n",
       "      <td>48</td>\n",
       "      <td>147</td>\n",
       "      <td>2</td>\n",
       "      <td>2</td>\n",
       "      <td>.302</td>\n",
       "      <td>.358</td>\n",
       "      <td>.492</td>\n",
       "    </tr>\n",
       "    <tr>\n",
       "      <th>16</th>\n",
       "      <td>665926</td>\n",
       "      <td>Andres</td>\n",
       "      <td>Gimenez</td>\n",
       "      <td>CLE</td>\n",
       "      <td>146</td>\n",
       "      <td>491</td>\n",
       "      <td>66</td>\n",
       "      <td>146</td>\n",
       "      <td>26</td>\n",
       "      <td>3</td>\n",
       "      <td>17</td>\n",
       "      <td>69</td>\n",
       "      <td>34</td>\n",
       "      <td>112</td>\n",
       "      <td>20</td>\n",
       "      <td>3</td>\n",
       "      <td>.297</td>\n",
       "      <td>.371</td>\n",
       "      <td>.466</td>\n",
       "    </tr>\n",
       "    <tr>\n",
       "      <th>17</th>\n",
       "      <td>643446</td>\n",
       "      <td>Jeff</td>\n",
       "      <td>McNeil</td>\n",
       "      <td>NYM</td>\n",
       "      <td>148</td>\n",
       "      <td>533</td>\n",
       "      <td>73</td>\n",
       "      <td>174</td>\n",
       "      <td>39</td>\n",
       "      <td>1</td>\n",
       "      <td>9</td>\n",
       "      <td>62</td>\n",
       "      <td>40</td>\n",
       "      <td>61</td>\n",
       "      <td>4</td>\n",
       "      <td>0</td>\n",
       "      <td>.326</td>\n",
       "      <td>.382</td>\n",
       "      <td>.454</td>\n",
       "    </tr>\n",
       "    <tr>\n",
       "      <th>18</th>\n",
       "      <td>593428</td>\n",
       "      <td>Xander</td>\n",
       "      <td>Bogaerts</td>\n",
       "      <td>BOS</td>\n",
       "      <td>150</td>\n",
       "      <td>557</td>\n",
       "      <td>84</td>\n",
       "      <td>171</td>\n",
       "      <td>38</td>\n",
       "      <td>0</td>\n",
       "      <td>15</td>\n",
       "      <td>73</td>\n",
       "      <td>57</td>\n",
       "      <td>118</td>\n",
       "      <td>8</td>\n",
       "      <td>2</td>\n",
       "      <td>.307</td>\n",
       "      <td>.377</td>\n",
       "      <td>.456</td>\n",
       "    </tr>\n",
       "    <tr>\n",
       "      <th>19</th>\n",
       "      <td>621043</td>\n",
       "      <td>Carlos</td>\n",
       "      <td>Correa</td>\n",
       "      <td>MIN</td>\n",
       "      <td>136</td>\n",
       "      <td>522</td>\n",
       "      <td>70</td>\n",
       "      <td>152</td>\n",
       "      <td>24</td>\n",
       "      <td>1</td>\n",
       "      <td>22</td>\n",
       "      <td>64</td>\n",
       "      <td>61</td>\n",
       "      <td>121</td>\n",
       "      <td>0</td>\n",
       "      <td>1</td>\n",
       "      <td>.291</td>\n",
       "      <td>.366</td>\n",
       "      <td>.467</td>\n",
       "    </tr>\n",
       "  </tbody>\n",
       "</table>\n",
       "</div>"
      ],
      "text/plain": [
       "        id     Nombre     Apellido Team Juegos_Jugados Turnos_Bate Carrera  \\\n",
       "0   592450      Aaron        Judge  NYY            157         570     133   \n",
       "1   670541     Yordan      Alvarez  HOU            135         470      95   \n",
       "2   502671       Paul  Goldschmidt  STL            151         561     106   \n",
       "3   514888       Jose       Altuve  HOU            141         527     103   \n",
       "4   518692    Freddie      Freeman  LAD            159         612     117   \n",
       "5   592518      Manny      Machado   SD            150         578     100   \n",
       "6   571448      Nolan      Arenado  STL            148         557      73   \n",
       "7   646240     Rafael       Devers  BOS            141         555      84   \n",
       "8   663586     Austin        Riley  ATL            159         615      90   \n",
       "9   660271     Shohei       Ohtani  LAA            157         586      90   \n",
       "10  605141     Mookie        Betts  LAD            142         572     117   \n",
       "11  624413       Pete       Alonso  NYM            160         597      95   \n",
       "12  608070       Jose      Ramirez  CLE            157         601      90   \n",
       "13  677594      Julio    Rodriguez  SEA            132         511      84   \n",
       "14  665742       Juan         Soto   SD            153         524      93   \n",
       "15  663993  Nathaniel         Lowe  TEX            157         593      74   \n",
       "16  665926     Andres      Gimenez  CLE            146         491      66   \n",
       "17  643446       Jeff       McNeil  NYM            148         533      73   \n",
       "18  593428     Xander     Bogaerts  BOS            150         557      84   \n",
       "19  621043     Carlos       Correa  MIN            136         522      70   \n",
       "\n",
       "   Hits Dobles Triple Jonrones Carreras_Impulsadas Boletos Ponches  \\\n",
       "0   177     28      0       62                 131     111     175   \n",
       "1   144     29      2       37                  97      78     106   \n",
       "2   178     41      0       35                 115      79     141   \n",
       "3   158     39      0       28                  57      66      87   \n",
       "4   199     47      2       21                 100      84     102   \n",
       "5   172     37      1       32                 102      63     133   \n",
       "6   163     42      1       30                 103      52      72   \n",
       "7   164     42      1       27                  88      50     114   \n",
       "8   168     39      2       38                  93      57     168   \n",
       "9   160     30      6       34                  95      72     161   \n",
       "10  154     40      3       35                  82      55     104   \n",
       "11  162     27      0       40                 131      67     128   \n",
       "12  168     44      5       29                 126      69      82   \n",
       "13  145     25      3       28                  75      40     145   \n",
       "14  127     25      2       27                  62     135      96   \n",
       "15  179     26      3       27                  76      48     147   \n",
       "16  146     26      3       17                  69      34     112   \n",
       "17  174     39      1        9                  62      40      61   \n",
       "18  171     38      0       15                  73      57     118   \n",
       "19  152     24      1       22                  64      61     121   \n",
       "\n",
       "   Bases_Robadas Atrapado_Robando Promedio %_On_Base Slugging  \n",
       "0             16                3     .311      .425     .686  \n",
       "1              1                1     .306      .406     .613  \n",
       "2              7                0     .317      .404     .578  \n",
       "3             18                1     .300      .387     .533  \n",
       "4             13                3     .325      .407     .511  \n",
       "5              9                1     .298      .366     .531  \n",
       "6              5                3     .293      .358     .533  \n",
       "7              3                1     .295      .358     .521  \n",
       "8              2                0     .273      .349     .528  \n",
       "9             11                9     .273      .356     .519  \n",
       "10            12                2     .269      .340     .533  \n",
       "11             5                1     .271      .352     .518  \n",
       "12            20                7     .280      .355     .514  \n",
       "13            25                7     .284      .345     .509  \n",
       "14             6                2     .242      .401     .452  \n",
       "15             2                2     .302      .358     .492  \n",
       "16            20                3     .297      .371     .466  \n",
       "17             4                0     .326      .382     .454  \n",
       "18             8                2     .307      .377     .456  \n",
       "19             0                1     .291      .366     .467  "
      ]
     },
     "execution_count": 279,
     "metadata": {},
     "output_type": "execute_result"
    }
   ],
   "source": [
    "df_player_stat.head(20)"
   ]
  },
  {
   "cell_type": "code",
   "execution_count": 281,
   "id": "34f8942c",
   "metadata": {},
   "outputs": [
    {
     "name": "stdout",
     "output_type": "stream",
     "text": [
      "id                     False\n",
      "Nombre                 False\n",
      "Apellido               False\n",
      "Team                   False\n",
      "Juegos_Jugados         False\n",
      "Turnos_Bate            False\n",
      "Carrera                False\n",
      "Hits                   False\n",
      "Dobles                 False\n",
      "Triple                 False\n",
      "Jonrones               False\n",
      "Carreras_Impulsadas    False\n",
      "Boletos                False\n",
      "Ponches                False\n",
      "Bases_Robadas          False\n",
      "Atrapado_Robando       False\n",
      "Promedio               False\n",
      "%_On_Base              False\n",
      "Slugging               False\n",
      "dtype: bool\n"
     ]
    }
   ],
   "source": [
    "NaN_df=df_player_stat.isnull().any()\n",
    "print(NaN_df)"
   ]
  },
  {
   "cell_type": "code",
   "execution_count": 282,
   "id": "edca0717",
   "metadata": {},
   "outputs": [],
   "source": [
    "#GUARDAR EL DF COMO ARCHIVO CSV\n",
    "df_player_stat.to_csv(\"Jugadores_STAT_2022.csv\", index = False, sep = \",\")"
   ]
  },
  {
   "cell_type": "code",
   "execution_count": null,
   "id": "9e015fc6",
   "metadata": {},
   "outputs": [],
   "source": []
  },
  {
   "cell_type": "code",
   "execution_count": null,
   "id": "6f569be0",
   "metadata": {},
   "outputs": [],
   "source": []
  },
  {
   "cell_type": "code",
   "execution_count": null,
   "id": "2e5913d5",
   "metadata": {},
   "outputs": [],
   "source": []
  },
  {
   "cell_type": "code",
   "execution_count": null,
   "id": "8e02453e",
   "metadata": {},
   "outputs": [],
   "source": []
  },
  {
   "cell_type": "code",
   "execution_count": 4,
   "id": "02326af2",
   "metadata": {},
   "outputs": [],
   "source": [
    "url=\"https://www.mlb.com/es/stats/2022?page=1\"\n",
    "response = requests.get(url)\n",
    "soup = BeautifulSoup(response.text, \"html.parser\""
   ]
  },
  {
   "cell_type": "code",
   "execution_count": null,
   "id": "8c6e1fdb",
   "metadata": {},
   "outputs": [],
   "source": [
    "####EQUIPO"
   ]
  },
  {
   "cell_type": "code",
   "execution_count": 81,
   "id": "5d2065cf",
   "metadata": {},
   "outputs": [],
   "source": [
    "# data-col=\"1\" data-row=\"0\">NYY</td>\n",
    "equipo_bs=soup.find_all( class_=\"col-group-end-2UJpJVwW number-aY5arzrB align-left-3L2SU-Mk is-table-pinned-1WfPW2jT\")"
   ]
  },
  {
   "cell_type": "code",
   "execution_count": 88,
   "id": "dc95aa01",
   "metadata": {},
   "outputs": [],
   "source": [
    "equipos=[equipo_bs[x].text for x in range(len(equipo_bs))]"
   ]
  },
  {
   "cell_type": "code",
   "execution_count": 89,
   "id": "648293fb",
   "metadata": {},
   "outputs": [
    {
     "data": {
      "text/plain": [
       "['NYY',\n",
       " 'HOU',\n",
       " 'STL',\n",
       " 'HOU',\n",
       " 'LAD',\n",
       " 'SD',\n",
       " 'STL',\n",
       " 'BOS',\n",
       " 'ATL',\n",
       " 'LAA',\n",
       " 'LAD',\n",
       " 'NYM',\n",
       " 'CLE',\n",
       " 'SEA',\n",
       " 'SD',\n",
       " 'TEX',\n",
       " 'CLE',\n",
       " 'NYM',\n",
       " 'BOS',\n",
       " 'MIN',\n",
       " 'LAA',\n",
       " 'PHI',\n",
       " 'CWS',\n",
       " 'TB',\n",
       " 'HOU']"
      ]
     },
     "execution_count": 89,
     "metadata": {},
     "output_type": "execute_result"
    }
   ],
   "source": [
    "equipos"
   ]
  },
  {
   "cell_type": "code",
   "execution_count": 106,
   "id": "508b3216",
   "metadata": {},
   "outputs": [],
   "source": [
    "##JUEGOS JUGADOS\n",
    "a=soup.find_all(\"td\",\n",
    "              class_=\"col-group-start-sa9unvY0 number-aY5arzrB align-right-3nN_D3xs is-table-pinned-1WfPW2jT\",)"
   ]
  },
  {
   "cell_type": "code",
   "execution_count": 174,
   "id": "b6b095ef",
   "metadata": {},
   "outputs": [
    {
     "data": {
      "text/plain": [
       "[<td class=\"col-group-start-sa9unvY0 number-aY5arzrB align-right-3nN_D3xs is-table-pinned-1WfPW2jT\" data-col=\"2\" data-row=\"0\" headers=\"tb-29-header-col2\" scope=\"row\">157</td>,\n",
       " <td class=\"col-group-start-sa9unvY0 number-aY5arzrB align-right-3nN_D3xs is-table-pinned-1WfPW2jT\" data-col=\"4\" data-row=\"0\" headers=\"tb-29-header-col4\" scope=\"row\">133</td>,\n",
       " <td class=\"col-group-start-sa9unvY0 number-aY5arzrB align-right-3nN_D3xs is-table-pinned-1WfPW2jT\" data-col=\"10\" data-row=\"0\" headers=\"tb-29-header-col10\" scope=\"row\"><a class=\"bui-link page-link-2KklYDa0 cell-link-372RKYcS\" href=\"https://www.mlb.com/video/search?q=BatterId+%3D+%5B592450%5D+AND+HitResult+%3D+%5B%22Walk%22%5D+AND+GameType+%3D+%5B%22REGULAR_SEASON%22%5D+AND+Season+%3D+%5B2022%5D+Order+By+Timestamp+DESC\" tabindex=\"0\">111</a></td>,\n",
       " <td class=\"col-group-start-sa9unvY0 number-aY5arzrB align-right-3nN_D3xs is-table-pinned-1WfPW2jT\" data-col=\"12\" data-row=\"0\" headers=\"tb-29-header-col12\" scope=\"row\">16</td>,\n",
       " <td class=\"col-group-start-sa9unvY0 number-aY5arzrB align-right-3nN_D3xs is-table-pinned-1WfPW2jT\" data-col=\"14\" data-row=\"0\" headers=\"tb-29-header-col14\" scope=\"row\">.311</td>]"
      ]
     },
     "execution_count": 174,
     "metadata": {},
     "output_type": "execute_result"
    }
   ],
   "source": [
    "\n",
    "a[0:5]"
   ]
  },
  {
   "cell_type": "code",
   "execution_count": 149,
   "id": "899dd338",
   "metadata": {},
   "outputs": [
    {
     "data": {
      "text/plain": [
       "125"
      ]
     },
     "execution_count": 149,
     "metadata": {},
     "output_type": "execute_result"
    }
   ],
   "source": [
    "len(a)"
   ]
  },
  {
   "cell_type": "code",
   "execution_count": 143,
   "id": "5c74f932",
   "metadata": {},
   "outputs": [
    {
     "data": {
      "text/plain": [
       "125.0"
      ]
     },
     "execution_count": 143,
     "metadata": {},
     "output_type": "execute_result"
    }
   ],
   "source": [
    "len(a)*5/5"
   ]
  },
  {
   "cell_type": "code",
   "execution_count": 209,
   "id": "8a30714b",
   "metadata": {},
   "outputs": [
    {
     "name": "stdout",
     "output_type": "stream",
     "text": [
      "25\n"
     ]
    }
   ],
   "source": [
    "\n",
    "J=[]\n",
    "C=[]\n",
    "BB=[]\n",
    "BR=[]\n",
    "PRO=[]\n",
    "for x in range(0, len(a),5):\n",
    "    J.append(a[x:x+5][0].text)\n",
    "    C.append(a[x:x+5][1].text)\n",
    "    BB.append(a[x:x+5][2].text)\n",
    "    BR.append(a[x:x+5][3].text)\n",
    "    PRO.append(a[x:x+5][4].text)\n",
    "    \n",
    "    \n",
    "\n",
    "    \n"
   ]
  },
  {
   "cell_type": "code",
   "execution_count": 180,
   "id": "be9d0447",
   "metadata": {},
   "outputs": [],
   "source": [
    "b=soup.find_all(class_=\"col-group-end-2UJpJVwW number-aY5arzrB align-right-3nN_D3xs is-table-pinned-1WfPW2jT\" )"
   ]
  },
  {
   "cell_type": "code",
   "execution_count": 181,
   "id": "d1b24ee9",
   "metadata": {
    "scrolled": false
   },
   "outputs": [
    {
     "data": {
      "text/plain": [
       "[<td class=\"col-group-end-2UJpJVwW number-aY5arzrB align-right-3nN_D3xs is-table-pinned-1WfPW2jT\" data-col=\"3\" data-row=\"0\" headers=\"tb-29-header-col3\" scope=\"row\">570</td>,\n",
       " <td class=\"col-group-end-2UJpJVwW number-aY5arzrB align-right-3nN_D3xs is-table-pinned-1WfPW2jT\" data-col=\"9\" data-row=\"0\" headers=\"tb-29-header-col9\" scope=\"row\">131</td>,\n",
       " <td class=\"col-group-end-2UJpJVwW number-aY5arzrB align-right-3nN_D3xs is-table-pinned-1WfPW2jT\" data-col=\"11\" data-row=\"0\" headers=\"tb-29-header-col11\" scope=\"row\"><a class=\"bui-link page-link-2KklYDa0 cell-link-372RKYcS\" href=\"https://www.mlb.com/video/search?q=BatterId+%3D+%5B592450%5D+AND+HitResult+%3D+%5B%22Strikeout%22%5D+AND+GameType+%3D+%5B%22REGULAR_SEASON%22%5D+AND+Season+%3D+%5B2022%5D+Order+By+Timestamp+DESC\" tabindex=\"0\">175</a></td>,\n",
       " <td class=\"col-group-end-2UJpJVwW number-aY5arzrB align-right-3nN_D3xs is-table-pinned-1WfPW2jT\" data-col=\"13\" data-row=\"0\" headers=\"tb-29-header-col13\" scope=\"row\">3</td>,\n",
       " <td class=\"col-group-end-2UJpJVwW number-aY5arzrB align-right-3nN_D3xs is-table-pinned-1WfPW2jT\" data-col=\"3\" data-row=\"1\" headers=\"tb-29-header-col3\" scope=\"row\">470</td>,\n",
       " <td class=\"col-group-end-2UJpJVwW number-aY5arzrB align-right-3nN_D3xs is-table-pinned-1WfPW2jT\" data-col=\"9\" data-row=\"1\" headers=\"tb-29-header-col9\" scope=\"row\">97</td>,\n",
       " <td class=\"col-group-end-2UJpJVwW number-aY5arzrB align-right-3nN_D3xs is-table-pinned-1WfPW2jT\" data-col=\"11\" data-row=\"1\" headers=\"tb-29-header-col11\" scope=\"row\"><a class=\"bui-link page-link-2KklYDa0 cell-link-372RKYcS\" href=\"https://www.mlb.com/video/search?q=BatterId+%3D+%5B670541%5D+AND+HitResult+%3D+%5B%22Strikeout%22%5D+AND+GameType+%3D+%5B%22REGULAR_SEASON%22%5D+AND+Season+%3D+%5B2022%5D+Order+By+Timestamp+DESC\" tabindex=\"0\">106</a></td>,\n",
       " <td class=\"col-group-end-2UJpJVwW number-aY5arzrB align-right-3nN_D3xs is-table-pinned-1WfPW2jT\" data-col=\"13\" data-row=\"1\" headers=\"tb-29-header-col13\" scope=\"row\">1</td>,\n",
       " <td class=\"col-group-end-2UJpJVwW number-aY5arzrB align-right-3nN_D3xs is-table-pinned-1WfPW2jT\" data-col=\"3\" data-row=\"2\" headers=\"tb-29-header-col3\" scope=\"row\">561</td>,\n",
       " <td class=\"col-group-end-2UJpJVwW number-aY5arzrB align-right-3nN_D3xs is-table-pinned-1WfPW2jT\" data-col=\"9\" data-row=\"2\" headers=\"tb-29-header-col9\" scope=\"row\">115</td>,\n",
       " <td class=\"col-group-end-2UJpJVwW number-aY5arzrB align-right-3nN_D3xs is-table-pinned-1WfPW2jT\" data-col=\"11\" data-row=\"2\" headers=\"tb-29-header-col11\" scope=\"row\"><a class=\"bui-link page-link-2KklYDa0 cell-link-372RKYcS\" href=\"https://www.mlb.com/video/search?q=BatterId+%3D+%5B502671%5D+AND+HitResult+%3D+%5B%22Strikeout%22%5D+AND+GameType+%3D+%5B%22REGULAR_SEASON%22%5D+AND+Season+%3D+%5B2022%5D+Order+By+Timestamp+DESC\" tabindex=\"0\">141</a></td>,\n",
       " <td class=\"col-group-end-2UJpJVwW number-aY5arzrB align-right-3nN_D3xs is-table-pinned-1WfPW2jT\" data-col=\"13\" data-row=\"2\" headers=\"tb-29-header-col13\" scope=\"row\">0</td>,\n",
       " <td class=\"col-group-end-2UJpJVwW number-aY5arzrB align-right-3nN_D3xs is-table-pinned-1WfPW2jT\" data-col=\"3\" data-row=\"3\" headers=\"tb-29-header-col3\" scope=\"row\">527</td>,\n",
       " <td class=\"col-group-end-2UJpJVwW number-aY5arzrB align-right-3nN_D3xs is-table-pinned-1WfPW2jT\" data-col=\"9\" data-row=\"3\" headers=\"tb-29-header-col9\" scope=\"row\">57</td>,\n",
       " <td class=\"col-group-end-2UJpJVwW number-aY5arzrB align-right-3nN_D3xs is-table-pinned-1WfPW2jT\" data-col=\"11\" data-row=\"3\" headers=\"tb-29-header-col11\" scope=\"row\"><a class=\"bui-link page-link-2KklYDa0 cell-link-372RKYcS\" href=\"https://www.mlb.com/video/search?q=BatterId+%3D+%5B514888%5D+AND+HitResult+%3D+%5B%22Strikeout%22%5D+AND+GameType+%3D+%5B%22REGULAR_SEASON%22%5D+AND+Season+%3D+%5B2022%5D+Order+By+Timestamp+DESC\" tabindex=\"0\">87</a></td>,\n",
       " <td class=\"col-group-end-2UJpJVwW number-aY5arzrB align-right-3nN_D3xs is-table-pinned-1WfPW2jT\" data-col=\"13\" data-row=\"3\" headers=\"tb-29-header-col13\" scope=\"row\">1</td>,\n",
       " <td class=\"col-group-end-2UJpJVwW number-aY5arzrB align-right-3nN_D3xs is-table-pinned-1WfPW2jT\" data-col=\"3\" data-row=\"4\" headers=\"tb-29-header-col3\" scope=\"row\">612</td>,\n",
       " <td class=\"col-group-end-2UJpJVwW number-aY5arzrB align-right-3nN_D3xs is-table-pinned-1WfPW2jT\" data-col=\"9\" data-row=\"4\" headers=\"tb-29-header-col9\" scope=\"row\">100</td>,\n",
       " <td class=\"col-group-end-2UJpJVwW number-aY5arzrB align-right-3nN_D3xs is-table-pinned-1WfPW2jT\" data-col=\"11\" data-row=\"4\" headers=\"tb-29-header-col11\" scope=\"row\"><a class=\"bui-link page-link-2KklYDa0 cell-link-372RKYcS\" href=\"https://www.mlb.com/video/search?q=BatterId+%3D+%5B518692%5D+AND+HitResult+%3D+%5B%22Strikeout%22%5D+AND+GameType+%3D+%5B%22REGULAR_SEASON%22%5D+AND+Season+%3D+%5B2022%5D+Order+By+Timestamp+DESC\" tabindex=\"0\">102</a></td>,\n",
       " <td class=\"col-group-end-2UJpJVwW number-aY5arzrB align-right-3nN_D3xs is-table-pinned-1WfPW2jT\" data-col=\"13\" data-row=\"4\" headers=\"tb-29-header-col13\" scope=\"row\">3</td>,\n",
       " <td class=\"col-group-end-2UJpJVwW number-aY5arzrB align-right-3nN_D3xs is-table-pinned-1WfPW2jT\" data-col=\"3\" data-row=\"5\" headers=\"tb-29-header-col3\" scope=\"row\">578</td>,\n",
       " <td class=\"col-group-end-2UJpJVwW number-aY5arzrB align-right-3nN_D3xs is-table-pinned-1WfPW2jT\" data-col=\"9\" data-row=\"5\" headers=\"tb-29-header-col9\" scope=\"row\">102</td>,\n",
       " <td class=\"col-group-end-2UJpJVwW number-aY5arzrB align-right-3nN_D3xs is-table-pinned-1WfPW2jT\" data-col=\"11\" data-row=\"5\" headers=\"tb-29-header-col11\" scope=\"row\"><a class=\"bui-link page-link-2KklYDa0 cell-link-372RKYcS\" href=\"https://www.mlb.com/video/search?q=BatterId+%3D+%5B592518%5D+AND+HitResult+%3D+%5B%22Strikeout%22%5D+AND+GameType+%3D+%5B%22REGULAR_SEASON%22%5D+AND+Season+%3D+%5B2022%5D+Order+By+Timestamp+DESC\" tabindex=\"0\">133</a></td>,\n",
       " <td class=\"col-group-end-2UJpJVwW number-aY5arzrB align-right-3nN_D3xs is-table-pinned-1WfPW2jT\" data-col=\"13\" data-row=\"5\" headers=\"tb-29-header-col13\" scope=\"row\">1</td>,\n",
       " <td class=\"col-group-end-2UJpJVwW number-aY5arzrB align-right-3nN_D3xs is-table-pinned-1WfPW2jT\" data-col=\"3\" data-row=\"6\" headers=\"tb-29-header-col3\" scope=\"row\">557</td>,\n",
       " <td class=\"col-group-end-2UJpJVwW number-aY5arzrB align-right-3nN_D3xs is-table-pinned-1WfPW2jT\" data-col=\"9\" data-row=\"6\" headers=\"tb-29-header-col9\" scope=\"row\">103</td>,\n",
       " <td class=\"col-group-end-2UJpJVwW number-aY5arzrB align-right-3nN_D3xs is-table-pinned-1WfPW2jT\" data-col=\"11\" data-row=\"6\" headers=\"tb-29-header-col11\" scope=\"row\"><a class=\"bui-link page-link-2KklYDa0 cell-link-372RKYcS\" href=\"https://www.mlb.com/video/search?q=BatterId+%3D+%5B571448%5D+AND+HitResult+%3D+%5B%22Strikeout%22%5D+AND+GameType+%3D+%5B%22REGULAR_SEASON%22%5D+AND+Season+%3D+%5B2022%5D+Order+By+Timestamp+DESC\" tabindex=\"0\">72</a></td>,\n",
       " <td class=\"col-group-end-2UJpJVwW number-aY5arzrB align-right-3nN_D3xs is-table-pinned-1WfPW2jT\" data-col=\"13\" data-row=\"6\" headers=\"tb-29-header-col13\" scope=\"row\">3</td>,\n",
       " <td class=\"col-group-end-2UJpJVwW number-aY5arzrB align-right-3nN_D3xs is-table-pinned-1WfPW2jT\" data-col=\"3\" data-row=\"7\" headers=\"tb-29-header-col3\" scope=\"row\">555</td>,\n",
       " <td class=\"col-group-end-2UJpJVwW number-aY5arzrB align-right-3nN_D3xs is-table-pinned-1WfPW2jT\" data-col=\"9\" data-row=\"7\" headers=\"tb-29-header-col9\" scope=\"row\">88</td>,\n",
       " <td class=\"col-group-end-2UJpJVwW number-aY5arzrB align-right-3nN_D3xs is-table-pinned-1WfPW2jT\" data-col=\"11\" data-row=\"7\" headers=\"tb-29-header-col11\" scope=\"row\"><a class=\"bui-link page-link-2KklYDa0 cell-link-372RKYcS\" href=\"https://www.mlb.com/video/search?q=BatterId+%3D+%5B646240%5D+AND+HitResult+%3D+%5B%22Strikeout%22%5D+AND+GameType+%3D+%5B%22REGULAR_SEASON%22%5D+AND+Season+%3D+%5B2022%5D+Order+By+Timestamp+DESC\" tabindex=\"0\">114</a></td>,\n",
       " <td class=\"col-group-end-2UJpJVwW number-aY5arzrB align-right-3nN_D3xs is-table-pinned-1WfPW2jT\" data-col=\"13\" data-row=\"7\" headers=\"tb-29-header-col13\" scope=\"row\">1</td>,\n",
       " <td class=\"col-group-end-2UJpJVwW number-aY5arzrB align-right-3nN_D3xs is-table-pinned-1WfPW2jT\" data-col=\"3\" data-row=\"8\" headers=\"tb-29-header-col3\" scope=\"row\">615</td>,\n",
       " <td class=\"col-group-end-2UJpJVwW number-aY5arzrB align-right-3nN_D3xs is-table-pinned-1WfPW2jT\" data-col=\"9\" data-row=\"8\" headers=\"tb-29-header-col9\" scope=\"row\">93</td>,\n",
       " <td class=\"col-group-end-2UJpJVwW number-aY5arzrB align-right-3nN_D3xs is-table-pinned-1WfPW2jT\" data-col=\"11\" data-row=\"8\" headers=\"tb-29-header-col11\" scope=\"row\"><a class=\"bui-link page-link-2KklYDa0 cell-link-372RKYcS\" href=\"https://www.mlb.com/video/search?q=BatterId+%3D+%5B663586%5D+AND+HitResult+%3D+%5B%22Strikeout%22%5D+AND+GameType+%3D+%5B%22REGULAR_SEASON%22%5D+AND+Season+%3D+%5B2022%5D+Order+By+Timestamp+DESC\" tabindex=\"0\">168</a></td>,\n",
       " <td class=\"col-group-end-2UJpJVwW number-aY5arzrB align-right-3nN_D3xs is-table-pinned-1WfPW2jT\" data-col=\"13\" data-row=\"8\" headers=\"tb-29-header-col13\" scope=\"row\">0</td>,\n",
       " <td class=\"col-group-end-2UJpJVwW number-aY5arzrB align-right-3nN_D3xs is-table-pinned-1WfPW2jT\" data-col=\"3\" data-row=\"9\" headers=\"tb-29-header-col3\" scope=\"row\">586</td>,\n",
       " <td class=\"col-group-end-2UJpJVwW number-aY5arzrB align-right-3nN_D3xs is-table-pinned-1WfPW2jT\" data-col=\"9\" data-row=\"9\" headers=\"tb-29-header-col9\" scope=\"row\">95</td>,\n",
       " <td class=\"col-group-end-2UJpJVwW number-aY5arzrB align-right-3nN_D3xs is-table-pinned-1WfPW2jT\" data-col=\"11\" data-row=\"9\" headers=\"tb-29-header-col11\" scope=\"row\"><a class=\"bui-link page-link-2KklYDa0 cell-link-372RKYcS\" href=\"https://www.mlb.com/video/search?q=BatterId+%3D+%5B660271%5D+AND+HitResult+%3D+%5B%22Strikeout%22%5D+AND+GameType+%3D+%5B%22REGULAR_SEASON%22%5D+AND+Season+%3D+%5B2022%5D+Order+By+Timestamp+DESC\" tabindex=\"0\">161</a></td>,\n",
       " <td class=\"col-group-end-2UJpJVwW number-aY5arzrB align-right-3nN_D3xs is-table-pinned-1WfPW2jT\" data-col=\"13\" data-row=\"9\" headers=\"tb-29-header-col13\" scope=\"row\">9</td>,\n",
       " <td class=\"col-group-end-2UJpJVwW number-aY5arzrB align-right-3nN_D3xs is-table-pinned-1WfPW2jT\" data-col=\"3\" data-row=\"10\" headers=\"tb-29-header-col3\" scope=\"row\">572</td>,\n",
       " <td class=\"col-group-end-2UJpJVwW number-aY5arzrB align-right-3nN_D3xs is-table-pinned-1WfPW2jT\" data-col=\"9\" data-row=\"10\" headers=\"tb-29-header-col9\" scope=\"row\">82</td>,\n",
       " <td class=\"col-group-end-2UJpJVwW number-aY5arzrB align-right-3nN_D3xs is-table-pinned-1WfPW2jT\" data-col=\"11\" data-row=\"10\" headers=\"tb-29-header-col11\" scope=\"row\"><a class=\"bui-link page-link-2KklYDa0 cell-link-372RKYcS\" href=\"https://www.mlb.com/video/search?q=BatterId+%3D+%5B605141%5D+AND+HitResult+%3D+%5B%22Strikeout%22%5D+AND+GameType+%3D+%5B%22REGULAR_SEASON%22%5D+AND+Season+%3D+%5B2022%5D+Order+By+Timestamp+DESC\" tabindex=\"0\">104</a></td>,\n",
       " <td class=\"col-group-end-2UJpJVwW number-aY5arzrB align-right-3nN_D3xs is-table-pinned-1WfPW2jT\" data-col=\"13\" data-row=\"10\" headers=\"tb-29-header-col13\" scope=\"row\">2</td>,\n",
       " <td class=\"col-group-end-2UJpJVwW number-aY5arzrB align-right-3nN_D3xs is-table-pinned-1WfPW2jT\" data-col=\"3\" data-row=\"11\" headers=\"tb-29-header-col3\" scope=\"row\">597</td>,\n",
       " <td class=\"col-group-end-2UJpJVwW number-aY5arzrB align-right-3nN_D3xs is-table-pinned-1WfPW2jT\" data-col=\"9\" data-row=\"11\" headers=\"tb-29-header-col9\" scope=\"row\">131</td>,\n",
       " <td class=\"col-group-end-2UJpJVwW number-aY5arzrB align-right-3nN_D3xs is-table-pinned-1WfPW2jT\" data-col=\"11\" data-row=\"11\" headers=\"tb-29-header-col11\" scope=\"row\"><a class=\"bui-link page-link-2KklYDa0 cell-link-372RKYcS\" href=\"https://www.mlb.com/video/search?q=BatterId+%3D+%5B624413%5D+AND+HitResult+%3D+%5B%22Strikeout%22%5D+AND+GameType+%3D+%5B%22REGULAR_SEASON%22%5D+AND+Season+%3D+%5B2022%5D+Order+By+Timestamp+DESC\" tabindex=\"0\">128</a></td>,\n",
       " <td class=\"col-group-end-2UJpJVwW number-aY5arzrB align-right-3nN_D3xs is-table-pinned-1WfPW2jT\" data-col=\"13\" data-row=\"11\" headers=\"tb-29-header-col13\" scope=\"row\">1</td>,\n",
       " <td class=\"col-group-end-2UJpJVwW number-aY5arzrB align-right-3nN_D3xs is-table-pinned-1WfPW2jT\" data-col=\"3\" data-row=\"12\" headers=\"tb-29-header-col3\" scope=\"row\">601</td>,\n",
       " <td class=\"col-group-end-2UJpJVwW number-aY5arzrB align-right-3nN_D3xs is-table-pinned-1WfPW2jT\" data-col=\"9\" data-row=\"12\" headers=\"tb-29-header-col9\" scope=\"row\">126</td>,\n",
       " <td class=\"col-group-end-2UJpJVwW number-aY5arzrB align-right-3nN_D3xs is-table-pinned-1WfPW2jT\" data-col=\"11\" data-row=\"12\" headers=\"tb-29-header-col11\" scope=\"row\"><a class=\"bui-link page-link-2KklYDa0 cell-link-372RKYcS\" href=\"https://www.mlb.com/video/search?q=BatterId+%3D+%5B608070%5D+AND+HitResult+%3D+%5B%22Strikeout%22%5D+AND+GameType+%3D+%5B%22REGULAR_SEASON%22%5D+AND+Season+%3D+%5B2022%5D+Order+By+Timestamp+DESC\" tabindex=\"0\">82</a></td>,\n",
       " <td class=\"col-group-end-2UJpJVwW number-aY5arzrB align-right-3nN_D3xs is-table-pinned-1WfPW2jT\" data-col=\"13\" data-row=\"12\" headers=\"tb-29-header-col13\" scope=\"row\">7</td>,\n",
       " <td class=\"col-group-end-2UJpJVwW number-aY5arzrB align-right-3nN_D3xs is-table-pinned-1WfPW2jT\" data-col=\"3\" data-row=\"13\" headers=\"tb-29-header-col3\" scope=\"row\">511</td>,\n",
       " <td class=\"col-group-end-2UJpJVwW number-aY5arzrB align-right-3nN_D3xs is-table-pinned-1WfPW2jT\" data-col=\"9\" data-row=\"13\" headers=\"tb-29-header-col9\" scope=\"row\">75</td>,\n",
       " <td class=\"col-group-end-2UJpJVwW number-aY5arzrB align-right-3nN_D3xs is-table-pinned-1WfPW2jT\" data-col=\"11\" data-row=\"13\" headers=\"tb-29-header-col11\" scope=\"row\"><a class=\"bui-link page-link-2KklYDa0 cell-link-372RKYcS\" href=\"https://www.mlb.com/video/search?q=BatterId+%3D+%5B677594%5D+AND+HitResult+%3D+%5B%22Strikeout%22%5D+AND+GameType+%3D+%5B%22REGULAR_SEASON%22%5D+AND+Season+%3D+%5B2022%5D+Order+By+Timestamp+DESC\" tabindex=\"0\">145</a></td>,\n",
       " <td class=\"col-group-end-2UJpJVwW number-aY5arzrB align-right-3nN_D3xs is-table-pinned-1WfPW2jT\" data-col=\"13\" data-row=\"13\" headers=\"tb-29-header-col13\" scope=\"row\">7</td>,\n",
       " <td class=\"col-group-end-2UJpJVwW number-aY5arzrB align-right-3nN_D3xs is-table-pinned-1WfPW2jT\" data-col=\"3\" data-row=\"14\" headers=\"tb-29-header-col3\" scope=\"row\">524</td>,\n",
       " <td class=\"col-group-end-2UJpJVwW number-aY5arzrB align-right-3nN_D3xs is-table-pinned-1WfPW2jT\" data-col=\"9\" data-row=\"14\" headers=\"tb-29-header-col9\" scope=\"row\">62</td>,\n",
       " <td class=\"col-group-end-2UJpJVwW number-aY5arzrB align-right-3nN_D3xs is-table-pinned-1WfPW2jT\" data-col=\"11\" data-row=\"14\" headers=\"tb-29-header-col11\" scope=\"row\"><a class=\"bui-link page-link-2KklYDa0 cell-link-372RKYcS\" href=\"https://www.mlb.com/video/search?q=BatterId+%3D+%5B665742%5D+AND+HitResult+%3D+%5B%22Strikeout%22%5D+AND+GameType+%3D+%5B%22REGULAR_SEASON%22%5D+AND+Season+%3D+%5B2022%5D+Order+By+Timestamp+DESC\" tabindex=\"0\">96</a></td>,\n",
       " <td class=\"col-group-end-2UJpJVwW number-aY5arzrB align-right-3nN_D3xs is-table-pinned-1WfPW2jT\" data-col=\"13\" data-row=\"14\" headers=\"tb-29-header-col13\" scope=\"row\">2</td>,\n",
       " <td class=\"col-group-end-2UJpJVwW number-aY5arzrB align-right-3nN_D3xs is-table-pinned-1WfPW2jT\" data-col=\"3\" data-row=\"15\" headers=\"tb-29-header-col3\" scope=\"row\">593</td>,\n",
       " <td class=\"col-group-end-2UJpJVwW number-aY5arzrB align-right-3nN_D3xs is-table-pinned-1WfPW2jT\" data-col=\"9\" data-row=\"15\" headers=\"tb-29-header-col9\" scope=\"row\">76</td>,\n",
       " <td class=\"col-group-end-2UJpJVwW number-aY5arzrB align-right-3nN_D3xs is-table-pinned-1WfPW2jT\" data-col=\"11\" data-row=\"15\" headers=\"tb-29-header-col11\" scope=\"row\"><a class=\"bui-link page-link-2KklYDa0 cell-link-372RKYcS\" href=\"https://www.mlb.com/video/search?q=BatterId+%3D+%5B663993%5D+AND+HitResult+%3D+%5B%22Strikeout%22%5D+AND+GameType+%3D+%5B%22REGULAR_SEASON%22%5D+AND+Season+%3D+%5B2022%5D+Order+By+Timestamp+DESC\" tabindex=\"0\">147</a></td>,\n",
       " <td class=\"col-group-end-2UJpJVwW number-aY5arzrB align-right-3nN_D3xs is-table-pinned-1WfPW2jT\" data-col=\"13\" data-row=\"15\" headers=\"tb-29-header-col13\" scope=\"row\">2</td>,\n",
       " <td class=\"col-group-end-2UJpJVwW number-aY5arzrB align-right-3nN_D3xs is-table-pinned-1WfPW2jT\" data-col=\"3\" data-row=\"16\" headers=\"tb-29-header-col3\" scope=\"row\">491</td>,\n",
       " <td class=\"col-group-end-2UJpJVwW number-aY5arzrB align-right-3nN_D3xs is-table-pinned-1WfPW2jT\" data-col=\"9\" data-row=\"16\" headers=\"tb-29-header-col9\" scope=\"row\">69</td>,\n",
       " <td class=\"col-group-end-2UJpJVwW number-aY5arzrB align-right-3nN_D3xs is-table-pinned-1WfPW2jT\" data-col=\"11\" data-row=\"16\" headers=\"tb-29-header-col11\" scope=\"row\"><a class=\"bui-link page-link-2KklYDa0 cell-link-372RKYcS\" href=\"https://www.mlb.com/video/search?q=BatterId+%3D+%5B665926%5D+AND+HitResult+%3D+%5B%22Strikeout%22%5D+AND+GameType+%3D+%5B%22REGULAR_SEASON%22%5D+AND+Season+%3D+%5B2022%5D+Order+By+Timestamp+DESC\" tabindex=\"0\">112</a></td>,\n",
       " <td class=\"col-group-end-2UJpJVwW number-aY5arzrB align-right-3nN_D3xs is-table-pinned-1WfPW2jT\" data-col=\"13\" data-row=\"16\" headers=\"tb-29-header-col13\" scope=\"row\">3</td>,\n",
       " <td class=\"col-group-end-2UJpJVwW number-aY5arzrB align-right-3nN_D3xs is-table-pinned-1WfPW2jT\" data-col=\"3\" data-row=\"17\" headers=\"tb-29-header-col3\" scope=\"row\">533</td>,\n",
       " <td class=\"col-group-end-2UJpJVwW number-aY5arzrB align-right-3nN_D3xs is-table-pinned-1WfPW2jT\" data-col=\"9\" data-row=\"17\" headers=\"tb-29-header-col9\" scope=\"row\">62</td>,\n",
       " <td class=\"col-group-end-2UJpJVwW number-aY5arzrB align-right-3nN_D3xs is-table-pinned-1WfPW2jT\" data-col=\"11\" data-row=\"17\" headers=\"tb-29-header-col11\" scope=\"row\"><a class=\"bui-link page-link-2KklYDa0 cell-link-372RKYcS\" href=\"https://www.mlb.com/video/search?q=BatterId+%3D+%5B643446%5D+AND+HitResult+%3D+%5B%22Strikeout%22%5D+AND+GameType+%3D+%5B%22REGULAR_SEASON%22%5D+AND+Season+%3D+%5B2022%5D+Order+By+Timestamp+DESC\" tabindex=\"0\">61</a></td>,\n",
       " <td class=\"col-group-end-2UJpJVwW number-aY5arzrB align-right-3nN_D3xs is-table-pinned-1WfPW2jT\" data-col=\"13\" data-row=\"17\" headers=\"tb-29-header-col13\" scope=\"row\">0</td>,\n",
       " <td class=\"col-group-end-2UJpJVwW number-aY5arzrB align-right-3nN_D3xs is-table-pinned-1WfPW2jT\" data-col=\"3\" data-row=\"18\" headers=\"tb-29-header-col3\" scope=\"row\">557</td>,\n",
       " <td class=\"col-group-end-2UJpJVwW number-aY5arzrB align-right-3nN_D3xs is-table-pinned-1WfPW2jT\" data-col=\"9\" data-row=\"18\" headers=\"tb-29-header-col9\" scope=\"row\">73</td>,\n",
       " <td class=\"col-group-end-2UJpJVwW number-aY5arzrB align-right-3nN_D3xs is-table-pinned-1WfPW2jT\" data-col=\"11\" data-row=\"18\" headers=\"tb-29-header-col11\" scope=\"row\"><a class=\"bui-link page-link-2KklYDa0 cell-link-372RKYcS\" href=\"https://www.mlb.com/video/search?q=BatterId+%3D+%5B593428%5D+AND+HitResult+%3D+%5B%22Strikeout%22%5D+AND+GameType+%3D+%5B%22REGULAR_SEASON%22%5D+AND+Season+%3D+%5B2022%5D+Order+By+Timestamp+DESC\" tabindex=\"0\">118</a></td>,\n",
       " <td class=\"col-group-end-2UJpJVwW number-aY5arzrB align-right-3nN_D3xs is-table-pinned-1WfPW2jT\" data-col=\"13\" data-row=\"18\" headers=\"tb-29-header-col13\" scope=\"row\">2</td>,\n",
       " <td class=\"col-group-end-2UJpJVwW number-aY5arzrB align-right-3nN_D3xs is-table-pinned-1WfPW2jT\" data-col=\"3\" data-row=\"19\" headers=\"tb-29-header-col3\" scope=\"row\">522</td>,\n",
       " <td class=\"col-group-end-2UJpJVwW number-aY5arzrB align-right-3nN_D3xs is-table-pinned-1WfPW2jT\" data-col=\"9\" data-row=\"19\" headers=\"tb-29-header-col9\" scope=\"row\">64</td>,\n",
       " <td class=\"col-group-end-2UJpJVwW number-aY5arzrB align-right-3nN_D3xs is-table-pinned-1WfPW2jT\" data-col=\"11\" data-row=\"19\" headers=\"tb-29-header-col11\" scope=\"row\"><a class=\"bui-link page-link-2KklYDa0 cell-link-372RKYcS\" href=\"https://www.mlb.com/video/search?q=BatterId+%3D+%5B621043%5D+AND+HitResult+%3D+%5B%22Strikeout%22%5D+AND+GameType+%3D+%5B%22REGULAR_SEASON%22%5D+AND+Season+%3D+%5B2022%5D+Order+By+Timestamp+DESC\" tabindex=\"0\">121</a></td>,\n",
       " <td class=\"col-group-end-2UJpJVwW number-aY5arzrB align-right-3nN_D3xs is-table-pinned-1WfPW2jT\" data-col=\"13\" data-row=\"19\" headers=\"tb-29-header-col13\" scope=\"row\">1</td>,\n",
       " <td class=\"col-group-end-2UJpJVwW number-aY5arzrB align-right-3nN_D3xs is-table-pinned-1WfPW2jT\" data-col=\"3\" data-row=\"20\" headers=\"tb-29-header-col3\" scope=\"row\">495</td>,\n",
       " <td class=\"col-group-end-2UJpJVwW number-aY5arzrB align-right-3nN_D3xs is-table-pinned-1WfPW2jT\" data-col=\"9\" data-row=\"20\" headers=\"tb-29-header-col9\" scope=\"row\">65</td>,\n",
       " <td class=\"col-group-end-2UJpJVwW number-aY5arzrB align-right-3nN_D3xs is-table-pinned-1WfPW2jT\" data-col=\"11\" data-row=\"20\" headers=\"tb-29-header-col11\" scope=\"row\"><a class=\"bui-link page-link-2KklYDa0 cell-link-372RKYcS\" href=\"https://www.mlb.com/video/search?q=BatterId+%3D+%5B621493%5D+AND+HitResult+%3D+%5B%22Strikeout%22%5D+AND+GameType+%3D+%5B%22REGULAR_SEASON%22%5D+AND+Season+%3D+%5B2022%5D+Order+By+Timestamp+DESC\" tabindex=\"0\">120</a></td>,\n",
       " <td class=\"col-group-end-2UJpJVwW number-aY5arzrB align-right-3nN_D3xs is-table-pinned-1WfPW2jT\" data-col=\"13\" data-row=\"20\" headers=\"tb-29-header-col13\" scope=\"row\">3</td>,\n",
       " <td class=\"col-group-end-2UJpJVwW number-aY5arzrB align-right-3nN_D3xs is-table-pinned-1WfPW2jT\" data-col=\"3\" data-row=\"21\" headers=\"tb-29-header-col3\" scope=\"row\">577</td>,\n",
       " <td class=\"col-group-end-2UJpJVwW number-aY5arzrB align-right-3nN_D3xs is-table-pinned-1WfPW2jT\" data-col=\"9\" data-row=\"21\" headers=\"tb-29-header-col9\" scope=\"row\">94</td>,\n",
       " <td class=\"col-group-end-2UJpJVwW number-aY5arzrB align-right-3nN_D3xs is-table-pinned-1WfPW2jT\" data-col=\"11\" data-row=\"21\" headers=\"tb-29-header-col11\" scope=\"row\"><a class=\"bui-link page-link-2KklYDa0 cell-link-372RKYcS\" href=\"https://www.mlb.com/video/search?q=BatterId+%3D+%5B656941%5D+AND+HitResult+%3D+%5B%22Strikeout%22%5D+AND+GameType+%3D+%5B%22REGULAR_SEASON%22%5D+AND+Season+%3D+%5B2022%5D+Order+By+Timestamp+DESC\" tabindex=\"0\">200</a></td>,\n",
       " <td class=\"col-group-end-2UJpJVwW number-aY5arzrB align-right-3nN_D3xs is-table-pinned-1WfPW2jT\" data-col=\"13\" data-row=\"21\" headers=\"tb-29-header-col13\" scope=\"row\">1</td>,\n",
       " <td class=\"col-group-end-2UJpJVwW number-aY5arzrB align-right-3nN_D3xs is-table-pinned-1WfPW2jT\" data-col=\"3\" data-row=\"22\" headers=\"tb-29-header-col3\" scope=\"row\">601</td>,\n",
       " <td class=\"col-group-end-2UJpJVwW number-aY5arzrB align-right-3nN_D3xs is-table-pinned-1WfPW2jT\" data-col=\"9\" data-row=\"22\" headers=\"tb-29-header-col9\" scope=\"row\">75</td>,\n",
       " <td class=\"col-group-end-2UJpJVwW number-aY5arzrB align-right-3nN_D3xs is-table-pinned-1WfPW2jT\" data-col=\"11\" data-row=\"22\" headers=\"tb-29-header-col11\" scope=\"row\"><a class=\"bui-link page-link-2KklYDa0 cell-link-372RKYcS\" href=\"https://www.mlb.com/video/search?q=BatterId+%3D+%5B547989%5D+AND+HitResult+%3D+%5B%22Strikeout%22%5D+AND+GameType+%3D+%5B%22REGULAR_SEASON%22%5D+AND+Season+%3D+%5B2022%5D+Order+By+Timestamp+DESC\" tabindex=\"0\">110</a></td>,\n",
       " <td class=\"col-group-end-2UJpJVwW number-aY5arzrB align-right-3nN_D3xs is-table-pinned-1WfPW2jT\" data-col=\"13\" data-row=\"22\" headers=\"tb-29-header-col13\" scope=\"row\">0</td>,\n",
       " <td class=\"col-group-end-2UJpJVwW number-aY5arzrB align-right-3nN_D3xs is-table-pinned-1WfPW2jT\" data-col=\"3\" data-row=\"23\" headers=\"tb-29-header-col3\" scope=\"row\">473</td>,\n",
       " <td class=\"col-group-end-2UJpJVwW number-aY5arzrB align-right-3nN_D3xs is-table-pinned-1WfPW2jT\" data-col=\"9\" data-row=\"23\" headers=\"tb-29-header-col9\" scope=\"row\">57</td>,\n",
       " <td class=\"col-group-end-2UJpJVwW number-aY5arzrB align-right-3nN_D3xs is-table-pinned-1WfPW2jT\" data-col=\"11\" data-row=\"23\" headers=\"tb-29-header-col11\" scope=\"row\"><a class=\"bui-link page-link-2KklYDa0 cell-link-372RKYcS\" href=\"https://www.mlb.com/video/search?q=BatterId+%3D+%5B650490%5D+AND+HitResult+%3D+%5B%22Strikeout%22%5D+AND+GameType+%3D+%5B%22REGULAR_SEASON%22%5D+AND+Season+%3D+%5B2022%5D+Order+By+Timestamp+DESC\" tabindex=\"0\">60</a></td>,\n",
       " <td class=\"col-group-end-2UJpJVwW number-aY5arzrB align-right-3nN_D3xs is-table-pinned-1WfPW2jT\" data-col=\"13\" data-row=\"23\" headers=\"tb-29-header-col13\" scope=\"row\">3</td>,\n",
       " <td class=\"col-group-end-2UJpJVwW number-aY5arzrB align-right-3nN_D3xs is-table-pinned-1WfPW2jT\" data-col=\"3\" data-row=\"24\" headers=\"tb-29-header-col3\" scope=\"row\">548</td>,\n",
       " <td class=\"col-group-end-2UJpJVwW number-aY5arzrB align-right-3nN_D3xs is-table-pinned-1WfPW2jT\" data-col=\"9\" data-row=\"24\" headers=\"tb-29-header-col9\" scope=\"row\">93</td>,\n",
       " <td class=\"col-group-end-2UJpJVwW number-aY5arzrB align-right-3nN_D3xs is-table-pinned-1WfPW2jT\" data-col=\"11\" data-row=\"24\" headers=\"tb-29-header-col11\" scope=\"row\"><a class=\"bui-link page-link-2KklYDa0 cell-link-372RKYcS\" href=\"https://www.mlb.com/video/search?q=BatterId+%3D+%5B608324%5D+AND+HitResult+%3D+%5B%22Strikeout%22%5D+AND+GameType+%3D+%5B%22REGULAR_SEASON%22%5D+AND+Season+%3D+%5B2022%5D+Order+By+Timestamp+DESC\" tabindex=\"0\">77</a></td>,\n",
       " <td class=\"col-group-end-2UJpJVwW number-aY5arzrB align-right-3nN_D3xs is-table-pinned-1WfPW2jT\" data-col=\"13\" data-row=\"24\" headers=\"tb-29-header-col13\" scope=\"row\">2</td>]"
      ]
     },
     "execution_count": 181,
     "metadata": {},
     "output_type": "execute_result"
    }
   ],
   "source": [
    "b"
   ]
  },
  {
   "cell_type": "code",
   "execution_count": 186,
   "id": "6baeeec5",
   "metadata": {},
   "outputs": [
    {
     "data": {
      "text/plain": [
       "[<td class=\"col-group-end-2UJpJVwW number-aY5arzrB align-right-3nN_D3xs is-table-pinned-1WfPW2jT\" data-col=\"3\" data-row=\"0\" headers=\"tb-29-header-col3\" scope=\"row\">570</td>,\n",
       " <td class=\"col-group-end-2UJpJVwW number-aY5arzrB align-right-3nN_D3xs is-table-pinned-1WfPW2jT\" data-col=\"9\" data-row=\"0\" headers=\"tb-29-header-col9\" scope=\"row\">131</td>,\n",
       " <td class=\"col-group-end-2UJpJVwW number-aY5arzrB align-right-3nN_D3xs is-table-pinned-1WfPW2jT\" data-col=\"11\" data-row=\"0\" headers=\"tb-29-header-col11\" scope=\"row\"><a class=\"bui-link page-link-2KklYDa0 cell-link-372RKYcS\" href=\"https://www.mlb.com/video/search?q=BatterId+%3D+%5B592450%5D+AND+HitResult+%3D+%5B%22Strikeout%22%5D+AND+GameType+%3D+%5B%22REGULAR_SEASON%22%5D+AND+Season+%3D+%5B2022%5D+Order+By+Timestamp+DESC\" tabindex=\"0\">175</a></td>,\n",
       " <td class=\"col-group-end-2UJpJVwW number-aY5arzrB align-right-3nN_D3xs is-table-pinned-1WfPW2jT\" data-col=\"13\" data-row=\"0\" headers=\"tb-29-header-col13\" scope=\"row\">3</td>]"
      ]
     },
     "execution_count": 186,
     "metadata": {},
     "output_type": "execute_result"
    }
   ],
   "source": [
    "b[0:4]"
   ]
  },
  {
   "cell_type": "code",
   "execution_count": null,
   "id": "1c049439",
   "metadata": {},
   "outputs": [],
   "source": []
  },
  {
   "cell_type": "code",
   "execution_count": 213,
   "id": "0d63487a",
   "metadata": {},
   "outputs": [
    {
     "name": "stdout",
     "output_type": "stream",
     "text": [
      "25\n"
     ]
    }
   ],
   "source": [
    "TB=[]\n",
    "CI=[]\n",
    "P=[]\n",
    "AR=[]\n",
    "\n",
    "for x in range(0, len(b),4):\n",
    "    TB.append(b[x:x+4][0].text)\n",
    "    CI.append(b[x:x+4][1].text)\n",
    "    P.append(b[x:x+4][2].text)\n",
    "    AR.append(b[x:x+4][3].text)\n",
    "\n",
    "    "
   ]
  },
  {
   "cell_type": "code",
   "execution_count": 222,
   "id": "0631c73d",
   "metadata": {},
   "outputs": [
    {
     "data": {
      "text/plain": [
       "[<td class=\"number-aY5arzrB align-right-3nN_D3xs is-table-pinned-1WfPW2jT\" data-col=\"5\" data-row=\"0\" headers=\"tb-29-header-col5\" scope=\"row\"><a class=\"bui-link page-link-2KklYDa0 cell-link-372RKYcS\" href=\"https://www.mlb.com/video/search?q=BatterId+%3D+%5B592450%5D+AND+HitResult+%3D+%5B%22Hit%22%5D+AND+GameType+%3D+%5B%22REGULAR_SEASON%22%5D+AND+Season+%3D+%5B2022%5D+Order+By+Timestamp+DESC\" tabindex=\"0\">177</a></td>,\n",
       " <td class=\"number-aY5arzrB align-right-3nN_D3xs is-table-pinned-1WfPW2jT\" data-col=\"6\" data-row=\"0\" headers=\"tb-29-header-col6\" scope=\"row\"><a class=\"bui-link page-link-2KklYDa0 cell-link-372RKYcS\" href=\"https://www.mlb.com/video/search?q=BatterId+%3D+%5B592450%5D+AND+HitResult+%3D+%5B%22Double%22%5D+AND+GameType+%3D+%5B%22REGULAR_SEASON%22%5D+AND+Season+%3D+%5B2022%5D+Order+By+Timestamp+DESC\" tabindex=\"0\">28</a></td>,\n",
       " <td class=\"number-aY5arzrB align-right-3nN_D3xs is-table-pinned-1WfPW2jT\" data-col=\"7\" data-row=\"0\" headers=\"tb-29-header-col7\" scope=\"row\">0</td>,\n",
       " <td class=\"number-aY5arzrB align-right-3nN_D3xs is-table-pinned-1WfPW2jT\" data-col=\"8\" data-row=\"0\" headers=\"tb-29-header-col8\" scope=\"row\"><a class=\"bui-link page-link-2KklYDa0 cell-link-372RKYcS\" href=\"https://www.mlb.com/video/search?q=BatterId+%3D+%5B592450%5D+AND+HitResult+%3D+%5B%22Home%20Run%22%5D+AND+GameType+%3D+%5B%22REGULAR_SEASON%22%5D+AND+Season+%3D+%5B2022%5D+Order+By+Timestamp+DESC\" tabindex=\"0\">62</a></td>,\n",
       " <td class=\"number-aY5arzrB align-right-3nN_D3xs is-table-pinned-1WfPW2jT\" data-col=\"15\" data-row=\"0\" headers=\"tb-29-header-col15\" scope=\"row\">.425</td>,\n",
       " <td class=\"number-aY5arzrB align-right-3nN_D3xs is-table-pinned-1WfPW2jT\" data-col=\"16\" data-row=\"0\" headers=\"tb-29-header-col16\" scope=\"row\">.686</td>,\n",
       " <td class=\"number-aY5arzrB align-right-3nN_D3xs is-table-pinned-1WfPW2jT\" data-col=\"5\" data-row=\"1\" headers=\"tb-29-header-col5\" scope=\"row\"><a class=\"bui-link page-link-2KklYDa0 cell-link-372RKYcS\" href=\"https://www.mlb.com/video/search?q=BatterId+%3D+%5B670541%5D+AND+HitResult+%3D+%5B%22Hit%22%5D+AND+GameType+%3D+%5B%22REGULAR_SEASON%22%5D+AND+Season+%3D+%5B2022%5D+Order+By+Timestamp+DESC\" tabindex=\"0\">144</a></td>,\n",
       " <td class=\"number-aY5arzrB align-right-3nN_D3xs is-table-pinned-1WfPW2jT\" data-col=\"6\" data-row=\"1\" headers=\"tb-29-header-col6\" scope=\"row\"><a class=\"bui-link page-link-2KklYDa0 cell-link-372RKYcS\" href=\"https://www.mlb.com/video/search?q=BatterId+%3D+%5B670541%5D+AND+HitResult+%3D+%5B%22Double%22%5D+AND+GameType+%3D+%5B%22REGULAR_SEASON%22%5D+AND+Season+%3D+%5B2022%5D+Order+By+Timestamp+DESC\" tabindex=\"0\">29</a></td>,\n",
       " <td class=\"number-aY5arzrB align-right-3nN_D3xs is-table-pinned-1WfPW2jT\" data-col=\"7\" data-row=\"1\" headers=\"tb-29-header-col7\" scope=\"row\"><a class=\"bui-link page-link-2KklYDa0 cell-link-372RKYcS\" href=\"https://www.mlb.com/video/search?q=BatterId+%3D+%5B670541%5D+AND+HitResult+%3D+%5B%22Triple%22%5D+AND+GameType+%3D+%5B%22REGULAR_SEASON%22%5D+AND+Season+%3D+%5B2022%5D+Order+By+Timestamp+DESC\" tabindex=\"0\">2</a></td>,\n",
       " <td class=\"number-aY5arzrB align-right-3nN_D3xs is-table-pinned-1WfPW2jT\" data-col=\"8\" data-row=\"1\" headers=\"tb-29-header-col8\" scope=\"row\"><a class=\"bui-link page-link-2KklYDa0 cell-link-372RKYcS\" href=\"https://www.mlb.com/video/search?q=BatterId+%3D+%5B670541%5D+AND+HitResult+%3D+%5B%22Home%20Run%22%5D+AND+GameType+%3D+%5B%22REGULAR_SEASON%22%5D+AND+Season+%3D+%5B2022%5D+Order+By+Timestamp+DESC\" tabindex=\"0\">37</a></td>,\n",
       " <td class=\"number-aY5arzrB align-right-3nN_D3xs is-table-pinned-1WfPW2jT\" data-col=\"15\" data-row=\"1\" headers=\"tb-29-header-col15\" scope=\"row\">.406</td>,\n",
       " <td class=\"number-aY5arzrB align-right-3nN_D3xs is-table-pinned-1WfPW2jT\" data-col=\"16\" data-row=\"1\" headers=\"tb-29-header-col16\" scope=\"row\">.613</td>,\n",
       " <td class=\"number-aY5arzrB align-right-3nN_D3xs is-table-pinned-1WfPW2jT\" data-col=\"5\" data-row=\"2\" headers=\"tb-29-header-col5\" scope=\"row\"><a class=\"bui-link page-link-2KklYDa0 cell-link-372RKYcS\" href=\"https://www.mlb.com/video/search?q=BatterId+%3D+%5B502671%5D+AND+HitResult+%3D+%5B%22Hit%22%5D+AND+GameType+%3D+%5B%22REGULAR_SEASON%22%5D+AND+Season+%3D+%5B2022%5D+Order+By+Timestamp+DESC\" tabindex=\"0\">178</a></td>,\n",
       " <td class=\"number-aY5arzrB align-right-3nN_D3xs is-table-pinned-1WfPW2jT\" data-col=\"6\" data-row=\"2\" headers=\"tb-29-header-col6\" scope=\"row\"><a class=\"bui-link page-link-2KklYDa0 cell-link-372RKYcS\" href=\"https://www.mlb.com/video/search?q=BatterId+%3D+%5B502671%5D+AND+HitResult+%3D+%5B%22Double%22%5D+AND+GameType+%3D+%5B%22REGULAR_SEASON%22%5D+AND+Season+%3D+%5B2022%5D+Order+By+Timestamp+DESC\" tabindex=\"0\">41</a></td>,\n",
       " <td class=\"number-aY5arzrB align-right-3nN_D3xs is-table-pinned-1WfPW2jT\" data-col=\"7\" data-row=\"2\" headers=\"tb-29-header-col7\" scope=\"row\">0</td>,\n",
       " <td class=\"number-aY5arzrB align-right-3nN_D3xs is-table-pinned-1WfPW2jT\" data-col=\"8\" data-row=\"2\" headers=\"tb-29-header-col8\" scope=\"row\"><a class=\"bui-link page-link-2KklYDa0 cell-link-372RKYcS\" href=\"https://www.mlb.com/video/search?q=BatterId+%3D+%5B502671%5D+AND+HitResult+%3D+%5B%22Home%20Run%22%5D+AND+GameType+%3D+%5B%22REGULAR_SEASON%22%5D+AND+Season+%3D+%5B2022%5D+Order+By+Timestamp+DESC\" tabindex=\"0\">35</a></td>,\n",
       " <td class=\"number-aY5arzrB align-right-3nN_D3xs is-table-pinned-1WfPW2jT\" data-col=\"15\" data-row=\"2\" headers=\"tb-29-header-col15\" scope=\"row\">.404</td>,\n",
       " <td class=\"number-aY5arzrB align-right-3nN_D3xs is-table-pinned-1WfPW2jT\" data-col=\"16\" data-row=\"2\" headers=\"tb-29-header-col16\" scope=\"row\">.578</td>,\n",
       " <td class=\"number-aY5arzrB align-right-3nN_D3xs is-table-pinned-1WfPW2jT\" data-col=\"5\" data-row=\"3\" headers=\"tb-29-header-col5\" scope=\"row\"><a class=\"bui-link page-link-2KklYDa0 cell-link-372RKYcS\" href=\"https://www.mlb.com/video/search?q=BatterId+%3D+%5B514888%5D+AND+HitResult+%3D+%5B%22Hit%22%5D+AND+GameType+%3D+%5B%22REGULAR_SEASON%22%5D+AND+Season+%3D+%5B2022%5D+Order+By+Timestamp+DESC\" tabindex=\"0\">158</a></td>,\n",
       " <td class=\"number-aY5arzrB align-right-3nN_D3xs is-table-pinned-1WfPW2jT\" data-col=\"6\" data-row=\"3\" headers=\"tb-29-header-col6\" scope=\"row\"><a class=\"bui-link page-link-2KklYDa0 cell-link-372RKYcS\" href=\"https://www.mlb.com/video/search?q=BatterId+%3D+%5B514888%5D+AND+HitResult+%3D+%5B%22Double%22%5D+AND+GameType+%3D+%5B%22REGULAR_SEASON%22%5D+AND+Season+%3D+%5B2022%5D+Order+By+Timestamp+DESC\" tabindex=\"0\">39</a></td>,\n",
       " <td class=\"number-aY5arzrB align-right-3nN_D3xs is-table-pinned-1WfPW2jT\" data-col=\"7\" data-row=\"3\" headers=\"tb-29-header-col7\" scope=\"row\">0</td>,\n",
       " <td class=\"number-aY5arzrB align-right-3nN_D3xs is-table-pinned-1WfPW2jT\" data-col=\"8\" data-row=\"3\" headers=\"tb-29-header-col8\" scope=\"row\"><a class=\"bui-link page-link-2KklYDa0 cell-link-372RKYcS\" href=\"https://www.mlb.com/video/search?q=BatterId+%3D+%5B514888%5D+AND+HitResult+%3D+%5B%22Home%20Run%22%5D+AND+GameType+%3D+%5B%22REGULAR_SEASON%22%5D+AND+Season+%3D+%5B2022%5D+Order+By+Timestamp+DESC\" tabindex=\"0\">28</a></td>,\n",
       " <td class=\"number-aY5arzrB align-right-3nN_D3xs is-table-pinned-1WfPW2jT\" data-col=\"15\" data-row=\"3\" headers=\"tb-29-header-col15\" scope=\"row\">.387</td>,\n",
       " <td class=\"number-aY5arzrB align-right-3nN_D3xs is-table-pinned-1WfPW2jT\" data-col=\"16\" data-row=\"3\" headers=\"tb-29-header-col16\" scope=\"row\">.533</td>,\n",
       " <td class=\"number-aY5arzrB align-right-3nN_D3xs is-table-pinned-1WfPW2jT\" data-col=\"5\" data-row=\"4\" headers=\"tb-29-header-col5\" scope=\"row\"><a class=\"bui-link page-link-2KklYDa0 cell-link-372RKYcS\" href=\"https://www.mlb.com/video/search?q=BatterId+%3D+%5B518692%5D+AND+HitResult+%3D+%5B%22Hit%22%5D+AND+GameType+%3D+%5B%22REGULAR_SEASON%22%5D+AND+Season+%3D+%5B2022%5D+Order+By+Timestamp+DESC\" tabindex=\"0\">199</a></td>,\n",
       " <td class=\"number-aY5arzrB align-right-3nN_D3xs is-table-pinned-1WfPW2jT\" data-col=\"6\" data-row=\"4\" headers=\"tb-29-header-col6\" scope=\"row\"><a class=\"bui-link page-link-2KklYDa0 cell-link-372RKYcS\" href=\"https://www.mlb.com/video/search?q=BatterId+%3D+%5B518692%5D+AND+HitResult+%3D+%5B%22Double%22%5D+AND+GameType+%3D+%5B%22REGULAR_SEASON%22%5D+AND+Season+%3D+%5B2022%5D+Order+By+Timestamp+DESC\" tabindex=\"0\">47</a></td>,\n",
       " <td class=\"number-aY5arzrB align-right-3nN_D3xs is-table-pinned-1WfPW2jT\" data-col=\"7\" data-row=\"4\" headers=\"tb-29-header-col7\" scope=\"row\"><a class=\"bui-link page-link-2KklYDa0 cell-link-372RKYcS\" href=\"https://www.mlb.com/video/search?q=BatterId+%3D+%5B518692%5D+AND+HitResult+%3D+%5B%22Triple%22%5D+AND+GameType+%3D+%5B%22REGULAR_SEASON%22%5D+AND+Season+%3D+%5B2022%5D+Order+By+Timestamp+DESC\" tabindex=\"0\">2</a></td>,\n",
       " <td class=\"number-aY5arzrB align-right-3nN_D3xs is-table-pinned-1WfPW2jT\" data-col=\"8\" data-row=\"4\" headers=\"tb-29-header-col8\" scope=\"row\"><a class=\"bui-link page-link-2KklYDa0 cell-link-372RKYcS\" href=\"https://www.mlb.com/video/search?q=BatterId+%3D+%5B518692%5D+AND+HitResult+%3D+%5B%22Home%20Run%22%5D+AND+GameType+%3D+%5B%22REGULAR_SEASON%22%5D+AND+Season+%3D+%5B2022%5D+Order+By+Timestamp+DESC\" tabindex=\"0\">21</a></td>,\n",
       " <td class=\"number-aY5arzrB align-right-3nN_D3xs is-table-pinned-1WfPW2jT\" data-col=\"15\" data-row=\"4\" headers=\"tb-29-header-col15\" scope=\"row\">.407</td>,\n",
       " <td class=\"number-aY5arzrB align-right-3nN_D3xs is-table-pinned-1WfPW2jT\" data-col=\"16\" data-row=\"4\" headers=\"tb-29-header-col16\" scope=\"row\">.511</td>,\n",
       " <td class=\"number-aY5arzrB align-right-3nN_D3xs is-table-pinned-1WfPW2jT\" data-col=\"5\" data-row=\"5\" headers=\"tb-29-header-col5\" scope=\"row\"><a class=\"bui-link page-link-2KklYDa0 cell-link-372RKYcS\" href=\"https://www.mlb.com/video/search?q=BatterId+%3D+%5B592518%5D+AND+HitResult+%3D+%5B%22Hit%22%5D+AND+GameType+%3D+%5B%22REGULAR_SEASON%22%5D+AND+Season+%3D+%5B2022%5D+Order+By+Timestamp+DESC\" tabindex=\"0\">172</a></td>,\n",
       " <td class=\"number-aY5arzrB align-right-3nN_D3xs is-table-pinned-1WfPW2jT\" data-col=\"6\" data-row=\"5\" headers=\"tb-29-header-col6\" scope=\"row\"><a class=\"bui-link page-link-2KklYDa0 cell-link-372RKYcS\" href=\"https://www.mlb.com/video/search?q=BatterId+%3D+%5B592518%5D+AND+HitResult+%3D+%5B%22Double%22%5D+AND+GameType+%3D+%5B%22REGULAR_SEASON%22%5D+AND+Season+%3D+%5B2022%5D+Order+By+Timestamp+DESC\" tabindex=\"0\">37</a></td>,\n",
       " <td class=\"number-aY5arzrB align-right-3nN_D3xs is-table-pinned-1WfPW2jT\" data-col=\"7\" data-row=\"5\" headers=\"tb-29-header-col7\" scope=\"row\"><a class=\"bui-link page-link-2KklYDa0 cell-link-372RKYcS\" href=\"https://www.mlb.com/video/search?q=BatterId+%3D+%5B592518%5D+AND+HitResult+%3D+%5B%22Triple%22%5D+AND+GameType+%3D+%5B%22REGULAR_SEASON%22%5D+AND+Season+%3D+%5B2022%5D+Order+By+Timestamp+DESC\" tabindex=\"0\">1</a></td>,\n",
       " <td class=\"number-aY5arzrB align-right-3nN_D3xs is-table-pinned-1WfPW2jT\" data-col=\"8\" data-row=\"5\" headers=\"tb-29-header-col8\" scope=\"row\"><a class=\"bui-link page-link-2KklYDa0 cell-link-372RKYcS\" href=\"https://www.mlb.com/video/search?q=BatterId+%3D+%5B592518%5D+AND+HitResult+%3D+%5B%22Home%20Run%22%5D+AND+GameType+%3D+%5B%22REGULAR_SEASON%22%5D+AND+Season+%3D+%5B2022%5D+Order+By+Timestamp+DESC\" tabindex=\"0\">32</a></td>,\n",
       " <td class=\"number-aY5arzrB align-right-3nN_D3xs is-table-pinned-1WfPW2jT\" data-col=\"15\" data-row=\"5\" headers=\"tb-29-header-col15\" scope=\"row\">.366</td>,\n",
       " <td class=\"number-aY5arzrB align-right-3nN_D3xs is-table-pinned-1WfPW2jT\" data-col=\"16\" data-row=\"5\" headers=\"tb-29-header-col16\" scope=\"row\">.531</td>,\n",
       " <td class=\"number-aY5arzrB align-right-3nN_D3xs is-table-pinned-1WfPW2jT\" data-col=\"5\" data-row=\"6\" headers=\"tb-29-header-col5\" scope=\"row\"><a class=\"bui-link page-link-2KklYDa0 cell-link-372RKYcS\" href=\"https://www.mlb.com/video/search?q=BatterId+%3D+%5B571448%5D+AND+HitResult+%3D+%5B%22Hit%22%5D+AND+GameType+%3D+%5B%22REGULAR_SEASON%22%5D+AND+Season+%3D+%5B2022%5D+Order+By+Timestamp+DESC\" tabindex=\"0\">163</a></td>,\n",
       " <td class=\"number-aY5arzrB align-right-3nN_D3xs is-table-pinned-1WfPW2jT\" data-col=\"6\" data-row=\"6\" headers=\"tb-29-header-col6\" scope=\"row\"><a class=\"bui-link page-link-2KklYDa0 cell-link-372RKYcS\" href=\"https://www.mlb.com/video/search?q=BatterId+%3D+%5B571448%5D+AND+HitResult+%3D+%5B%22Double%22%5D+AND+GameType+%3D+%5B%22REGULAR_SEASON%22%5D+AND+Season+%3D+%5B2022%5D+Order+By+Timestamp+DESC\" tabindex=\"0\">42</a></td>,\n",
       " <td class=\"number-aY5arzrB align-right-3nN_D3xs is-table-pinned-1WfPW2jT\" data-col=\"7\" data-row=\"6\" headers=\"tb-29-header-col7\" scope=\"row\"><a class=\"bui-link page-link-2KklYDa0 cell-link-372RKYcS\" href=\"https://www.mlb.com/video/search?q=BatterId+%3D+%5B571448%5D+AND+HitResult+%3D+%5B%22Triple%22%5D+AND+GameType+%3D+%5B%22REGULAR_SEASON%22%5D+AND+Season+%3D+%5B2022%5D+Order+By+Timestamp+DESC\" tabindex=\"0\">1</a></td>,\n",
       " <td class=\"number-aY5arzrB align-right-3nN_D3xs is-table-pinned-1WfPW2jT\" data-col=\"8\" data-row=\"6\" headers=\"tb-29-header-col8\" scope=\"row\"><a class=\"bui-link page-link-2KklYDa0 cell-link-372RKYcS\" href=\"https://www.mlb.com/video/search?q=BatterId+%3D+%5B571448%5D+AND+HitResult+%3D+%5B%22Home%20Run%22%5D+AND+GameType+%3D+%5B%22REGULAR_SEASON%22%5D+AND+Season+%3D+%5B2022%5D+Order+By+Timestamp+DESC\" tabindex=\"0\">30</a></td>,\n",
       " <td class=\"number-aY5arzrB align-right-3nN_D3xs is-table-pinned-1WfPW2jT\" data-col=\"15\" data-row=\"6\" headers=\"tb-29-header-col15\" scope=\"row\">.358</td>,\n",
       " <td class=\"number-aY5arzrB align-right-3nN_D3xs is-table-pinned-1WfPW2jT\" data-col=\"16\" data-row=\"6\" headers=\"tb-29-header-col16\" scope=\"row\">.533</td>,\n",
       " <td class=\"number-aY5arzrB align-right-3nN_D3xs is-table-pinned-1WfPW2jT\" data-col=\"5\" data-row=\"7\" headers=\"tb-29-header-col5\" scope=\"row\"><a class=\"bui-link page-link-2KklYDa0 cell-link-372RKYcS\" href=\"https://www.mlb.com/video/search?q=BatterId+%3D+%5B646240%5D+AND+HitResult+%3D+%5B%22Hit%22%5D+AND+GameType+%3D+%5B%22REGULAR_SEASON%22%5D+AND+Season+%3D+%5B2022%5D+Order+By+Timestamp+DESC\" tabindex=\"0\">164</a></td>,\n",
       " <td class=\"number-aY5arzrB align-right-3nN_D3xs is-table-pinned-1WfPW2jT\" data-col=\"6\" data-row=\"7\" headers=\"tb-29-header-col6\" scope=\"row\"><a class=\"bui-link page-link-2KklYDa0 cell-link-372RKYcS\" href=\"https://www.mlb.com/video/search?q=BatterId+%3D+%5B646240%5D+AND+HitResult+%3D+%5B%22Double%22%5D+AND+GameType+%3D+%5B%22REGULAR_SEASON%22%5D+AND+Season+%3D+%5B2022%5D+Order+By+Timestamp+DESC\" tabindex=\"0\">42</a></td>,\n",
       " <td class=\"number-aY5arzrB align-right-3nN_D3xs is-table-pinned-1WfPW2jT\" data-col=\"7\" data-row=\"7\" headers=\"tb-29-header-col7\" scope=\"row\"><a class=\"bui-link page-link-2KklYDa0 cell-link-372RKYcS\" href=\"https://www.mlb.com/video/search?q=BatterId+%3D+%5B646240%5D+AND+HitResult+%3D+%5B%22Triple%22%5D+AND+GameType+%3D+%5B%22REGULAR_SEASON%22%5D+AND+Season+%3D+%5B2022%5D+Order+By+Timestamp+DESC\" tabindex=\"0\">1</a></td>,\n",
       " <td class=\"number-aY5arzrB align-right-3nN_D3xs is-table-pinned-1WfPW2jT\" data-col=\"8\" data-row=\"7\" headers=\"tb-29-header-col8\" scope=\"row\"><a class=\"bui-link page-link-2KklYDa0 cell-link-372RKYcS\" href=\"https://www.mlb.com/video/search?q=BatterId+%3D+%5B646240%5D+AND+HitResult+%3D+%5B%22Home%20Run%22%5D+AND+GameType+%3D+%5B%22REGULAR_SEASON%22%5D+AND+Season+%3D+%5B2022%5D+Order+By+Timestamp+DESC\" tabindex=\"0\">27</a></td>,\n",
       " <td class=\"number-aY5arzrB align-right-3nN_D3xs is-table-pinned-1WfPW2jT\" data-col=\"15\" data-row=\"7\" headers=\"tb-29-header-col15\" scope=\"row\">.358</td>,\n",
       " <td class=\"number-aY5arzrB align-right-3nN_D3xs is-table-pinned-1WfPW2jT\" data-col=\"16\" data-row=\"7\" headers=\"tb-29-header-col16\" scope=\"row\">.521</td>,\n",
       " <td class=\"number-aY5arzrB align-right-3nN_D3xs is-table-pinned-1WfPW2jT\" data-col=\"5\" data-row=\"8\" headers=\"tb-29-header-col5\" scope=\"row\"><a class=\"bui-link page-link-2KklYDa0 cell-link-372RKYcS\" href=\"https://www.mlb.com/video/search?q=BatterId+%3D+%5B663586%5D+AND+HitResult+%3D+%5B%22Hit%22%5D+AND+GameType+%3D+%5B%22REGULAR_SEASON%22%5D+AND+Season+%3D+%5B2022%5D+Order+By+Timestamp+DESC\" tabindex=\"0\">168</a></td>,\n",
       " <td class=\"number-aY5arzrB align-right-3nN_D3xs is-table-pinned-1WfPW2jT\" data-col=\"6\" data-row=\"8\" headers=\"tb-29-header-col6\" scope=\"row\"><a class=\"bui-link page-link-2KklYDa0 cell-link-372RKYcS\" href=\"https://www.mlb.com/video/search?q=BatterId+%3D+%5B663586%5D+AND+HitResult+%3D+%5B%22Double%22%5D+AND+GameType+%3D+%5B%22REGULAR_SEASON%22%5D+AND+Season+%3D+%5B2022%5D+Order+By+Timestamp+DESC\" tabindex=\"0\">39</a></td>,\n",
       " <td class=\"number-aY5arzrB align-right-3nN_D3xs is-table-pinned-1WfPW2jT\" data-col=\"7\" data-row=\"8\" headers=\"tb-29-header-col7\" scope=\"row\"><a class=\"bui-link page-link-2KklYDa0 cell-link-372RKYcS\" href=\"https://www.mlb.com/video/search?q=BatterId+%3D+%5B663586%5D+AND+HitResult+%3D+%5B%22Triple%22%5D+AND+GameType+%3D+%5B%22REGULAR_SEASON%22%5D+AND+Season+%3D+%5B2022%5D+Order+By+Timestamp+DESC\" tabindex=\"0\">2</a></td>,\n",
       " <td class=\"number-aY5arzrB align-right-3nN_D3xs is-table-pinned-1WfPW2jT\" data-col=\"8\" data-row=\"8\" headers=\"tb-29-header-col8\" scope=\"row\"><a class=\"bui-link page-link-2KklYDa0 cell-link-372RKYcS\" href=\"https://www.mlb.com/video/search?q=BatterId+%3D+%5B663586%5D+AND+HitResult+%3D+%5B%22Home%20Run%22%5D+AND+GameType+%3D+%5B%22REGULAR_SEASON%22%5D+AND+Season+%3D+%5B2022%5D+Order+By+Timestamp+DESC\" tabindex=\"0\">38</a></td>,\n",
       " <td class=\"number-aY5arzrB align-right-3nN_D3xs is-table-pinned-1WfPW2jT\" data-col=\"15\" data-row=\"8\" headers=\"tb-29-header-col15\" scope=\"row\">.349</td>,\n",
       " <td class=\"number-aY5arzrB align-right-3nN_D3xs is-table-pinned-1WfPW2jT\" data-col=\"16\" data-row=\"8\" headers=\"tb-29-header-col16\" scope=\"row\">.528</td>,\n",
       " <td class=\"number-aY5arzrB align-right-3nN_D3xs is-table-pinned-1WfPW2jT\" data-col=\"5\" data-row=\"9\" headers=\"tb-29-header-col5\" scope=\"row\"><a class=\"bui-link page-link-2KklYDa0 cell-link-372RKYcS\" href=\"https://www.mlb.com/video/search?q=BatterId+%3D+%5B660271%5D+AND+HitResult+%3D+%5B%22Hit%22%5D+AND+GameType+%3D+%5B%22REGULAR_SEASON%22%5D+AND+Season+%3D+%5B2022%5D+Order+By+Timestamp+DESC\" tabindex=\"0\">160</a></td>,\n",
       " <td class=\"number-aY5arzrB align-right-3nN_D3xs is-table-pinned-1WfPW2jT\" data-col=\"6\" data-row=\"9\" headers=\"tb-29-header-col6\" scope=\"row\"><a class=\"bui-link page-link-2KklYDa0 cell-link-372RKYcS\" href=\"https://www.mlb.com/video/search?q=BatterId+%3D+%5B660271%5D+AND+HitResult+%3D+%5B%22Double%22%5D+AND+GameType+%3D+%5B%22REGULAR_SEASON%22%5D+AND+Season+%3D+%5B2022%5D+Order+By+Timestamp+DESC\" tabindex=\"0\">30</a></td>,\n",
       " <td class=\"number-aY5arzrB align-right-3nN_D3xs is-table-pinned-1WfPW2jT\" data-col=\"7\" data-row=\"9\" headers=\"tb-29-header-col7\" scope=\"row\"><a class=\"bui-link page-link-2KklYDa0 cell-link-372RKYcS\" href=\"https://www.mlb.com/video/search?q=BatterId+%3D+%5B660271%5D+AND+HitResult+%3D+%5B%22Triple%22%5D+AND+GameType+%3D+%5B%22REGULAR_SEASON%22%5D+AND+Season+%3D+%5B2022%5D+Order+By+Timestamp+DESC\" tabindex=\"0\">6</a></td>,\n",
       " <td class=\"number-aY5arzrB align-right-3nN_D3xs is-table-pinned-1WfPW2jT\" data-col=\"8\" data-row=\"9\" headers=\"tb-29-header-col8\" scope=\"row\"><a class=\"bui-link page-link-2KklYDa0 cell-link-372RKYcS\" href=\"https://www.mlb.com/video/search?q=BatterId+%3D+%5B660271%5D+AND+HitResult+%3D+%5B%22Home%20Run%22%5D+AND+GameType+%3D+%5B%22REGULAR_SEASON%22%5D+AND+Season+%3D+%5B2022%5D+Order+By+Timestamp+DESC\" tabindex=\"0\">34</a></td>,\n",
       " <td class=\"number-aY5arzrB align-right-3nN_D3xs is-table-pinned-1WfPW2jT\" data-col=\"15\" data-row=\"9\" headers=\"tb-29-header-col15\" scope=\"row\">.356</td>,\n",
       " <td class=\"number-aY5arzrB align-right-3nN_D3xs is-table-pinned-1WfPW2jT\" data-col=\"16\" data-row=\"9\" headers=\"tb-29-header-col16\" scope=\"row\">.519</td>,\n",
       " <td class=\"number-aY5arzrB align-right-3nN_D3xs is-table-pinned-1WfPW2jT\" data-col=\"5\" data-row=\"10\" headers=\"tb-29-header-col5\" scope=\"row\"><a class=\"bui-link page-link-2KklYDa0 cell-link-372RKYcS\" href=\"https://www.mlb.com/video/search?q=BatterId+%3D+%5B605141%5D+AND+HitResult+%3D+%5B%22Hit%22%5D+AND+GameType+%3D+%5B%22REGULAR_SEASON%22%5D+AND+Season+%3D+%5B2022%5D+Order+By+Timestamp+DESC\" tabindex=\"0\">154</a></td>,\n",
       " <td class=\"number-aY5arzrB align-right-3nN_D3xs is-table-pinned-1WfPW2jT\" data-col=\"6\" data-row=\"10\" headers=\"tb-29-header-col6\" scope=\"row\"><a class=\"bui-link page-link-2KklYDa0 cell-link-372RKYcS\" href=\"https://www.mlb.com/video/search?q=BatterId+%3D+%5B605141%5D+AND+HitResult+%3D+%5B%22Double%22%5D+AND+GameType+%3D+%5B%22REGULAR_SEASON%22%5D+AND+Season+%3D+%5B2022%5D+Order+By+Timestamp+DESC\" tabindex=\"0\">40</a></td>,\n",
       " <td class=\"number-aY5arzrB align-right-3nN_D3xs is-table-pinned-1WfPW2jT\" data-col=\"7\" data-row=\"10\" headers=\"tb-29-header-col7\" scope=\"row\"><a class=\"bui-link page-link-2KklYDa0 cell-link-372RKYcS\" href=\"https://www.mlb.com/video/search?q=BatterId+%3D+%5B605141%5D+AND+HitResult+%3D+%5B%22Triple%22%5D+AND+GameType+%3D+%5B%22REGULAR_SEASON%22%5D+AND+Season+%3D+%5B2022%5D+Order+By+Timestamp+DESC\" tabindex=\"0\">3</a></td>,\n",
       " <td class=\"number-aY5arzrB align-right-3nN_D3xs is-table-pinned-1WfPW2jT\" data-col=\"8\" data-row=\"10\" headers=\"tb-29-header-col8\" scope=\"row\"><a class=\"bui-link page-link-2KklYDa0 cell-link-372RKYcS\" href=\"https://www.mlb.com/video/search?q=BatterId+%3D+%5B605141%5D+AND+HitResult+%3D+%5B%22Home%20Run%22%5D+AND+GameType+%3D+%5B%22REGULAR_SEASON%22%5D+AND+Season+%3D+%5B2022%5D+Order+By+Timestamp+DESC\" tabindex=\"0\">35</a></td>,\n",
       " <td class=\"number-aY5arzrB align-right-3nN_D3xs is-table-pinned-1WfPW2jT\" data-col=\"15\" data-row=\"10\" headers=\"tb-29-header-col15\" scope=\"row\">.340</td>,\n",
       " <td class=\"number-aY5arzrB align-right-3nN_D3xs is-table-pinned-1WfPW2jT\" data-col=\"16\" data-row=\"10\" headers=\"tb-29-header-col16\" scope=\"row\">.533</td>,\n",
       " <td class=\"number-aY5arzrB align-right-3nN_D3xs is-table-pinned-1WfPW2jT\" data-col=\"5\" data-row=\"11\" headers=\"tb-29-header-col5\" scope=\"row\"><a class=\"bui-link page-link-2KklYDa0 cell-link-372RKYcS\" href=\"https://www.mlb.com/video/search?q=BatterId+%3D+%5B624413%5D+AND+HitResult+%3D+%5B%22Hit%22%5D+AND+GameType+%3D+%5B%22REGULAR_SEASON%22%5D+AND+Season+%3D+%5B2022%5D+Order+By+Timestamp+DESC\" tabindex=\"0\">162</a></td>,\n",
       " <td class=\"number-aY5arzrB align-right-3nN_D3xs is-table-pinned-1WfPW2jT\" data-col=\"6\" data-row=\"11\" headers=\"tb-29-header-col6\" scope=\"row\"><a class=\"bui-link page-link-2KklYDa0 cell-link-372RKYcS\" href=\"https://www.mlb.com/video/search?q=BatterId+%3D+%5B624413%5D+AND+HitResult+%3D+%5B%22Double%22%5D+AND+GameType+%3D+%5B%22REGULAR_SEASON%22%5D+AND+Season+%3D+%5B2022%5D+Order+By+Timestamp+DESC\" tabindex=\"0\">27</a></td>,\n",
       " <td class=\"number-aY5arzrB align-right-3nN_D3xs is-table-pinned-1WfPW2jT\" data-col=\"7\" data-row=\"11\" headers=\"tb-29-header-col7\" scope=\"row\">0</td>,\n",
       " <td class=\"number-aY5arzrB align-right-3nN_D3xs is-table-pinned-1WfPW2jT\" data-col=\"8\" data-row=\"11\" headers=\"tb-29-header-col8\" scope=\"row\"><a class=\"bui-link page-link-2KklYDa0 cell-link-372RKYcS\" href=\"https://www.mlb.com/video/search?q=BatterId+%3D+%5B624413%5D+AND+HitResult+%3D+%5B%22Home%20Run%22%5D+AND+GameType+%3D+%5B%22REGULAR_SEASON%22%5D+AND+Season+%3D+%5B2022%5D+Order+By+Timestamp+DESC\" tabindex=\"0\">40</a></td>,\n",
       " <td class=\"number-aY5arzrB align-right-3nN_D3xs is-table-pinned-1WfPW2jT\" data-col=\"15\" data-row=\"11\" headers=\"tb-29-header-col15\" scope=\"row\">.352</td>,\n",
       " <td class=\"number-aY5arzrB align-right-3nN_D3xs is-table-pinned-1WfPW2jT\" data-col=\"16\" data-row=\"11\" headers=\"tb-29-header-col16\" scope=\"row\">.518</td>,\n",
       " <td class=\"number-aY5arzrB align-right-3nN_D3xs is-table-pinned-1WfPW2jT\" data-col=\"5\" data-row=\"12\" headers=\"tb-29-header-col5\" scope=\"row\"><a class=\"bui-link page-link-2KklYDa0 cell-link-372RKYcS\" href=\"https://www.mlb.com/video/search?q=BatterId+%3D+%5B608070%5D+AND+HitResult+%3D+%5B%22Hit%22%5D+AND+GameType+%3D+%5B%22REGULAR_SEASON%22%5D+AND+Season+%3D+%5B2022%5D+Order+By+Timestamp+DESC\" tabindex=\"0\">168</a></td>,\n",
       " <td class=\"number-aY5arzrB align-right-3nN_D3xs is-table-pinned-1WfPW2jT\" data-col=\"6\" data-row=\"12\" headers=\"tb-29-header-col6\" scope=\"row\"><a class=\"bui-link page-link-2KklYDa0 cell-link-372RKYcS\" href=\"https://www.mlb.com/video/search?q=BatterId+%3D+%5B608070%5D+AND+HitResult+%3D+%5B%22Double%22%5D+AND+GameType+%3D+%5B%22REGULAR_SEASON%22%5D+AND+Season+%3D+%5B2022%5D+Order+By+Timestamp+DESC\" tabindex=\"0\">44</a></td>,\n",
       " <td class=\"number-aY5arzrB align-right-3nN_D3xs is-table-pinned-1WfPW2jT\" data-col=\"7\" data-row=\"12\" headers=\"tb-29-header-col7\" scope=\"row\"><a class=\"bui-link page-link-2KklYDa0 cell-link-372RKYcS\" href=\"https://www.mlb.com/video/search?q=BatterId+%3D+%5B608070%5D+AND+HitResult+%3D+%5B%22Triple%22%5D+AND+GameType+%3D+%5B%22REGULAR_SEASON%22%5D+AND+Season+%3D+%5B2022%5D+Order+By+Timestamp+DESC\" tabindex=\"0\">5</a></td>,\n",
       " <td class=\"number-aY5arzrB align-right-3nN_D3xs is-table-pinned-1WfPW2jT\" data-col=\"8\" data-row=\"12\" headers=\"tb-29-header-col8\" scope=\"row\"><a class=\"bui-link page-link-2KklYDa0 cell-link-372RKYcS\" href=\"https://www.mlb.com/video/search?q=BatterId+%3D+%5B608070%5D+AND+HitResult+%3D+%5B%22Home%20Run%22%5D+AND+GameType+%3D+%5B%22REGULAR_SEASON%22%5D+AND+Season+%3D+%5B2022%5D+Order+By+Timestamp+DESC\" tabindex=\"0\">29</a></td>,\n",
       " <td class=\"number-aY5arzrB align-right-3nN_D3xs is-table-pinned-1WfPW2jT\" data-col=\"15\" data-row=\"12\" headers=\"tb-29-header-col15\" scope=\"row\">.355</td>,\n",
       " <td class=\"number-aY5arzrB align-right-3nN_D3xs is-table-pinned-1WfPW2jT\" data-col=\"16\" data-row=\"12\" headers=\"tb-29-header-col16\" scope=\"row\">.514</td>,\n",
       " <td class=\"number-aY5arzrB align-right-3nN_D3xs is-table-pinned-1WfPW2jT\" data-col=\"5\" data-row=\"13\" headers=\"tb-29-header-col5\" scope=\"row\"><a class=\"bui-link page-link-2KklYDa0 cell-link-372RKYcS\" href=\"https://www.mlb.com/video/search?q=BatterId+%3D+%5B677594%5D+AND+HitResult+%3D+%5B%22Hit%22%5D+AND+GameType+%3D+%5B%22REGULAR_SEASON%22%5D+AND+Season+%3D+%5B2022%5D+Order+By+Timestamp+DESC\" tabindex=\"0\">145</a></td>,\n",
       " <td class=\"number-aY5arzrB align-right-3nN_D3xs is-table-pinned-1WfPW2jT\" data-col=\"6\" data-row=\"13\" headers=\"tb-29-header-col6\" scope=\"row\"><a class=\"bui-link page-link-2KklYDa0 cell-link-372RKYcS\" href=\"https://www.mlb.com/video/search?q=BatterId+%3D+%5B677594%5D+AND+HitResult+%3D+%5B%22Double%22%5D+AND+GameType+%3D+%5B%22REGULAR_SEASON%22%5D+AND+Season+%3D+%5B2022%5D+Order+By+Timestamp+DESC\" tabindex=\"0\">25</a></td>,\n",
       " <td class=\"number-aY5arzrB align-right-3nN_D3xs is-table-pinned-1WfPW2jT\" data-col=\"7\" data-row=\"13\" headers=\"tb-29-header-col7\" scope=\"row\"><a class=\"bui-link page-link-2KklYDa0 cell-link-372RKYcS\" href=\"https://www.mlb.com/video/search?q=BatterId+%3D+%5B677594%5D+AND+HitResult+%3D+%5B%22Triple%22%5D+AND+GameType+%3D+%5B%22REGULAR_SEASON%22%5D+AND+Season+%3D+%5B2022%5D+Order+By+Timestamp+DESC\" tabindex=\"0\">3</a></td>,\n",
       " <td class=\"number-aY5arzrB align-right-3nN_D3xs is-table-pinned-1WfPW2jT\" data-col=\"8\" data-row=\"13\" headers=\"tb-29-header-col8\" scope=\"row\"><a class=\"bui-link page-link-2KklYDa0 cell-link-372RKYcS\" href=\"https://www.mlb.com/video/search?q=BatterId+%3D+%5B677594%5D+AND+HitResult+%3D+%5B%22Home%20Run%22%5D+AND+GameType+%3D+%5B%22REGULAR_SEASON%22%5D+AND+Season+%3D+%5B2022%5D+Order+By+Timestamp+DESC\" tabindex=\"0\">28</a></td>,\n",
       " <td class=\"number-aY5arzrB align-right-3nN_D3xs is-table-pinned-1WfPW2jT\" data-col=\"15\" data-row=\"13\" headers=\"tb-29-header-col15\" scope=\"row\">.345</td>,\n",
       " <td class=\"number-aY5arzrB align-right-3nN_D3xs is-table-pinned-1WfPW2jT\" data-col=\"16\" data-row=\"13\" headers=\"tb-29-header-col16\" scope=\"row\">.509</td>,\n",
       " <td class=\"number-aY5arzrB align-right-3nN_D3xs is-table-pinned-1WfPW2jT\" data-col=\"5\" data-row=\"14\" headers=\"tb-29-header-col5\" scope=\"row\"><a class=\"bui-link page-link-2KklYDa0 cell-link-372RKYcS\" href=\"https://www.mlb.com/video/search?q=BatterId+%3D+%5B665742%5D+AND+HitResult+%3D+%5B%22Hit%22%5D+AND+GameType+%3D+%5B%22REGULAR_SEASON%22%5D+AND+Season+%3D+%5B2022%5D+Order+By+Timestamp+DESC\" tabindex=\"0\">127</a></td>,\n",
       " <td class=\"number-aY5arzrB align-right-3nN_D3xs is-table-pinned-1WfPW2jT\" data-col=\"6\" data-row=\"14\" headers=\"tb-29-header-col6\" scope=\"row\"><a class=\"bui-link page-link-2KklYDa0 cell-link-372RKYcS\" href=\"https://www.mlb.com/video/search?q=BatterId+%3D+%5B665742%5D+AND+HitResult+%3D+%5B%22Double%22%5D+AND+GameType+%3D+%5B%22REGULAR_SEASON%22%5D+AND+Season+%3D+%5B2022%5D+Order+By+Timestamp+DESC\" tabindex=\"0\">25</a></td>,\n",
       " <td class=\"number-aY5arzrB align-right-3nN_D3xs is-table-pinned-1WfPW2jT\" data-col=\"7\" data-row=\"14\" headers=\"tb-29-header-col7\" scope=\"row\"><a class=\"bui-link page-link-2KklYDa0 cell-link-372RKYcS\" href=\"https://www.mlb.com/video/search?q=BatterId+%3D+%5B665742%5D+AND+HitResult+%3D+%5B%22Triple%22%5D+AND+GameType+%3D+%5B%22REGULAR_SEASON%22%5D+AND+Season+%3D+%5B2022%5D+Order+By+Timestamp+DESC\" tabindex=\"0\">2</a></td>,\n",
       " <td class=\"number-aY5arzrB align-right-3nN_D3xs is-table-pinned-1WfPW2jT\" data-col=\"8\" data-row=\"14\" headers=\"tb-29-header-col8\" scope=\"row\"><a class=\"bui-link page-link-2KklYDa0 cell-link-372RKYcS\" href=\"https://www.mlb.com/video/search?q=BatterId+%3D+%5B665742%5D+AND+HitResult+%3D+%5B%22Home%20Run%22%5D+AND+GameType+%3D+%5B%22REGULAR_SEASON%22%5D+AND+Season+%3D+%5B2022%5D+Order+By+Timestamp+DESC\" tabindex=\"0\">27</a></td>,\n",
       " <td class=\"number-aY5arzrB align-right-3nN_D3xs is-table-pinned-1WfPW2jT\" data-col=\"15\" data-row=\"14\" headers=\"tb-29-header-col15\" scope=\"row\">.401</td>,\n",
       " <td class=\"number-aY5arzrB align-right-3nN_D3xs is-table-pinned-1WfPW2jT\" data-col=\"16\" data-row=\"14\" headers=\"tb-29-header-col16\" scope=\"row\">.452</td>,\n",
       " <td class=\"number-aY5arzrB align-right-3nN_D3xs is-table-pinned-1WfPW2jT\" data-col=\"5\" data-row=\"15\" headers=\"tb-29-header-col5\" scope=\"row\"><a class=\"bui-link page-link-2KklYDa0 cell-link-372RKYcS\" href=\"https://www.mlb.com/video/search?q=BatterId+%3D+%5B663993%5D+AND+HitResult+%3D+%5B%22Hit%22%5D+AND+GameType+%3D+%5B%22REGULAR_SEASON%22%5D+AND+Season+%3D+%5B2022%5D+Order+By+Timestamp+DESC\" tabindex=\"0\">179</a></td>,\n",
       " <td class=\"number-aY5arzrB align-right-3nN_D3xs is-table-pinned-1WfPW2jT\" data-col=\"6\" data-row=\"15\" headers=\"tb-29-header-col6\" scope=\"row\"><a class=\"bui-link page-link-2KklYDa0 cell-link-372RKYcS\" href=\"https://www.mlb.com/video/search?q=BatterId+%3D+%5B663993%5D+AND+HitResult+%3D+%5B%22Double%22%5D+AND+GameType+%3D+%5B%22REGULAR_SEASON%22%5D+AND+Season+%3D+%5B2022%5D+Order+By+Timestamp+DESC\" tabindex=\"0\">26</a></td>,\n",
       " <td class=\"number-aY5arzrB align-right-3nN_D3xs is-table-pinned-1WfPW2jT\" data-col=\"7\" data-row=\"15\" headers=\"tb-29-header-col7\" scope=\"row\"><a class=\"bui-link page-link-2KklYDa0 cell-link-372RKYcS\" href=\"https://www.mlb.com/video/search?q=BatterId+%3D+%5B663993%5D+AND+HitResult+%3D+%5B%22Triple%22%5D+AND+GameType+%3D+%5B%22REGULAR_SEASON%22%5D+AND+Season+%3D+%5B2022%5D+Order+By+Timestamp+DESC\" tabindex=\"0\">3</a></td>,\n",
       " <td class=\"number-aY5arzrB align-right-3nN_D3xs is-table-pinned-1WfPW2jT\" data-col=\"8\" data-row=\"15\" headers=\"tb-29-header-col8\" scope=\"row\"><a class=\"bui-link page-link-2KklYDa0 cell-link-372RKYcS\" href=\"https://www.mlb.com/video/search?q=BatterId+%3D+%5B663993%5D+AND+HitResult+%3D+%5B%22Home%20Run%22%5D+AND+GameType+%3D+%5B%22REGULAR_SEASON%22%5D+AND+Season+%3D+%5B2022%5D+Order+By+Timestamp+DESC\" tabindex=\"0\">27</a></td>,\n",
       " <td class=\"number-aY5arzrB align-right-3nN_D3xs is-table-pinned-1WfPW2jT\" data-col=\"15\" data-row=\"15\" headers=\"tb-29-header-col15\" scope=\"row\">.358</td>,\n",
       " <td class=\"number-aY5arzrB align-right-3nN_D3xs is-table-pinned-1WfPW2jT\" data-col=\"16\" data-row=\"15\" headers=\"tb-29-header-col16\" scope=\"row\">.492</td>,\n",
       " <td class=\"number-aY5arzrB align-right-3nN_D3xs is-table-pinned-1WfPW2jT\" data-col=\"5\" data-row=\"16\" headers=\"tb-29-header-col5\" scope=\"row\"><a class=\"bui-link page-link-2KklYDa0 cell-link-372RKYcS\" href=\"https://www.mlb.com/video/search?q=BatterId+%3D+%5B665926%5D+AND+HitResult+%3D+%5B%22Hit%22%5D+AND+GameType+%3D+%5B%22REGULAR_SEASON%22%5D+AND+Season+%3D+%5B2022%5D+Order+By+Timestamp+DESC\" tabindex=\"0\">146</a></td>,\n",
       " <td class=\"number-aY5arzrB align-right-3nN_D3xs is-table-pinned-1WfPW2jT\" data-col=\"6\" data-row=\"16\" headers=\"tb-29-header-col6\" scope=\"row\"><a class=\"bui-link page-link-2KklYDa0 cell-link-372RKYcS\" href=\"https://www.mlb.com/video/search?q=BatterId+%3D+%5B665926%5D+AND+HitResult+%3D+%5B%22Double%22%5D+AND+GameType+%3D+%5B%22REGULAR_SEASON%22%5D+AND+Season+%3D+%5B2022%5D+Order+By+Timestamp+DESC\" tabindex=\"0\">26</a></td>,\n",
       " <td class=\"number-aY5arzrB align-right-3nN_D3xs is-table-pinned-1WfPW2jT\" data-col=\"7\" data-row=\"16\" headers=\"tb-29-header-col7\" scope=\"row\"><a class=\"bui-link page-link-2KklYDa0 cell-link-372RKYcS\" href=\"https://www.mlb.com/video/search?q=BatterId+%3D+%5B665926%5D+AND+HitResult+%3D+%5B%22Triple%22%5D+AND+GameType+%3D+%5B%22REGULAR_SEASON%22%5D+AND+Season+%3D+%5B2022%5D+Order+By+Timestamp+DESC\" tabindex=\"0\">3</a></td>,\n",
       " <td class=\"number-aY5arzrB align-right-3nN_D3xs is-table-pinned-1WfPW2jT\" data-col=\"8\" data-row=\"16\" headers=\"tb-29-header-col8\" scope=\"row\"><a class=\"bui-link page-link-2KklYDa0 cell-link-372RKYcS\" href=\"https://www.mlb.com/video/search?q=BatterId+%3D+%5B665926%5D+AND+HitResult+%3D+%5B%22Home%20Run%22%5D+AND+GameType+%3D+%5B%22REGULAR_SEASON%22%5D+AND+Season+%3D+%5B2022%5D+Order+By+Timestamp+DESC\" tabindex=\"0\">17</a></td>,\n",
       " <td class=\"number-aY5arzrB align-right-3nN_D3xs is-table-pinned-1WfPW2jT\" data-col=\"15\" data-row=\"16\" headers=\"tb-29-header-col15\" scope=\"row\">.371</td>,\n",
       " <td class=\"number-aY5arzrB align-right-3nN_D3xs is-table-pinned-1WfPW2jT\" data-col=\"16\" data-row=\"16\" headers=\"tb-29-header-col16\" scope=\"row\">.466</td>,\n",
       " <td class=\"number-aY5arzrB align-right-3nN_D3xs is-table-pinned-1WfPW2jT\" data-col=\"5\" data-row=\"17\" headers=\"tb-29-header-col5\" scope=\"row\"><a class=\"bui-link page-link-2KklYDa0 cell-link-372RKYcS\" href=\"https://www.mlb.com/video/search?q=BatterId+%3D+%5B643446%5D+AND+HitResult+%3D+%5B%22Hit%22%5D+AND+GameType+%3D+%5B%22REGULAR_SEASON%22%5D+AND+Season+%3D+%5B2022%5D+Order+By+Timestamp+DESC\" tabindex=\"0\">174</a></td>,\n",
       " <td class=\"number-aY5arzrB align-right-3nN_D3xs is-table-pinned-1WfPW2jT\" data-col=\"6\" data-row=\"17\" headers=\"tb-29-header-col6\" scope=\"row\"><a class=\"bui-link page-link-2KklYDa0 cell-link-372RKYcS\" href=\"https://www.mlb.com/video/search?q=BatterId+%3D+%5B643446%5D+AND+HitResult+%3D+%5B%22Double%22%5D+AND+GameType+%3D+%5B%22REGULAR_SEASON%22%5D+AND+Season+%3D+%5B2022%5D+Order+By+Timestamp+DESC\" tabindex=\"0\">39</a></td>,\n",
       " <td class=\"number-aY5arzrB align-right-3nN_D3xs is-table-pinned-1WfPW2jT\" data-col=\"7\" data-row=\"17\" headers=\"tb-29-header-col7\" scope=\"row\"><a class=\"bui-link page-link-2KklYDa0 cell-link-372RKYcS\" href=\"https://www.mlb.com/video/search?q=BatterId+%3D+%5B643446%5D+AND+HitResult+%3D+%5B%22Triple%22%5D+AND+GameType+%3D+%5B%22REGULAR_SEASON%22%5D+AND+Season+%3D+%5B2022%5D+Order+By+Timestamp+DESC\" tabindex=\"0\">1</a></td>,\n",
       " <td class=\"number-aY5arzrB align-right-3nN_D3xs is-table-pinned-1WfPW2jT\" data-col=\"8\" data-row=\"17\" headers=\"tb-29-header-col8\" scope=\"row\"><a class=\"bui-link page-link-2KklYDa0 cell-link-372RKYcS\" href=\"https://www.mlb.com/video/search?q=BatterId+%3D+%5B643446%5D+AND+HitResult+%3D+%5B%22Home%20Run%22%5D+AND+GameType+%3D+%5B%22REGULAR_SEASON%22%5D+AND+Season+%3D+%5B2022%5D+Order+By+Timestamp+DESC\" tabindex=\"0\">9</a></td>,\n",
       " <td class=\"number-aY5arzrB align-right-3nN_D3xs is-table-pinned-1WfPW2jT\" data-col=\"15\" data-row=\"17\" headers=\"tb-29-header-col15\" scope=\"row\">.382</td>,\n",
       " <td class=\"number-aY5arzrB align-right-3nN_D3xs is-table-pinned-1WfPW2jT\" data-col=\"16\" data-row=\"17\" headers=\"tb-29-header-col16\" scope=\"row\">.454</td>,\n",
       " <td class=\"number-aY5arzrB align-right-3nN_D3xs is-table-pinned-1WfPW2jT\" data-col=\"5\" data-row=\"18\" headers=\"tb-29-header-col5\" scope=\"row\"><a class=\"bui-link page-link-2KklYDa0 cell-link-372RKYcS\" href=\"https://www.mlb.com/video/search?q=BatterId+%3D+%5B593428%5D+AND+HitResult+%3D+%5B%22Hit%22%5D+AND+GameType+%3D+%5B%22REGULAR_SEASON%22%5D+AND+Season+%3D+%5B2022%5D+Order+By+Timestamp+DESC\" tabindex=\"0\">171</a></td>,\n",
       " <td class=\"number-aY5arzrB align-right-3nN_D3xs is-table-pinned-1WfPW2jT\" data-col=\"6\" data-row=\"18\" headers=\"tb-29-header-col6\" scope=\"row\"><a class=\"bui-link page-link-2KklYDa0 cell-link-372RKYcS\" href=\"https://www.mlb.com/video/search?q=BatterId+%3D+%5B593428%5D+AND+HitResult+%3D+%5B%22Double%22%5D+AND+GameType+%3D+%5B%22REGULAR_SEASON%22%5D+AND+Season+%3D+%5B2022%5D+Order+By+Timestamp+DESC\" tabindex=\"0\">38</a></td>,\n",
       " <td class=\"number-aY5arzrB align-right-3nN_D3xs is-table-pinned-1WfPW2jT\" data-col=\"7\" data-row=\"18\" headers=\"tb-29-header-col7\" scope=\"row\">0</td>,\n",
       " <td class=\"number-aY5arzrB align-right-3nN_D3xs is-table-pinned-1WfPW2jT\" data-col=\"8\" data-row=\"18\" headers=\"tb-29-header-col8\" scope=\"row\"><a class=\"bui-link page-link-2KklYDa0 cell-link-372RKYcS\" href=\"https://www.mlb.com/video/search?q=BatterId+%3D+%5B593428%5D+AND+HitResult+%3D+%5B%22Home%20Run%22%5D+AND+GameType+%3D+%5B%22REGULAR_SEASON%22%5D+AND+Season+%3D+%5B2022%5D+Order+By+Timestamp+DESC\" tabindex=\"0\">15</a></td>,\n",
       " <td class=\"number-aY5arzrB align-right-3nN_D3xs is-table-pinned-1WfPW2jT\" data-col=\"15\" data-row=\"18\" headers=\"tb-29-header-col15\" scope=\"row\">.377</td>,\n",
       " <td class=\"number-aY5arzrB align-right-3nN_D3xs is-table-pinned-1WfPW2jT\" data-col=\"16\" data-row=\"18\" headers=\"tb-29-header-col16\" scope=\"row\">.456</td>,\n",
       " <td class=\"number-aY5arzrB align-right-3nN_D3xs is-table-pinned-1WfPW2jT\" data-col=\"5\" data-row=\"19\" headers=\"tb-29-header-col5\" scope=\"row\"><a class=\"bui-link page-link-2KklYDa0 cell-link-372RKYcS\" href=\"https://www.mlb.com/video/search?q=BatterId+%3D+%5B621043%5D+AND+HitResult+%3D+%5B%22Hit%22%5D+AND+GameType+%3D+%5B%22REGULAR_SEASON%22%5D+AND+Season+%3D+%5B2022%5D+Order+By+Timestamp+DESC\" tabindex=\"0\">152</a></td>,\n",
       " <td class=\"number-aY5arzrB align-right-3nN_D3xs is-table-pinned-1WfPW2jT\" data-col=\"6\" data-row=\"19\" headers=\"tb-29-header-col6\" scope=\"row\"><a class=\"bui-link page-link-2KklYDa0 cell-link-372RKYcS\" href=\"https://www.mlb.com/video/search?q=BatterId+%3D+%5B621043%5D+AND+HitResult+%3D+%5B%22Double%22%5D+AND+GameType+%3D+%5B%22REGULAR_SEASON%22%5D+AND+Season+%3D+%5B2022%5D+Order+By+Timestamp+DESC\" tabindex=\"0\">24</a></td>,\n",
       " <td class=\"number-aY5arzrB align-right-3nN_D3xs is-table-pinned-1WfPW2jT\" data-col=\"7\" data-row=\"19\" headers=\"tb-29-header-col7\" scope=\"row\"><a class=\"bui-link page-link-2KklYDa0 cell-link-372RKYcS\" href=\"https://www.mlb.com/video/search?q=BatterId+%3D+%5B621043%5D+AND+HitResult+%3D+%5B%22Triple%22%5D+AND+GameType+%3D+%5B%22REGULAR_SEASON%22%5D+AND+Season+%3D+%5B2022%5D+Order+By+Timestamp+DESC\" tabindex=\"0\">1</a></td>,\n",
       " <td class=\"number-aY5arzrB align-right-3nN_D3xs is-table-pinned-1WfPW2jT\" data-col=\"8\" data-row=\"19\" headers=\"tb-29-header-col8\" scope=\"row\"><a class=\"bui-link page-link-2KklYDa0 cell-link-372RKYcS\" href=\"https://www.mlb.com/video/search?q=BatterId+%3D+%5B621043%5D+AND+HitResult+%3D+%5B%22Home%20Run%22%5D+AND+GameType+%3D+%5B%22REGULAR_SEASON%22%5D+AND+Season+%3D+%5B2022%5D+Order+By+Timestamp+DESC\" tabindex=\"0\">22</a></td>,\n",
       " <td class=\"number-aY5arzrB align-right-3nN_D3xs is-table-pinned-1WfPW2jT\" data-col=\"15\" data-row=\"19\" headers=\"tb-29-header-col15\" scope=\"row\">.366</td>,\n",
       " <td class=\"number-aY5arzrB align-right-3nN_D3xs is-table-pinned-1WfPW2jT\" data-col=\"16\" data-row=\"19\" headers=\"tb-29-header-col16\" scope=\"row\">.467</td>,\n",
       " <td class=\"number-aY5arzrB align-right-3nN_D3xs is-table-pinned-1WfPW2jT\" data-col=\"5\" data-row=\"20\" headers=\"tb-29-header-col5\" scope=\"row\"><a class=\"bui-link page-link-2KklYDa0 cell-link-372RKYcS\" href=\"https://www.mlb.com/video/search?q=BatterId+%3D+%5B621493%5D+AND+HitResult+%3D+%5B%22Hit%22%5D+AND+GameType+%3D+%5B%22REGULAR_SEASON%22%5D+AND+Season+%3D+%5B2022%5D+Order+By+Timestamp+DESC\" tabindex=\"0\">139</a></td>,\n",
       " <td class=\"number-aY5arzrB align-right-3nN_D3xs is-table-pinned-1WfPW2jT\" data-col=\"6\" data-row=\"20\" headers=\"tb-29-header-col6\" scope=\"row\"><a class=\"bui-link page-link-2KklYDa0 cell-link-372RKYcS\" href=\"https://www.mlb.com/video/search?q=BatterId+%3D+%5B621493%5D+AND+HitResult+%3D+%5B%22Double%22%5D+AND+GameType+%3D+%5B%22REGULAR_SEASON%22%5D+AND+Season+%3D+%5B2022%5D+Order+By+Timestamp+DESC\" tabindex=\"0\">22</a></td>,\n",
       " <td class=\"number-aY5arzrB align-right-3nN_D3xs is-table-pinned-1WfPW2jT\" data-col=\"7\" data-row=\"20\" headers=\"tb-29-header-col7\" scope=\"row\"><a class=\"bui-link page-link-2KklYDa0 cell-link-372RKYcS\" href=\"https://www.mlb.com/video/search?q=BatterId+%3D+%5B621493%5D+AND+HitResult+%3D+%5B%22Triple%22%5D+AND+GameType+%3D+%5B%22REGULAR_SEASON%22%5D+AND+Season+%3D+%5B2022%5D+Order+By+Timestamp+DESC\" tabindex=\"0\">2</a></td>,\n",
       " <td class=\"number-aY5arzrB align-right-3nN_D3xs is-table-pinned-1WfPW2jT\" data-col=\"8\" data-row=\"20\" headers=\"tb-29-header-col8\" scope=\"row\"><a class=\"bui-link page-link-2KklYDa0 cell-link-372RKYcS\" href=\"https://www.mlb.com/video/search?q=BatterId+%3D+%5B621493%5D+AND+HitResult+%3D+%5B%22Home%20Run%22%5D+AND+GameType+%3D+%5B%22REGULAR_SEASON%22%5D+AND+Season+%3D+%5B2022%5D+Order+By+Timestamp+DESC\" tabindex=\"0\">23</a></td>,\n",
       " <td class=\"number-aY5arzrB align-right-3nN_D3xs is-table-pinned-1WfPW2jT\" data-col=\"15\" data-row=\"20\" headers=\"tb-29-header-col15\" scope=\"row\">.360</td>,\n",
       " <td class=\"number-aY5arzrB align-right-3nN_D3xs is-table-pinned-1WfPW2jT\" data-col=\"16\" data-row=\"20\" headers=\"tb-29-header-col16\" scope=\"row\">.473</td>,\n",
       " <td class=\"number-aY5arzrB align-right-3nN_D3xs is-table-pinned-1WfPW2jT\" data-col=\"5\" data-row=\"21\" headers=\"tb-29-header-col5\" scope=\"row\"><a class=\"bui-link page-link-2KklYDa0 cell-link-372RKYcS\" href=\"https://www.mlb.com/video/search?q=BatterId+%3D+%5B656941%5D+AND+HitResult+%3D+%5B%22Hit%22%5D+AND+GameType+%3D+%5B%22REGULAR_SEASON%22%5D+AND+Season+%3D+%5B2022%5D+Order+By+Timestamp+DESC\" tabindex=\"0\">126</a></td>,\n",
       " <td class=\"number-aY5arzrB align-right-3nN_D3xs is-table-pinned-1WfPW2jT\" data-col=\"6\" data-row=\"21\" headers=\"tb-29-header-col6\" scope=\"row\"><a class=\"bui-link page-link-2KklYDa0 cell-link-372RKYcS\" href=\"https://www.mlb.com/video/search?q=BatterId+%3D+%5B656941%5D+AND+HitResult+%3D+%5B%22Double%22%5D+AND+GameType+%3D+%5B%22REGULAR_SEASON%22%5D+AND+Season+%3D+%5B2022%5D+Order+By+Timestamp+DESC\" tabindex=\"0\">21</a></td>,\n",
       " <td class=\"number-aY5arzrB align-right-3nN_D3xs is-table-pinned-1WfPW2jT\" data-col=\"7\" data-row=\"21\" headers=\"tb-29-header-col7\" scope=\"row\"><a class=\"bui-link page-link-2KklYDa0 cell-link-372RKYcS\" href=\"https://www.mlb.com/video/search?q=BatterId+%3D+%5B656941%5D+AND+HitResult+%3D+%5B%22Triple%22%5D+AND+GameType+%3D+%5B%22REGULAR_SEASON%22%5D+AND+Season+%3D+%5B2022%5D+Order+By+Timestamp+DESC\" tabindex=\"0\">3</a></td>,\n",
       " <td class=\"number-aY5arzrB align-right-3nN_D3xs is-table-pinned-1WfPW2jT\" data-col=\"8\" data-row=\"21\" headers=\"tb-29-header-col8\" scope=\"row\"><a class=\"bui-link page-link-2KklYDa0 cell-link-372RKYcS\" href=\"https://www.mlb.com/video/search?q=BatterId+%3D+%5B656941%5D+AND+HitResult+%3D+%5B%22Home%20Run%22%5D+AND+GameType+%3D+%5B%22REGULAR_SEASON%22%5D+AND+Season+%3D+%5B2022%5D+Order+By+Timestamp+DESC\" tabindex=\"0\">46</a></td>,\n",
       " <td class=\"number-aY5arzrB align-right-3nN_D3xs is-table-pinned-1WfPW2jT\" data-col=\"15\" data-row=\"21\" headers=\"tb-29-header-col15\" scope=\"row\">.323</td>,\n",
       " <td class=\"number-aY5arzrB align-right-3nN_D3xs is-table-pinned-1WfPW2jT\" data-col=\"16\" data-row=\"21\" headers=\"tb-29-header-col16\" scope=\"row\">.504</td>,\n",
       " <td class=\"number-aY5arzrB align-right-3nN_D3xs is-table-pinned-1WfPW2jT\" data-col=\"5\" data-row=\"22\" headers=\"tb-29-header-col5\" scope=\"row\"><a class=\"bui-link page-link-2KklYDa0 cell-link-372RKYcS\" href=\"https://www.mlb.com/video/search?q=BatterId+%3D+%5B547989%5D+AND+HitResult+%3D+%5B%22Hit%22%5D+AND+GameType+%3D+%5B%22REGULAR_SEASON%22%5D+AND+Season+%3D+%5B2022%5D+Order+By+Timestamp+DESC\" tabindex=\"0\">183</a></td>,\n",
       " <td class=\"number-aY5arzrB align-right-3nN_D3xs is-table-pinned-1WfPW2jT\" data-col=\"6\" data-row=\"22\" headers=\"tb-29-header-col6\" scope=\"row\"><a class=\"bui-link page-link-2KklYDa0 cell-link-372RKYcS\" href=\"https://www.mlb.com/video/search?q=BatterId+%3D+%5B547989%5D+AND+HitResult+%3D+%5B%22Double%22%5D+AND+GameType+%3D+%5B%22REGULAR_SEASON%22%5D+AND+Season+%3D+%5B2022%5D+Order+By+Timestamp+DESC\" tabindex=\"0\">40</a></td>,\n",
       " <td class=\"number-aY5arzrB align-right-3nN_D3xs is-table-pinned-1WfPW2jT\" data-col=\"7\" data-row=\"22\" headers=\"tb-29-header-col7\" scope=\"row\">0</td>,\n",
       " <td class=\"number-aY5arzrB align-right-3nN_D3xs is-table-pinned-1WfPW2jT\" data-col=\"8\" data-row=\"22\" headers=\"tb-29-header-col8\" scope=\"row\"><a class=\"bui-link page-link-2KklYDa0 cell-link-372RKYcS\" href=\"https://www.mlb.com/video/search?q=BatterId+%3D+%5B547989%5D+AND+HitResult+%3D+%5B%22Home%20Run%22%5D+AND+GameType+%3D+%5B%22REGULAR_SEASON%22%5D+AND+Season+%3D+%5B2022%5D+Order+By+Timestamp+DESC\" tabindex=\"0\">15</a></td>,\n",
       " <td class=\"number-aY5arzrB align-right-3nN_D3xs is-table-pinned-1WfPW2jT\" data-col=\"15\" data-row=\"22\" headers=\"tb-29-header-col15\" scope=\"row\">.378</td>,\n",
       " <td class=\"number-aY5arzrB align-right-3nN_D3xs is-table-pinned-1WfPW2jT\" data-col=\"16\" data-row=\"22\" headers=\"tb-29-header-col16\" scope=\"row\">.446</td>,\n",
       " <td class=\"number-aY5arzrB align-right-3nN_D3xs is-table-pinned-1WfPW2jT\" data-col=\"5\" data-row=\"23\" headers=\"tb-29-header-col5\" scope=\"row\"><a class=\"bui-link page-link-2KklYDa0 cell-link-372RKYcS\" href=\"https://www.mlb.com/video/search?q=BatterId+%3D+%5B650490%5D+AND+HitResult+%3D+%5B%22Hit%22%5D+AND+GameType+%3D+%5B%22REGULAR_SEASON%22%5D+AND+Season+%3D+%5B2022%5D+Order+By+Timestamp+DESC\" tabindex=\"0\">140</a></td>,\n",
       " <td class=\"number-aY5arzrB align-right-3nN_D3xs is-table-pinned-1WfPW2jT\" data-col=\"6\" data-row=\"23\" headers=\"tb-29-header-col6\" scope=\"row\"><a class=\"bui-link page-link-2KklYDa0 cell-link-372RKYcS\" href=\"https://www.mlb.com/video/search?q=BatterId+%3D+%5B650490%5D+AND+HitResult+%3D+%5B%22Double%22%5D+AND+GameType+%3D+%5B%22REGULAR_SEASON%22%5D+AND+Season+%3D+%5B2022%5D+Order+By+Timestamp+DESC\" tabindex=\"0\">33</a></td>,\n",
       " <td class=\"number-aY5arzrB align-right-3nN_D3xs is-table-pinned-1WfPW2jT\" data-col=\"7\" data-row=\"23\" headers=\"tb-29-header-col7\" scope=\"row\">0</td>,\n",
       " <td class=\"number-aY5arzrB align-right-3nN_D3xs is-table-pinned-1WfPW2jT\" data-col=\"8\" data-row=\"23\" headers=\"tb-29-header-col8\" scope=\"row\"><a class=\"bui-link page-link-2KklYDa0 cell-link-372RKYcS\" href=\"https://www.mlb.com/video/search?q=BatterId+%3D+%5B650490%5D+AND+HitResult+%3D+%5B%22Home%20Run%22%5D+AND+GameType+%3D+%5B%22REGULAR_SEASON%22%5D+AND+Season+%3D+%5B2022%5D+Order+By+Timestamp+DESC\" tabindex=\"0\">9</a></td>,\n",
       " <td class=\"number-aY5arzrB align-right-3nN_D3xs is-table-pinned-1WfPW2jT\" data-col=\"15\" data-row=\"23\" headers=\"tb-29-header-col15\" scope=\"row\">.401</td>,\n",
       " <td class=\"number-aY5arzrB align-right-3nN_D3xs is-table-pinned-1WfPW2jT\" data-col=\"16\" data-row=\"23\" headers=\"tb-29-header-col16\" scope=\"row\">.423</td>,\n",
       " <td class=\"number-aY5arzrB align-right-3nN_D3xs is-table-pinned-1WfPW2jT\" data-col=\"5\" data-row=\"24\" headers=\"tb-29-header-col5\" scope=\"row\"><a class=\"bui-link page-link-2KklYDa0 cell-link-372RKYcS\" href=\"https://www.mlb.com/video/search?q=BatterId+%3D+%5B608324%5D+AND+HitResult+%3D+%5B%22Hit%22%5D+AND+GameType+%3D+%5B%22REGULAR_SEASON%22%5D+AND+Season+%3D+%5B2022%5D+Order+By+Timestamp+DESC\" tabindex=\"0\">142</a></td>,\n",
       " <td class=\"number-aY5arzrB align-right-3nN_D3xs is-table-pinned-1WfPW2jT\" data-col=\"6\" data-row=\"24\" headers=\"tb-29-header-col6\" scope=\"row\"><a class=\"bui-link page-link-2KklYDa0 cell-link-372RKYcS\" href=\"https://www.mlb.com/video/search?q=BatterId+%3D+%5B608324%5D+AND+HitResult+%3D+%5B%22Double%22%5D+AND+GameType+%3D+%5B%22REGULAR_SEASON%22%5D+AND+Season+%3D+%5B2022%5D+Order+By+Timestamp+DESC\" tabindex=\"0\">38</a></td>,\n",
       " <td class=\"number-aY5arzrB align-right-3nN_D3xs is-table-pinned-1WfPW2jT\" data-col=\"7\" data-row=\"24\" headers=\"tb-29-header-col7\" scope=\"row\">0</td>,\n",
       " <td class=\"number-aY5arzrB align-right-3nN_D3xs is-table-pinned-1WfPW2jT\" data-col=\"8\" data-row=\"24\" headers=\"tb-29-header-col8\" scope=\"row\"><a class=\"bui-link page-link-2KklYDa0 cell-link-372RKYcS\" href=\"https://www.mlb.com/video/search?q=BatterId+%3D+%5B608324%5D+AND+HitResult+%3D+%5B%22Home%20Run%22%5D+AND+GameType+%3D+%5B%22REGULAR_SEASON%22%5D+AND+Season+%3D+%5B2022%5D+Order+By+Timestamp+DESC\" tabindex=\"0\">23</a></td>,\n",
       " <td class=\"number-aY5arzrB align-right-3nN_D3xs is-table-pinned-1WfPW2jT\" data-col=\"15\" data-row=\"24\" headers=\"tb-29-header-col15\" scope=\"row\">.366</td>,\n",
       " <td class=\"number-aY5arzrB align-right-3nN_D3xs is-table-pinned-1WfPW2jT\" data-col=\"16\" data-row=\"24\" headers=\"tb-29-header-col16\" scope=\"row\">.454</td>]"
      ]
     },
     "execution_count": 222,
     "metadata": {},
     "output_type": "execute_result"
    }
   ],
   "source": [
    "c=soup.find_all(class_=\"number-aY5arzrB align-right-3nN_D3xs is-table-pinned-1WfPW2jT\")\n",
    "c"
   ]
  },
  {
   "cell_type": "code",
   "execution_count": 225,
   "id": "cfb1c079",
   "metadata": {},
   "outputs": [
    {
     "data": {
      "text/plain": [
       "[<td class=\"number-aY5arzrB align-right-3nN_D3xs is-table-pinned-1WfPW2jT\" data-col=\"5\" data-row=\"0\" headers=\"tb-29-header-col5\" scope=\"row\"><a class=\"bui-link page-link-2KklYDa0 cell-link-372RKYcS\" href=\"https://www.mlb.com/video/search?q=BatterId+%3D+%5B592450%5D+AND+HitResult+%3D+%5B%22Hit%22%5D+AND+GameType+%3D+%5B%22REGULAR_SEASON%22%5D+AND+Season+%3D+%5B2022%5D+Order+By+Timestamp+DESC\" tabindex=\"0\">177</a></td>,\n",
       " <td class=\"number-aY5arzrB align-right-3nN_D3xs is-table-pinned-1WfPW2jT\" data-col=\"6\" data-row=\"0\" headers=\"tb-29-header-col6\" scope=\"row\"><a class=\"bui-link page-link-2KklYDa0 cell-link-372RKYcS\" href=\"https://www.mlb.com/video/search?q=BatterId+%3D+%5B592450%5D+AND+HitResult+%3D+%5B%22Double%22%5D+AND+GameType+%3D+%5B%22REGULAR_SEASON%22%5D+AND+Season+%3D+%5B2022%5D+Order+By+Timestamp+DESC\" tabindex=\"0\">28</a></td>,\n",
       " <td class=\"number-aY5arzrB align-right-3nN_D3xs is-table-pinned-1WfPW2jT\" data-col=\"7\" data-row=\"0\" headers=\"tb-29-header-col7\" scope=\"row\">0</td>,\n",
       " <td class=\"number-aY5arzrB align-right-3nN_D3xs is-table-pinned-1WfPW2jT\" data-col=\"8\" data-row=\"0\" headers=\"tb-29-header-col8\" scope=\"row\"><a class=\"bui-link page-link-2KklYDa0 cell-link-372RKYcS\" href=\"https://www.mlb.com/video/search?q=BatterId+%3D+%5B592450%5D+AND+HitResult+%3D+%5B%22Home%20Run%22%5D+AND+GameType+%3D+%5B%22REGULAR_SEASON%22%5D+AND+Season+%3D+%5B2022%5D+Order+By+Timestamp+DESC\" tabindex=\"0\">62</a></td>,\n",
       " <td class=\"number-aY5arzrB align-right-3nN_D3xs is-table-pinned-1WfPW2jT\" data-col=\"15\" data-row=\"0\" headers=\"tb-29-header-col15\" scope=\"row\">.425</td>,\n",
       " <td class=\"number-aY5arzrB align-right-3nN_D3xs is-table-pinned-1WfPW2jT\" data-col=\"16\" data-row=\"0\" headers=\"tb-29-header-col16\" scope=\"row\">.686</td>,\n",
       " <td class=\"number-aY5arzrB align-right-3nN_D3xs is-table-pinned-1WfPW2jT\" data-col=\"5\" data-row=\"1\" headers=\"tb-29-header-col5\" scope=\"row\"><a class=\"bui-link page-link-2KklYDa0 cell-link-372RKYcS\" href=\"https://www.mlb.com/video/search?q=BatterId+%3D+%5B670541%5D+AND+HitResult+%3D+%5B%22Hit%22%5D+AND+GameType+%3D+%5B%22REGULAR_SEASON%22%5D+AND+Season+%3D+%5B2022%5D+Order+By+Timestamp+DESC\" tabindex=\"0\">144</a></td>]"
      ]
     },
     "execution_count": 225,
     "metadata": {},
     "output_type": "execute_result"
    }
   ],
   "source": [
    "c[0:6]"
   ]
  },
  {
   "cell_type": "code",
   "execution_count": 227,
   "id": "b77a818d",
   "metadata": {},
   "outputs": [],
   "source": [
    "H=[]\n",
    "DOBLE=[]\n",
    "TRIPLE=[]\n",
    "HR=[]\n",
    "OBP=[]\n",
    "SLG=[]\n",
    "\n",
    "for x in range(0, len(c),6):\n",
    "    H.append(c[x:x+6][0].text)\n",
    "    DOBLE.append(c[x:x+6][1].text)\n",
    "    TRIPLE.append(c[x:x+6][2].text)\n",
    "    HR.append(c[x:x+6][3].text)\n",
    "    OBP.append(c[x:x+6][4].text)\n",
    "    SLG.append(c[x:x+6][5].text)"
   ]
  },
  {
   "cell_type": "code",
   "execution_count": 232,
   "id": "aa0ee0c8",
   "metadata": {},
   "outputs": [
    {
     "name": "stdout",
     "output_type": "stream",
     "text": [
      "['.686', '.613', '.578', '.533', '.511', '.531', '.533', '.521', '.528', '.519', '.533', '.518', '.514', '.509', '.452', '.492', '.466', '.454', '.456', '.467', '.473', '.504', '.446', '.423', '.454']\n"
     ]
    }
   ],
   "source": [
    "print(SLG\n",
    "     )"
   ]
  }
 ],
 "metadata": {
  "kernelspec": {
   "display_name": "Python 3 (ipykernel)",
   "language": "python",
   "name": "python3"
  },
  "language_info": {
   "codemirror_mode": {
    "name": "ipython",
    "version": 3
   },
   "file_extension": ".py",
   "mimetype": "text/x-python",
   "name": "python",
   "nbconvert_exporter": "python",
   "pygments_lexer": "ipython3",
   "version": "3.11.3"
  }
 },
 "nbformat": 4,
 "nbformat_minor": 5
}
