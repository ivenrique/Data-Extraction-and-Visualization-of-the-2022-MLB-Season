{
 "cells": [
  {
   "cell_type": "code",
   "execution_count": 1,
   "id": "465818de",
   "metadata": {},
   "outputs": [],
   "source": [
    "import numpy as np\n",
    "import pandas as pd\n",
    "\n",
    "import requests\n",
    "from bs4 import BeautifulSoup\n",
    "\n",
    "from time import sleep\n",
    "\n",
    "from pprint import pprint\n",
    "\n",
    "from selenium import webdriver\n",
    "from selenium.webdriver.common.by import By\n",
    "\n",
    "\n",
    "\n"
   ]
  },
  {
   "cell_type": "markdown",
   "id": "4fed3e2f",
   "metadata": {},
   "source": [
    "### PRUEBA selenium MLB para sacar los equipos de la Liga"
   ]
  },
  {
   "cell_type": "code",
   "execution_count": 14,
   "id": "0121f536",
   "metadata": {},
   "outputs": [],
   "source": [
    "url=\"https://www.mlb.com/es/team\"\n"
   ]
  },
  {
   "cell_type": "code",
   "execution_count": 15,
   "id": "b8a40d7c",
   "metadata": {},
   "outputs": [],
   "source": [
    "# Driver de Chrome\n",
    "chrome_driver = \"chromedriver.exe\""
   ]
  },
  {
   "cell_type": "code",
   "execution_count": 62,
   "id": "b0b02cf6",
   "metadata": {},
   "outputs": [],
   "source": [
    "browser = webdriver.Chrome(executable_path = chrome_driver)\n",
    "\n",
    "browser.get(\"https://www.mlb.com/es/team\")# entra a la pagina\n",
    "\n",
    "browser.maximize_window()\n"
   ]
  },
  {
   "cell_type": "code",
   "execution_count": 63,
   "id": "1e371080",
   "metadata": {},
   "outputs": [],
   "source": [
    "#acepta las cookies\n",
    "\n",
    "browser.find_element(by = By.CSS_SELECTOR, value = \"#onetrust-accept-btn-handler\").click()\n",
    "\n"
   ]
  },
  {
   "cell_type": "markdown",
   "id": "10d22d09",
   "metadata": {},
   "source": [
    "# EXTRACCION DE DATOS"
   ]
  },
  {
   "cell_type": "markdown",
   "id": "e2b6bea6",
   "metadata": {},
   "source": [
    "### Equipos"
   ]
  },
  {
   "cell_type": "code",
   "execution_count": 64,
   "id": "e3aa72f5",
   "metadata": {},
   "outputs": [],
   "source": [
    "#conectar con la pagina\n",
    "response = requests.get(url)\n",
    "\n",
    "soup = BeautifulSoup(response.text, \"html.parser\")\n"
   ]
  },
  {
   "cell_type": "code",
   "execution_count": 65,
   "id": "54203f06",
   "metadata": {},
   "outputs": [
    {
     "name": "stdout",
     "output_type": "stream",
     "text": [
      "<Response [200]>\n",
      "True\n"
     ]
    }
   ],
   "source": [
    "print(response)\n",
    "\n",
    "print(bool(response))"
   ]
  },
  {
   "cell_type": "code",
   "execution_count": null,
   "id": "94dfd406",
   "metadata": {},
   "outputs": [],
   "source": [
    "#equipo\n",
    "#<div class=\"u-text-h4 u-text-flow\">\n",
    "equipos=soup.find_all(class_ =\"u-text-h4 u-text-flow\")"
   ]
  },
  {
   "cell_type": "code",
   "execution_count": null,
   "id": "2bace898",
   "metadata": {},
   "outputs": [],
   "source": [
    "lista_equipos=[equipos[x].text for x in range(0, len(equipos))]"
   ]
  },
  {
   "cell_type": "code",
   "execution_count": null,
   "id": "b065b737",
   "metadata": {},
   "outputs": [],
   "source": [
    "lista_equipos"
   ]
  },
  {
   "cell_type": "markdown",
   "id": "c5844e28",
   "metadata": {},
   "source": [
    "### Estadio(Home)"
   ]
  },
  {
   "cell_type": "code",
   "execution_count": 22,
   "id": "3e7b4e71",
   "metadata": {},
   "outputs": [],
   "source": [
    "\n",
    "\n",
    "datos_equipos=soup.find_all(class_=\"p-wysiwyg styles-sc-1ewxgrh-0 styles-sc-9861x0-0 bjPBFY gLBcvo\")"
   ]
  },
  {
   "cell_type": "code",
   "execution_count": null,
   "id": "af98894b",
   "metadata": {},
   "outputs": [],
   "source": [
    "datos_equipos[0].find(\"p\").get_text(separator=\"\\n\").split('\\n')"
   ]
  },
  {
   "cell_type": "code",
   "execution_count": null,
   "id": "eced0a7f",
   "metadata": {},
   "outputs": [],
   "source": []
  },
  {
   "cell_type": "code",
   "execution_count": null,
   "id": "ff2ca1a7",
   "metadata": {},
   "outputs": [],
   "source": [
    "lista_datos_equipos=[datos_equipos[x].find(\"p\").get_text(separator=\"\\n\").split('\\n') for x in range(len(datos_equipos))]"
   ]
  },
  {
   "cell_type": "code",
   "execution_count": null,
   "id": "9d4d37ca",
   "metadata": {
    "scrolled": false
   },
   "outputs": [],
   "source": [
    "pprint(lista_datos_equipos)"
   ]
  },
  {
   "cell_type": "code",
   "execution_count": 66,
   "id": "35f7a60a",
   "metadata": {},
   "outputs": [],
   "source": [
    "browser.quit()"
   ]
  },
  {
   "cell_type": "code",
   "execution_count": null,
   "id": "f4d48ed2",
   "metadata": {},
   "outputs": [],
   "source": []
  },
  {
   "cell_type": "markdown",
   "id": "9b1c064a",
   "metadata": {},
   "source": [
    "## queda pendiente hacer el data frame de equipos"
   ]
  },
  {
   "cell_type": "markdown",
   "id": "60cfca47",
   "metadata": {},
   "source": [
    "\n",
    "## estadistica de equipos"
   ]
  },
  {
   "cell_type": "code",
   "execution_count": null,
   "id": "bfbb7497",
   "metadata": {},
   "outputs": [],
   "source": [
    "\n",
    "browser.find_element(by = By.CSS_SELECTOR, value = \"#react-header > div > header > div > div > div.header__nav-top__nav-container.header__nav-top__nav-container--initialized > div.header__nav-top__nav-container__primary > nav.header__nav-top__nav-items.header__nav-top__nav-items--spillover > ul > li > div.header__nav-top__nav-item--inner > a > span > svg\").click()"
   ]
  },
  {
   "cell_type": "code",
   "execution_count": null,
   "id": "a86f89a7",
   "metadata": {},
   "outputs": [],
   "source": []
  },
  {
   "cell_type": "code",
   "execution_count": null,
   "id": "dd1dc0f7",
   "metadata": {},
   "outputs": [],
   "source": []
  },
  {
   "cell_type": "code",
   "execution_count": 16,
   "id": "963ce8a1",
   "metadata": {},
   "outputs": [],
   "source": [
    "#conecta a la pagina de los jugadores\n",
    "url = \"https://www.mlb.com/es/stats/team\"\n",
    "\n",
    "response = requests.get(url)\n",
    "\n",
    "soup = BeautifulSoup(response.text, \"html.parser\")"
   ]
  },
  {
   "cell_type": "code",
   "execution_count": 17,
   "id": "9dcc046d",
   "metadata": {},
   "outputs": [
    {
     "name": "stdout",
     "output_type": "stream",
     "text": [
      "<Response [200]>\n",
      "True\n"
     ]
    }
   ],
   "source": [
    "print(response)\n",
    "\n",
    "print(bool(response))"
   ]
  },
  {
   "cell_type": "code",
   "execution_count": 9,
   "id": "92fabc42",
   "metadata": {},
   "outputs": [],
   "source": [
    "#EQUIPOS\n",
    "#<span class=\"full-3fV3c9pF\">Texas Rangers</span>2023\n",
    "equipos_stat= soup.find_all(\"span\", class_=\"full-3fV3c9pF\")\n"
   ]
  },
  {
   "cell_type": "code",
   "execution_count": 10,
   "id": "9da83923",
   "metadata": {},
   "outputs": [],
   "source": [
    "lista_equipos_stat=[equipos_stat[x].text for x in range(len(equipos_stat))]"
   ]
  },
  {
   "cell_type": "code",
   "execution_count": 11,
   "id": "f6c156cb",
   "metadata": {},
   "outputs": [
    {
     "name": "stdout",
     "output_type": "stream",
     "text": [
      "['Tampa Bay Rays', 'Texas Rangers', 'Atlanta Braves', 'Los Angeles Dodgers', 'Boston Red Sox', 'St. Louis Cardinals', 'Toronto Blue Jays', 'Arizona Diamondbacks', 'Chicago Cubs', 'Los Angeles Angels', 'Baltimore Orioles', 'Philadelphia Phillies', 'San Francisco Giants', 'Pittsburgh Pirates', 'Colorado Rockies', 'Minnesota Twins', 'New York Yankees', 'Washington Nationals', 'New York Mets', 'Cincinnati Reds', 'Miami Marlins', 'San Diego Padres', 'Seattle Mariners', 'Houston Astros', 'Milwaukee Brewers', 'Chicago White Sox', 'Kansas City Royals', 'Detroit Tigers', 'Oakland Athletics', 'Cleveland Guardians']\n"
     ]
    }
   ],
   "source": [
    "print(lista_equipos_stat)"
   ]
  },
  {
   "cell_type": "code",
   "execution_count": null,
   "id": "e09b4cc1",
   "metadata": {},
   "outputs": [],
   "source": []
  },
  {
   "cell_type": "code",
   "execution_count": 12,
   "id": "d647a610",
   "metadata": {},
   "outputs": [],
   "source": [
    "columna_bs=soup.find_all(class_=\"bui-text cellheader bui-text\")"
   ]
  },
  {
   "cell_type": "code",
   "execution_count": 13,
   "id": "08b3669a",
   "metadata": {},
   "outputs": [
    {
     "data": {
      "text/plain": [
       "34"
      ]
     },
     "execution_count": 13,
     "metadata": {},
     "output_type": "execute_result"
    }
   ],
   "source": [
    "len(columna_bs)"
   ]
  },
  {
   "cell_type": "code",
   "execution_count": 14,
   "id": "8b02a0d1",
   "metadata": {},
   "outputs": [],
   "source": [
    "lista_columna=[columna_bs[x].text for x in range(0, len(columna_bs),2)]"
   ]
  },
  {
   "cell_type": "code",
   "execution_count": 15,
   "id": "ca728e32",
   "metadata": {
    "scrolled": true
   },
   "outputs": [
    {
     "name": "stdout",
     "output_type": "stream",
     "text": [
      "['EQUIPO', 'LIGA', 'J', 'TB', 'C', 'H', '2B', '3B', 'HR', 'CI', 'BB', 'P', 'BR', 'AR', 'PRO', 'OBP', 'SLG']\n"
     ]
    }
   ],
   "source": [
    "print(lista_columna)"
   ]
  },
  {
   "cell_type": "code",
   "execution_count": null,
   "id": "5e1b74f5",
   "metadata": {},
   "outputs": [],
   "source": [
    "#################LIGA"
   ]
  },
  {
   "cell_type": "code",
   "execution_count": 16,
   "id": "9bfec5c0",
   "metadata": {},
   "outputs": [],
   "source": [
    "liga_bs=soup.find_all(class_=\"col-group-end-2UJpJVwW number-aY5arzrB align-left-3L2SU-Mk is-table-pinned-1WfPW2jT\" )"
   ]
  },
  {
   "cell_type": "code",
   "execution_count": 17,
   "id": "885a714f",
   "metadata": {},
   "outputs": [],
   "source": [
    "lista_liga=[liga_bs[x].text for x in range(len(liga_bs))]"
   ]
  },
  {
   "cell_type": "code",
   "execution_count": 18,
   "id": "3b22084a",
   "metadata": {},
   "outputs": [
    {
     "name": "stdout",
     "output_type": "stream",
     "text": [
      "['AL', 'AL', 'NL', 'NL', 'AL', 'NL', 'AL', 'NL', 'NL', 'AL', 'AL', 'NL', 'NL', 'NL', 'NL', 'AL', 'AL', 'NL', 'NL', 'NL', 'NL', 'NL', 'AL', 'AL', 'NL', 'AL', 'AL', 'AL', 'AL', 'AL']\n"
     ]
    }
   ],
   "source": [
    "print(lista_liga)"
   ]
  },
  {
   "cell_type": "code",
   "execution_count": 19,
   "id": "89ec0878",
   "metadata": {},
   "outputs": [],
   "source": [
    "#####JUGADORES"
   ]
  },
  {
   "cell_type": "code",
   "execution_count": 18,
   "id": "956a950f",
   "metadata": {},
   "outputs": [],
   "source": [
    "#para sacra todas url de todos los jugadores\n",
    "urls_paginas=[]\n",
    "for i in range(1,8):\n",
    "    string_url = f\"https://www.mlb.com/es/stats/?page={i}\"\n",
    "    urls_paginas.append(string_url)\n",
    "\n"
   ]
  },
  {
   "cell_type": "code",
   "execution_count": 11,
   "id": "8e5ad3ba",
   "metadata": {},
   "outputs": [
    {
     "name": "stdout",
     "output_type": "stream",
     "text": [
      "['https://www.mlb.com/es/stats/?page=1', 'https://www.mlb.com/es/stats/?page=2', 'https://www.mlb.com/es/stats/?page=3', 'https://www.mlb.com/es/stats/?page=4', 'https://www.mlb.com/es/stats/?page=5', 'https://www.mlb.com/es/stats/?page=6', 'https://www.mlb.com/es/stats/?page=7']\n"
     ]
    }
   ],
   "source": [
    "print(urls_paginas)"
   ]
  },
  {
   "cell_type": "code",
   "execution_count": 3,
   "id": "f62180ae",
   "metadata": {},
   "outputs": [],
   "source": [
    "#conecta a la pagina de los jugadores\n",
    "\"https://www.mlb.com/es/stats/?page=1\"\n",
    "url = \"https://www.mlb.com/es/stats/?page=1\"\n",
    "\n",
    "response = requests.get(url)\n",
    "\n",
    "soup = BeautifulSoup(response.text, \"html.parser\")"
   ]
  },
  {
   "cell_type": "code",
   "execution_count": 4,
   "id": "432ba3ca",
   "metadata": {
    "scrolled": true
   },
   "outputs": [
    {
     "name": "stdout",
     "output_type": "stream",
     "text": [
      "<Response [200]>\n",
      "True\n"
     ]
    }
   ],
   "source": [
    "print(response)\n",
    "\n",
    "print(bool(response))"
   ]
  },
  {
   "cell_type": "code",
   "execution_count": null,
   "id": "0205be4d",
   "metadata": {},
   "outputs": [],
   "source": [
    "### este codigo es para los nombres y apellidos\n"
   ]
  },
  {
   "cell_type": "code",
   "execution_count": 5,
   "id": "c8400f94",
   "metadata": {},
   "outputs": [],
   "source": [
    "jugador_nombre_apellido_bs=soup.find_all(\"span\", class_=\"full-3fV3c9pF\")"
   ]
  },
  {
   "cell_type": "code",
   "execution_count": 6,
   "id": "2a773576",
   "metadata": {},
   "outputs": [],
   "source": [
    "lista_nombres=[jugador_nombre_apellido_bs[x].text for x in range(0,len(jugador_nombre_apellido_bs),2)]"
   ]
  },
  {
   "cell_type": "code",
   "execution_count": 8,
   "id": "32c8a3b1",
   "metadata": {},
   "outputs": [
    {
     "data": {
      "text/plain": [
       "['Aaron',\n",
       " 'Yandy',\n",
       " 'Freddie',\n",
       " 'Yordan',\n",
       " 'Ronald',\n",
       " 'Sean',\n",
       " 'Juan',\n",
       " 'Randy',\n",
       " 'Nolan',\n",
       " 'Lourdes',\n",
       " 'Paul',\n",
       " 'Matt',\n",
       " 'Luis',\n",
       " 'Corbin',\n",
       " 'Pete',\n",
       " 'Bo',\n",
       " 'Elias',\n",
       " 'Jorge',\n",
       " 'Anthony',\n",
       " 'Brent',\n",
       " 'Mike',\n",
       " 'Masataka',\n",
       " 'Max',\n",
       " 'Josh',\n",
       " 'Jack']"
      ]
     },
     "execution_count": 8,
     "metadata": {},
     "output_type": "execute_result"
    }
   ],
   "source": [
    "lista_nombres"
   ]
  },
  {
   "cell_type": "code",
   "execution_count": null,
   "id": "36713e89",
   "metadata": {},
   "outputs": [],
   "source": []
  },
  {
   "cell_type": "code",
   "execution_count": 9,
   "id": "81cdd48f",
   "metadata": {},
   "outputs": [],
   "source": [
    "lista_apellidos=[jugador_nombre_apellido_bs[x].text for x in range(1,len(jugador_nombre_apellido_bs),2)]"
   ]
  },
  {
   "cell_type": "code",
   "execution_count": null,
   "id": "5a1f3fd2",
   "metadata": {},
   "outputs": [],
   "source": [
    "###############################################################"
   ]
  },
  {
   "cell_type": "code",
   "execution_count": 10,
   "id": "c93126f9",
   "metadata": {},
   "outputs": [],
   "source": [
    "#POSICIONES\n",
    "posiciones_bs=soup.find_all(class_=\"position-28TbwVOg\")"
   ]
  },
  {
   "cell_type": "code",
   "execution_count": 33,
   "id": "1956fab3",
   "metadata": {},
   "outputs": [],
   "source": [
    "lista_posiciones=[posiciones_bs[x].text for x in range(len(posiciones_bs))]"
   ]
  },
  {
   "cell_type": "code",
   "execution_count": 34,
   "id": "48a69be9",
   "metadata": {},
   "outputs": [
    {
     "name": "stdout",
     "output_type": "stream",
     "text": [
      "['1B', 'RF', 'DH', '1B', 'C', 'RF', 'DH', 'LF', 'LF', 'LF', 'SS', 'DH', 'C', 'CF', '1B', '1B', 'DH', '2B', '1B', 'C', 'RF', '1B', 'RF', 'LF', 'LF']\n"
     ]
    }
   ],
   "source": [
    "len(lista_posiciones)"
   ]
  },
  {
   "cell_type": "code",
   "execution_count": null,
   "id": "99867292",
   "metadata": {},
   "outputs": [],
   "source": []
  },
  {
   "cell_type": "code",
   "execution_count": null,
   "id": "3774edb1",
   "metadata": {},
   "outputs": [],
   "source": []
  },
  {
   "cell_type": "code",
   "execution_count": null,
   "id": "3ed5fa08",
   "metadata": {},
   "outputs": [],
   "source": []
  },
  {
   "cell_type": "code",
   "execution_count": null,
   "id": "e80ed32d",
   "metadata": {},
   "outputs": [],
   "source": []
  },
  {
   "cell_type": "code",
   "execution_count": null,
   "id": "8ba6c504",
   "metadata": {},
   "outputs": [],
   "source": [
    "#CODIGO PARA EXTRAER EL ID DE CADA JUGADOR"
   ]
  },
  {
   "cell_type": "code",
   "execution_count": null,
   "id": "ce6c0ae2",
   "metadata": {},
   "outputs": [],
   "source": []
  },
  {
   "cell_type": "code",
   "execution_count": null,
   "id": "ea430c76",
   "metadata": {},
   "outputs": [],
   "source": [
    "#CODIGO ID DE CADA JUGADOR"
   ]
  },
  {
   "cell_type": "code",
   "execution_count": 14,
   "id": "95a38eb6",
   "metadata": {},
   "outputs": [],
   "source": [
    "ref=soup.find_all(\"div\", class_=\"top-wrapper-1NLTqKbE\")"
   ]
  },
  {
   "cell_type": "code",
   "execution_count": 20,
   "id": "50aef773",
   "metadata": {},
   "outputs": [],
   "source": [
    "piece_web=[ref[x].find(class_=\"bui-link\")[\"href\"] for x in range(len(ref))]"
   ]
  },
  {
   "cell_type": "code",
   "execution_count": null,
   "id": "a275fc2a",
   "metadata": {},
   "outputs": [],
   "source": []
  },
  {
   "cell_type": "code",
   "execution_count": 51,
   "id": "6a1c2d93",
   "metadata": {},
   "outputs": [],
   "source": [
    "jugadores_link"
   ]
  },
  {
   "cell_type": "code",
   "execution_count": 23,
   "id": "5367ad85",
   "metadata": {},
   "outputs": [
    {
     "name": "stdout",
     "output_type": "stream",
     "text": [
      "https://www.mlb.com/es/player/592450\n",
      "https://www.mlb.com/es/player/650490\n",
      "https://www.mlb.com/es/player/518692\n",
      "https://www.mlb.com/es/player/670541\n",
      "https://www.mlb.com/es/player/660670\n",
      "https://www.mlb.com/es/player/669221\n",
      "https://www.mlb.com/es/player/665742\n",
      "https://www.mlb.com/es/player/668227\n",
      "https://www.mlb.com/es/player/669357\n",
      "https://www.mlb.com/es/player/666971\n",
      "https://www.mlb.com/es/player/502671\n",
      "https://www.mlb.com/es/player/621566\n",
      "https://www.mlb.com/es/player/650333\n",
      "https://www.mlb.com/es/player/682998\n",
      "https://www.mlb.com/es/player/624413\n",
      "https://www.mlb.com/es/player/666182\n",
      "https://www.mlb.com/es/player/553869\n",
      "https://www.mlb.com/es/player/624585\n",
      "https://www.mlb.com/es/player/519203\n",
      "https://www.mlb.com/es/player/667670\n",
      "https://www.mlb.com/es/player/545361\n",
      "https://www.mlb.com/es/player/807799\n",
      "https://www.mlb.com/es/player/571970\n",
      "https://www.mlb.com/es/player/673962\n",
      "https://www.mlb.com/es/player/669261\n"
     ]
    }
   ],
   "source": [
    "for i in piece_web:\n",
    "    print(f\"https://www.mlb.com{i}\")\n"
   ]
  },
  {
   "cell_type": "code",
   "execution_count": null,
   "id": "d3a8a49d",
   "metadata": {},
   "outputs": [],
   "source": [
    "for i in "
   ]
  },
  {
   "cell_type": "code",
   "execution_count": null,
   "id": "d1d61bdb",
   "metadata": {},
   "outputs": [],
   "source": []
  },
  {
   "cell_type": "code",
   "execution_count": 40,
   "id": "3e644c45",
   "metadata": {},
   "outputs": [],
   "source": [
    "url = \"https://www.mlb.com/es/player/masataka-yoshida-807799\"\n",
    "\n",
    "response = requests.get(url)\n",
    "\n",
    "soup = BeautifulSoup(response.text, \"html.parser\")"
   ]
  },
  {
   "cell_type": "code",
   "execution_count": 41,
   "id": "10a5adeb",
   "metadata": {},
   "outputs": [
    {
     "name": "stdout",
     "output_type": "stream",
     "text": [
      "<Response [200]>\n",
      "True\n"
     ]
    }
   ],
   "source": [
    "print(response)\n",
    "\n",
    "print(bool(response))"
   ]
  },
  {
   "cell_type": "code",
   "execution_count": 42,
   "id": "2c8f2aaf",
   "metadata": {},
   "outputs": [],
   "source": [
    "datos=soup.find_all(\"ul\")[1].text.split(\"\\n\")"
   ]
  },
  {
   "cell_type": "code",
   "execution_count": 46,
   "id": "d6497c2b",
   "metadata": {
    "scrolled": true
   },
   "outputs": [
    {
     "data": {
      "text/plain": [
       "['',\n",
       " 'Nombre Completo: Masataka Yoshida',\n",
       " 'Nacido: 7/15/1993',\n",
       " '                                   en Fukui, Japan',\n",
       " 'Debut: 3/30/2023',\n",
       " '']"
      ]
     },
     "execution_count": 46,
     "metadata": {},
     "output_type": "execute_result"
    }
   ],
   "source": [
    "datos"
   ]
  },
  {
   "cell_type": "code",
   "execution_count": 48,
   "id": "a70875a6",
   "metadata": {},
   "outputs": [
    {
     "data": {
      "text/plain": [
       "6"
      ]
     },
     "execution_count": 48,
     "metadata": {},
     "output_type": "execute_result"
    }
   ],
   "source": [
    "len(datos)"
   ]
  },
  {
   "cell_type": "code",
   "execution_count": 47,
   "id": "678550c8",
   "metadata": {},
   "outputs": [
    {
     "name": "stdout",
     "output_type": "stream",
     "text": [
      "Nacido: 7/15/1993\n"
     ]
    }
   ],
   "source": [
    "for i in datos:\n",
    "    if i.startswith(\"Nacido:\"):\n",
    "        print(i)"
   ]
  },
  {
   "cell_type": "code",
   "execution_count": null,
   "id": "ac82e741",
   "metadata": {},
   "outputs": [],
   "source": []
  },
  {
   "cell_type": "code",
   "execution_count": null,
   "id": "73ae3c47",
   "metadata": {},
   "outputs": [],
   "source": []
  },
  {
   "cell_type": "code",
   "execution_count": 31,
   "id": "62c47cdd",
   "metadata": {},
   "outputs": [],
   "source": [
    "Fecha_nac=[]\n",
    "Fecha_Debut=[]\n",
    "Lugar_Nac=[]\n",
    "\n",
    "    \n",
    "for i in datos:\n",
    "    if i.startswith(\"Nacido:\"):\n",
    "        nacido=(i.split(\":\")[1])\n",
    "        Fecha_nac.append(nacido)\n",
    "        naci=()\n",
    "    if i.startswith(\"Debut\"):\n",
    "        debut=(i.split(\":\")[1])\n",
    "        Fecha_Debut.append(debut)"
   ]
  },
  {
   "cell_type": "code",
   "execution_count": 32,
   "id": "e2bb5c24",
   "metadata": {},
   "outputs": [
    {
     "data": {
      "text/plain": [
       "[' 4/03/2017']"
      ]
     },
     "execution_count": 32,
     "metadata": {},
     "output_type": "execute_result"
    }
   ],
   "source": [
    "Fecha_Debut"
   ]
  },
  {
   "cell_type": "code",
   "execution_count": 33,
   "id": "8bee011b",
   "metadata": {},
   "outputs": [
    {
     "data": {
      "text/plain": [
       "[' 8/08/1991']"
      ]
     },
     "execution_count": 33,
     "metadata": {},
     "output_type": "execute_result"
    }
   ],
   "source": [
    "Fecha_nac"
   ]
  },
  {
   "cell_type": "code",
   "execution_count": null,
   "id": "1ccbcbce",
   "metadata": {},
   "outputs": [],
   "source": []
  },
  {
   "cell_type": "code",
   "execution_count": null,
   "id": "089349f6",
   "metadata": {},
   "outputs": [],
   "source": []
  },
  {
   "cell_type": "code",
   "execution_count": null,
   "id": "41e670d3",
   "metadata": {},
   "outputs": [],
   "source": [
    "datos=soup.find_all(\"ul\")[1].text.split(\"\\n\")\n",
    "    for i in datos:\n",
    "        if i.startswith(\"Nacido:\"):\n",
    "            nacido=(i.split(\":\")[1])\n",
    "            Fecha_nac.append(nacido)\n",
    "        if i.startswith(\"Debut\"):\n",
    "            debut=(i.split(\":\")[1])\n",
    "            Fecha_Debut.append(debut)"
   ]
  },
  {
   "cell_type": "code",
   "execution_count": null,
   "id": "6604128c",
   "metadata": {},
   "outputs": [],
   "source": []
  },
  {
   "cell_type": "code",
   "execution_count": null,
   "id": "d29bfd49",
   "metadata": {},
   "outputs": [],
   "source": []
  }
 ],
 "metadata": {
  "kernelspec": {
   "display_name": "Python 3 (ipykernel)",
   "language": "python",
   "name": "python3"
  },
  "language_info": {
   "codemirror_mode": {
    "name": "ipython",
    "version": 3
   },
   "file_extension": ".py",
   "mimetype": "text/x-python",
   "name": "python",
   "nbconvert_exporter": "python",
   "pygments_lexer": "ipython3",
   "version": "3.10.9"
  }
 },
 "nbformat": 4,
 "nbformat_minor": 5
}
