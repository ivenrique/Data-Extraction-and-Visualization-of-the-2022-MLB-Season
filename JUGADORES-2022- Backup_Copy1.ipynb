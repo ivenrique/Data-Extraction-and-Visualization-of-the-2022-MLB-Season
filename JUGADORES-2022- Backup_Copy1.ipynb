{
 "cells": [
  {
   "cell_type": "code",
   "execution_count": 1,
   "id": "2a6b6fe5",
   "metadata": {},
   "outputs": [],
   "source": [
    "import numpy as np\n",
    "import pandas as pd\n",
    "\n",
    "import requests\n",
    "from bs4 import BeautifulSoup\n",
    "\n",
    "from time import sleep\n",
    "\n",
    "from pprint import pprint\n",
    "\n",
    "from selenium import webdriver\n",
    "from selenium.webdriver.common.by import By\n"
   ]
  },
  {
   "cell_type": "code",
   "execution_count": 2,
   "id": "7b623be0",
   "metadata": {},
   "outputs": [
    {
     "name": "stdout",
     "output_type": "stream",
     "text": [
      "['https://www.mlb.com/es/stats/2022?page=1', 'https://www.mlb.com/es/stats/2022?page=2', 'https://www.mlb.com/es/stats/2022?page=3', 'https://www.mlb.com/es/stats/2022?page=4', 'https://www.mlb.com/es/stats/2022?page=5', 'https://www.mlb.com/es/stats/2022?page=6', 'https://www.mlb.com/es/stats/2022?page=7']\n"
     ]
    }
   ],
   "source": [
    "#Se escogen los jugadores mas destacados segun MBL x BATEO X TEMPORADA REGULAR 2022(130 jugadores)\n",
    "urls_paginas=[]\n",
    "for i in range(1,8):\n",
    "    string_url = f\"https://www.mlb.com/es/stats/2022?page={i}\"\n",
    "    urls_paginas.append(string_url)\n",
    "print(urls_paginas)"
   ]
  },
  {
   "cell_type": "code",
   "execution_count": 3,
   "id": "2ee39e0f",
   "metadata": {},
   "outputs": [],
   "source": [
    "url = urls_paginas[0]\n",
    "response = requests.get(url)\n",
    "soup = BeautifulSoup(response.text, \"html.parser\")\n"
   ]
  },
  {
   "cell_type": "code",
   "execution_count": 4,
   "id": "df1711b3",
   "metadata": {},
   "outputs": [
    {
     "name": "stdout",
     "output_type": "stream",
     "text": [
      "<Response [200]>\n",
      "True\n"
     ]
    }
   ],
   "source": [
    "print(response)\n",
    "print(bool(response))"
   ]
  },
  {
   "cell_type": "code",
   "execution_count": 5,
   "id": "746acb47",
   "metadata": {},
   "outputs": [],
   "source": [
    "jugador_nombre_apellido_bs=soup.find_all(\"span\", class_=\"full-3fV3c9pF\")"
   ]
  },
  {
   "cell_type": "code",
   "execution_count": 6,
   "id": "5754531e",
   "metadata": {},
   "outputs": [],
   "source": [
    "#jugador_nombre_apellido_bs"
   ]
  },
  {
   "cell_type": "code",
   "execution_count": 7,
   "id": "7ab08a7e",
   "metadata": {},
   "outputs": [],
   "source": [
    "lista_nombres=[jugador_nombre_apellido_bs[x].text for x in range(0,len(jugador_nombre_apellido_bs),2)]"
   ]
  },
  {
   "cell_type": "code",
   "execution_count": 8,
   "id": "d42cee05",
   "metadata": {},
   "outputs": [
    {
     "name": "stdout",
     "output_type": "stream",
     "text": [
      "['Aaron', 'Yordan', 'Paul', 'Jose', 'Freddie', 'Manny', 'Nolan', 'Rafael', 'Austin', 'Shohei', 'Mookie', 'Pete', 'Jose', 'Julio', 'Juan', 'Nathaniel', 'Andres', 'Jeff', 'Xander', 'Carlos', 'Taylor', 'Kyle', 'Jose', 'Yandy', 'Alex']\n"
     ]
    }
   ],
   "source": [
    "print(lista_nombres)"
   ]
  },
  {
   "cell_type": "code",
   "execution_count": 9,
   "id": "23f16da9",
   "metadata": {},
   "outputs": [],
   "source": [
    "lista_apellidos=[jugador_nombre_apellido_bs[x].text for x in range(1,len(jugador_nombre_apellido_bs),2)]"
   ]
  },
  {
   "cell_type": "code",
   "execution_count": 10,
   "id": "240ef0c8",
   "metadata": {},
   "outputs": [
    {
     "name": "stdout",
     "output_type": "stream",
     "text": [
      "['Judge', 'Alvarez', 'Goldschmidt', 'Altuve', 'Freeman', 'Machado', 'Arenado', 'Devers', 'Riley', 'Ohtani', 'Betts', 'Alonso', 'Ramirez', 'Rodriguez', 'Soto', 'Lowe', 'Gimenez', 'McNeil', 'Bogaerts', 'Correa', 'Ward', 'Schwarber', 'Abreu', 'Diaz', 'Bregman']\n"
     ]
    }
   ],
   "source": [
    "print(lista_apellidos)"
   ]
  },
  {
   "cell_type": "code",
   "execution_count": 11,
   "id": "17e19ee2",
   "metadata": {},
   "outputs": [],
   "source": [
    "ref_bs=soup.find_all(\"div\", class_=\"top-wrapper-1NLTqKbE\")"
   ]
  },
  {
   "cell_type": "code",
   "execution_count": 12,
   "id": "df8f1600",
   "metadata": {},
   "outputs": [],
   "source": [
    "lista_ref=[ref_bs[x].find(class_=\"bui-link\")[\"href\"].split(\"/\")[-1] for x in range(len(ref_bs))]"
   ]
  },
  {
   "cell_type": "code",
   "execution_count": 13,
   "id": "413980b3",
   "metadata": {},
   "outputs": [
    {
     "name": "stdout",
     "output_type": "stream",
     "text": [
      "['592450', '670541', '502671', '514888', '518692', '592518', '571448', '646240', '663586', '660271', '605141', '624413', '608070', '677594', '665742', '663993', '665926', '643446', '593428', '621043', '621493', '656941', '547989', '650490', '608324']\n"
     ]
    }
   ],
   "source": [
    "print(lista_ref)"
   ]
  },
  {
   "cell_type": "code",
   "execution_count": 14,
   "id": "5c2954e2",
   "metadata": {
    "scrolled": true
   },
   "outputs": [
    {
     "name": "stdout",
     "output_type": "stream",
     "text": [
      "https://www.mlb.com/es/player/592450\n",
      "https://www.mlb.com/es/player/670541\n",
      "https://www.mlb.com/es/player/502671\n",
      "https://www.mlb.com/es/player/514888\n",
      "https://www.mlb.com/es/player/518692\n",
      "https://www.mlb.com/es/player/592518\n",
      "https://www.mlb.com/es/player/571448\n",
      "https://www.mlb.com/es/player/646240\n",
      "https://www.mlb.com/es/player/663586\n",
      "https://www.mlb.com/es/player/660271\n",
      "https://www.mlb.com/es/player/605141\n",
      "https://www.mlb.com/es/player/624413\n",
      "https://www.mlb.com/es/player/608070\n",
      "https://www.mlb.com/es/player/677594\n",
      "https://www.mlb.com/es/player/665742\n",
      "https://www.mlb.com/es/player/663993\n",
      "https://www.mlb.com/es/player/665926\n",
      "https://www.mlb.com/es/player/643446\n",
      "https://www.mlb.com/es/player/593428\n",
      "https://www.mlb.com/es/player/621043\n",
      "https://www.mlb.com/es/player/621493\n",
      "https://www.mlb.com/es/player/656941\n",
      "https://www.mlb.com/es/player/547989\n",
      "https://www.mlb.com/es/player/650490\n",
      "https://www.mlb.com/es/player/608324\n"
     ]
    }
   ],
   "source": [
    "#link de los jugadores\n",
    "lista_link_player=[]\n",
    "for i in  range(len(ref_bs)):\n",
    "    #nombre= lista_nombres[i].lower()\n",
    "    #apellido= lista_apellidos[i].lower()\n",
    "    ref= lista_ref[i]\n",
    "    url_jugador= f\"https://www.mlb.com/es/player/{ref}\"\n",
    "    print(url_jugador)\n",
    "    lista_link_player.append(url_jugador)\n"
   ]
  },
  {
   "cell_type": "code",
   "execution_count": 15,
   "id": "02b383b3",
   "metadata": {},
   "outputs": [
    {
     "data": {
      "text/plain": [
       "25"
      ]
     },
     "execution_count": 15,
     "metadata": {},
     "output_type": "execute_result"
    }
   ],
   "source": [
    "len(lista_link_player)"
   ]
  },
  {
   "cell_type": "code",
   "execution_count": null,
   "id": "320178dd",
   "metadata": {},
   "outputs": [],
   "source": []
  },
  {
   "cell_type": "code",
   "execution_count": null,
   "id": "a3fb960f",
   "metadata": {},
   "outputs": [],
   "source": []
  },
  {
   "cell_type": "code",
   "execution_count": null,
   "id": "779c030e",
   "metadata": {},
   "outputs": [],
   "source": []
  },
  {
   "cell_type": "code",
   "execution_count": null,
   "id": "50c311cc",
   "metadata": {},
   "outputs": [],
   "source": []
  },
  {
   "cell_type": "code",
   "execution_count": null,
   "id": "3b6dac52",
   "metadata": {},
   "outputs": [],
   "source": []
  },
  {
   "cell_type": "markdown",
   "id": "b4e4f327",
   "metadata": {},
   "source": [
    "### CODIGO PARA TODOS LOS JUGADORES DE LA TEM 2022"
   ]
  },
  {
   "cell_type": "code",
   "execution_count": 16,
   "id": "50f56d13",
   "metadata": {},
   "outputs": [],
   "source": [
    "Nombre_Apellido=[]\n",
    "lista_ref=[]\n",
    "for url in (urls_paginas):          \n",
    "               \n",
    "        response = requests.get(url)\n",
    "        soup = BeautifulSoup(response.text, \"html.parser\")\n",
    "                \n",
    "        for bs in soup.find_all(\"span\", class_=\"full-3fV3c9pF\"):\n",
    "            Nombre_Apellido.append(bs.text)      \n",
    "            sleep(0.05)\n",
    "        for bs in soup.find_all(\"div\", class_=\"top-wrapper-1NLTqKbE\"):\n",
    "            lista_ref.append(bs.find(class_=\"bui-link\")[\"href\"].split(\"/\")[-1])\n",
    "            \n",
    "\n"
   ]
  },
  {
   "cell_type": "code",
   "execution_count": 17,
   "id": "6c1030b4",
   "metadata": {},
   "outputs": [],
   "source": [
    "#Nombre_Apellido"
   ]
  },
  {
   "cell_type": "code",
   "execution_count": null,
   "id": "00987894",
   "metadata": {},
   "outputs": [],
   "source": []
  },
  {
   "cell_type": "code",
   "execution_count": 18,
   "id": "114d4dea",
   "metadata": {},
   "outputs": [],
   "source": [
    "#lista con todos los nombres\n",
    "Nombre=[Nombre_Apellido[x]for x in range(0,len(Nombre_Apellido),2)]"
   ]
  },
  {
   "cell_type": "code",
   "execution_count": 19,
   "id": "e80b908d",
   "metadata": {},
   "outputs": [
    {
     "data": {
      "text/plain": [
       "['Aaron',\n",
       " 'Yordan',\n",
       " 'Paul',\n",
       " 'Jose',\n",
       " 'Freddie',\n",
       " 'Manny',\n",
       " 'Nolan',\n",
       " 'Rafael',\n",
       " 'Austin',\n",
       " 'Shohei',\n",
       " 'Mookie',\n",
       " 'Pete',\n",
       " 'Jose',\n",
       " 'Julio',\n",
       " 'Juan',\n",
       " 'Nathaniel',\n",
       " 'Andres',\n",
       " 'Jeff',\n",
       " 'Xander',\n",
       " 'Carlos',\n",
       " 'Taylor',\n",
       " 'Kyle',\n",
       " 'Jose',\n",
       " 'Yandy',\n",
       " 'Alex',\n",
       " 'J.T.',\n",
       " 'Vladimir',\n",
       " 'Anthony',\n",
       " 'Starling',\n",
       " 'George',\n",
       " 'Brandon',\n",
       " 'Trea',\n",
       " 'Will',\n",
       " 'Kyle',\n",
       " 'Teoscar',\n",
       " 'Hunter',\n",
       " 'Bryan',\n",
       " 'Christian',\n",
       " 'Bo',\n",
       " 'Matt',\n",
       " 'Brandon',\n",
       " 'Luis',\n",
       " 'Rhys',\n",
       " 'Eugenio',\n",
       " 'J.D.',\n",
       " 'Francisco',\n",
       " 'Justin',\n",
       " 'Alejandro',\n",
       " 'Josh',\n",
       " 'C.J.',\n",
       " 'Ian',\n",
       " 'Dansby',\n",
       " 'Ty',\n",
       " 'Steven',\n",
       " 'Anthony',\n",
       " 'Randy',\n",
       " 'Andrew',\n",
       " 'Corey',\n",
       " 'Mark',\n",
       " 'Rowdy',\n",
       " 'Gio',\n",
       " 'Ronald',\n",
       " 'Gleyber',\n",
       " 'Sean',\n",
       " 'Matt',\n",
       " 'Willy',\n",
       " 'Adolis',\n",
       " 'Andrew',\n",
       " 'Seth',\n",
       " 'Daulton',\n",
       " 'Ryan',\n",
       " 'Josh',\n",
       " 'Christian',\n",
       " 'Nico',\n",
       " 'DJ',\n",
       " 'Charlie',\n",
       " 'Brendan',\n",
       " 'Marcus',\n",
       " 'Alex',\n",
       " 'Ketel',\n",
       " 'Ryan',\n",
       " 'Eduardo',\n",
       " 'Tommy',\n",
       " 'Randal',\n",
       " 'Patrick',\n",
       " 'Luis',\n",
       " 'Jake',\n",
       " 'Thairo',\n",
       " 'Jurickson',\n",
       " 'Bobby',\n",
       " 'Cedric',\n",
       " 'Austin',\n",
       " 'Jeremy',\n",
       " 'Amed',\n",
       " 'Alec',\n",
       " 'Max',\n",
       " 'Wilmer',\n",
       " 'Trey',\n",
       " 'Luke',\n",
       " 'Ha-Seong',\n",
       " 'Elvis',\n",
       " 'MJ',\n",
       " 'Lane',\n",
       " 'Kyle',\n",
       " 'Andrew',\n",
       " 'Mike',\n",
       " 'Nick',\n",
       " 'Carlos',\n",
       " 'Jesse',\n",
       " 'Marcell',\n",
       " 'Tommy',\n",
       " 'Josh',\n",
       " 'AJ',\n",
       " 'J.P.',\n",
       " 'Whit',\n",
       " 'Javier',\n",
       " 'Jesus',\n",
       " \"Ke'Bryan\",\n",
       " 'Cody',\n",
       " 'Nelson',\n",
       " 'Yuli',\n",
       " 'Jorge',\n",
       " 'Tony',\n",
       " 'Isiah',\n",
       " 'Cesar',\n",
       " 'Trent',\n",
       " 'Adam',\n",
       " 'Miguel',\n",
       " 'Myles',\n",
       " 'Jonathan']"
      ]
     },
     "execution_count": 19,
     "metadata": {},
     "output_type": "execute_result"
    }
   ],
   "source": [
    "Nombre"
   ]
  },
  {
   "cell_type": "code",
   "execution_count": 20,
   "id": "80562b8f",
   "metadata": {},
   "outputs": [],
   "source": [
    "#lista con todos los apellidos\n",
    "Apellido=[Nombre_Apellido[x]for x in range(1,len(Nombre_Apellido),2)]"
   ]
  },
  {
   "cell_type": "code",
   "execution_count": 21,
   "id": "e629037f",
   "metadata": {},
   "outputs": [
    {
     "data": {
      "text/plain": [
       "['592450',\n",
       " '670541',\n",
       " '502671',\n",
       " '514888',\n",
       " '518692',\n",
       " '592518',\n",
       " '571448',\n",
       " '646240',\n",
       " '663586',\n",
       " '660271',\n",
       " '605141',\n",
       " '624413',\n",
       " '608070',\n",
       " '677594',\n",
       " '665742',\n",
       " '663993',\n",
       " '665926',\n",
       " '643446',\n",
       " '593428',\n",
       " '621043',\n",
       " '621493',\n",
       " '656941',\n",
       " '547989',\n",
       " '650490',\n",
       " '608324',\n",
       " '592663',\n",
       " '665489',\n",
       " '519203',\n",
       " '516782',\n",
       " '543807',\n",
       " '592273',\n",
       " '607208',\n",
       " '669257',\n",
       " '663656',\n",
       " '606192',\n",
       " '592669',\n",
       " '668804',\n",
       " '572233',\n",
       " '666182',\n",
       " '621566',\n",
       " '607043',\n",
       " '650333',\n",
       " '656555',\n",
       " '553993',\n",
       " '502110',\n",
       " '596019',\n",
       " '457759',\n",
       " '672386',\n",
       " '605137',\n",
       " '543068',\n",
       " '664023',\n",
       " '621020',\n",
       " '664034',\n",
       " '680757',\n",
       " '623993',\n",
       " '668227',\n",
       " '643217',\n",
       " '608369',\n",
       " '592192',\n",
       " '642133',\n",
       " '570482',\n",
       " '660670',\n",
       " '650402',\n",
       " '669221',\n",
       " '656305',\n",
       " '642715',\n",
       " '666969',\n",
       " '683734',\n",
       " '664913',\n",
       " '662139',\n",
       " '641857',\n",
       " '668942',\n",
       " '592885',\n",
       " '663538',\n",
       " '518934',\n",
       " '453568',\n",
       " '663898',\n",
       " '543760',\n",
       " '657077',\n",
       " '606466',\n",
       " '663624',\n",
       " '500871',\n",
       " '669242',\n",
       " '545341',\n",
       " '621550',\n",
       " '650859',\n",
       " '630105',\n",
       " '642731',\n",
       " '595777',\n",
       " '677951',\n",
       " '656775',\n",
       " '669720',\n",
       " '665161',\n",
       " '642708',\n",
       " '664761',\n",
       " '571970',\n",
       " '527038',\n",
       " '641820',\n",
       " '572228',\n",
       " '673490',\n",
       " '462101',\n",
       " '669004',\n",
       " '657041',\n",
       " '571657',\n",
       " '457705',\n",
       " '573262',\n",
       " '592206',\n",
       " '467793',\n",
       " '608385',\n",
       " '542303',\n",
       " '502054',\n",
       " '518626',\n",
       " '572041',\n",
       " '641487',\n",
       " '593160',\n",
       " '595879',\n",
       " '542583',\n",
       " '663647',\n",
       " '641355',\n",
       " '443558',\n",
       " '493329',\n",
       " '622761',\n",
       " '643393',\n",
       " '643396',\n",
       " '514917',\n",
       " '663757',\n",
       " '624428',\n",
       " '500743',\n",
       " '664702',\n",
       " '570731']"
      ]
     },
     "execution_count": 21,
     "metadata": {},
     "output_type": "execute_result"
    }
   ],
   "source": [
    "#lista numero referencia\n",
    "lista_ref"
   ]
  },
  {
   "cell_type": "code",
   "execution_count": 22,
   "id": "04aba792",
   "metadata": {},
   "outputs": [
    {
     "name": "stdout",
     "output_type": "stream",
     "text": [
      "https://www.mlb.com/es/player/592450\n",
      "https://www.mlb.com/es/player/670541\n",
      "https://www.mlb.com/es/player/502671\n",
      "https://www.mlb.com/es/player/514888\n",
      "https://www.mlb.com/es/player/518692\n",
      "https://www.mlb.com/es/player/592518\n",
      "https://www.mlb.com/es/player/571448\n",
      "https://www.mlb.com/es/player/646240\n",
      "https://www.mlb.com/es/player/663586\n",
      "https://www.mlb.com/es/player/660271\n",
      "https://www.mlb.com/es/player/605141\n",
      "https://www.mlb.com/es/player/624413\n",
      "https://www.mlb.com/es/player/608070\n",
      "https://www.mlb.com/es/player/677594\n",
      "https://www.mlb.com/es/player/665742\n",
      "https://www.mlb.com/es/player/663993\n",
      "https://www.mlb.com/es/player/665926\n",
      "https://www.mlb.com/es/player/643446\n",
      "https://www.mlb.com/es/player/593428\n",
      "https://www.mlb.com/es/player/621043\n",
      "https://www.mlb.com/es/player/621493\n",
      "https://www.mlb.com/es/player/656941\n",
      "https://www.mlb.com/es/player/547989\n",
      "https://www.mlb.com/es/player/650490\n",
      "https://www.mlb.com/es/player/608324\n",
      "https://www.mlb.com/es/player/592663\n",
      "https://www.mlb.com/es/player/665489\n",
      "https://www.mlb.com/es/player/519203\n",
      "https://www.mlb.com/es/player/516782\n",
      "https://www.mlb.com/es/player/543807\n",
      "https://www.mlb.com/es/player/592273\n",
      "https://www.mlb.com/es/player/607208\n",
      "https://www.mlb.com/es/player/669257\n",
      "https://www.mlb.com/es/player/663656\n",
      "https://www.mlb.com/es/player/606192\n",
      "https://www.mlb.com/es/player/592669\n",
      "https://www.mlb.com/es/player/668804\n",
      "https://www.mlb.com/es/player/572233\n",
      "https://www.mlb.com/es/player/666182\n",
      "https://www.mlb.com/es/player/621566\n",
      "https://www.mlb.com/es/player/607043\n",
      "https://www.mlb.com/es/player/650333\n",
      "https://www.mlb.com/es/player/656555\n",
      "https://www.mlb.com/es/player/553993\n",
      "https://www.mlb.com/es/player/502110\n",
      "https://www.mlb.com/es/player/596019\n",
      "https://www.mlb.com/es/player/457759\n",
      "https://www.mlb.com/es/player/672386\n",
      "https://www.mlb.com/es/player/605137\n",
      "https://www.mlb.com/es/player/543068\n",
      "https://www.mlb.com/es/player/664023\n",
      "https://www.mlb.com/es/player/621020\n",
      "https://www.mlb.com/es/player/664034\n",
      "https://www.mlb.com/es/player/680757\n",
      "https://www.mlb.com/es/player/623993\n",
      "https://www.mlb.com/es/player/668227\n",
      "https://www.mlb.com/es/player/643217\n",
      "https://www.mlb.com/es/player/608369\n",
      "https://www.mlb.com/es/player/592192\n",
      "https://www.mlb.com/es/player/642133\n",
      "https://www.mlb.com/es/player/570482\n",
      "https://www.mlb.com/es/player/660670\n",
      "https://www.mlb.com/es/player/650402\n",
      "https://www.mlb.com/es/player/669221\n",
      "https://www.mlb.com/es/player/656305\n",
      "https://www.mlb.com/es/player/642715\n",
      "https://www.mlb.com/es/player/666969\n",
      "https://www.mlb.com/es/player/683734\n",
      "https://www.mlb.com/es/player/664913\n",
      "https://www.mlb.com/es/player/662139\n",
      "https://www.mlb.com/es/player/641857\n",
      "https://www.mlb.com/es/player/668942\n",
      "https://www.mlb.com/es/player/592885\n",
      "https://www.mlb.com/es/player/663538\n",
      "https://www.mlb.com/es/player/518934\n",
      "https://www.mlb.com/es/player/453568\n",
      "https://www.mlb.com/es/player/663898\n",
      "https://www.mlb.com/es/player/543760\n",
      "https://www.mlb.com/es/player/657077\n",
      "https://www.mlb.com/es/player/606466\n",
      "https://www.mlb.com/es/player/663624\n",
      "https://www.mlb.com/es/player/500871\n",
      "https://www.mlb.com/es/player/669242\n",
      "https://www.mlb.com/es/player/545341\n",
      "https://www.mlb.com/es/player/621550\n",
      "https://www.mlb.com/es/player/650859\n",
      "https://www.mlb.com/es/player/630105\n",
      "https://www.mlb.com/es/player/642731\n",
      "https://www.mlb.com/es/player/595777\n",
      "https://www.mlb.com/es/player/677951\n",
      "https://www.mlb.com/es/player/656775\n",
      "https://www.mlb.com/es/player/669720\n",
      "https://www.mlb.com/es/player/665161\n",
      "https://www.mlb.com/es/player/642708\n",
      "https://www.mlb.com/es/player/664761\n",
      "https://www.mlb.com/es/player/571970\n",
      "https://www.mlb.com/es/player/527038\n",
      "https://www.mlb.com/es/player/641820\n",
      "https://www.mlb.com/es/player/572228\n",
      "https://www.mlb.com/es/player/673490\n",
      "https://www.mlb.com/es/player/462101\n",
      "https://www.mlb.com/es/player/669004\n",
      "https://www.mlb.com/es/player/657041\n",
      "https://www.mlb.com/es/player/571657\n",
      "https://www.mlb.com/es/player/457705\n",
      "https://www.mlb.com/es/player/573262\n",
      "https://www.mlb.com/es/player/592206\n",
      "https://www.mlb.com/es/player/467793\n",
      "https://www.mlb.com/es/player/608385\n",
      "https://www.mlb.com/es/player/542303\n",
      "https://www.mlb.com/es/player/502054\n",
      "https://www.mlb.com/es/player/518626\n",
      "https://www.mlb.com/es/player/572041\n",
      "https://www.mlb.com/es/player/641487\n",
      "https://www.mlb.com/es/player/593160\n",
      "https://www.mlb.com/es/player/595879\n",
      "https://www.mlb.com/es/player/542583\n",
      "https://www.mlb.com/es/player/663647\n",
      "https://www.mlb.com/es/player/641355\n",
      "https://www.mlb.com/es/player/443558\n",
      "https://www.mlb.com/es/player/493329\n",
      "https://www.mlb.com/es/player/622761\n",
      "https://www.mlb.com/es/player/643393\n",
      "https://www.mlb.com/es/player/643396\n",
      "https://www.mlb.com/es/player/514917\n",
      "https://www.mlb.com/es/player/663757\n",
      "https://www.mlb.com/es/player/624428\n",
      "https://www.mlb.com/es/player/500743\n",
      "https://www.mlb.com/es/player/664702\n",
      "https://www.mlb.com/es/player/570731\n"
     ]
    }
   ],
   "source": [
    "#link de los jugadores\n",
    "lista_link_player=[]\n",
    "for i in  range(len(lista_ref)):    \n",
    "    ref= lista_ref[i]\n",
    "    url_jugador= f\"https://www.mlb.com/es/player/{ref}\"\n",
    "    print(url_jugador)\n",
    "    lista_link_player.append(url_jugador)"
   ]
  },
  {
   "cell_type": "code",
   "execution_count": 23,
   "id": "c636c22c",
   "metadata": {},
   "outputs": [
    {
     "data": {
      "text/plain": [
       "130"
      ]
     },
     "execution_count": 23,
     "metadata": {},
     "output_type": "execute_result"
    }
   ],
   "source": [
    "len(lista_link_player)"
   ]
  },
  {
   "cell_type": "markdown",
   "id": "85b50aef",
   "metadata": {},
   "source": [
    "#De cada jugador:\n",
    "\n",
    "1.Equipo\n",
    "\n",
    "2.Numero en el uniforme\n",
    "\n",
    "3.Posicion/Mano Bateo/ Mano Lanzar\n",
    "\n",
    "4.Edad\n",
    "\n",
    "5.Altura\n",
    "\n",
    "6.Peso\n",
    "\n",
    "7.Apodo\n",
    "\n",
    "8.Fecha Nac: dia/ Mes/Año\n",
    "\n",
    "9.Fecha debut dia mes Año\n"
   ]
  },
  {
   "cell_type": "code",
   "execution_count": 24,
   "id": "eeb3f1c1",
   "metadata": {},
   "outputs": [],
   "source": [
    "### voy a sacar los valores individuales y luego hago el bucle\n",
    "\n",
    "\n"
   ]
  },
  {
   "cell_type": "code",
   "execution_count": 61,
   "id": "f22eb24e",
   "metadata": {},
   "outputs": [],
   "source": [
    "#para 1 jugador \n",
    "\n",
    "jugador= \"https://www.mlb.com/es/player/663586\"\n",
    "\n",
    "response = requests.get(jugador)\n",
    "soup = BeautifulSoup(response.text, \"html.parser\")"
   ]
  },
  {
   "cell_type": "code",
   "execution_count": 62,
   "id": "422e8bc6",
   "metadata": {
    "scrolled": true
   },
   "outputs": [
    {
     "name": "stdout",
     "output_type": "stream",
     "text": [
      "<Response [200]>\n",
      "True\n"
     ]
    }
   ],
   "source": [
    "print(response)\n",
    "print(bool(response))"
   ]
  },
  {
   "cell_type": "code",
   "execution_count": 48,
   "id": "2cdb29e8",
   "metadata": {},
   "outputs": [
    {
     "data": {
      "text/plain": [
       "'Los Mets de Nueva York'"
      ]
     },
     "execution_count": 48,
     "metadata": {},
     "output_type": "execute_result"
    }
   ],
   "source": [
    "Equipo=soup.find(\"img\").get(\"alt\")\n",
    "Equipo\n"
   ]
  },
  {
   "cell_type": "code",
   "execution_count": 49,
   "id": "a9fb70ff",
   "metadata": {},
   "outputs": [
    {
     "data": {
      "text/plain": [
       "'20'"
      ]
     },
     "execution_count": 49,
     "metadata": {},
     "output_type": "execute_result"
    }
   ],
   "source": [
    "Numero=soup.find(\"span\", class_=\"player-header--vitals-number\")\n",
    "Numero.text.replace(\"#\", \"\")"
   ]
  },
  {
   "cell_type": "code",
   "execution_count": 50,
   "id": "d6dbe1dd",
   "metadata": {},
   "outputs": [
    {
     "data": {
      "text/plain": [
       "'1B'"
      ]
     },
     "execution_count": 50,
     "metadata": {},
     "output_type": "execute_result"
    }
   ],
   "source": [
    "Posicion=soup.find(\"ul\").text.strip().split()[0]\n",
    "Posicion"
   ]
  },
  {
   "cell_type": "code",
   "execution_count": 51,
   "id": "883951a8",
   "metadata": {},
   "outputs": [
    {
     "data": {
      "text/plain": [
       "'R'"
      ]
     },
     "execution_count": 51,
     "metadata": {},
     "output_type": "execute_result"
    }
   ],
   "source": [
    "Mano_Bateo=soup.find(\"ul\").text.strip().split()[2][0]\n",
    "Mano_Bateo"
   ]
  },
  {
   "cell_type": "code",
   "execution_count": 52,
   "id": "0c3beff9",
   "metadata": {
    "scrolled": true
   },
   "outputs": [
    {
     "data": {
      "text/plain": [
       "'R'"
      ]
     },
     "execution_count": 52,
     "metadata": {},
     "output_type": "execute_result"
    }
   ],
   "source": [
    "Mano_Lanzar=soup.find(\"ul\").text.strip().split()[2][-1]\n",
    "Mano_Lanzar"
   ]
  },
  {
   "cell_type": "code",
   "execution_count": 53,
   "id": "6b670aeb",
   "metadata": {
    "scrolled": true
   },
   "outputs": [
    {
     "data": {
      "text/plain": [
       "111.13"
      ]
     },
     "execution_count": 53,
     "metadata": {},
     "output_type": "execute_result"
    }
   ],
   "source": [
    "#conversion de pies y pulgadas  a metro\n",
    "Peso_Kg=round((float(soup.find(\"ul\").text.strip().split()[-3].split(\"/\")[1])/2.20462),2)\n",
    "Peso_Kg"
   ]
  },
  {
   "cell_type": "code",
   "execution_count": 54,
   "id": "c9ae8eed",
   "metadata": {},
   "outputs": [
    {
     "data": {
      "text/plain": [
       "1.8288000000000002"
      ]
     },
     "execution_count": 54,
     "metadata": {},
     "output_type": "execute_result"
    }
   ],
   "source": [
    "a=float(soup.find(\"ul\").text.strip().split()[3].split(\"'\")[0])* 0.3048\n",
    "a"
   ]
  },
  {
   "cell_type": "code",
   "execution_count": 55,
   "id": "9b83ac44",
   "metadata": {},
   "outputs": [
    {
     "data": {
      "text/plain": [
       "0.07619999999999999"
      ]
     },
     "execution_count": 55,
     "metadata": {},
     "output_type": "execute_result"
    }
   ],
   "source": [
    "b=float(soup.find(\"ul\").text.strip().split()[4][0])*0.0254\n",
    "b"
   ]
  },
  {
   "cell_type": "code",
   "execution_count": 56,
   "id": "57cecc0f",
   "metadata": {},
   "outputs": [
    {
     "data": {
      "text/plain": [
       "1.91"
      ]
     },
     "execution_count": 56,
     "metadata": {},
     "output_type": "execute_result"
    }
   ],
   "source": [
    "Estatura=round((a+b),2)\n",
    "Estatura"
   ]
  },
  {
   "cell_type": "code",
   "execution_count": null,
   "id": "26558c9d",
   "metadata": {},
   "outputs": [],
   "source": []
  },
  {
   "cell_type": "code",
   "execution_count": 57,
   "id": "2f2d3b16",
   "metadata": {
    "scrolled": true
   },
   "outputs": [
    {
     "data": {
      "text/plain": [
       "28"
      ]
     },
     "execution_count": 57,
     "metadata": {},
     "output_type": "execute_result"
    }
   ],
   "source": [
    "Edad= int(soup.find(\"ul\").text.split(\"\\n\")[-2].split(\": \")[-1])\n",
    "Edad"
   ]
  },
  {
   "cell_type": "code",
   "execution_count": 63,
   "id": "8fd7d361",
   "metadata": {},
   "outputs": [
    {
     "data": {
      "text/plain": [
       "['',\n",
       " 'Nombre Completo: Michael Austin Riley',\n",
       " 'Apodo: Ocho',\n",
       " 'Nacido: 4/02/1997',\n",
       " '                                   en Memphis, TN',\n",
       " 'Draft: 2015, Atlanta Braves, Ronda: CB-A, Selección General: 41',\n",
       " 'Preparatoria: DeSoto Central, Southaven, MS',\n",
       " 'Debut: 5/15/2019',\n",
       " '']"
      ]
     },
     "execution_count": 63,
     "metadata": {},
     "output_type": "execute_result"
    }
   ],
   "source": [
    "datos=soup.find_all(\"ul\")[1].text.split(\"\\n\")\n",
    "\n",
    "datos"
   ]
  },
  {
   "cell_type": "code",
   "execution_count": 59,
   "id": "56bf157e",
   "metadata": {},
   "outputs": [
    {
     "name": "stdout",
     "output_type": "stream",
     "text": [
      "0 \n",
      "1 Nombre Completo: Peter Morgan Alonso\n",
      "2 Apodo: Polar Bear\n",
      "3 Nacido: 12/07/1994\n",
      "4                                    en Tampa, FL\n",
      "5 Draft: 2016, New York Mets, Ronda: 2, Selección General: 64\n",
      "6 Universidad: Florida\n",
      "7 Debut: 3/28/2019\n",
      "8 \n"
     ]
    }
   ],
   "source": [
    "for i , j in enumerate(datos):\n",
    "\n",
    "    print(i, j)"
   ]
  },
  {
   "cell_type": "code",
   "execution_count": null,
   "id": "31809fd0",
   "metadata": {},
   "outputs": [],
   "source": []
  },
  {
   "cell_type": "code",
   "execution_count": 64,
   "id": "85eaea20",
   "metadata": {},
   "outputs": [
    {
     "name": "stdout",
     "output_type": "stream",
     "text": [
      " TN\n",
      " 4/02/1997\n",
      " 5/15/2019\n"
     ]
    }
   ],
   "source": [
    "for i, j in enumerate(datos):     \n",
    "    if j.startswith(\"Nacido:\"):\n",
    "        nacido=(j.split(\":\")[1])\n",
    "        print(datos[i+1].split(\",\")[-1])\n",
    "        print(nacido)\n",
    "    if j.startswith(\"Debut\"):\n",
    "        debut=(j.split(\":\")[1])\n",
    "        print(debut)"
   ]
  },
  {
   "cell_type": "code",
   "execution_count": null,
   "id": "7d66a5a5",
   "metadata": {},
   "outputs": [],
   "source": []
  },
  {
   "cell_type": "code",
   "execution_count": 39,
   "id": "c50f7037",
   "metadata": {},
   "outputs": [
    {
     "ename": "NameError",
     "evalue": "name 'Nacido' is not defined",
     "output_type": "error",
     "traceback": [
      "\u001b[1;31m---------------------------------------------------------------------------\u001b[0m",
      "\u001b[1;31mNameError\u001b[0m                                 Traceback (most recent call last)",
      "Cell \u001b[1;32mIn[39], line 4\u001b[0m\n\u001b[0;32m      2\u001b[0m \u001b[38;5;28;01mif\u001b[39;00m i\u001b[38;5;241m.\u001b[39mstartswith(\u001b[38;5;124m\"\u001b[39m\u001b[38;5;124mNacido:\u001b[39m\u001b[38;5;124m\"\u001b[39m):\n\u001b[0;32m      3\u001b[0m     nacido\u001b[38;5;241m=\u001b[39m(i\u001b[38;5;241m.\u001b[39msplit(\u001b[38;5;124m\"\u001b[39m\u001b[38;5;124m:\u001b[39m\u001b[38;5;124m\"\u001b[39m)[\u001b[38;5;241m1\u001b[39m])\n\u001b[1;32m----> 4\u001b[0m     \u001b[38;5;28mprint\u001b[39m(\u001b[43mNacido\u001b[49m)\n\u001b[0;32m      5\u001b[0m \u001b[38;5;28;01mif\u001b[39;00m i\u001b[38;5;241m.\u001b[39mstartswith(\u001b[38;5;124m\"\u001b[39m\u001b[38;5;124mDebut:\u001b[39m\u001b[38;5;124m\"\u001b[39m):\n\u001b[0;32m      6\u001b[0m     debut\u001b[38;5;241m=\u001b[39m(i\u001b[38;5;241m.\u001b[39msplit(\u001b[38;5;124m\"\u001b[39m\u001b[38;5;124m:\u001b[39m\u001b[38;5;124m\"\u001b[39m)[\u001b[38;5;241m1\u001b[39m])\n",
      "\u001b[1;31mNameError\u001b[0m: name 'Nacido' is not defined"
     ]
    }
   ],
   "source": [
    "for i in datos:    \n",
    "    if i.startswith(\"Nacido:\"):\n",
    "        nacido=(i.split(\":\")[1])\n",
    "        print(Nacido)\n",
    "    if i.startswith(\"Debut:\"):\n",
    "        debut=(i.split(\":\")[1])\n",
    "        print(Debut)\n",
    "        \n",
    "        "
   ]
  },
  {
   "cell_type": "code",
   "execution_count": null,
   "id": "9aa7c010",
   "metadata": {},
   "outputs": [],
   "source": []
  },
  {
   "cell_type": "code",
   "execution_count": null,
   "id": "5b5d6d49",
   "metadata": {},
   "outputs": [],
   "source": []
  },
  {
   "cell_type": "code",
   "execution_count": null,
   "id": "81fc6b80",
   "metadata": {},
   "outputs": [],
   "source": [
    "# Apodo=soup.find_all(\"li\")[5].text.split(\": \")[-1]\n",
    "# Apodo"
   ]
  },
  {
   "cell_type": "code",
   "execution_count": null,
   "id": "a3cb3bbb",
   "metadata": {},
   "outputs": [],
   "source": [
    "# Fecha_nac=soup.find_all(\"li\")[6].text.split(\"\\n\")[0].split(\": \")[-1]\n",
    "# Fecha_nac"
   ]
  },
  {
   "cell_type": "code",
   "execution_count": null,
   "id": "97a594ef",
   "metadata": {},
   "outputs": [],
   "source": [
    "# Fecha_Debut=soup.find_all(\"li\")[7].text.split(\"\\n\")[0].split(\": \")[-1]\n",
    "# Fecha_Debut"
   ]
  },
  {
   "cell_type": "code",
   "execution_count": null,
   "id": "b37c16d6",
   "metadata": {},
   "outputs": [],
   "source": [
    "#Estadisticas de jugador(Leyenda):\n",
    "\n",
    "J: Juegos Jugados\n",
    "\n",
    "TB: Turnos al Bate\n",
    "\n",
    "C: Carreras\n",
    "\n",
    "H: Hits\n",
    "\n",
    "2B: Dobles\n",
    "\n",
    "3B: Triples\n",
    "\n",
    "HR: Jonrones\n",
    "\n",
    "CI: Carreras Impulsadas\n",
    "\n",
    "BB: Bases Por Bolas(Boletos)\n",
    "\n",
    "P: Ponches\n",
    "\n",
    "BR: Bases Robadas\n",
    "\n",
    "AR: Atrapado Robando\n",
    "\n",
    "PRO: Promedio al bate(HITS/ TURNO AL BATE)\n",
    "\n",
    "OBP: (ON BASE PORCENTAGE) Porcentaje de embasado (Sume usted los hits que conecta el bateador, las bases por bolas que recibe y las veces que es golpeado por un lanzamiento.)\n",
    "\n",
    "SLG: Indices de bases totales(1B+2B*B+3B*3+HR*4)/ Veces al Bate\n",
    "\n",
    "OPS: % DE ALCANZAR BASES(OBP + SLG)(ON BASE PLUS SLUGGING)\"agrega porcentaje de embasado y porcentaje de slugging para obtener un número que une a los dos. Su objetivo es combinar lo bien que un bateador puede llegar a la base, con lo bien que puede batear para promedio y poder.\"\n",
    "\n",
    "B/T : (BAT/THROW)(BATEAR/TIRAR)\n",
    "\n",
    "\n",
    "\n",
    "\n",
    "\n"
   ]
  },
  {
   "cell_type": "code",
   "execution_count": null,
   "id": "821c95f5",
   "metadata": {},
   "outputs": [],
   "source": [
    "\n",
    "Team=[]\n",
    "Number=[]\n",
    "Posicion=[]\n",
    "Apodo=[]\n",
    "Edad=[]\n",
    "Fecha_nac=[]\n",
    "Fecha_Debut=[]\n",
    "Peso_Kg=[]\n",
    "Estatura=[]\n",
    "Mano_Bateo=[]\n",
    "Mano_Lanzar=[]\n",
    "\n",
    "\n",
    "c=0\n",
    "for jugador in (lista_link_player):\n",
    "    \n",
    "    print(jugador)    \n",
    "    print(f\"Faltan {len(lista_link_player)- c } jugadores\")\n",
    "    c+=1\n",
    "    \n",
    "    response = requests.get(jugador)\n",
    "    soup = BeautifulSoup(response.text, \"html.parser\")\n",
    "    sleep(0.04)\n",
    "        \n",
    "    #EQUIPO###########\n",
    "    equipo=soup.find(\"img\").get(\"alt\")    \n",
    "    Team.append(equipo)\n",
    "    sleep(0.01)\n",
    "    \n",
    "    #DORSAL###########\n",
    "    numero=soup.find(\"span\", class_=\"player-header--vitals-number\").text.replace(\"#\", \"\")\n",
    "    Number.append(numero)\n",
    "    sleep(0.01)\n",
    "    \n",
    "    #POSICION##########\n",
    "    posicion=soup.find(\"ul\").text.strip().split()[0]\n",
    "    Posicion.append(posicion)\n",
    "    sleep(0.01)\n",
    "    \n",
    "    #FECHA NAC Y FECHA DEBUT\n",
    "    datos=soup.find_all(\"ul\")[1].text.split(\"\\n\")\n",
    "    for i in datos:\n",
    "        if i.startswith(\"Nacido:\"):\n",
    "            nacido=(i.split(\":\")[1])\n",
    "            Fecha_nac.append(nacido)\n",
    "        if i.startswith(\"Debut\"):\n",
    "            debut=(i.split(\":\")[1])\n",
    "            Fecha_Debut.append(debut)\n",
    "\n",
    "    #EDAD###########\n",
    "    edad=int(soup.find(\"ul\").text.split(\"\\n\")[-2].split(\": \")[-1])\n",
    "    Edad.append(edad)\n",
    "    sleep(0.2)\n",
    "       \n",
    "    #PESO###########\n",
    "    peso=round((float(soup.find(\"ul\").text.strip().split()[-3].split(\"/\")[1])/2.20462),2)\n",
    "    Peso_Kg.append(peso)\n",
    "    sleep(0.2)\n",
    "    \n",
    "    \n",
    "    #ESTATURA\n",
    "    a=float(soup.find(\"ul\").text.strip().split()[3].split(\"'\")[0])* 0.3048\n",
    "    b=float(soup.find(\"ul\").text.strip().split()[4][0])*0.0254\n",
    "    estatura=round((a+b),2)\n",
    "    Estatura.append(estatura)\n",
    "    sleep(0.2)\n",
    "    \n",
    "    #MANO DE BATEO\n",
    "    mano_bateo=soup.find(\"ul\").text.strip().split()[2][0]\n",
    "    Mano_Bateo.append(mano_bateo)\n",
    "    sleep(0.2)\n",
    "    \n",
    "    #MANO DE LANZAR\n",
    "    mano_lanzar=soup.find(\"ul\").text.strip().split()[2][-1]\n",
    "    Mano_Lanzar.append(mano_lanzar)\n",
    "    sleep(0.2)\n",
    "    \n",
    "    \n",
    "\n",
    "        \n",
    "\n",
    "\n"
   ]
  },
  {
   "cell_type": "code",
   "execution_count": null,
   "id": "7237f7e7",
   "metadata": {},
   "outputs": [],
   "source": []
  },
  {
   "cell_type": "code",
   "execution_count": null,
   "id": "2dbd7070",
   "metadata": {},
   "outputs": [],
   "source": [
    "df_idplayers=pd.DataFrame()\n",
    "\n",
    "df_idplayers[\"num_ref\"]=lista_ref\n",
    "df_idplayers[\"Posicion\"]=Posicion\n",
    "df_idplayers[\"Nombre\"]=Nombre\n",
    "df_idplayers[\"Apellido\"]=Apellido\n",
    "\n",
    "df_idplayers[\"Dorsal\"]=Number\n",
    "df_idplayers[\"Equipo\"]=Team\n",
    "df_idplayers[\"Fecha Nac\"]=Fecha_nac\n",
    "df_idplayers[\"Edad\"]=Edad\n",
    "df_idplayers[\"F_Debut\"]=Fecha_Debut\n",
    "df_idplayers[\"Peso(Kg)\"]=Peso_Kg\n",
    "df_idplayers[\"Estatura(mtrs)\"]=Estatura\n",
    "df_idplayers[\"Mano_Bateo\"]=Mano_Bateo\n",
    "df_idplayers[\"Mano_Lanzar\"]=Mano_Lanzar\n",
    "df_idplayers[\"Link_Ficha_Player\"]=lista_link_player"
   ]
  },
  {
   "cell_type": "code",
   "execution_count": null,
   "id": "b29bb502",
   "metadata": {},
   "outputs": [],
   "source": [
    "df_idplayers.info()"
   ]
  },
  {
   "cell_type": "code",
   "execution_count": null,
   "id": "7b23def6",
   "metadata": {},
   "outputs": [],
   "source": [
    "df_idplayers"
   ]
  },
  {
   "cell_type": "code",
   "execution_count": null,
   "id": "da83b565",
   "metadata": {},
   "outputs": [],
   "source": [
    "NaN_df=df_idplayers.isnull().any()"
   ]
  },
  {
   "cell_type": "code",
   "execution_count": null,
   "id": "0825c88c",
   "metadata": {},
   "outputs": [],
   "source": [
    "print(NaN_df)"
   ]
  },
  {
   "cell_type": "code",
   "execution_count": null,
   "id": "8f29d455",
   "metadata": {},
   "outputs": [],
   "source": []
  },
  {
   "cell_type": "code",
   "execution_count": null,
   "id": "22b125bc",
   "metadata": {},
   "outputs": [],
   "source": []
  },
  {
   "cell_type": "code",
   "execution_count": null,
   "id": "243f13e5",
   "metadata": {},
   "outputs": [],
   "source": []
  },
  {
   "cell_type": "code",
   "execution_count": null,
   "id": "f43bbfd4",
   "metadata": {},
   "outputs": [],
   "source": []
  },
  {
   "cell_type": "code",
   "execution_count": null,
   "id": "cc156bb6",
   "metadata": {},
   "outputs": [],
   "source": []
  },
  {
   "cell_type": "code",
   "execution_count": null,
   "id": "e437346b",
   "metadata": {},
   "outputs": [],
   "source": []
  },
  {
   "cell_type": "code",
   "execution_count": null,
   "id": "900edf3a",
   "metadata": {},
   "outputs": [],
   "source": []
  }
 ],
 "metadata": {
  "kernelspec": {
   "display_name": "Python 3 (ipykernel)",
   "language": "python",
   "name": "python3"
  },
  "language_info": {
   "codemirror_mode": {
    "name": "ipython",
    "version": 3
   },
   "file_extension": ".py",
   "mimetype": "text/x-python",
   "name": "python",
   "nbconvert_exporter": "python",
   "pygments_lexer": "ipython3",
   "version": "3.11.3"
  }
 },
 "nbformat": 4,
 "nbformat_minor": 5
}
