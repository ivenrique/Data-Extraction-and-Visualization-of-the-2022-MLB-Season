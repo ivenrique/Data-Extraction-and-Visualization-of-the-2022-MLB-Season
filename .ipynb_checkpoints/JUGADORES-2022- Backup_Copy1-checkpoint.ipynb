{
 "cells": [
  {
   "cell_type": "code",
   "execution_count": 1,
   "id": "2a6b6fe5",
   "metadata": {},
   "outputs": [],
   "source": [
    "import numpy as np\n",
    "import pandas as pd\n",
    "\n",
    "import requests\n",
    "from bs4 import BeautifulSoup\n",
    "\n",
    "from time import sleep\n",
    "\n",
    "from pprint import pprint\n",
    "\n",
    "from selenium import webdriver\n",
    "from selenium.webdriver.common.by import By\n"
   ]
  },
  {
   "cell_type": "code",
   "execution_count": 14,
   "id": "7b623be0",
   "metadata": {},
   "outputs": [
    {
     "name": "stdout",
     "output_type": "stream",
     "text": [
      "['https://www.mlb.com/es/stats/2022?page=1', 'https://www.mlb.com/es/stats/2022?page=2', 'https://www.mlb.com/es/stats/2022?page=3', 'https://www.mlb.com/es/stats/2022?page=4', 'https://www.mlb.com/es/stats/2022?page=5', 'https://www.mlb.com/es/stats/2022?page=6', 'https://www.mlb.com/es/stats/2022?page=7']\n"
     ]
    }
   ],
   "source": [
    "#Se escogen los jugadores mas destacados segun MBL x BATEO X TEMPORADA REGULAR 2022(130 jugadores)\n",
    "urls_paginas=[]\n",
    "for i in range(1,8):\n",
    "    string_url = f\"https://www.mlb.com/es/stats/2022?page={i}\"\n",
    "    urls_paginas.append(string_url)\n",
    "print(urls_paginas)"
   ]
  },
  {
   "cell_type": "code",
   "execution_count": 15,
   "id": "2ee39e0f",
   "metadata": {},
   "outputs": [],
   "source": [
    "url = urls_paginas[0]\n",
    "response = requests.get(url)\n",
    "soup = BeautifulSoup(response.text, \"html.parser\")\n"
   ]
  },
  {
   "cell_type": "code",
   "execution_count": 16,
   "id": "df1711b3",
   "metadata": {},
   "outputs": [
    {
     "name": "stdout",
     "output_type": "stream",
     "text": [
      "<Response [200]>\n",
      "True\n"
     ]
    }
   ],
   "source": [
    "print(response)\n",
    "print(bool(response))"
   ]
  },
  {
   "cell_type": "code",
   "execution_count": 17,
   "id": "746acb47",
   "metadata": {},
   "outputs": [],
   "source": [
    "jugador_nombre_apellido_bs=soup.find_all(\"span\", class_=\"full-3fV3c9pF\")"
   ]
  },
  {
   "cell_type": "code",
   "execution_count": 21,
   "id": "5754531e",
   "metadata": {},
   "outputs": [],
   "source": [
    "#jugador_nombre_apellido_bs"
   ]
  },
  {
   "cell_type": "code",
   "execution_count": 18,
   "id": "7ab08a7e",
   "metadata": {},
   "outputs": [],
   "source": [
    "lista_nombres=[jugador_nombre_apellido_bs[x].text for x in range(0,len(jugador_nombre_apellido_bs),2)]"
   ]
  },
  {
   "cell_type": "code",
   "execution_count": 19,
   "id": "d42cee05",
   "metadata": {},
   "outputs": [
    {
     "name": "stdout",
     "output_type": "stream",
     "text": [
      "['Aaron', 'Yordan', 'Paul', 'Jose', 'Freddie', 'Manny', 'Nolan', 'Rafael', 'Austin', 'Shohei', 'Mookie', 'Pete', 'Jose', 'Julio', 'Juan', 'Nathaniel', 'Andres', 'Jeff', 'Xander', 'Carlos', 'Taylor', 'Kyle', 'Jose', 'Yandy', 'Alex']\n"
     ]
    }
   ],
   "source": [
    "print(lista_nombres)"
   ]
  },
  {
   "cell_type": "code",
   "execution_count": 20,
   "id": "23f16da9",
   "metadata": {},
   "outputs": [],
   "source": [
    "lista_apellidos=[jugador_nombre_apellido_bs[x].text for x in range(1,len(jugador_nombre_apellido_bs),2)]"
   ]
  },
  {
   "cell_type": "code",
   "execution_count": 21,
   "id": "240ef0c8",
   "metadata": {},
   "outputs": [
    {
     "name": "stdout",
     "output_type": "stream",
     "text": [
      "['Judge', 'Alvarez', 'Goldschmidt', 'Altuve', 'Freeman', 'Machado', 'Arenado', 'Devers', 'Riley', 'Ohtani', 'Betts', 'Alonso', 'Ramirez', 'Rodriguez', 'Soto', 'Lowe', 'Gimenez', 'McNeil', 'Bogaerts', 'Correa', 'Ward', 'Schwarber', 'Abreu', 'Diaz', 'Bregman']\n"
     ]
    }
   ],
   "source": [
    "print(lista_apellidos)"
   ]
  },
  {
   "cell_type": "code",
   "execution_count": 22,
   "id": "17e19ee2",
   "metadata": {},
   "outputs": [],
   "source": [
    "ref_bs=soup.find_all(\"div\", class_=\"top-wrapper-1NLTqKbE\")"
   ]
  },
  {
   "cell_type": "code",
   "execution_count": 23,
   "id": "df8f1600",
   "metadata": {},
   "outputs": [],
   "source": [
    "lista_ref=[ref_bs[x].find(class_=\"bui-link\")[\"href\"].split(\"/\")[-1] for x in range(len(ref_bs))]"
   ]
  },
  {
   "cell_type": "code",
   "execution_count": 24,
   "id": "413980b3",
   "metadata": {},
   "outputs": [
    {
     "name": "stdout",
     "output_type": "stream",
     "text": [
      "['592450', '670541', '502671', '514888', '518692', '592518', '571448', '646240', '663586', '660271', '605141', '624413', '608070', '677594', '665742', '663993', '665926', '643446', '593428', '621043', '621493', '656941', '547989', '650490', '608324']\n"
     ]
    }
   ],
   "source": [
    "print(lista_ref)"
   ]
  },
  {
   "cell_type": "code",
   "execution_count": 26,
   "id": "5c2954e2",
   "metadata": {
    "scrolled": true
   },
   "outputs": [
    {
     "name": "stdout",
     "output_type": "stream",
     "text": [
      "https://www.mlb.com/es/player/592450\n",
      "https://www.mlb.com/es/player/670541\n",
      "https://www.mlb.com/es/player/502671\n",
      "https://www.mlb.com/es/player/514888\n",
      "https://www.mlb.com/es/player/518692\n",
      "https://www.mlb.com/es/player/592518\n",
      "https://www.mlb.com/es/player/571448\n",
      "https://www.mlb.com/es/player/646240\n",
      "https://www.mlb.com/es/player/663586\n",
      "https://www.mlb.com/es/player/660271\n",
      "https://www.mlb.com/es/player/605141\n",
      "https://www.mlb.com/es/player/624413\n",
      "https://www.mlb.com/es/player/608070\n",
      "https://www.mlb.com/es/player/677594\n",
      "https://www.mlb.com/es/player/665742\n",
      "https://www.mlb.com/es/player/663993\n",
      "https://www.mlb.com/es/player/665926\n",
      "https://www.mlb.com/es/player/643446\n",
      "https://www.mlb.com/es/player/593428\n",
      "https://www.mlb.com/es/player/621043\n",
      "https://www.mlb.com/es/player/621493\n",
      "https://www.mlb.com/es/player/656941\n",
      "https://www.mlb.com/es/player/547989\n",
      "https://www.mlb.com/es/player/650490\n",
      "https://www.mlb.com/es/player/608324\n"
     ]
    }
   ],
   "source": [
    "#link de los jugadores\n",
    "lista_link_player=[]\n",
    "for i in  range(len(ref_bs)):\n",
    "    #nombre= lista_nombres[i].lower()\n",
    "    #apellido= lista_apellidos[i].lower()\n",
    "    ref= lista_ref[i]\n",
    "    url_jugador= f\"https://www.mlb.com/es/player/{ref}\"\n",
    "    print(url_jugador)\n",
    "    lista_link_player.append(url_jugador)\n"
   ]
  },
  {
   "cell_type": "code",
   "execution_count": 27,
   "id": "02b383b3",
   "metadata": {},
   "outputs": [
    {
     "data": {
      "text/plain": [
       "25"
      ]
     },
     "execution_count": 27,
     "metadata": {},
     "output_type": "execute_result"
    }
   ],
   "source": [
    "len(lista_link_player)"
   ]
  },
  {
   "cell_type": "code",
   "execution_count": null,
   "id": "320178dd",
   "metadata": {},
   "outputs": [],
   "source": []
  },
  {
   "cell_type": "code",
   "execution_count": null,
   "id": "a3fb960f",
   "metadata": {},
   "outputs": [],
   "source": []
  },
  {
   "cell_type": "code",
   "execution_count": null,
   "id": "779c030e",
   "metadata": {},
   "outputs": [],
   "source": []
  },
  {
   "cell_type": "code",
   "execution_count": null,
   "id": "50c311cc",
   "metadata": {},
   "outputs": [],
   "source": []
  },
  {
   "cell_type": "code",
   "execution_count": null,
   "id": "3b6dac52",
   "metadata": {},
   "outputs": [],
   "source": []
  },
  {
   "cell_type": "markdown",
   "id": "b4e4f327",
   "metadata": {},
   "source": [
    "### CODIGO PARA TODOS LOS JUGADORES DE LA TEM 2022"
   ]
  },
  {
   "cell_type": "code",
   "execution_count": 28,
   "id": "50f56d13",
   "metadata": {},
   "outputs": [],
   "source": [
    "Nombre_Apellido=[]\n",
    "lista_ref=[]\n",
    "for url in (urls_paginas):          \n",
    "               \n",
    "        response = requests.get(url)\n",
    "        soup = BeautifulSoup(response.text, \"html.parser\")\n",
    "                \n",
    "        for bs in soup.find_all(\"span\", class_=\"full-3fV3c9pF\"):\n",
    "            Nombre_Apellido.append(bs.text)      \n",
    "            sleep(0.05)\n",
    "        for bs in soup.find_all(\"div\", class_=\"top-wrapper-1NLTqKbE\"):\n",
    "            lista_ref.append(bs.find(class_=\"bui-link\")[\"href\"].split(\"/\")[-1])\n",
    "            \n",
    "\n"
   ]
  },
  {
   "cell_type": "code",
   "execution_count": 6,
   "id": "6c1030b4",
   "metadata": {},
   "outputs": [],
   "source": [
    "#Nombre_Apellido"
   ]
  },
  {
   "cell_type": "code",
   "execution_count": null,
   "id": "00987894",
   "metadata": {},
   "outputs": [],
   "source": []
  },
  {
   "cell_type": "code",
   "execution_count": 7,
   "id": "114d4dea",
   "metadata": {},
   "outputs": [],
   "source": [
    "#lista con todos los nombres\n",
    "Nombre=[Nombre_Apellido[x]for x in range(0,len(Nombre_Apellido),2)]"
   ]
  },
  {
   "cell_type": "code",
   "execution_count": 11,
   "id": "e80b908d",
   "metadata": {},
   "outputs": [
    {
     "data": {
      "text/plain": [
       "['Aaron',\n",
       " 'Yordan',\n",
       " 'Paul',\n",
       " 'Jose',\n",
       " 'Freddie',\n",
       " 'Manny',\n",
       " 'Nolan',\n",
       " 'Rafael',\n",
       " 'Austin',\n",
       " 'Shohei',\n",
       " 'Mookie',\n",
       " 'Pete',\n",
       " 'Jose',\n",
       " 'Julio',\n",
       " 'Juan',\n",
       " 'Nathaniel',\n",
       " 'Andres',\n",
       " 'Jeff',\n",
       " 'Xander',\n",
       " 'Carlos',\n",
       " 'Taylor',\n",
       " 'Kyle',\n",
       " 'Jose',\n",
       " 'Yandy',\n",
       " 'Alex',\n",
       " 'J.T.',\n",
       " 'Vladimir',\n",
       " 'Anthony',\n",
       " 'Starling',\n",
       " 'George',\n",
       " 'Brandon',\n",
       " 'Trea',\n",
       " 'Will',\n",
       " 'Kyle',\n",
       " 'Teoscar',\n",
       " 'Hunter',\n",
       " 'Bryan',\n",
       " 'Christian',\n",
       " 'Bo',\n",
       " 'Matt',\n",
       " 'Brandon',\n",
       " 'Luis',\n",
       " 'Rhys',\n",
       " 'Eugenio',\n",
       " 'J.D.',\n",
       " 'Francisco',\n",
       " 'Justin',\n",
       " 'Alejandro',\n",
       " 'Josh',\n",
       " 'C.J.',\n",
       " 'Ian',\n",
       " 'Dansby',\n",
       " 'Ty',\n",
       " 'Steven',\n",
       " 'Anthony',\n",
       " 'Randy',\n",
       " 'Andrew',\n",
       " 'Corey',\n",
       " 'Mark',\n",
       " 'Rowdy',\n",
       " 'Gio',\n",
       " 'Ronald',\n",
       " 'Gleyber',\n",
       " 'Sean',\n",
       " 'Matt',\n",
       " 'Willy',\n",
       " 'Adolis',\n",
       " 'Andrew',\n",
       " 'Seth',\n",
       " 'Daulton',\n",
       " 'Ryan',\n",
       " 'Josh',\n",
       " 'Christian',\n",
       " 'Nico',\n",
       " 'DJ',\n",
       " 'Charlie',\n",
       " 'Brendan',\n",
       " 'Marcus',\n",
       " 'Alex',\n",
       " 'Ketel',\n",
       " 'Ryan',\n",
       " 'Eduardo',\n",
       " 'Tommy',\n",
       " 'Randal',\n",
       " 'Patrick',\n",
       " 'Luis',\n",
       " 'Jake',\n",
       " 'Thairo',\n",
       " 'Jurickson',\n",
       " 'Bobby',\n",
       " 'Cedric',\n",
       " 'Austin',\n",
       " 'Jeremy',\n",
       " 'Amed',\n",
       " 'Alec',\n",
       " 'Max',\n",
       " 'Wilmer',\n",
       " 'Trey',\n",
       " 'Luke',\n",
       " 'Ha-Seong',\n",
       " 'Elvis',\n",
       " 'MJ',\n",
       " 'Lane',\n",
       " 'Kyle',\n",
       " 'Andrew',\n",
       " 'Mike',\n",
       " 'Nick',\n",
       " 'Carlos',\n",
       " 'Jesse',\n",
       " 'Marcell',\n",
       " 'Tommy',\n",
       " 'Josh',\n",
       " 'AJ',\n",
       " 'J.P.',\n",
       " 'Whit',\n",
       " 'Javier',\n",
       " 'Jesus',\n",
       " \"Ke'Bryan\",\n",
       " 'Cody',\n",
       " 'Nelson',\n",
       " 'Yuli',\n",
       " 'Jorge',\n",
       " 'Tony',\n",
       " 'Isiah',\n",
       " 'Cesar',\n",
       " 'Trent',\n",
       " 'Adam',\n",
       " 'Miguel',\n",
       " 'Myles',\n",
       " 'Jonathan']"
      ]
     },
     "execution_count": 11,
     "metadata": {},
     "output_type": "execute_result"
    }
   ],
   "source": [
    "Nombre"
   ]
  },
  {
   "cell_type": "code",
   "execution_count": 51,
   "id": "80562b8f",
   "metadata": {},
   "outputs": [],
   "source": [
    "#lista con todos los apellidos\n",
    "Apellido=[Nombre_Apellido[x]for x in range(1,len(Nombre_Apellido),2)]"
   ]
  },
  {
   "cell_type": "code",
   "execution_count": 52,
   "id": "e629037f",
   "metadata": {},
   "outputs": [
    {
     "data": {
      "text/plain": [
       "['592450',\n",
       " '670541',\n",
       " '502671',\n",
       " '514888',\n",
       " '518692',\n",
       " '592518',\n",
       " '571448',\n",
       " '646240',\n",
       " '663586',\n",
       " '660271',\n",
       " '605141',\n",
       " '624413',\n",
       " '608070',\n",
       " '677594',\n",
       " '665742',\n",
       " '663993',\n",
       " '665926',\n",
       " '643446',\n",
       " '593428',\n",
       " '621043',\n",
       " '621493',\n",
       " '656941',\n",
       " '547989',\n",
       " '650490',\n",
       " '608324',\n",
       " '592663',\n",
       " '665489',\n",
       " '519203',\n",
       " '516782',\n",
       " '543807',\n",
       " '592273',\n",
       " '607208',\n",
       " '669257',\n",
       " '663656',\n",
       " '606192',\n",
       " '592669',\n",
       " '668804',\n",
       " '572233',\n",
       " '666182',\n",
       " '621566',\n",
       " '607043',\n",
       " '650333',\n",
       " '656555',\n",
       " '553993',\n",
       " '502110',\n",
       " '596019',\n",
       " '457759',\n",
       " '672386',\n",
       " '605137',\n",
       " '543068',\n",
       " '664023',\n",
       " '621020',\n",
       " '664034',\n",
       " '680757',\n",
       " '623993',\n",
       " '668227',\n",
       " '643217',\n",
       " '608369',\n",
       " '592192',\n",
       " '642133',\n",
       " '570482',\n",
       " '660670',\n",
       " '650402',\n",
       " '669221',\n",
       " '656305',\n",
       " '642715',\n",
       " '666969',\n",
       " '683734',\n",
       " '664913',\n",
       " '662139',\n",
       " '641857',\n",
       " '668942',\n",
       " '592885',\n",
       " '663538',\n",
       " '518934',\n",
       " '453568',\n",
       " '663898',\n",
       " '543760',\n",
       " '657077',\n",
       " '606466',\n",
       " '663624',\n",
       " '500871',\n",
       " '669242',\n",
       " '545341',\n",
       " '621550',\n",
       " '650859',\n",
       " '630105',\n",
       " '642731',\n",
       " '595777',\n",
       " '677951',\n",
       " '656775',\n",
       " '669720',\n",
       " '665161',\n",
       " '642708',\n",
       " '664761',\n",
       " '571970',\n",
       " '527038',\n",
       " '641820',\n",
       " '572228',\n",
       " '673490',\n",
       " '462101',\n",
       " '669004',\n",
       " '657041',\n",
       " '571657',\n",
       " '457705',\n",
       " '573262',\n",
       " '592206',\n",
       " '467793',\n",
       " '608385',\n",
       " '542303',\n",
       " '502054',\n",
       " '518626',\n",
       " '572041',\n",
       " '641487',\n",
       " '593160',\n",
       " '595879',\n",
       " '542583',\n",
       " '663647',\n",
       " '641355',\n",
       " '443558',\n",
       " '493329',\n",
       " '622761',\n",
       " '643393',\n",
       " '643396',\n",
       " '514917',\n",
       " '663757',\n",
       " '624428',\n",
       " '500743',\n",
       " '664702',\n",
       " '570731']"
      ]
     },
     "execution_count": 52,
     "metadata": {},
     "output_type": "execute_result"
    }
   ],
   "source": [
    "#lista numero referencia\n",
    "lista_ref"
   ]
  },
  {
   "cell_type": "code",
   "execution_count": 29,
   "id": "04aba792",
   "metadata": {},
   "outputs": [
    {
     "name": "stdout",
     "output_type": "stream",
     "text": [
      "https://www.mlb.com/es/player/592450\n",
      "https://www.mlb.com/es/player/670541\n",
      "https://www.mlb.com/es/player/502671\n",
      "https://www.mlb.com/es/player/514888\n",
      "https://www.mlb.com/es/player/518692\n",
      "https://www.mlb.com/es/player/592518\n",
      "https://www.mlb.com/es/player/571448\n",
      "https://www.mlb.com/es/player/646240\n",
      "https://www.mlb.com/es/player/663586\n",
      "https://www.mlb.com/es/player/660271\n",
      "https://www.mlb.com/es/player/605141\n",
      "https://www.mlb.com/es/player/624413\n",
      "https://www.mlb.com/es/player/608070\n",
      "https://www.mlb.com/es/player/677594\n",
      "https://www.mlb.com/es/player/665742\n",
      "https://www.mlb.com/es/player/663993\n",
      "https://www.mlb.com/es/player/665926\n",
      "https://www.mlb.com/es/player/643446\n",
      "https://www.mlb.com/es/player/593428\n",
      "https://www.mlb.com/es/player/621043\n",
      "https://www.mlb.com/es/player/621493\n",
      "https://www.mlb.com/es/player/656941\n",
      "https://www.mlb.com/es/player/547989\n",
      "https://www.mlb.com/es/player/650490\n",
      "https://www.mlb.com/es/player/608324\n",
      "https://www.mlb.com/es/player/592663\n",
      "https://www.mlb.com/es/player/665489\n",
      "https://www.mlb.com/es/player/519203\n",
      "https://www.mlb.com/es/player/516782\n",
      "https://www.mlb.com/es/player/543807\n",
      "https://www.mlb.com/es/player/592273\n",
      "https://www.mlb.com/es/player/607208\n",
      "https://www.mlb.com/es/player/669257\n",
      "https://www.mlb.com/es/player/663656\n",
      "https://www.mlb.com/es/player/606192\n",
      "https://www.mlb.com/es/player/592669\n",
      "https://www.mlb.com/es/player/668804\n",
      "https://www.mlb.com/es/player/572233\n",
      "https://www.mlb.com/es/player/666182\n",
      "https://www.mlb.com/es/player/621566\n",
      "https://www.mlb.com/es/player/607043\n",
      "https://www.mlb.com/es/player/650333\n",
      "https://www.mlb.com/es/player/656555\n",
      "https://www.mlb.com/es/player/553993\n",
      "https://www.mlb.com/es/player/502110\n",
      "https://www.mlb.com/es/player/596019\n",
      "https://www.mlb.com/es/player/457759\n",
      "https://www.mlb.com/es/player/672386\n",
      "https://www.mlb.com/es/player/605137\n",
      "https://www.mlb.com/es/player/543068\n",
      "https://www.mlb.com/es/player/664023\n",
      "https://www.mlb.com/es/player/621020\n",
      "https://www.mlb.com/es/player/664034\n",
      "https://www.mlb.com/es/player/680757\n",
      "https://www.mlb.com/es/player/623993\n",
      "https://www.mlb.com/es/player/668227\n",
      "https://www.mlb.com/es/player/643217\n",
      "https://www.mlb.com/es/player/608369\n",
      "https://www.mlb.com/es/player/592192\n",
      "https://www.mlb.com/es/player/642133\n",
      "https://www.mlb.com/es/player/570482\n",
      "https://www.mlb.com/es/player/660670\n",
      "https://www.mlb.com/es/player/650402\n",
      "https://www.mlb.com/es/player/669221\n",
      "https://www.mlb.com/es/player/656305\n",
      "https://www.mlb.com/es/player/642715\n",
      "https://www.mlb.com/es/player/666969\n",
      "https://www.mlb.com/es/player/683734\n",
      "https://www.mlb.com/es/player/664913\n",
      "https://www.mlb.com/es/player/662139\n",
      "https://www.mlb.com/es/player/641857\n",
      "https://www.mlb.com/es/player/668942\n",
      "https://www.mlb.com/es/player/592885\n",
      "https://www.mlb.com/es/player/663538\n",
      "https://www.mlb.com/es/player/518934\n",
      "https://www.mlb.com/es/player/453568\n",
      "https://www.mlb.com/es/player/663898\n",
      "https://www.mlb.com/es/player/543760\n",
      "https://www.mlb.com/es/player/657077\n",
      "https://www.mlb.com/es/player/606466\n",
      "https://www.mlb.com/es/player/663624\n",
      "https://www.mlb.com/es/player/500871\n",
      "https://www.mlb.com/es/player/669242\n",
      "https://www.mlb.com/es/player/545341\n",
      "https://www.mlb.com/es/player/621550\n",
      "https://www.mlb.com/es/player/650859\n",
      "https://www.mlb.com/es/player/630105\n",
      "https://www.mlb.com/es/player/642731\n",
      "https://www.mlb.com/es/player/595777\n",
      "https://www.mlb.com/es/player/677951\n",
      "https://www.mlb.com/es/player/656775\n",
      "https://www.mlb.com/es/player/669720\n",
      "https://www.mlb.com/es/player/665161\n",
      "https://www.mlb.com/es/player/642708\n",
      "https://www.mlb.com/es/player/664761\n",
      "https://www.mlb.com/es/player/571970\n",
      "https://www.mlb.com/es/player/527038\n",
      "https://www.mlb.com/es/player/641820\n",
      "https://www.mlb.com/es/player/572228\n",
      "https://www.mlb.com/es/player/673490\n",
      "https://www.mlb.com/es/player/462101\n",
      "https://www.mlb.com/es/player/669004\n",
      "https://www.mlb.com/es/player/657041\n",
      "https://www.mlb.com/es/player/571657\n",
      "https://www.mlb.com/es/player/457705\n",
      "https://www.mlb.com/es/player/573262\n",
      "https://www.mlb.com/es/player/592206\n",
      "https://www.mlb.com/es/player/467793\n",
      "https://www.mlb.com/es/player/608385\n",
      "https://www.mlb.com/es/player/542303\n",
      "https://www.mlb.com/es/player/502054\n",
      "https://www.mlb.com/es/player/518626\n",
      "https://www.mlb.com/es/player/572041\n",
      "https://www.mlb.com/es/player/641487\n",
      "https://www.mlb.com/es/player/593160\n",
      "https://www.mlb.com/es/player/595879\n",
      "https://www.mlb.com/es/player/542583\n",
      "https://www.mlb.com/es/player/663647\n",
      "https://www.mlb.com/es/player/641355\n",
      "https://www.mlb.com/es/player/443558\n",
      "https://www.mlb.com/es/player/493329\n",
      "https://www.mlb.com/es/player/622761\n",
      "https://www.mlb.com/es/player/643393\n",
      "https://www.mlb.com/es/player/643396\n",
      "https://www.mlb.com/es/player/514917\n",
      "https://www.mlb.com/es/player/663757\n",
      "https://www.mlb.com/es/player/624428\n",
      "https://www.mlb.com/es/player/500743\n",
      "https://www.mlb.com/es/player/664702\n",
      "https://www.mlb.com/es/player/570731\n"
     ]
    }
   ],
   "source": [
    "#link de los jugadores\n",
    "lista_link_player=[]\n",
    "for i in  range(len(lista_ref)):    \n",
    "    ref= lista_ref[i]\n",
    "    url_jugador= f\"https://www.mlb.com/es/player/{ref}\"\n",
    "    print(url_jugador)\n",
    "    lista_link_player.append(url_jugador)"
   ]
  },
  {
   "cell_type": "code",
   "execution_count": 30,
   "id": "c636c22c",
   "metadata": {},
   "outputs": [
    {
     "data": {
      "text/plain": [
       "130"
      ]
     },
     "execution_count": 30,
     "metadata": {},
     "output_type": "execute_result"
    }
   ],
   "source": [
    "len(lista_link_player)"
   ]
  },
  {
   "cell_type": "markdown",
   "id": "85b50aef",
   "metadata": {},
   "source": [
    "#De cada jugador:\n",
    "\n",
    "1.Equipo\n",
    "\n",
    "2.Numero en el uniforme\n",
    "\n",
    "3.Posicion/Mano Bateo/ Mano Lanzar\n",
    "\n",
    "4.Edad\n",
    "\n",
    "5.Altura\n",
    "\n",
    "6.Peso\n",
    "\n",
    "7.Apodo\n",
    "\n",
    "8.Fecha Nac: dia/ Mes/Año\n",
    "\n",
    "9.Fecha debut dia mes Año\n"
   ]
  },
  {
   "cell_type": "code",
   "execution_count": null,
   "id": "eeb3f1c1",
   "metadata": {},
   "outputs": [],
   "source": [
    "### voy a sacar los valores individuales y luego hago el bucle\n",
    "\n",
    "\n"
   ]
  },
  {
   "cell_type": "code",
   "execution_count": 148,
   "id": "f22eb24e",
   "metadata": {},
   "outputs": [],
   "source": [
    "#para 1 jugador \n",
    "\n",
    "jugador= \"https://www.mlb.com/es/player/670541\"\n",
    "\n",
    "response = requests.get(jugador)\n",
    "soup = BeautifulSoup(response.text, \"html.parser\")"
   ]
  },
  {
   "cell_type": "code",
   "execution_count": 119,
   "id": "422e8bc6",
   "metadata": {
    "scrolled": true
   },
   "outputs": [
    {
     "name": "stdout",
     "output_type": "stream",
     "text": [
      "<Response [200]>\n",
      "True\n"
     ]
    }
   ],
   "source": [
    "print(response)\n",
    "print(bool(response))"
   ]
  },
  {
   "cell_type": "code",
   "execution_count": 120,
   "id": "2cdb29e8",
   "metadata": {},
   "outputs": [
    {
     "data": {
      "text/plain": [
       "'Los Yankees de Nueva York'"
      ]
     },
     "execution_count": 120,
     "metadata": {},
     "output_type": "execute_result"
    }
   ],
   "source": [
    "Equipo=soup.find(\"img\").get(\"alt\")\n",
    "Equipo\n"
   ]
  },
  {
   "cell_type": "code",
   "execution_count": 121,
   "id": "a9fb70ff",
   "metadata": {},
   "outputs": [
    {
     "data": {
      "text/plain": [
       "'99'"
      ]
     },
     "execution_count": 121,
     "metadata": {},
     "output_type": "execute_result"
    }
   ],
   "source": [
    "Numero=soup.find(\"span\", class_=\"player-header--vitals-number\")\n",
    "Numero.text.replace(\"#\", \"\")"
   ]
  },
  {
   "cell_type": "code",
   "execution_count": 122,
   "id": "d6dbe1dd",
   "metadata": {},
   "outputs": [
    {
     "data": {
      "text/plain": [
       "'CF'"
      ]
     },
     "execution_count": 122,
     "metadata": {},
     "output_type": "execute_result"
    }
   ],
   "source": [
    "Posicion=soup.find(\"ul\").text.strip().split()[0]\n",
    "Posicion"
   ]
  },
  {
   "cell_type": "code",
   "execution_count": 123,
   "id": "883951a8",
   "metadata": {},
   "outputs": [
    {
     "data": {
      "text/plain": [
       "'R'"
      ]
     },
     "execution_count": 123,
     "metadata": {},
     "output_type": "execute_result"
    }
   ],
   "source": [
    "Mano_Bateo=soup.find(\"ul\").text.strip().split()[2][0]\n",
    "Mano_Bateo"
   ]
  },
  {
   "cell_type": "code",
   "execution_count": 124,
   "id": "0c3beff9",
   "metadata": {
    "scrolled": true
   },
   "outputs": [
    {
     "data": {
      "text/plain": [
       "'R'"
      ]
     },
     "execution_count": 124,
     "metadata": {},
     "output_type": "execute_result"
    }
   ],
   "source": [
    "Mano_Lanzar=soup.find(\"ul\").text.strip().split()[2][-1]\n",
    "Mano_Lanzar"
   ]
  },
  {
   "cell_type": "code",
   "execution_count": 125,
   "id": "6b670aeb",
   "metadata": {
    "scrolled": true
   },
   "outputs": [
    {
     "data": {
      "text/plain": [
       "127.91"
      ]
     },
     "execution_count": 125,
     "metadata": {},
     "output_type": "execute_result"
    }
   ],
   "source": [
    "#conversion de pies y pulgadas  a metro\n",
    "Peso_Kg=round((float(soup.find(\"ul\").text.strip().split()[-3].split(\"/\")[1])/2.20462),2)\n",
    "Peso_Kg"
   ]
  },
  {
   "cell_type": "code",
   "execution_count": 126,
   "id": "c9ae8eed",
   "metadata": {},
   "outputs": [
    {
     "data": {
      "text/plain": [
       "1.8288000000000002"
      ]
     },
     "execution_count": 126,
     "metadata": {},
     "output_type": "execute_result"
    }
   ],
   "source": [
    "a=float(soup.find(\"ul\").text.strip().split()[3].split(\"'\")[0])* 0.3048\n",
    "a"
   ]
  },
  {
   "cell_type": "code",
   "execution_count": 127,
   "id": "9b83ac44",
   "metadata": {},
   "outputs": [
    {
     "data": {
      "text/plain": [
       "0.17779999999999999"
      ]
     },
     "execution_count": 127,
     "metadata": {},
     "output_type": "execute_result"
    }
   ],
   "source": [
    "b=float(soup.find(\"ul\").text.strip().split()[4][0])*0.0254\n",
    "b"
   ]
  },
  {
   "cell_type": "code",
   "execution_count": 128,
   "id": "57cecc0f",
   "metadata": {},
   "outputs": [
    {
     "data": {
      "text/plain": [
       "2.01"
      ]
     },
     "execution_count": 128,
     "metadata": {},
     "output_type": "execute_result"
    }
   ],
   "source": [
    "Estatura=round((a+b),2)\n",
    "Estatura"
   ]
  },
  {
   "cell_type": "code",
   "execution_count": null,
   "id": "26558c9d",
   "metadata": {},
   "outputs": [],
   "source": []
  },
  {
   "cell_type": "code",
   "execution_count": 129,
   "id": "2f2d3b16",
   "metadata": {
    "scrolled": true
   },
   "outputs": [
    {
     "data": {
      "text/plain": [
       "31"
      ]
     },
     "execution_count": 129,
     "metadata": {},
     "output_type": "execute_result"
    }
   ],
   "source": [
    "Edad= int(soup.find(\"ul\").text.split(\"\\n\")[-2].split(\": \")[-1])\n",
    "Edad"
   ]
  },
  {
   "cell_type": "code",
   "execution_count": 149,
   "id": "8fd7d361",
   "metadata": {},
   "outputs": [
    {
     "data": {
      "text/plain": [
       "['',\n",
       " 'Nombre Completo: Yordan Ruben Alvarez',\n",
       " 'Apodo: Yordan',\n",
       " 'Nacido: 6/27/1997',\n",
       " '                                   en Las Tunas, Cuba',\n",
       " 'Debut: 6/09/2019',\n",
       " '']"
      ]
     },
     "execution_count": 149,
     "metadata": {},
     "output_type": "execute_result"
    }
   ],
   "source": [
    "datos=soup.find_all(\"ul\")[1].text.split(\"\\n\")\n",
    "\n",
    "datos"
   ]
  },
  {
   "cell_type": "code",
   "execution_count": 150,
   "id": "85eaea20",
   "metadata": {},
   "outputs": [
    {
     "name": "stdout",
     "output_type": "stream",
     "text": [
      " 6/27/1997\n",
      " 6/09/2019\n"
     ]
    }
   ],
   "source": [
    "for i in datos:     \n",
    "    if i.startswith(\"Nacido:\"):\n",
    "        nacido=(i.split(\":\")[1])\n",
    "        print(nacido)\n",
    "    if i.startswith(\"Debut\"):\n",
    "        debut=(i.split(\":\")[1])\n",
    "        print(debut)"
   ]
  },
  {
   "cell_type": "code",
   "execution_count": null,
   "id": "7d66a5a5",
   "metadata": {},
   "outputs": [],
   "source": []
  },
  {
   "cell_type": "code",
   "execution_count": 136,
   "id": "c50f7037",
   "metadata": {},
   "outputs": [
    {
     "name": "stdout",
     "output_type": "stream",
     "text": [
      " 6/27/1997\n",
      " 6/09/2019\n"
     ]
    }
   ],
   "source": [
    "for i in datos:    \n",
    "    if i.startswith(\"Nacido:\"):\n",
    "        nacido=(i.split(\":\")[1])\n",
    "        print(Nacido)\n",
    "    if i.startswith(\"Debut:\"):\n",
    "        debut=(i.split(\":\")[1])\n",
    "        print(Debut)\n",
    "        \n",
    "        "
   ]
  },
  {
   "cell_type": "code",
   "execution_count": null,
   "id": "9aa7c010",
   "metadata": {},
   "outputs": [],
   "source": []
  },
  {
   "cell_type": "code",
   "execution_count": null,
   "id": "5b5d6d49",
   "metadata": {},
   "outputs": [],
   "source": []
  },
  {
   "cell_type": "code",
   "execution_count": 46,
   "id": "81fc6b80",
   "metadata": {},
   "outputs": [
    {
     "data": {
      "text/plain": [
       "'Yordan'"
      ]
     },
     "execution_count": 46,
     "metadata": {},
     "output_type": "execute_result"
    }
   ],
   "source": [
    "# Apodo=soup.find_all(\"li\")[5].text.split(\": \")[-1]\n",
    "# Apodo"
   ]
  },
  {
   "cell_type": "code",
   "execution_count": 47,
   "id": "a3cb3bbb",
   "metadata": {},
   "outputs": [
    {
     "data": {
      "text/plain": [
       "'6/27/1997'"
      ]
     },
     "execution_count": 47,
     "metadata": {},
     "output_type": "execute_result"
    }
   ],
   "source": [
    "# Fecha_nac=soup.find_all(\"li\")[6].text.split(\"\\n\")[0].split(\": \")[-1]\n",
    "# Fecha_nac"
   ]
  },
  {
   "cell_type": "code",
   "execution_count": 48,
   "id": "97a594ef",
   "metadata": {},
   "outputs": [
    {
     "data": {
      "text/plain": [
       "'6/09/2019'"
      ]
     },
     "execution_count": 48,
     "metadata": {},
     "output_type": "execute_result"
    }
   ],
   "source": [
    "# Fecha_Debut=soup.find_all(\"li\")[7].text.split(\"\\n\")[0].split(\": \")[-1]\n",
    "# Fecha_Debut"
   ]
  },
  {
   "cell_type": "code",
   "execution_count": null,
   "id": "b37c16d6",
   "metadata": {},
   "outputs": [],
   "source": [
    "#Estadisticas de jugador(Leyenda):\n",
    "\n",
    "J: Juegos Jugados\n",
    "\n",
    "TB: Turnos al Bate\n",
    "\n",
    "C: Carreras\n",
    "\n",
    "H: Hits\n",
    "\n",
    "2B: Dobles\n",
    "\n",
    "3B: Triples\n",
    "\n",
    "HR: Jonrones\n",
    "\n",
    "CI: Carreras Impulsadas\n",
    "\n",
    "BB: Bases Por Bolas(Boletos)\n",
    "\n",
    "P: Ponches\n",
    "\n",
    "BR: Bases Robadas\n",
    "\n",
    "AR: Atrapado Robando\n",
    "\n",
    "PRO: Promedio al bate(HITS/ TURNO AL BATE)\n",
    "\n",
    "OBP: (ON BASE PORCENTAGE) Porcentaje de embasado (Sume usted los hits que conecta el bateador, las bases por bolas que recibe y las veces que es golpeado por un lanzamiento.)\n",
    "\n",
    "SLG: Indices de bases totales(1B+2B*B+3B*3+HR*4)/ Veces al Bate\n",
    "\n",
    "OPS: % DE ALCANZAR BASES(OBP + SLG)(ON BASE PLUS SLUGGING)\"agrega porcentaje de embasado y porcentaje de slugging para obtener un número que une a los dos. Su objetivo es combinar lo bien que un bateador puede llegar a la base, con lo bien que puede batear para promedio y poder.\"\n",
    "\n",
    "B/T : (BAT/THROW)(BATEAR/TIRAR)\n",
    "\n",
    "\n",
    "\n",
    "\n",
    "\n"
   ]
  },
  {
   "cell_type": "code",
   "execution_count": 153,
   "id": "821c95f5",
   "metadata": {},
   "outputs": [
    {
     "name": "stdout",
     "output_type": "stream",
     "text": [
      "https://www.mlb.com/es/player/592450\n",
      "Faltan 130 jugadores\n",
      "https://www.mlb.com/es/player/670541\n",
      "Faltan 129 jugadores\n",
      "https://www.mlb.com/es/player/502671\n",
      "Faltan 128 jugadores\n",
      "https://www.mlb.com/es/player/514888\n",
      "Faltan 127 jugadores\n",
      "https://www.mlb.com/es/player/518692\n",
      "Faltan 126 jugadores\n",
      "https://www.mlb.com/es/player/592518\n",
      "Faltan 125 jugadores\n",
      "https://www.mlb.com/es/player/571448\n",
      "Faltan 124 jugadores\n",
      "https://www.mlb.com/es/player/646240\n",
      "Faltan 123 jugadores\n",
      "https://www.mlb.com/es/player/663586\n",
      "Faltan 122 jugadores\n",
      "https://www.mlb.com/es/player/660271\n",
      "Faltan 121 jugadores\n",
      "https://www.mlb.com/es/player/605141\n",
      "Faltan 120 jugadores\n",
      "https://www.mlb.com/es/player/624413\n",
      "Faltan 119 jugadores\n",
      "https://www.mlb.com/es/player/608070\n",
      "Faltan 118 jugadores\n",
      "https://www.mlb.com/es/player/677594\n",
      "Faltan 117 jugadores\n",
      "https://www.mlb.com/es/player/665742\n",
      "Faltan 116 jugadores\n",
      "https://www.mlb.com/es/player/663993\n",
      "Faltan 115 jugadores\n",
      "https://www.mlb.com/es/player/665926\n",
      "Faltan 114 jugadores\n",
      "https://www.mlb.com/es/player/643446\n",
      "Faltan 113 jugadores\n",
      "https://www.mlb.com/es/player/593428\n",
      "Faltan 112 jugadores\n",
      "https://www.mlb.com/es/player/621043\n",
      "Faltan 111 jugadores\n",
      "https://www.mlb.com/es/player/621493\n",
      "Faltan 110 jugadores\n",
      "https://www.mlb.com/es/player/656941\n",
      "Faltan 109 jugadores\n",
      "https://www.mlb.com/es/player/547989\n",
      "Faltan 108 jugadores\n",
      "https://www.mlb.com/es/player/650490\n",
      "Faltan 107 jugadores\n",
      "https://www.mlb.com/es/player/608324\n",
      "Faltan 106 jugadores\n",
      "https://www.mlb.com/es/player/592663\n",
      "Faltan 105 jugadores\n",
      "https://www.mlb.com/es/player/665489\n",
      "Faltan 104 jugadores\n",
      "https://www.mlb.com/es/player/519203\n",
      "Faltan 103 jugadores\n",
      "https://www.mlb.com/es/player/516782\n",
      "Faltan 102 jugadores\n",
      "https://www.mlb.com/es/player/543807\n",
      "Faltan 101 jugadores\n",
      "https://www.mlb.com/es/player/592273\n",
      "Faltan 100 jugadores\n",
      "https://www.mlb.com/es/player/607208\n",
      "Faltan 99 jugadores\n",
      "https://www.mlb.com/es/player/669257\n",
      "Faltan 98 jugadores\n",
      "https://www.mlb.com/es/player/663656\n",
      "Faltan 97 jugadores\n",
      "https://www.mlb.com/es/player/606192\n",
      "Faltan 96 jugadores\n",
      "https://www.mlb.com/es/player/592669\n",
      "Faltan 95 jugadores\n",
      "https://www.mlb.com/es/player/668804\n",
      "Faltan 94 jugadores\n",
      "https://www.mlb.com/es/player/572233\n",
      "Faltan 93 jugadores\n",
      "https://www.mlb.com/es/player/666182\n",
      "Faltan 92 jugadores\n",
      "https://www.mlb.com/es/player/621566\n",
      "Faltan 91 jugadores\n",
      "https://www.mlb.com/es/player/607043\n",
      "Faltan 90 jugadores\n",
      "https://www.mlb.com/es/player/650333\n",
      "Faltan 89 jugadores\n",
      "https://www.mlb.com/es/player/656555\n",
      "Faltan 88 jugadores\n",
      "https://www.mlb.com/es/player/553993\n",
      "Faltan 87 jugadores\n",
      "https://www.mlb.com/es/player/502110\n",
      "Faltan 86 jugadores\n",
      "https://www.mlb.com/es/player/596019\n",
      "Faltan 85 jugadores\n",
      "https://www.mlb.com/es/player/457759\n",
      "Faltan 84 jugadores\n",
      "https://www.mlb.com/es/player/672386\n",
      "Faltan 83 jugadores\n",
      "https://www.mlb.com/es/player/605137\n",
      "Faltan 82 jugadores\n",
      "https://www.mlb.com/es/player/543068\n",
      "Faltan 81 jugadores\n",
      "https://www.mlb.com/es/player/664023\n",
      "Faltan 80 jugadores\n",
      "https://www.mlb.com/es/player/621020\n",
      "Faltan 79 jugadores\n",
      "https://www.mlb.com/es/player/664034\n",
      "Faltan 78 jugadores\n",
      "https://www.mlb.com/es/player/680757\n",
      "Faltan 77 jugadores\n",
      "https://www.mlb.com/es/player/623993\n",
      "Faltan 76 jugadores\n",
      "https://www.mlb.com/es/player/668227\n",
      "Faltan 75 jugadores\n",
      "https://www.mlb.com/es/player/643217\n",
      "Faltan 74 jugadores\n",
      "https://www.mlb.com/es/player/608369\n",
      "Faltan 73 jugadores\n",
      "https://www.mlb.com/es/player/592192\n",
      "Faltan 72 jugadores\n",
      "https://www.mlb.com/es/player/642133\n",
      "Faltan 71 jugadores\n",
      "https://www.mlb.com/es/player/570482\n",
      "Faltan 70 jugadores\n",
      "https://www.mlb.com/es/player/660670\n",
      "Faltan 69 jugadores\n",
      "https://www.mlb.com/es/player/650402\n",
      "Faltan 68 jugadores\n",
      "https://www.mlb.com/es/player/669221\n",
      "Faltan 67 jugadores\n",
      "https://www.mlb.com/es/player/656305\n",
      "Faltan 66 jugadores\n",
      "https://www.mlb.com/es/player/642715\n",
      "Faltan 65 jugadores\n",
      "https://www.mlb.com/es/player/666969\n",
      "Faltan 64 jugadores\n",
      "https://www.mlb.com/es/player/683734\n",
      "Faltan 63 jugadores\n",
      "https://www.mlb.com/es/player/664913\n",
      "Faltan 62 jugadores\n",
      "https://www.mlb.com/es/player/662139\n",
      "Faltan 61 jugadores\n",
      "https://www.mlb.com/es/player/641857\n",
      "Faltan 60 jugadores\n",
      "https://www.mlb.com/es/player/668942\n",
      "Faltan 59 jugadores\n",
      "https://www.mlb.com/es/player/592885\n",
      "Faltan 58 jugadores\n",
      "https://www.mlb.com/es/player/663538\n",
      "Faltan 57 jugadores\n",
      "https://www.mlb.com/es/player/518934\n",
      "Faltan 56 jugadores\n",
      "https://www.mlb.com/es/player/453568\n",
      "Faltan 55 jugadores\n",
      "https://www.mlb.com/es/player/663898\n",
      "Faltan 54 jugadores\n",
      "https://www.mlb.com/es/player/543760\n",
      "Faltan 53 jugadores\n",
      "https://www.mlb.com/es/player/657077\n",
      "Faltan 52 jugadores\n",
      "https://www.mlb.com/es/player/606466\n",
      "Faltan 51 jugadores\n",
      "https://www.mlb.com/es/player/663624\n",
      "Faltan 50 jugadores\n",
      "https://www.mlb.com/es/player/500871\n",
      "Faltan 49 jugadores\n",
      "https://www.mlb.com/es/player/669242\n",
      "Faltan 48 jugadores\n",
      "https://www.mlb.com/es/player/545341\n",
      "Faltan 47 jugadores\n",
      "https://www.mlb.com/es/player/621550\n",
      "Faltan 46 jugadores\n",
      "https://www.mlb.com/es/player/650859\n",
      "Faltan 45 jugadores\n",
      "https://www.mlb.com/es/player/630105\n",
      "Faltan 44 jugadores\n",
      "https://www.mlb.com/es/player/642731\n",
      "Faltan 43 jugadores\n",
      "https://www.mlb.com/es/player/595777\n",
      "Faltan 42 jugadores\n",
      "https://www.mlb.com/es/player/677951\n",
      "Faltan 41 jugadores\n",
      "https://www.mlb.com/es/player/656775\n",
      "Faltan 40 jugadores\n",
      "https://www.mlb.com/es/player/669720\n",
      "Faltan 39 jugadores\n",
      "https://www.mlb.com/es/player/665161\n",
      "Faltan 38 jugadores\n",
      "https://www.mlb.com/es/player/642708\n",
      "Faltan 37 jugadores\n",
      "https://www.mlb.com/es/player/664761\n",
      "Faltan 36 jugadores\n",
      "https://www.mlb.com/es/player/571970\n",
      "Faltan 35 jugadores\n",
      "https://www.mlb.com/es/player/527038\n",
      "Faltan 34 jugadores\n",
      "https://www.mlb.com/es/player/641820\n",
      "Faltan 33 jugadores\n",
      "https://www.mlb.com/es/player/572228\n",
      "Faltan 32 jugadores\n",
      "https://www.mlb.com/es/player/673490\n",
      "Faltan 31 jugadores\n",
      "https://www.mlb.com/es/player/462101\n",
      "Faltan 30 jugadores\n",
      "https://www.mlb.com/es/player/669004\n",
      "Faltan 29 jugadores\n",
      "https://www.mlb.com/es/player/657041\n",
      "Faltan 28 jugadores\n",
      "https://www.mlb.com/es/player/571657\n",
      "Faltan 27 jugadores\n",
      "https://www.mlb.com/es/player/457705\n",
      "Faltan 26 jugadores\n",
      "https://www.mlb.com/es/player/573262\n",
      "Faltan 25 jugadores\n",
      "https://www.mlb.com/es/player/592206\n",
      "Faltan 24 jugadores\n",
      "https://www.mlb.com/es/player/467793\n",
      "Faltan 23 jugadores\n",
      "https://www.mlb.com/es/player/608385\n",
      "Faltan 22 jugadores\n",
      "https://www.mlb.com/es/player/542303\n",
      "Faltan 21 jugadores\n",
      "https://www.mlb.com/es/player/502054\n",
      "Faltan 20 jugadores\n",
      "https://www.mlb.com/es/player/518626\n",
      "Faltan 19 jugadores\n",
      "https://www.mlb.com/es/player/572041\n",
      "Faltan 18 jugadores\n",
      "https://www.mlb.com/es/player/641487\n",
      "Faltan 17 jugadores\n",
      "https://www.mlb.com/es/player/593160\n",
      "Faltan 16 jugadores\n",
      "https://www.mlb.com/es/player/595879\n",
      "Faltan 15 jugadores\n",
      "https://www.mlb.com/es/player/542583\n",
      "Faltan 14 jugadores\n",
      "https://www.mlb.com/es/player/663647\n",
      "Faltan 13 jugadores\n",
      "https://www.mlb.com/es/player/641355\n",
      "Faltan 12 jugadores\n",
      "https://www.mlb.com/es/player/443558\n",
      "Faltan 11 jugadores\n",
      "https://www.mlb.com/es/player/493329\n",
      "Faltan 10 jugadores\n",
      "https://www.mlb.com/es/player/622761\n",
      "Faltan 9 jugadores\n",
      "https://www.mlb.com/es/player/643393\n",
      "Faltan 8 jugadores\n",
      "https://www.mlb.com/es/player/643396\n",
      "Faltan 7 jugadores\n",
      "https://www.mlb.com/es/player/514917\n",
      "Faltan 6 jugadores\n",
      "https://www.mlb.com/es/player/663757\n",
      "Faltan 5 jugadores\n",
      "https://www.mlb.com/es/player/624428\n",
      "Faltan 4 jugadores\n",
      "https://www.mlb.com/es/player/500743\n",
      "Faltan 3 jugadores\n",
      "https://www.mlb.com/es/player/664702\n",
      "Faltan 2 jugadores\n",
      "https://www.mlb.com/es/player/570731\n",
      "Faltan 1 jugadores\n"
     ]
    },
    {
     "name": "stderr",
     "output_type": "stream",
     "text": [
      "UsageError: Line magic function `%%time` not found.\n"
     ]
    }
   ],
   "source": [
    "\n",
    "Team=[]\n",
    "Number=[]\n",
    "Posicion=[]\n",
    "Apodo=[]\n",
    "Edad=[]\n",
    "Fecha_nac=[]\n",
    "Fecha_Debut=[]\n",
    "Peso_Kg=[]\n",
    "Estatura=[]\n",
    "Mano_Bateo=[]\n",
    "Mano_Lanzar=[]\n",
    "\n",
    "\n",
    "c=0\n",
    "for jugador in (lista_link_player):\n",
    "    \n",
    "    print(jugador)    \n",
    "    print(f\"Faltan {len(lista_link_player)- c } jugadores\")\n",
    "    c+=1\n",
    "    \n",
    "    response = requests.get(jugador)\n",
    "    soup = BeautifulSoup(response.text, \"html.parser\")\n",
    "    sleep(0.04)\n",
    "        \n",
    "    #EQUIPO###########\n",
    "    equipo=soup.find(\"img\").get(\"alt\")    \n",
    "    Team.append(equipo)\n",
    "    sleep(0.01)\n",
    "    \n",
    "    #DORSAL###########\n",
    "    numero=soup.find(\"span\", class_=\"player-header--vitals-number\").text.replace(\"#\", \"\")\n",
    "    Number.append(numero)\n",
    "    sleep(0.01)\n",
    "    \n",
    "    #POSICION##########\n",
    "    posicion=soup.find(\"ul\").text.strip().split()[0]\n",
    "    Posicion.append(posicion)\n",
    "    sleep(0.01)\n",
    "    \n",
    "    #FECHA NAC Y FECHA DEBUT\n",
    "    datos=soup.find_all(\"ul\")[1].text.split(\"\\n\")\n",
    "    for i in datos:\n",
    "        if i.startswith(\"Nacido:\"):\n",
    "            nacido=(i.split(\":\")[1])\n",
    "            Fecha_nac.append(nacido)\n",
    "        if i.startswith(\"Debut\"):\n",
    "            debut=(i.split(\":\")[1])\n",
    "            Fecha_Debut.append(debut)\n",
    "\n",
    "    #EDAD###########\n",
    "    edad=int(soup.find(\"ul\").text.split(\"\\n\")[-2].split(\": \")[-1])\n",
    "    Edad.append(edad)\n",
    "    sleep(0.2)\n",
    "       \n",
    "    #PESO###########\n",
    "    peso=round((float(soup.find(\"ul\").text.strip().split()[-3].split(\"/\")[1])/2.20462),2)\n",
    "    Peso_Kg.append(peso)\n",
    "    sleep(0.2)\n",
    "    \n",
    "    \n",
    "    #ESTATURA\n",
    "    a=float(soup.find(\"ul\").text.strip().split()[3].split(\"'\")[0])* 0.3048\n",
    "    b=float(soup.find(\"ul\").text.strip().split()[4][0])*0.0254\n",
    "    estatura=round((a+b),2)\n",
    "    Estatura.append(estatura)\n",
    "    sleep(0.2)\n",
    "    \n",
    "    #MANO DE BATEO\n",
    "    mano_bateo=soup.find(\"ul\").text.strip().split()[2][0]\n",
    "    Mano_Bateo.append(mano_bateo)\n",
    "    sleep(0.2)\n",
    "    \n",
    "    #MANO DE LANZAR\n",
    "    mano_lanzar=soup.find(\"ul\").text.strip().split()[2][-1]\n",
    "    Mano_Lanzar.append(mano_lanzar)\n",
    "    sleep(0.2)\n",
    "    \n",
    "    \n",
    "\n",
    "        \n",
    "\n",
    "\n"
   ]
  },
  {
   "cell_type": "code",
   "execution_count": null,
   "id": "7237f7e7",
   "metadata": {},
   "outputs": [],
   "source": []
  },
  {
   "cell_type": "code",
   "execution_count": 154,
   "id": "2dbd7070",
   "metadata": {},
   "outputs": [],
   "source": [
    "df_idplayers=pd.DataFrame()\n",
    "\n",
    "df_idplayers[\"num_ref\"]=lista_ref\n",
    "df_idplayers[\"Posicion\"]=Posicion\n",
    "df_idplayers[\"Nombre\"]=Nombre\n",
    "df_idplayers[\"Apellido\"]=Apellido\n",
    "\n",
    "df_idplayers[\"Dorsal\"]=Number\n",
    "df_idplayers[\"Equipo\"]=Team\n",
    "df_idplayers[\"Fecha Nac\"]=Fecha_nac\n",
    "df_idplayers[\"Edad\"]=Edad\n",
    "df_idplayers[\"F_Debut\"]=Fecha_Debut\n",
    "df_idplayers[\"Peso(Kg)\"]=Peso_Kg\n",
    "df_idplayers[\"Estatura(mtrs)\"]=Estatura\n",
    "df_idplayers[\"Mano_Bateo\"]=Mano_Bateo\n",
    "df_idplayers[\"Mano_Lanzar\"]=Mano_Lanzar\n",
    "df_idplayers[\"Link_Ficha_Player\"]=lista_link_player"
   ]
  },
  {
   "cell_type": "code",
   "execution_count": 155,
   "id": "b29bb502",
   "metadata": {},
   "outputs": [
    {
     "name": "stdout",
     "output_type": "stream",
     "text": [
      "<class 'pandas.core.frame.DataFrame'>\n",
      "RangeIndex: 130 entries, 0 to 129\n",
      "Data columns (total 14 columns):\n",
      " #   Column             Non-Null Count  Dtype  \n",
      "---  ------             --------------  -----  \n",
      " 0   num_ref            130 non-null    object \n",
      " 1   Posicion           130 non-null    object \n",
      " 2   Nombre             130 non-null    object \n",
      " 3   Apellido           130 non-null    object \n",
      " 4   Dorsal             130 non-null    object \n",
      " 5   Equipo             130 non-null    object \n",
      " 6   Fecha Nac          130 non-null    object \n",
      " 7   Edad               130 non-null    int64  \n",
      " 8   F_Debut            130 non-null    object \n",
      " 9   Peso(Kg)           130 non-null    float64\n",
      " 10  Estatura(mtrs)     130 non-null    float64\n",
      " 11  Mano_Bateo         130 non-null    object \n",
      " 12  Mano_Lanzar        130 non-null    object \n",
      " 13  Link_Ficha_Player  130 non-null    object \n",
      "dtypes: float64(2), int64(1), object(11)\n",
      "memory usage: 14.3+ KB\n"
     ]
    }
   ],
   "source": [
    "df_idplayers.info()"
   ]
  },
  {
   "cell_type": "code",
   "execution_count": 156,
   "id": "7b23def6",
   "metadata": {},
   "outputs": [
    {
     "data": {
      "text/html": [
       "<div>\n",
       "<style scoped>\n",
       "    .dataframe tbody tr th:only-of-type {\n",
       "        vertical-align: middle;\n",
       "    }\n",
       "\n",
       "    .dataframe tbody tr th {\n",
       "        vertical-align: top;\n",
       "    }\n",
       "\n",
       "    .dataframe thead th {\n",
       "        text-align: right;\n",
       "    }\n",
       "</style>\n",
       "<table border=\"1\" class=\"dataframe\">\n",
       "  <thead>\n",
       "    <tr style=\"text-align: right;\">\n",
       "      <th></th>\n",
       "      <th>num_ref</th>\n",
       "      <th>Posicion</th>\n",
       "      <th>Nombre</th>\n",
       "      <th>Apellido</th>\n",
       "      <th>Dorsal</th>\n",
       "      <th>Equipo</th>\n",
       "      <th>Fecha Nac</th>\n",
       "      <th>Edad</th>\n",
       "      <th>F_Debut</th>\n",
       "      <th>Peso(Kg)</th>\n",
       "      <th>Estatura(mtrs)</th>\n",
       "      <th>Mano_Bateo</th>\n",
       "      <th>Mano_Lanzar</th>\n",
       "      <th>Link_Ficha_Player</th>\n",
       "    </tr>\n",
       "  </thead>\n",
       "  <tbody>\n",
       "    <tr>\n",
       "      <th>0</th>\n",
       "      <td>592450</td>\n",
       "      <td>CF</td>\n",
       "      <td>Aaron</td>\n",
       "      <td>Judge</td>\n",
       "      <td>99</td>\n",
       "      <td>Los Yankees de Nueva York</td>\n",
       "      <td>4/26/1992</td>\n",
       "      <td>31</td>\n",
       "      <td>8/13/2016</td>\n",
       "      <td>127.91</td>\n",
       "      <td>2.01</td>\n",
       "      <td>R</td>\n",
       "      <td>R</td>\n",
       "      <td>https://www.mlb.com/es/player/592450</td>\n",
       "    </tr>\n",
       "    <tr>\n",
       "      <th>1</th>\n",
       "      <td>670541</td>\n",
       "      <td>LF</td>\n",
       "      <td>Yordan</td>\n",
       "      <td>Alvarez</td>\n",
       "      <td>44</td>\n",
       "      <td>Los Astros de Houston</td>\n",
       "      <td>6/27/1997</td>\n",
       "      <td>25</td>\n",
       "      <td>6/09/2019</td>\n",
       "      <td>102.06</td>\n",
       "      <td>1.96</td>\n",
       "      <td>L</td>\n",
       "      <td>R</td>\n",
       "      <td>https://www.mlb.com/es/player/670541</td>\n",
       "    </tr>\n",
       "    <tr>\n",
       "      <th>2</th>\n",
       "      <td>502671</td>\n",
       "      <td>1B</td>\n",
       "      <td>Paul</td>\n",
       "      <td>Goldschmidt</td>\n",
       "      <td>46</td>\n",
       "      <td>Los Cardenales de San Luis</td>\n",
       "      <td>9/10/1987</td>\n",
       "      <td>35</td>\n",
       "      <td>8/01/2011</td>\n",
       "      <td>99.79</td>\n",
       "      <td>1.91</td>\n",
       "      <td>R</td>\n",
       "      <td>R</td>\n",
       "      <td>https://www.mlb.com/es/player/502671</td>\n",
       "    </tr>\n",
       "    <tr>\n",
       "      <th>3</th>\n",
       "      <td>514888</td>\n",
       "      <td>2B</td>\n",
       "      <td>Jose</td>\n",
       "      <td>Altuve</td>\n",
       "      <td>27</td>\n",
       "      <td>Los Astros de Houston</td>\n",
       "      <td>5/06/1990</td>\n",
       "      <td>33</td>\n",
       "      <td>7/20/2011</td>\n",
       "      <td>75.30</td>\n",
       "      <td>1.68</td>\n",
       "      <td>R</td>\n",
       "      <td>R</td>\n",
       "      <td>https://www.mlb.com/es/player/514888</td>\n",
       "    </tr>\n",
       "    <tr>\n",
       "      <th>4</th>\n",
       "      <td>518692</td>\n",
       "      <td>1B</td>\n",
       "      <td>Freddie</td>\n",
       "      <td>Freeman</td>\n",
       "      <td>5</td>\n",
       "      <td>Los Dodgers de Los Angeles</td>\n",
       "      <td>9/12/1989</td>\n",
       "      <td>33</td>\n",
       "      <td>9/01/2010</td>\n",
       "      <td>99.79</td>\n",
       "      <td>1.96</td>\n",
       "      <td>L</td>\n",
       "      <td>R</td>\n",
       "      <td>https://www.mlb.com/es/player/518692</td>\n",
       "    </tr>\n",
       "    <tr>\n",
       "      <th>...</th>\n",
       "      <td>...</td>\n",
       "      <td>...</td>\n",
       "      <td>...</td>\n",
       "      <td>...</td>\n",
       "      <td>...</td>\n",
       "      <td>...</td>\n",
       "      <td>...</td>\n",
       "      <td>...</td>\n",
       "      <td>...</td>\n",
       "      <td>...</td>\n",
       "      <td>...</td>\n",
       "      <td>...</td>\n",
       "      <td>...</td>\n",
       "      <td>...</td>\n",
       "    </tr>\n",
       "    <tr>\n",
       "      <th>125</th>\n",
       "      <td>663757</td>\n",
       "      <td>CF</td>\n",
       "      <td>Trent</td>\n",
       "      <td>Grisham</td>\n",
       "      <td>1</td>\n",
       "      <td>Los Padres de San Diego</td>\n",
       "      <td>11/01/1996</td>\n",
       "      <td>26</td>\n",
       "      <td>8/01/2019</td>\n",
       "      <td>101.60</td>\n",
       "      <td>1.55</td>\n",
       "      <td>L</td>\n",
       "      <td>L</td>\n",
       "      <td>https://www.mlb.com/es/player/663757</td>\n",
       "    </tr>\n",
       "    <tr>\n",
       "      <th>126</th>\n",
       "      <td>624428</td>\n",
       "      <td>2B</td>\n",
       "      <td>Adam</td>\n",
       "      <td>Frazier</td>\n",
       "      <td>12</td>\n",
       "      <td>Los Orioles de Baltimore</td>\n",
       "      <td>12/14/1991</td>\n",
       "      <td>31</td>\n",
       "      <td>6/24/2016</td>\n",
       "      <td>81.65</td>\n",
       "      <td>1.55</td>\n",
       "      <td>L</td>\n",
       "      <td>R</td>\n",
       "      <td>https://www.mlb.com/es/player/624428</td>\n",
       "    </tr>\n",
       "    <tr>\n",
       "      <th>127</th>\n",
       "      <td>500743</td>\n",
       "      <td>SS</td>\n",
       "      <td>Miguel</td>\n",
       "      <td>Rojas</td>\n",
       "      <td>11</td>\n",
       "      <td>Los Dodgers de Los Angeles</td>\n",
       "      <td>2/24/1989</td>\n",
       "      <td>34</td>\n",
       "      <td>6/06/2014</td>\n",
       "      <td>85.28</td>\n",
       "      <td>1.83</td>\n",
       "      <td>R</td>\n",
       "      <td>R</td>\n",
       "      <td>https://www.mlb.com/es/player/500743</td>\n",
       "    </tr>\n",
       "    <tr>\n",
       "      <th>128</th>\n",
       "      <td>664702</td>\n",
       "      <td>CF</td>\n",
       "      <td>Myles</td>\n",
       "      <td>Straw</td>\n",
       "      <td>7</td>\n",
       "      <td>Los Guardians de Cleveland</td>\n",
       "      <td>10/17/1994</td>\n",
       "      <td>28</td>\n",
       "      <td>9/15/2018</td>\n",
       "      <td>80.74</td>\n",
       "      <td>1.55</td>\n",
       "      <td>R</td>\n",
       "      <td>R</td>\n",
       "      <td>https://www.mlb.com/es/player/664702</td>\n",
       "    </tr>\n",
       "    <tr>\n",
       "      <th>129</th>\n",
       "      <td>570731</td>\n",
       "      <td>2B</td>\n",
       "      <td>Jonathan</td>\n",
       "      <td>Schoop</td>\n",
       "      <td>7</td>\n",
       "      <td>Los Tigers de Detroit</td>\n",
       "      <td>10/16/1991</td>\n",
       "      <td>31</td>\n",
       "      <td>9/25/2013</td>\n",
       "      <td>112.04</td>\n",
       "      <td>1.85</td>\n",
       "      <td>R</td>\n",
       "      <td>R</td>\n",
       "      <td>https://www.mlb.com/es/player/570731</td>\n",
       "    </tr>\n",
       "  </tbody>\n",
       "</table>\n",
       "<p>130 rows × 14 columns</p>\n",
       "</div>"
      ],
      "text/plain": [
       "    num_ref Posicion    Nombre     Apellido Dorsal  \\\n",
       "0    592450       CF     Aaron        Judge     99   \n",
       "1    670541       LF    Yordan      Alvarez     44   \n",
       "2    502671       1B      Paul  Goldschmidt     46   \n",
       "3    514888       2B      Jose       Altuve     27   \n",
       "4    518692       1B   Freddie      Freeman      5   \n",
       "..      ...      ...       ...          ...    ...   \n",
       "125  663757       CF     Trent      Grisham      1   \n",
       "126  624428       2B      Adam      Frazier     12   \n",
       "127  500743       SS    Miguel        Rojas     11   \n",
       "128  664702       CF     Myles        Straw      7   \n",
       "129  570731       2B  Jonathan       Schoop      7   \n",
       "\n",
       "                         Equipo    Fecha Nac  Edad     F_Debut  Peso(Kg)  \\\n",
       "0     Los Yankees de Nueva York    4/26/1992    31   8/13/2016    127.91   \n",
       "1         Los Astros de Houston    6/27/1997    25   6/09/2019    102.06   \n",
       "2    Los Cardenales de San Luis    9/10/1987    35   8/01/2011     99.79   \n",
       "3         Los Astros de Houston    5/06/1990    33   7/20/2011     75.30   \n",
       "4    Los Dodgers de Los Angeles    9/12/1989    33   9/01/2010     99.79   \n",
       "..                          ...          ...   ...         ...       ...   \n",
       "125     Los Padres de San Diego   11/01/1996    26   8/01/2019    101.60   \n",
       "126    Los Orioles de Baltimore   12/14/1991    31   6/24/2016     81.65   \n",
       "127  Los Dodgers de Los Angeles    2/24/1989    34   6/06/2014     85.28   \n",
       "128  Los Guardians de Cleveland   10/17/1994    28   9/15/2018     80.74   \n",
       "129       Los Tigers de Detroit   10/16/1991    31   9/25/2013    112.04   \n",
       "\n",
       "     Estatura(mtrs) Mano_Bateo Mano_Lanzar  \\\n",
       "0              2.01          R           R   \n",
       "1              1.96          L           R   \n",
       "2              1.91          R           R   \n",
       "3              1.68          R           R   \n",
       "4              1.96          L           R   \n",
       "..              ...        ...         ...   \n",
       "125            1.55          L           L   \n",
       "126            1.55          L           R   \n",
       "127            1.83          R           R   \n",
       "128            1.55          R           R   \n",
       "129            1.85          R           R   \n",
       "\n",
       "                        Link_Ficha_Player  \n",
       "0    https://www.mlb.com/es/player/592450  \n",
       "1    https://www.mlb.com/es/player/670541  \n",
       "2    https://www.mlb.com/es/player/502671  \n",
       "3    https://www.mlb.com/es/player/514888  \n",
       "4    https://www.mlb.com/es/player/518692  \n",
       "..                                    ...  \n",
       "125  https://www.mlb.com/es/player/663757  \n",
       "126  https://www.mlb.com/es/player/624428  \n",
       "127  https://www.mlb.com/es/player/500743  \n",
       "128  https://www.mlb.com/es/player/664702  \n",
       "129  https://www.mlb.com/es/player/570731  \n",
       "\n",
       "[130 rows x 14 columns]"
      ]
     },
     "execution_count": 156,
     "metadata": {},
     "output_type": "execute_result"
    }
   ],
   "source": [
    "df_idplayers"
   ]
  },
  {
   "cell_type": "code",
   "execution_count": 157,
   "id": "da83b565",
   "metadata": {},
   "outputs": [],
   "source": [
    "NaN_df=df_idplayers.isnull().any()"
   ]
  },
  {
   "cell_type": "code",
   "execution_count": 158,
   "id": "0825c88c",
   "metadata": {},
   "outputs": [
    {
     "name": "stdout",
     "output_type": "stream",
     "text": [
      "num_ref              False\n",
      "Posicion             False\n",
      "Nombre               False\n",
      "Apellido             False\n",
      "Dorsal               False\n",
      "Equipo               False\n",
      "Fecha Nac            False\n",
      "Edad                 False\n",
      "F_Debut              False\n",
      "Peso(Kg)             False\n",
      "Estatura(mtrs)       False\n",
      "Mano_Bateo           False\n",
      "Mano_Lanzar          False\n",
      "Link_Ficha_Player    False\n",
      "dtype: bool\n"
     ]
    }
   ],
   "source": [
    "print(NaN_df)"
   ]
  },
  {
   "cell_type": "code",
   "execution_count": null,
   "id": "8f29d455",
   "metadata": {},
   "outputs": [],
   "source": []
  },
  {
   "cell_type": "code",
   "execution_count": null,
   "id": "22b125bc",
   "metadata": {},
   "outputs": [],
   "source": []
  },
  {
   "cell_type": "code",
   "execution_count": null,
   "id": "243f13e5",
   "metadata": {},
   "outputs": [],
   "source": []
  },
  {
   "cell_type": "code",
   "execution_count": null,
   "id": "f43bbfd4",
   "metadata": {},
   "outputs": [],
   "source": []
  },
  {
   "cell_type": "code",
   "execution_count": null,
   "id": "cc156bb6",
   "metadata": {},
   "outputs": [],
   "source": []
  },
  {
   "cell_type": "code",
   "execution_count": null,
   "id": "e437346b",
   "metadata": {},
   "outputs": [],
   "source": []
  },
  {
   "cell_type": "code",
   "execution_count": null,
   "id": "900edf3a",
   "metadata": {},
   "outputs": [],
   "source": []
  }
 ],
 "metadata": {
  "kernelspec": {
   "display_name": "Python 3 (ipykernel)",
   "language": "python",
   "name": "python3"
  },
  "language_info": {
   "codemirror_mode": {
    "name": "ipython",
    "version": 3
   },
   "file_extension": ".py",
   "mimetype": "text/x-python",
   "name": "python",
   "nbconvert_exporter": "python",
   "pygments_lexer": "ipython3",
   "version": "3.10.9"
  }
 },
 "nbformat": 4,
 "nbformat_minor": 5
}
