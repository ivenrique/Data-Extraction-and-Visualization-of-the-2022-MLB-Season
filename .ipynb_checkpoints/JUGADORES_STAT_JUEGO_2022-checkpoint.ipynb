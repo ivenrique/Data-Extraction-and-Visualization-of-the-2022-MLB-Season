{
 "cells": [
  {
   "cell_type": "code",
   "execution_count": 1,
   "id": "9c11c0f5",
   "metadata": {},
   "outputs": [],
   "source": [
    "import numpy as np\n",
    "import pandas as pd\n",
    "\n",
    "import requests\n",
    "from bs4 import BeautifulSoup\n",
    "\n",
    "from time import sleep\n",
    "\n",
    "from pprint import pprint\n",
    "\n",
    "from selenium import webdriver\n",
    "from selenium.webdriver.common.by import By"
   ]
  },
  {
   "cell_type": "code",
   "execution_count": 2,
   "id": "77eca1cd",
   "metadata": {},
   "outputs": [
    {
     "name": "stdout",
     "output_type": "stream",
     "text": [
      "['https://www.mlb.com/es/stats/2022?page=1', 'https://www.mlb.com/es/stats/2022?page=2', 'https://www.mlb.com/es/stats/2022?page=3', 'https://www.mlb.com/es/stats/2022?page=4', 'https://www.mlb.com/es/stats/2022?page=5', 'https://www.mlb.com/es/stats/2022?page=6', 'https://www.mlb.com/es/stats/2022?page=7']\n"
     ]
    }
   ],
   "source": [
    "\n",
    "urls_paginas=[]\n",
    "for i in range(1,8):\n",
    "    string_url = f\"https://www.mlb.com/es/stats/2022?page={i}\"\n",
    "    urls_paginas.append(string_url)\n",
    "print(urls_paginas)"
   ]
  },
  {
   "cell_type": "code",
   "execution_count": 3,
   "id": "06b43f7c",
   "metadata": {},
   "outputs": [],
   "source": [
    "Nombre_Apellido=[]\n",
    "lista_ref=[]\n",
    "lista_link_player=[]\n",
    "EQUIPO=[]\n",
    "Juegos_jugados=[]\n",
    "Turnos_al_Bate=[]\n",
    "Carreras=[]\n",
    "Hits=[]\n",
    "Dobles=[]\n",
    "Triples=[]\n",
    "Jonrones=[]\n",
    "Carr_Impul=[]\n",
    "Base_Bolas=[]\n",
    "Ponches=[]\n",
    "Bases_robadas=[]\n",
    "Atrapado_robando=[]\n",
    "Promedio_Bateo=[]\n",
    "OBP=[]\n",
    "SLG=[]\n",
    "\n",
    "%%time\n",
    "\n",
    "for url in (urls_paginas):          \n",
    "               \n",
    "        response = requests.get(url)\n",
    "        soup = BeautifulSoup(response.text, \"html.parser\")\n",
    "                \n",
    "        for bs in soup.find_all(\"span\", class_=\"full-3fV3c9pF\"):\n",
    "            Nombre_Apellido.append(bs.text)      \n",
    "            \n",
    "        for bs in soup.find_all(\"div\", class_=\"top-wrapper-1NLTqKbE\"):            \n",
    "            ref=bs.find(class_=\"bui-link\")[\"href\"].split(\"/\")[-1]\n",
    "            lista_ref.append(ref)\n",
    "            \n",
    "            url_jugador= f\"https://www.mlb.com/es/player/{ref}\"\n",
    "            lista_link_player.append(url_jugador)\n",
    "        for bs in soup.find_all(class_=\"col-group-end-2UJpJVwW number-aY5arzrB align-left-3L2SU-Mk is-table-pinned-1WfPW2jT\")\n",
    "            EQUIPO.append(bs.text)\n",
    "            \n",
    "            \n",
    "len(lista_link_player)\n",
    "Nombre=[Nombre_Apellido[x]for x in range(0,len(Nombre_Apellido),2)]\n",
    "Apellido=[Nombre_Apellido[x]for x in range(1,len(Nombre_Apellido),2)]\n",
    "            "
   ]
  },
  {
   "cell_type": "code",
   "execution_count": null,
   "id": "96928a55",
   "metadata": {},
   "outputs": [],
   "source": []
  },
  {
   "cell_type": "code",
   "execution_count": 4,
   "id": "781139d5",
   "metadata": {},
   "outputs": [],
   "source": [
    "url=\"https://www.mlb.com/es/stats/2022?page=1\"\n",
    "response = requests.get(url)\n",
    "soup = BeautifulSoup(response.text, \"html.parser\""
   ]
  },
  {
   "cell_type": "code",
   "execution_count": null,
   "id": "62b9b800",
   "metadata": {},
   "outputs": [],
   "source": [
    "####EQUIPO"
   ]
  },
  {
   "cell_type": "code",
   "execution_count": 81,
   "id": "5d2065cf",
   "metadata": {},
   "outputs": [],
   "source": [
    "# data-col=\"1\" data-row=\"0\">NYY</td>\n",
    "equipo_bs=soup.find_all( class_=\"col-group-end-2UJpJVwW number-aY5arzrB align-left-3L2SU-Mk is-table-pinned-1WfPW2jT\")"
   ]
  },
  {
   "cell_type": "code",
   "execution_count": 88,
   "id": "dc95aa01",
   "metadata": {},
   "outputs": [],
   "source": [
    "equipos=[equipo_bs[x].text for x in range(len(equipo_bs))]"
   ]
  },
  {
   "cell_type": "code",
   "execution_count": 89,
   "id": "5dcdba87",
   "metadata": {},
   "outputs": [
    {
     "data": {
      "text/plain": [
       "['NYY',\n",
       " 'HOU',\n",
       " 'STL',\n",
       " 'HOU',\n",
       " 'LAD',\n",
       " 'SD',\n",
       " 'STL',\n",
       " 'BOS',\n",
       " 'ATL',\n",
       " 'LAA',\n",
       " 'LAD',\n",
       " 'NYM',\n",
       " 'CLE',\n",
       " 'SEA',\n",
       " 'SD',\n",
       " 'TEX',\n",
       " 'CLE',\n",
       " 'NYM',\n",
       " 'BOS',\n",
       " 'MIN',\n",
       " 'LAA',\n",
       " 'PHI',\n",
       " 'CWS',\n",
       " 'TB',\n",
       " 'HOU']"
      ]
     },
     "execution_count": 89,
     "metadata": {},
     "output_type": "execute_result"
    }
   ],
   "source": [
    "equipos"
   ]
  },
  {
   "cell_type": "code",
   "execution_count": 106,
   "id": "4bb475a1",
   "metadata": {},
   "outputs": [],
   "source": [
    "##JUEGOS JUGADOS\n",
    "a=soup.find_all(\"td\",\n",
    "              class_=\"col-group-start-sa9unvY0 number-aY5arzrB align-right-3nN_D3xs is-table-pinned-1WfPW2jT\",)"
   ]
  },
  {
   "cell_type": "code",
   "execution_count": 174,
   "id": "d82738a8",
   "metadata": {},
   "outputs": [
    {
     "data": {
      "text/plain": [
       "[<td class=\"col-group-start-sa9unvY0 number-aY5arzrB align-right-3nN_D3xs is-table-pinned-1WfPW2jT\" data-col=\"2\" data-row=\"0\" headers=\"tb-29-header-col2\" scope=\"row\">157</td>,\n",
       " <td class=\"col-group-start-sa9unvY0 number-aY5arzrB align-right-3nN_D3xs is-table-pinned-1WfPW2jT\" data-col=\"4\" data-row=\"0\" headers=\"tb-29-header-col4\" scope=\"row\">133</td>,\n",
       " <td class=\"col-group-start-sa9unvY0 number-aY5arzrB align-right-3nN_D3xs is-table-pinned-1WfPW2jT\" data-col=\"10\" data-row=\"0\" headers=\"tb-29-header-col10\" scope=\"row\"><a class=\"bui-link page-link-2KklYDa0 cell-link-372RKYcS\" href=\"https://www.mlb.com/video/search?q=BatterId+%3D+%5B592450%5D+AND+HitResult+%3D+%5B%22Walk%22%5D+AND+GameType+%3D+%5B%22REGULAR_SEASON%22%5D+AND+Season+%3D+%5B2022%5D+Order+By+Timestamp+DESC\" tabindex=\"0\">111</a></td>,\n",
       " <td class=\"col-group-start-sa9unvY0 number-aY5arzrB align-right-3nN_D3xs is-table-pinned-1WfPW2jT\" data-col=\"12\" data-row=\"0\" headers=\"tb-29-header-col12\" scope=\"row\">16</td>,\n",
       " <td class=\"col-group-start-sa9unvY0 number-aY5arzrB align-right-3nN_D3xs is-table-pinned-1WfPW2jT\" data-col=\"14\" data-row=\"0\" headers=\"tb-29-header-col14\" scope=\"row\">.311</td>]"
      ]
     },
     "execution_count": 174,
     "metadata": {},
     "output_type": "execute_result"
    }
   ],
   "source": [
    "\n",
    "a[0:5]"
   ]
  },
  {
   "cell_type": "code",
   "execution_count": 149,
   "id": "cff7fd07",
   "metadata": {},
   "outputs": [
    {
     "data": {
      "text/plain": [
       "125"
      ]
     },
     "execution_count": 149,
     "metadata": {},
     "output_type": "execute_result"
    }
   ],
   "source": [
    "len(a)"
   ]
  },
  {
   "cell_type": "code",
   "execution_count": 143,
   "id": "4e38e330",
   "metadata": {},
   "outputs": [
    {
     "data": {
      "text/plain": [
       "125.0"
      ]
     },
     "execution_count": 143,
     "metadata": {},
     "output_type": "execute_result"
    }
   ],
   "source": [
    "len(a)*5/5"
   ]
  },
  {
   "cell_type": "code",
   "execution_count": 172,
   "id": "2371f76e",
   "metadata": {},
   "outputs": [
    {
     "data": {
      "text/plain": [
       "['.311',\n",
       " '.306',\n",
       " '.317',\n",
       " '.300',\n",
       " '.325',\n",
       " '.298',\n",
       " '.293',\n",
       " '.295',\n",
       " '.273',\n",
       " '.273',\n",
       " '.269',\n",
       " '.271',\n",
       " '.280',\n",
       " '.284',\n",
       " '.242',\n",
       " '.302',\n",
       " '.297',\n",
       " '.326',\n",
       " '.307',\n",
       " '.291',\n",
       " '.281',\n",
       " '.218',\n",
       " '.304',\n",
       " '.296',\n",
       " '.259']"
      ]
     },
     "execution_count": 172,
     "metadata": {},
     "output_type": "execute_result"
    }
   ],
   "source": [
    "\n",
    "J=[]\n",
    "C=[]\n",
    "BB=[]\n",
    "BR=[]\n",
    "PRO=[]\n",
    "for x in range(0, len(a),5):\n",
    "    J.append(a[x:x+5][0].text)\n",
    "    C.append(a[x:x+5][1].text)\n",
    "    BB.append(a[x:x+5][2].text)\n",
    "    BR.append(a[x:x+5][3].text)\n",
    "    PRO.append(a[x:x+5][4].text)\n",
    "    \n",
    "    \n",
    "\n",
    "    \n"
   ]
  },
  {
   "cell_type": "code",
   "execution_count": 180,
   "id": "0412b759",
   "metadata": {},
   "outputs": [],
   "source": [
    "b=soup.find_all(class_=\"col-group-end-2UJpJVwW number-aY5arzrB align-right-3nN_D3xs is-table-pinned-1WfPW2jT\" )"
   ]
  },
  {
   "cell_type": "code",
   "execution_count": 181,
   "id": "44dd4160",
   "metadata": {
    "scrolled": false
   },
   "outputs": [
    {
     "data": {
      "text/plain": [
       "[<td class=\"col-group-end-2UJpJVwW number-aY5arzrB align-right-3nN_D3xs is-table-pinned-1WfPW2jT\" data-col=\"3\" data-row=\"0\" headers=\"tb-29-header-col3\" scope=\"row\">570</td>,\n",
       " <td class=\"col-group-end-2UJpJVwW number-aY5arzrB align-right-3nN_D3xs is-table-pinned-1WfPW2jT\" data-col=\"9\" data-row=\"0\" headers=\"tb-29-header-col9\" scope=\"row\">131</td>,\n",
       " <td class=\"col-group-end-2UJpJVwW number-aY5arzrB align-right-3nN_D3xs is-table-pinned-1WfPW2jT\" data-col=\"11\" data-row=\"0\" headers=\"tb-29-header-col11\" scope=\"row\"><a class=\"bui-link page-link-2KklYDa0 cell-link-372RKYcS\" href=\"https://www.mlb.com/video/search?q=BatterId+%3D+%5B592450%5D+AND+HitResult+%3D+%5B%22Strikeout%22%5D+AND+GameType+%3D+%5B%22REGULAR_SEASON%22%5D+AND+Season+%3D+%5B2022%5D+Order+By+Timestamp+DESC\" tabindex=\"0\">175</a></td>,\n",
       " <td class=\"col-group-end-2UJpJVwW number-aY5arzrB align-right-3nN_D3xs is-table-pinned-1WfPW2jT\" data-col=\"13\" data-row=\"0\" headers=\"tb-29-header-col13\" scope=\"row\">3</td>,\n",
       " <td class=\"col-group-end-2UJpJVwW number-aY5arzrB align-right-3nN_D3xs is-table-pinned-1WfPW2jT\" data-col=\"3\" data-row=\"1\" headers=\"tb-29-header-col3\" scope=\"row\">470</td>,\n",
       " <td class=\"col-group-end-2UJpJVwW number-aY5arzrB align-right-3nN_D3xs is-table-pinned-1WfPW2jT\" data-col=\"9\" data-row=\"1\" headers=\"tb-29-header-col9\" scope=\"row\">97</td>,\n",
       " <td class=\"col-group-end-2UJpJVwW number-aY5arzrB align-right-3nN_D3xs is-table-pinned-1WfPW2jT\" data-col=\"11\" data-row=\"1\" headers=\"tb-29-header-col11\" scope=\"row\"><a class=\"bui-link page-link-2KklYDa0 cell-link-372RKYcS\" href=\"https://www.mlb.com/video/search?q=BatterId+%3D+%5B670541%5D+AND+HitResult+%3D+%5B%22Strikeout%22%5D+AND+GameType+%3D+%5B%22REGULAR_SEASON%22%5D+AND+Season+%3D+%5B2022%5D+Order+By+Timestamp+DESC\" tabindex=\"0\">106</a></td>,\n",
       " <td class=\"col-group-end-2UJpJVwW number-aY5arzrB align-right-3nN_D3xs is-table-pinned-1WfPW2jT\" data-col=\"13\" data-row=\"1\" headers=\"tb-29-header-col13\" scope=\"row\">1</td>,\n",
       " <td class=\"col-group-end-2UJpJVwW number-aY5arzrB align-right-3nN_D3xs is-table-pinned-1WfPW2jT\" data-col=\"3\" data-row=\"2\" headers=\"tb-29-header-col3\" scope=\"row\">561</td>,\n",
       " <td class=\"col-group-end-2UJpJVwW number-aY5arzrB align-right-3nN_D3xs is-table-pinned-1WfPW2jT\" data-col=\"9\" data-row=\"2\" headers=\"tb-29-header-col9\" scope=\"row\">115</td>,\n",
       " <td class=\"col-group-end-2UJpJVwW number-aY5arzrB align-right-3nN_D3xs is-table-pinned-1WfPW2jT\" data-col=\"11\" data-row=\"2\" headers=\"tb-29-header-col11\" scope=\"row\"><a class=\"bui-link page-link-2KklYDa0 cell-link-372RKYcS\" href=\"https://www.mlb.com/video/search?q=BatterId+%3D+%5B502671%5D+AND+HitResult+%3D+%5B%22Strikeout%22%5D+AND+GameType+%3D+%5B%22REGULAR_SEASON%22%5D+AND+Season+%3D+%5B2022%5D+Order+By+Timestamp+DESC\" tabindex=\"0\">141</a></td>,\n",
       " <td class=\"col-group-end-2UJpJVwW number-aY5arzrB align-right-3nN_D3xs is-table-pinned-1WfPW2jT\" data-col=\"13\" data-row=\"2\" headers=\"tb-29-header-col13\" scope=\"row\">0</td>,\n",
       " <td class=\"col-group-end-2UJpJVwW number-aY5arzrB align-right-3nN_D3xs is-table-pinned-1WfPW2jT\" data-col=\"3\" data-row=\"3\" headers=\"tb-29-header-col3\" scope=\"row\">527</td>,\n",
       " <td class=\"col-group-end-2UJpJVwW number-aY5arzrB align-right-3nN_D3xs is-table-pinned-1WfPW2jT\" data-col=\"9\" data-row=\"3\" headers=\"tb-29-header-col9\" scope=\"row\">57</td>,\n",
       " <td class=\"col-group-end-2UJpJVwW number-aY5arzrB align-right-3nN_D3xs is-table-pinned-1WfPW2jT\" data-col=\"11\" data-row=\"3\" headers=\"tb-29-header-col11\" scope=\"row\"><a class=\"bui-link page-link-2KklYDa0 cell-link-372RKYcS\" href=\"https://www.mlb.com/video/search?q=BatterId+%3D+%5B514888%5D+AND+HitResult+%3D+%5B%22Strikeout%22%5D+AND+GameType+%3D+%5B%22REGULAR_SEASON%22%5D+AND+Season+%3D+%5B2022%5D+Order+By+Timestamp+DESC\" tabindex=\"0\">87</a></td>,\n",
       " <td class=\"col-group-end-2UJpJVwW number-aY5arzrB align-right-3nN_D3xs is-table-pinned-1WfPW2jT\" data-col=\"13\" data-row=\"3\" headers=\"tb-29-header-col13\" scope=\"row\">1</td>,\n",
       " <td class=\"col-group-end-2UJpJVwW number-aY5arzrB align-right-3nN_D3xs is-table-pinned-1WfPW2jT\" data-col=\"3\" data-row=\"4\" headers=\"tb-29-header-col3\" scope=\"row\">612</td>,\n",
       " <td class=\"col-group-end-2UJpJVwW number-aY5arzrB align-right-3nN_D3xs is-table-pinned-1WfPW2jT\" data-col=\"9\" data-row=\"4\" headers=\"tb-29-header-col9\" scope=\"row\">100</td>,\n",
       " <td class=\"col-group-end-2UJpJVwW number-aY5arzrB align-right-3nN_D3xs is-table-pinned-1WfPW2jT\" data-col=\"11\" data-row=\"4\" headers=\"tb-29-header-col11\" scope=\"row\"><a class=\"bui-link page-link-2KklYDa0 cell-link-372RKYcS\" href=\"https://www.mlb.com/video/search?q=BatterId+%3D+%5B518692%5D+AND+HitResult+%3D+%5B%22Strikeout%22%5D+AND+GameType+%3D+%5B%22REGULAR_SEASON%22%5D+AND+Season+%3D+%5B2022%5D+Order+By+Timestamp+DESC\" tabindex=\"0\">102</a></td>,\n",
       " <td class=\"col-group-end-2UJpJVwW number-aY5arzrB align-right-3nN_D3xs is-table-pinned-1WfPW2jT\" data-col=\"13\" data-row=\"4\" headers=\"tb-29-header-col13\" scope=\"row\">3</td>,\n",
       " <td class=\"col-group-end-2UJpJVwW number-aY5arzrB align-right-3nN_D3xs is-table-pinned-1WfPW2jT\" data-col=\"3\" data-row=\"5\" headers=\"tb-29-header-col3\" scope=\"row\">578</td>,\n",
       " <td class=\"col-group-end-2UJpJVwW number-aY5arzrB align-right-3nN_D3xs is-table-pinned-1WfPW2jT\" data-col=\"9\" data-row=\"5\" headers=\"tb-29-header-col9\" scope=\"row\">102</td>,\n",
       " <td class=\"col-group-end-2UJpJVwW number-aY5arzrB align-right-3nN_D3xs is-table-pinned-1WfPW2jT\" data-col=\"11\" data-row=\"5\" headers=\"tb-29-header-col11\" scope=\"row\"><a class=\"bui-link page-link-2KklYDa0 cell-link-372RKYcS\" href=\"https://www.mlb.com/video/search?q=BatterId+%3D+%5B592518%5D+AND+HitResult+%3D+%5B%22Strikeout%22%5D+AND+GameType+%3D+%5B%22REGULAR_SEASON%22%5D+AND+Season+%3D+%5B2022%5D+Order+By+Timestamp+DESC\" tabindex=\"0\">133</a></td>,\n",
       " <td class=\"col-group-end-2UJpJVwW number-aY5arzrB align-right-3nN_D3xs is-table-pinned-1WfPW2jT\" data-col=\"13\" data-row=\"5\" headers=\"tb-29-header-col13\" scope=\"row\">1</td>,\n",
       " <td class=\"col-group-end-2UJpJVwW number-aY5arzrB align-right-3nN_D3xs is-table-pinned-1WfPW2jT\" data-col=\"3\" data-row=\"6\" headers=\"tb-29-header-col3\" scope=\"row\">557</td>,\n",
       " <td class=\"col-group-end-2UJpJVwW number-aY5arzrB align-right-3nN_D3xs is-table-pinned-1WfPW2jT\" data-col=\"9\" data-row=\"6\" headers=\"tb-29-header-col9\" scope=\"row\">103</td>,\n",
       " <td class=\"col-group-end-2UJpJVwW number-aY5arzrB align-right-3nN_D3xs is-table-pinned-1WfPW2jT\" data-col=\"11\" data-row=\"6\" headers=\"tb-29-header-col11\" scope=\"row\"><a class=\"bui-link page-link-2KklYDa0 cell-link-372RKYcS\" href=\"https://www.mlb.com/video/search?q=BatterId+%3D+%5B571448%5D+AND+HitResult+%3D+%5B%22Strikeout%22%5D+AND+GameType+%3D+%5B%22REGULAR_SEASON%22%5D+AND+Season+%3D+%5B2022%5D+Order+By+Timestamp+DESC\" tabindex=\"0\">72</a></td>,\n",
       " <td class=\"col-group-end-2UJpJVwW number-aY5arzrB align-right-3nN_D3xs is-table-pinned-1WfPW2jT\" data-col=\"13\" data-row=\"6\" headers=\"tb-29-header-col13\" scope=\"row\">3</td>,\n",
       " <td class=\"col-group-end-2UJpJVwW number-aY5arzrB align-right-3nN_D3xs is-table-pinned-1WfPW2jT\" data-col=\"3\" data-row=\"7\" headers=\"tb-29-header-col3\" scope=\"row\">555</td>,\n",
       " <td class=\"col-group-end-2UJpJVwW number-aY5arzrB align-right-3nN_D3xs is-table-pinned-1WfPW2jT\" data-col=\"9\" data-row=\"7\" headers=\"tb-29-header-col9\" scope=\"row\">88</td>,\n",
       " <td class=\"col-group-end-2UJpJVwW number-aY5arzrB align-right-3nN_D3xs is-table-pinned-1WfPW2jT\" data-col=\"11\" data-row=\"7\" headers=\"tb-29-header-col11\" scope=\"row\"><a class=\"bui-link page-link-2KklYDa0 cell-link-372RKYcS\" href=\"https://www.mlb.com/video/search?q=BatterId+%3D+%5B646240%5D+AND+HitResult+%3D+%5B%22Strikeout%22%5D+AND+GameType+%3D+%5B%22REGULAR_SEASON%22%5D+AND+Season+%3D+%5B2022%5D+Order+By+Timestamp+DESC\" tabindex=\"0\">114</a></td>,\n",
       " <td class=\"col-group-end-2UJpJVwW number-aY5arzrB align-right-3nN_D3xs is-table-pinned-1WfPW2jT\" data-col=\"13\" data-row=\"7\" headers=\"tb-29-header-col13\" scope=\"row\">1</td>,\n",
       " <td class=\"col-group-end-2UJpJVwW number-aY5arzrB align-right-3nN_D3xs is-table-pinned-1WfPW2jT\" data-col=\"3\" data-row=\"8\" headers=\"tb-29-header-col3\" scope=\"row\">615</td>,\n",
       " <td class=\"col-group-end-2UJpJVwW number-aY5arzrB align-right-3nN_D3xs is-table-pinned-1WfPW2jT\" data-col=\"9\" data-row=\"8\" headers=\"tb-29-header-col9\" scope=\"row\">93</td>,\n",
       " <td class=\"col-group-end-2UJpJVwW number-aY5arzrB align-right-3nN_D3xs is-table-pinned-1WfPW2jT\" data-col=\"11\" data-row=\"8\" headers=\"tb-29-header-col11\" scope=\"row\"><a class=\"bui-link page-link-2KklYDa0 cell-link-372RKYcS\" href=\"https://www.mlb.com/video/search?q=BatterId+%3D+%5B663586%5D+AND+HitResult+%3D+%5B%22Strikeout%22%5D+AND+GameType+%3D+%5B%22REGULAR_SEASON%22%5D+AND+Season+%3D+%5B2022%5D+Order+By+Timestamp+DESC\" tabindex=\"0\">168</a></td>,\n",
       " <td class=\"col-group-end-2UJpJVwW number-aY5arzrB align-right-3nN_D3xs is-table-pinned-1WfPW2jT\" data-col=\"13\" data-row=\"8\" headers=\"tb-29-header-col13\" scope=\"row\">0</td>,\n",
       " <td class=\"col-group-end-2UJpJVwW number-aY5arzrB align-right-3nN_D3xs is-table-pinned-1WfPW2jT\" data-col=\"3\" data-row=\"9\" headers=\"tb-29-header-col3\" scope=\"row\">586</td>,\n",
       " <td class=\"col-group-end-2UJpJVwW number-aY5arzrB align-right-3nN_D3xs is-table-pinned-1WfPW2jT\" data-col=\"9\" data-row=\"9\" headers=\"tb-29-header-col9\" scope=\"row\">95</td>,\n",
       " <td class=\"col-group-end-2UJpJVwW number-aY5arzrB align-right-3nN_D3xs is-table-pinned-1WfPW2jT\" data-col=\"11\" data-row=\"9\" headers=\"tb-29-header-col11\" scope=\"row\"><a class=\"bui-link page-link-2KklYDa0 cell-link-372RKYcS\" href=\"https://www.mlb.com/video/search?q=BatterId+%3D+%5B660271%5D+AND+HitResult+%3D+%5B%22Strikeout%22%5D+AND+GameType+%3D+%5B%22REGULAR_SEASON%22%5D+AND+Season+%3D+%5B2022%5D+Order+By+Timestamp+DESC\" tabindex=\"0\">161</a></td>,\n",
       " <td class=\"col-group-end-2UJpJVwW number-aY5arzrB align-right-3nN_D3xs is-table-pinned-1WfPW2jT\" data-col=\"13\" data-row=\"9\" headers=\"tb-29-header-col13\" scope=\"row\">9</td>,\n",
       " <td class=\"col-group-end-2UJpJVwW number-aY5arzrB align-right-3nN_D3xs is-table-pinned-1WfPW2jT\" data-col=\"3\" data-row=\"10\" headers=\"tb-29-header-col3\" scope=\"row\">572</td>,\n",
       " <td class=\"col-group-end-2UJpJVwW number-aY5arzrB align-right-3nN_D3xs is-table-pinned-1WfPW2jT\" data-col=\"9\" data-row=\"10\" headers=\"tb-29-header-col9\" scope=\"row\">82</td>,\n",
       " <td class=\"col-group-end-2UJpJVwW number-aY5arzrB align-right-3nN_D3xs is-table-pinned-1WfPW2jT\" data-col=\"11\" data-row=\"10\" headers=\"tb-29-header-col11\" scope=\"row\"><a class=\"bui-link page-link-2KklYDa0 cell-link-372RKYcS\" href=\"https://www.mlb.com/video/search?q=BatterId+%3D+%5B605141%5D+AND+HitResult+%3D+%5B%22Strikeout%22%5D+AND+GameType+%3D+%5B%22REGULAR_SEASON%22%5D+AND+Season+%3D+%5B2022%5D+Order+By+Timestamp+DESC\" tabindex=\"0\">104</a></td>,\n",
       " <td class=\"col-group-end-2UJpJVwW number-aY5arzrB align-right-3nN_D3xs is-table-pinned-1WfPW2jT\" data-col=\"13\" data-row=\"10\" headers=\"tb-29-header-col13\" scope=\"row\">2</td>,\n",
       " <td class=\"col-group-end-2UJpJVwW number-aY5arzrB align-right-3nN_D3xs is-table-pinned-1WfPW2jT\" data-col=\"3\" data-row=\"11\" headers=\"tb-29-header-col3\" scope=\"row\">597</td>,\n",
       " <td class=\"col-group-end-2UJpJVwW number-aY5arzrB align-right-3nN_D3xs is-table-pinned-1WfPW2jT\" data-col=\"9\" data-row=\"11\" headers=\"tb-29-header-col9\" scope=\"row\">131</td>,\n",
       " <td class=\"col-group-end-2UJpJVwW number-aY5arzrB align-right-3nN_D3xs is-table-pinned-1WfPW2jT\" data-col=\"11\" data-row=\"11\" headers=\"tb-29-header-col11\" scope=\"row\"><a class=\"bui-link page-link-2KklYDa0 cell-link-372RKYcS\" href=\"https://www.mlb.com/video/search?q=BatterId+%3D+%5B624413%5D+AND+HitResult+%3D+%5B%22Strikeout%22%5D+AND+GameType+%3D+%5B%22REGULAR_SEASON%22%5D+AND+Season+%3D+%5B2022%5D+Order+By+Timestamp+DESC\" tabindex=\"0\">128</a></td>,\n",
       " <td class=\"col-group-end-2UJpJVwW number-aY5arzrB align-right-3nN_D3xs is-table-pinned-1WfPW2jT\" data-col=\"13\" data-row=\"11\" headers=\"tb-29-header-col13\" scope=\"row\">1</td>,\n",
       " <td class=\"col-group-end-2UJpJVwW number-aY5arzrB align-right-3nN_D3xs is-table-pinned-1WfPW2jT\" data-col=\"3\" data-row=\"12\" headers=\"tb-29-header-col3\" scope=\"row\">601</td>,\n",
       " <td class=\"col-group-end-2UJpJVwW number-aY5arzrB align-right-3nN_D3xs is-table-pinned-1WfPW2jT\" data-col=\"9\" data-row=\"12\" headers=\"tb-29-header-col9\" scope=\"row\">126</td>,\n",
       " <td class=\"col-group-end-2UJpJVwW number-aY5arzrB align-right-3nN_D3xs is-table-pinned-1WfPW2jT\" data-col=\"11\" data-row=\"12\" headers=\"tb-29-header-col11\" scope=\"row\"><a class=\"bui-link page-link-2KklYDa0 cell-link-372RKYcS\" href=\"https://www.mlb.com/video/search?q=BatterId+%3D+%5B608070%5D+AND+HitResult+%3D+%5B%22Strikeout%22%5D+AND+GameType+%3D+%5B%22REGULAR_SEASON%22%5D+AND+Season+%3D+%5B2022%5D+Order+By+Timestamp+DESC\" tabindex=\"0\">82</a></td>,\n",
       " <td class=\"col-group-end-2UJpJVwW number-aY5arzrB align-right-3nN_D3xs is-table-pinned-1WfPW2jT\" data-col=\"13\" data-row=\"12\" headers=\"tb-29-header-col13\" scope=\"row\">7</td>,\n",
       " <td class=\"col-group-end-2UJpJVwW number-aY5arzrB align-right-3nN_D3xs is-table-pinned-1WfPW2jT\" data-col=\"3\" data-row=\"13\" headers=\"tb-29-header-col3\" scope=\"row\">511</td>,\n",
       " <td class=\"col-group-end-2UJpJVwW number-aY5arzrB align-right-3nN_D3xs is-table-pinned-1WfPW2jT\" data-col=\"9\" data-row=\"13\" headers=\"tb-29-header-col9\" scope=\"row\">75</td>,\n",
       " <td class=\"col-group-end-2UJpJVwW number-aY5arzrB align-right-3nN_D3xs is-table-pinned-1WfPW2jT\" data-col=\"11\" data-row=\"13\" headers=\"tb-29-header-col11\" scope=\"row\"><a class=\"bui-link page-link-2KklYDa0 cell-link-372RKYcS\" href=\"https://www.mlb.com/video/search?q=BatterId+%3D+%5B677594%5D+AND+HitResult+%3D+%5B%22Strikeout%22%5D+AND+GameType+%3D+%5B%22REGULAR_SEASON%22%5D+AND+Season+%3D+%5B2022%5D+Order+By+Timestamp+DESC\" tabindex=\"0\">145</a></td>,\n",
       " <td class=\"col-group-end-2UJpJVwW number-aY5arzrB align-right-3nN_D3xs is-table-pinned-1WfPW2jT\" data-col=\"13\" data-row=\"13\" headers=\"tb-29-header-col13\" scope=\"row\">7</td>,\n",
       " <td class=\"col-group-end-2UJpJVwW number-aY5arzrB align-right-3nN_D3xs is-table-pinned-1WfPW2jT\" data-col=\"3\" data-row=\"14\" headers=\"tb-29-header-col3\" scope=\"row\">524</td>,\n",
       " <td class=\"col-group-end-2UJpJVwW number-aY5arzrB align-right-3nN_D3xs is-table-pinned-1WfPW2jT\" data-col=\"9\" data-row=\"14\" headers=\"tb-29-header-col9\" scope=\"row\">62</td>,\n",
       " <td class=\"col-group-end-2UJpJVwW number-aY5arzrB align-right-3nN_D3xs is-table-pinned-1WfPW2jT\" data-col=\"11\" data-row=\"14\" headers=\"tb-29-header-col11\" scope=\"row\"><a class=\"bui-link page-link-2KklYDa0 cell-link-372RKYcS\" href=\"https://www.mlb.com/video/search?q=BatterId+%3D+%5B665742%5D+AND+HitResult+%3D+%5B%22Strikeout%22%5D+AND+GameType+%3D+%5B%22REGULAR_SEASON%22%5D+AND+Season+%3D+%5B2022%5D+Order+By+Timestamp+DESC\" tabindex=\"0\">96</a></td>,\n",
       " <td class=\"col-group-end-2UJpJVwW number-aY5arzrB align-right-3nN_D3xs is-table-pinned-1WfPW2jT\" data-col=\"13\" data-row=\"14\" headers=\"tb-29-header-col13\" scope=\"row\">2</td>,\n",
       " <td class=\"col-group-end-2UJpJVwW number-aY5arzrB align-right-3nN_D3xs is-table-pinned-1WfPW2jT\" data-col=\"3\" data-row=\"15\" headers=\"tb-29-header-col3\" scope=\"row\">593</td>,\n",
       " <td class=\"col-group-end-2UJpJVwW number-aY5arzrB align-right-3nN_D3xs is-table-pinned-1WfPW2jT\" data-col=\"9\" data-row=\"15\" headers=\"tb-29-header-col9\" scope=\"row\">76</td>,\n",
       " <td class=\"col-group-end-2UJpJVwW number-aY5arzrB align-right-3nN_D3xs is-table-pinned-1WfPW2jT\" data-col=\"11\" data-row=\"15\" headers=\"tb-29-header-col11\" scope=\"row\"><a class=\"bui-link page-link-2KklYDa0 cell-link-372RKYcS\" href=\"https://www.mlb.com/video/search?q=BatterId+%3D+%5B663993%5D+AND+HitResult+%3D+%5B%22Strikeout%22%5D+AND+GameType+%3D+%5B%22REGULAR_SEASON%22%5D+AND+Season+%3D+%5B2022%5D+Order+By+Timestamp+DESC\" tabindex=\"0\">147</a></td>,\n",
       " <td class=\"col-group-end-2UJpJVwW number-aY5arzrB align-right-3nN_D3xs is-table-pinned-1WfPW2jT\" data-col=\"13\" data-row=\"15\" headers=\"tb-29-header-col13\" scope=\"row\">2</td>,\n",
       " <td class=\"col-group-end-2UJpJVwW number-aY5arzrB align-right-3nN_D3xs is-table-pinned-1WfPW2jT\" data-col=\"3\" data-row=\"16\" headers=\"tb-29-header-col3\" scope=\"row\">491</td>,\n",
       " <td class=\"col-group-end-2UJpJVwW number-aY5arzrB align-right-3nN_D3xs is-table-pinned-1WfPW2jT\" data-col=\"9\" data-row=\"16\" headers=\"tb-29-header-col9\" scope=\"row\">69</td>,\n",
       " <td class=\"col-group-end-2UJpJVwW number-aY5arzrB align-right-3nN_D3xs is-table-pinned-1WfPW2jT\" data-col=\"11\" data-row=\"16\" headers=\"tb-29-header-col11\" scope=\"row\"><a class=\"bui-link page-link-2KklYDa0 cell-link-372RKYcS\" href=\"https://www.mlb.com/video/search?q=BatterId+%3D+%5B665926%5D+AND+HitResult+%3D+%5B%22Strikeout%22%5D+AND+GameType+%3D+%5B%22REGULAR_SEASON%22%5D+AND+Season+%3D+%5B2022%5D+Order+By+Timestamp+DESC\" tabindex=\"0\">112</a></td>,\n",
       " <td class=\"col-group-end-2UJpJVwW number-aY5arzrB align-right-3nN_D3xs is-table-pinned-1WfPW2jT\" data-col=\"13\" data-row=\"16\" headers=\"tb-29-header-col13\" scope=\"row\">3</td>,\n",
       " <td class=\"col-group-end-2UJpJVwW number-aY5arzrB align-right-3nN_D3xs is-table-pinned-1WfPW2jT\" data-col=\"3\" data-row=\"17\" headers=\"tb-29-header-col3\" scope=\"row\">533</td>,\n",
       " <td class=\"col-group-end-2UJpJVwW number-aY5arzrB align-right-3nN_D3xs is-table-pinned-1WfPW2jT\" data-col=\"9\" data-row=\"17\" headers=\"tb-29-header-col9\" scope=\"row\">62</td>,\n",
       " <td class=\"col-group-end-2UJpJVwW number-aY5arzrB align-right-3nN_D3xs is-table-pinned-1WfPW2jT\" data-col=\"11\" data-row=\"17\" headers=\"tb-29-header-col11\" scope=\"row\"><a class=\"bui-link page-link-2KklYDa0 cell-link-372RKYcS\" href=\"https://www.mlb.com/video/search?q=BatterId+%3D+%5B643446%5D+AND+HitResult+%3D+%5B%22Strikeout%22%5D+AND+GameType+%3D+%5B%22REGULAR_SEASON%22%5D+AND+Season+%3D+%5B2022%5D+Order+By+Timestamp+DESC\" tabindex=\"0\">61</a></td>,\n",
       " <td class=\"col-group-end-2UJpJVwW number-aY5arzrB align-right-3nN_D3xs is-table-pinned-1WfPW2jT\" data-col=\"13\" data-row=\"17\" headers=\"tb-29-header-col13\" scope=\"row\">0</td>,\n",
       " <td class=\"col-group-end-2UJpJVwW number-aY5arzrB align-right-3nN_D3xs is-table-pinned-1WfPW2jT\" data-col=\"3\" data-row=\"18\" headers=\"tb-29-header-col3\" scope=\"row\">557</td>,\n",
       " <td class=\"col-group-end-2UJpJVwW number-aY5arzrB align-right-3nN_D3xs is-table-pinned-1WfPW2jT\" data-col=\"9\" data-row=\"18\" headers=\"tb-29-header-col9\" scope=\"row\">73</td>,\n",
       " <td class=\"col-group-end-2UJpJVwW number-aY5arzrB align-right-3nN_D3xs is-table-pinned-1WfPW2jT\" data-col=\"11\" data-row=\"18\" headers=\"tb-29-header-col11\" scope=\"row\"><a class=\"bui-link page-link-2KklYDa0 cell-link-372RKYcS\" href=\"https://www.mlb.com/video/search?q=BatterId+%3D+%5B593428%5D+AND+HitResult+%3D+%5B%22Strikeout%22%5D+AND+GameType+%3D+%5B%22REGULAR_SEASON%22%5D+AND+Season+%3D+%5B2022%5D+Order+By+Timestamp+DESC\" tabindex=\"0\">118</a></td>,\n",
       " <td class=\"col-group-end-2UJpJVwW number-aY5arzrB align-right-3nN_D3xs is-table-pinned-1WfPW2jT\" data-col=\"13\" data-row=\"18\" headers=\"tb-29-header-col13\" scope=\"row\">2</td>,\n",
       " <td class=\"col-group-end-2UJpJVwW number-aY5arzrB align-right-3nN_D3xs is-table-pinned-1WfPW2jT\" data-col=\"3\" data-row=\"19\" headers=\"tb-29-header-col3\" scope=\"row\">522</td>,\n",
       " <td class=\"col-group-end-2UJpJVwW number-aY5arzrB align-right-3nN_D3xs is-table-pinned-1WfPW2jT\" data-col=\"9\" data-row=\"19\" headers=\"tb-29-header-col9\" scope=\"row\">64</td>,\n",
       " <td class=\"col-group-end-2UJpJVwW number-aY5arzrB align-right-3nN_D3xs is-table-pinned-1WfPW2jT\" data-col=\"11\" data-row=\"19\" headers=\"tb-29-header-col11\" scope=\"row\"><a class=\"bui-link page-link-2KklYDa0 cell-link-372RKYcS\" href=\"https://www.mlb.com/video/search?q=BatterId+%3D+%5B621043%5D+AND+HitResult+%3D+%5B%22Strikeout%22%5D+AND+GameType+%3D+%5B%22REGULAR_SEASON%22%5D+AND+Season+%3D+%5B2022%5D+Order+By+Timestamp+DESC\" tabindex=\"0\">121</a></td>,\n",
       " <td class=\"col-group-end-2UJpJVwW number-aY5arzrB align-right-3nN_D3xs is-table-pinned-1WfPW2jT\" data-col=\"13\" data-row=\"19\" headers=\"tb-29-header-col13\" scope=\"row\">1</td>,\n",
       " <td class=\"col-group-end-2UJpJVwW number-aY5arzrB align-right-3nN_D3xs is-table-pinned-1WfPW2jT\" data-col=\"3\" data-row=\"20\" headers=\"tb-29-header-col3\" scope=\"row\">495</td>,\n",
       " <td class=\"col-group-end-2UJpJVwW number-aY5arzrB align-right-3nN_D3xs is-table-pinned-1WfPW2jT\" data-col=\"9\" data-row=\"20\" headers=\"tb-29-header-col9\" scope=\"row\">65</td>,\n",
       " <td class=\"col-group-end-2UJpJVwW number-aY5arzrB align-right-3nN_D3xs is-table-pinned-1WfPW2jT\" data-col=\"11\" data-row=\"20\" headers=\"tb-29-header-col11\" scope=\"row\"><a class=\"bui-link page-link-2KklYDa0 cell-link-372RKYcS\" href=\"https://www.mlb.com/video/search?q=BatterId+%3D+%5B621493%5D+AND+HitResult+%3D+%5B%22Strikeout%22%5D+AND+GameType+%3D+%5B%22REGULAR_SEASON%22%5D+AND+Season+%3D+%5B2022%5D+Order+By+Timestamp+DESC\" tabindex=\"0\">120</a></td>,\n",
       " <td class=\"col-group-end-2UJpJVwW number-aY5arzrB align-right-3nN_D3xs is-table-pinned-1WfPW2jT\" data-col=\"13\" data-row=\"20\" headers=\"tb-29-header-col13\" scope=\"row\">3</td>,\n",
       " <td class=\"col-group-end-2UJpJVwW number-aY5arzrB align-right-3nN_D3xs is-table-pinned-1WfPW2jT\" data-col=\"3\" data-row=\"21\" headers=\"tb-29-header-col3\" scope=\"row\">577</td>,\n",
       " <td class=\"col-group-end-2UJpJVwW number-aY5arzrB align-right-3nN_D3xs is-table-pinned-1WfPW2jT\" data-col=\"9\" data-row=\"21\" headers=\"tb-29-header-col9\" scope=\"row\">94</td>,\n",
       " <td class=\"col-group-end-2UJpJVwW number-aY5arzrB align-right-3nN_D3xs is-table-pinned-1WfPW2jT\" data-col=\"11\" data-row=\"21\" headers=\"tb-29-header-col11\" scope=\"row\"><a class=\"bui-link page-link-2KklYDa0 cell-link-372RKYcS\" href=\"https://www.mlb.com/video/search?q=BatterId+%3D+%5B656941%5D+AND+HitResult+%3D+%5B%22Strikeout%22%5D+AND+GameType+%3D+%5B%22REGULAR_SEASON%22%5D+AND+Season+%3D+%5B2022%5D+Order+By+Timestamp+DESC\" tabindex=\"0\">200</a></td>,\n",
       " <td class=\"col-group-end-2UJpJVwW number-aY5arzrB align-right-3nN_D3xs is-table-pinned-1WfPW2jT\" data-col=\"13\" data-row=\"21\" headers=\"tb-29-header-col13\" scope=\"row\">1</td>,\n",
       " <td class=\"col-group-end-2UJpJVwW number-aY5arzrB align-right-3nN_D3xs is-table-pinned-1WfPW2jT\" data-col=\"3\" data-row=\"22\" headers=\"tb-29-header-col3\" scope=\"row\">601</td>,\n",
       " <td class=\"col-group-end-2UJpJVwW number-aY5arzrB align-right-3nN_D3xs is-table-pinned-1WfPW2jT\" data-col=\"9\" data-row=\"22\" headers=\"tb-29-header-col9\" scope=\"row\">75</td>,\n",
       " <td class=\"col-group-end-2UJpJVwW number-aY5arzrB align-right-3nN_D3xs is-table-pinned-1WfPW2jT\" data-col=\"11\" data-row=\"22\" headers=\"tb-29-header-col11\" scope=\"row\"><a class=\"bui-link page-link-2KklYDa0 cell-link-372RKYcS\" href=\"https://www.mlb.com/video/search?q=BatterId+%3D+%5B547989%5D+AND+HitResult+%3D+%5B%22Strikeout%22%5D+AND+GameType+%3D+%5B%22REGULAR_SEASON%22%5D+AND+Season+%3D+%5B2022%5D+Order+By+Timestamp+DESC\" tabindex=\"0\">110</a></td>,\n",
       " <td class=\"col-group-end-2UJpJVwW number-aY5arzrB align-right-3nN_D3xs is-table-pinned-1WfPW2jT\" data-col=\"13\" data-row=\"22\" headers=\"tb-29-header-col13\" scope=\"row\">0</td>,\n",
       " <td class=\"col-group-end-2UJpJVwW number-aY5arzrB align-right-3nN_D3xs is-table-pinned-1WfPW2jT\" data-col=\"3\" data-row=\"23\" headers=\"tb-29-header-col3\" scope=\"row\">473</td>,\n",
       " <td class=\"col-group-end-2UJpJVwW number-aY5arzrB align-right-3nN_D3xs is-table-pinned-1WfPW2jT\" data-col=\"9\" data-row=\"23\" headers=\"tb-29-header-col9\" scope=\"row\">57</td>,\n",
       " <td class=\"col-group-end-2UJpJVwW number-aY5arzrB align-right-3nN_D3xs is-table-pinned-1WfPW2jT\" data-col=\"11\" data-row=\"23\" headers=\"tb-29-header-col11\" scope=\"row\"><a class=\"bui-link page-link-2KklYDa0 cell-link-372RKYcS\" href=\"https://www.mlb.com/video/search?q=BatterId+%3D+%5B650490%5D+AND+HitResult+%3D+%5B%22Strikeout%22%5D+AND+GameType+%3D+%5B%22REGULAR_SEASON%22%5D+AND+Season+%3D+%5B2022%5D+Order+By+Timestamp+DESC\" tabindex=\"0\">60</a></td>,\n",
       " <td class=\"col-group-end-2UJpJVwW number-aY5arzrB align-right-3nN_D3xs is-table-pinned-1WfPW2jT\" data-col=\"13\" data-row=\"23\" headers=\"tb-29-header-col13\" scope=\"row\">3</td>,\n",
       " <td class=\"col-group-end-2UJpJVwW number-aY5arzrB align-right-3nN_D3xs is-table-pinned-1WfPW2jT\" data-col=\"3\" data-row=\"24\" headers=\"tb-29-header-col3\" scope=\"row\">548</td>,\n",
       " <td class=\"col-group-end-2UJpJVwW number-aY5arzrB align-right-3nN_D3xs is-table-pinned-1WfPW2jT\" data-col=\"9\" data-row=\"24\" headers=\"tb-29-header-col9\" scope=\"row\">93</td>,\n",
       " <td class=\"col-group-end-2UJpJVwW number-aY5arzrB align-right-3nN_D3xs is-table-pinned-1WfPW2jT\" data-col=\"11\" data-row=\"24\" headers=\"tb-29-header-col11\" scope=\"row\"><a class=\"bui-link page-link-2KklYDa0 cell-link-372RKYcS\" href=\"https://www.mlb.com/video/search?q=BatterId+%3D+%5B608324%5D+AND+HitResult+%3D+%5B%22Strikeout%22%5D+AND+GameType+%3D+%5B%22REGULAR_SEASON%22%5D+AND+Season+%3D+%5B2022%5D+Order+By+Timestamp+DESC\" tabindex=\"0\">77</a></td>,\n",
       " <td class=\"col-group-end-2UJpJVwW number-aY5arzrB align-right-3nN_D3xs is-table-pinned-1WfPW2jT\" data-col=\"13\" data-row=\"24\" headers=\"tb-29-header-col13\" scope=\"row\">2</td>]"
      ]
     },
     "execution_count": 181,
     "metadata": {},
     "output_type": "execute_result"
    }
   ],
   "source": [
    "b"
   ]
  },
  {
   "cell_type": "code",
   "execution_count": 186,
   "id": "1200afcc",
   "metadata": {},
   "outputs": [
    {
     "data": {
      "text/plain": [
       "[<td class=\"col-group-end-2UJpJVwW number-aY5arzrB align-right-3nN_D3xs is-table-pinned-1WfPW2jT\" data-col=\"3\" data-row=\"0\" headers=\"tb-29-header-col3\" scope=\"row\">570</td>,\n",
       " <td class=\"col-group-end-2UJpJVwW number-aY5arzrB align-right-3nN_D3xs is-table-pinned-1WfPW2jT\" data-col=\"9\" data-row=\"0\" headers=\"tb-29-header-col9\" scope=\"row\">131</td>,\n",
       " <td class=\"col-group-end-2UJpJVwW number-aY5arzrB align-right-3nN_D3xs is-table-pinned-1WfPW2jT\" data-col=\"11\" data-row=\"0\" headers=\"tb-29-header-col11\" scope=\"row\"><a class=\"bui-link page-link-2KklYDa0 cell-link-372RKYcS\" href=\"https://www.mlb.com/video/search?q=BatterId+%3D+%5B592450%5D+AND+HitResult+%3D+%5B%22Strikeout%22%5D+AND+GameType+%3D+%5B%22REGULAR_SEASON%22%5D+AND+Season+%3D+%5B2022%5D+Order+By+Timestamp+DESC\" tabindex=\"0\">175</a></td>,\n",
       " <td class=\"col-group-end-2UJpJVwW number-aY5arzrB align-right-3nN_D3xs is-table-pinned-1WfPW2jT\" data-col=\"13\" data-row=\"0\" headers=\"tb-29-header-col13\" scope=\"row\">3</td>]"
      ]
     },
     "execution_count": 186,
     "metadata": {},
     "output_type": "execute_result"
    }
   ],
   "source": [
    "b[0:4]"
   ]
  },
  {
   "cell_type": "code",
   "execution_count": null,
   "id": "acd72065",
   "metadata": {},
   "outputs": [],
   "source": []
  },
  {
   "cell_type": "code",
   "execution_count": 193,
   "id": "31e35bad",
   "metadata": {},
   "outputs": [
    {
     "data": {
      "text/plain": [
       "['3',\n",
       " '1',\n",
       " '0',\n",
       " '1',\n",
       " '3',\n",
       " '1',\n",
       " '3',\n",
       " '1',\n",
       " '0',\n",
       " '9',\n",
       " '2',\n",
       " '1',\n",
       " '7',\n",
       " '7',\n",
       " '2',\n",
       " '2',\n",
       " '3',\n",
       " '0',\n",
       " '2',\n",
       " '1',\n",
       " '3',\n",
       " '1',\n",
       " '0',\n",
       " '3',\n",
       " '2']"
      ]
     },
     "execution_count": 193,
     "metadata": {},
     "output_type": "execute_result"
    }
   ],
   "source": [
    "TB=[]\n",
    "CI=[]\n",
    "P=[]\n",
    "AR=[]\n",
    "PRO=[]\n",
    "for x in range(0, len(b),4):\n",
    "    TB.append(b[x:x+4][0].text)\n",
    "    CI.append(b[x:x+4][1].text)\n",
    "    P.append(b[x:x+4][2].text)\n",
    "    AR.append(b[x:x+4][3].text)\n",
    "AR\n",
    "    "
   ]
  },
  {
   "cell_type": "code",
   "execution_count": null,
   "id": "2bdf6580",
   "metadata": {},
   "outputs": [],
   "source": []
  }
 ],
 "metadata": {
  "kernelspec": {
   "display_name": "Python 3 (ipykernel)",
   "language": "python",
   "name": "python3"
  },
  "language_info": {
   "codemirror_mode": {
    "name": "ipython",
    "version": 3
   },
   "file_extension": ".py",
   "mimetype": "text/x-python",
   "name": "python",
   "nbconvert_exporter": "python",
   "pygments_lexer": "ipython3",
   "version": "3.10.9"
  }
 },
 "nbformat": 4,
 "nbformat_minor": 5
}
