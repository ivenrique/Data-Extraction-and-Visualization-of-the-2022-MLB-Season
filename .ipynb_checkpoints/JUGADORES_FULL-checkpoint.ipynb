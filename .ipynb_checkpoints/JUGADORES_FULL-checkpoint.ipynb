{
 "cells": [
  {
   "cell_type": "code",
   "execution_count": 1,
   "id": "0631ff72",
   "metadata": {},
   "outputs": [],
   "source": [
    "import numpy as np\n",
    "import pandas as pd\n",
    "from datetime import datetime\n",
    "\n",
    "\n"
   ]
  },
  {
   "cell_type": "code",
   "execution_count": 2,
   "id": "27c5de4f",
   "metadata": {},
   "outputs": [],
   "source": [
    "df_player_stat1= pd.read_csv(\"Jugadores_Ficha_2022_V1Nac.csv\")"
   ]
  },
  {
   "cell_type": "code",
   "execution_count": 3,
   "id": "99b9184d",
   "metadata": {},
   "outputs": [],
   "source": [
    "df_player_stat2= pd.read_csv(\"Jugadores_STAT_2022.csv\")"
   ]
  },
  {
   "cell_type": "code",
   "execution_count": 4,
   "id": "343d1da6",
   "metadata": {},
   "outputs": [],
   "source": [
    "# se unen los dos dataframe\n",
    "df_fullplayer_stat=df_player_stat1.merge(df_player_stat2, on='id', suffixes=('', '_2'))\n"
   ]
  },
  {
   "cell_type": "code",
   "execution_count": 5,
   "id": "20a61087",
   "metadata": {},
   "outputs": [],
   "source": [
    "#Elimina las columnas repetidas\n",
    "df_fullplayer_stat.drop(columns=[col for col in df_fullplayer_stat.columns if col.endswith('_2')], inplace=True)"
   ]
  },
  {
   "cell_type": "code",
   "execution_count": null,
   "id": "49629782",
   "metadata": {},
   "outputs": [],
   "source": []
  },
  {
   "cell_type": "markdown",
   "id": "15d0bd2b",
   "metadata": {},
   "source": [
    "Agregamos la columna OPS que es por donde se miden de manera general a todos los jugadores\n",
    "El OPS es la suma de OBP(%_On. Base)+SLG(Slugging)\n"
   ]
  },
  {
   "cell_type": "markdown",
   "id": "1a269eef",
   "metadata": {},
   "source": [
    "# OPS – Promedio de Embasado(OBP) + Slugging \n",
    "(agrega porcentaje de embasado y porcentaje de slugging )\n",
    "para obtener un número que une a los dos. Su objetivo es combinar lo bien que un bateador \n",
    "puede llegar a la base, con lo bien que puede batear para promedio y poder.\n"
   ]
  },
  {
   "cell_type": "code",
   "execution_count": 7,
   "id": "12b0b8a1",
   "metadata": {},
   "outputs": [],
   "source": [
    "#Creamos la columna\n",
    "df_fullplayer_stat[\"OPS\"]=df_fullplayer_stat[\"%_On_Base\"]+df_fullplayer_stat[\"Slugging\"]"
   ]
  },
  {
   "cell_type": "code",
   "execution_count": 9,
   "id": "4d0ad929",
   "metadata": {},
   "outputs": [],
   "source": [
    "#Convertir la fecha de nacimiento y la fecha debut en datetime\n",
    "df_fullplayer_stat['Fecha Nac'] = pd.to_datetime(df_fullplayer_stat['Fecha Nac'])\n",
    "df_fullplayer_stat['F_Debut'] = pd.to_datetime(df_fullplayer_stat['F_Debut'])"
   ]
  },
  {
   "cell_type": "code",
   "execution_count": 10,
   "id": "9599fe55",
   "metadata": {},
   "outputs": [],
   "source": [
    "#Eliminar la columna equipo que se repite\n",
    "df_fullplayer_stat.drop(columns=[\"Equipo\"], inplace=True)"
   ]
  },
  {
   "cell_type": "code",
   "execution_count": null,
   "id": "0ca65f10",
   "metadata": {},
   "outputs": [],
   "source": []
  },
  {
   "cell_type": "code",
   "execution_count": 18,
   "id": "f0705ce8",
   "metadata": {},
   "outputs": [],
   "source": [
    "#Crea pais USA para los estados segun Lugar de Nacimiento\n",
    "lugar=df_fullplayer_stat[\"Lugar_Nacimiento\"]\n",
    "pais=[]\n",
    "for i in lugar:\n",
    "    if len(i)== 3:\n",
    "        a=\"USA\"\n",
    "        pais.append(a)\n",
    "    else:\n",
    "        pais.append(i[1:])\n"
   ]
  },
  {
   "cell_type": "code",
   "execution_count": 13,
   "id": "49f953a9",
   "metadata": {},
   "outputs": [],
   "source": [
    "#agrega la cloumna Pais al df\n",
    "df_fullplayer_stat[\"Pais\"]=pais"
   ]
  },
  {
   "cell_type": "code",
   "execution_count": 19,
   "id": "1c6ddee6",
   "metadata": {},
   "outputs": [],
   "source": [
    "#df_fullplayer_stat.info()"
   ]
  },
  {
   "cell_type": "code",
   "execution_count": 15,
   "id": "591f3840",
   "metadata": {},
   "outputs": [
    {
     "name": "stdout",
     "output_type": "stream",
     "text": [
      "<class 'pandas.core.frame.DataFrame'>\n",
      "Int64Index: 130 entries, 0 to 129\n",
      "Data columns (total 32 columns):\n",
      " #   Column               Non-Null Count  Dtype         \n",
      "---  ------               --------------  -----         \n",
      " 0   id                   130 non-null    int64         \n",
      " 1   Dorsal               130 non-null    int64         \n",
      " 2   Nombre               130 non-null    object        \n",
      " 3   Apellido             130 non-null    object        \n",
      " 4   Team                 130 non-null    object        \n",
      " 5   Posicion             130 non-null    object        \n",
      " 6   OPS                  130 non-null    float64       \n",
      " 7   %_On_Base            130 non-null    float64       \n",
      " 8   Slugging             130 non-null    float64       \n",
      " 9   Fecha Nac            130 non-null    datetime64[ns]\n",
      " 10  Edad                 130 non-null    int64         \n",
      " 11  F_Debut              130 non-null    datetime64[ns]\n",
      " 12  Lugar_Nacimiento     130 non-null    object        \n",
      " 13  Pais                 130 non-null    object        \n",
      " 14  Peso(Kg)             130 non-null    float64       \n",
      " 15  Estatura(mtrs)       130 non-null    float64       \n",
      " 16  Mano_Bateo           130 non-null    object        \n",
      " 17  Mano_Lanzar          130 non-null    object        \n",
      " 18  Juegos_Jugados       130 non-null    int64         \n",
      " 19  Turnos_Bate          130 non-null    int64         \n",
      " 20  Carrera              130 non-null    int64         \n",
      " 21  Hits                 130 non-null    int64         \n",
      " 22  Dobles               130 non-null    int64         \n",
      " 23  Triple               130 non-null    int64         \n",
      " 24  Jonrones             130 non-null    int64         \n",
      " 25  Carreras_Impulsadas  130 non-null    int64         \n",
      " 26  Boletos              130 non-null    int64         \n",
      " 27  Ponches              130 non-null    int64         \n",
      " 28  Bases_Robadas        130 non-null    int64         \n",
      " 29  Atrapado_Robando     130 non-null    int64         \n",
      " 30  Promedio             130 non-null    float64       \n",
      " 31  Link_Ficha_Player    130 non-null    object        \n",
      "dtypes: datetime64[ns](2), float64(6), int64(15), object(9)\n",
      "memory usage: 33.5+ KB\n"
     ]
    }
   ],
   "source": [
    "#reorganizar las columnas\n",
    "column_order =['id','Dorsal', 'Nombre', 'Apellido','Team', 'Posicion', 'OPS','%_On_Base','Slugging',\n",
    "               'Fecha Nac','Edad','F_Debut', 'Lugar_Nacimiento',\"Pais\",'Peso(Kg)', 'Estatura(mtrs)',\n",
    "               'Mano_Bateo', 'Mano_Lanzar',  'Juegos_Jugados', 'Turnos_Bate', 'Carrera',\n",
    "               'Hits', 'Dobles', 'Triple', 'Jonrones', 'Carreras_Impulsadas', 'Boletos', \n",
    "               'Ponches', 'Bases_Robadas', 'Atrapado_Robando', 'Promedio',\n",
    "               'Link_Ficha_Player']\n",
    "df_fullplayer_stat = df_fullplayer_stat[column_order]\n"
   ]
  },
  {
   "cell_type": "code",
   "execution_count": 20,
   "id": "fa1bf57e",
   "metadata": {},
   "outputs": [],
   "source": [
    "#df_fullplayer_stat.info()"
   ]
  },
  {
   "cell_type": "code",
   "execution_count": 16,
   "id": "1d21385b",
   "metadata": {},
   "outputs": [],
   "source": [
    "#Agrega columna de IMC(Indice de Masa Corporal)\n",
    "df_fullplayer_stat[\"IMC\"]= df_fullplayer_stat.apply(lambda x: x['Peso(Kg)'] / (x['Estatura(mtrs)'] ** 2), axis=1)"
   ]
  },
  {
   "cell_type": "code",
   "execution_count": 17,
   "id": "6f402555",
   "metadata": {},
   "outputs": [
    {
     "name": "stdout",
     "output_type": "stream",
     "text": [
      "<class 'pandas.core.frame.DataFrame'>\n",
      "Int64Index: 130 entries, 0 to 129\n",
      "Data columns (total 33 columns):\n",
      " #   Column               Non-Null Count  Dtype         \n",
      "---  ------               --------------  -----         \n",
      " 0   id                   130 non-null    int64         \n",
      " 1   Dorsal               130 non-null    int64         \n",
      " 2   Nombre               130 non-null    object        \n",
      " 3   Apellido             130 non-null    object        \n",
      " 4   Team                 130 non-null    object        \n",
      " 5   Posicion             130 non-null    object        \n",
      " 6   OPS                  130 non-null    float64       \n",
      " 7   %_On_Base            130 non-null    float64       \n",
      " 8   Slugging             130 non-null    float64       \n",
      " 9   Fecha Nac            130 non-null    datetime64[ns]\n",
      " 10  Edad                 130 non-null    int64         \n",
      " 11  F_Debut              130 non-null    datetime64[ns]\n",
      " 12  Lugar_Nacimiento     130 non-null    object        \n",
      " 13  Pais                 130 non-null    object        \n",
      " 14  Peso(Kg)             130 non-null    float64       \n",
      " 15  Estatura(mtrs)       130 non-null    float64       \n",
      " 16  Mano_Bateo           130 non-null    object        \n",
      " 17  Mano_Lanzar          130 non-null    object        \n",
      " 18  Juegos_Jugados       130 non-null    int64         \n",
      " 19  Turnos_Bate          130 non-null    int64         \n",
      " 20  Carrera              130 non-null    int64         \n",
      " 21  Hits                 130 non-null    int64         \n",
      " 22  Dobles               130 non-null    int64         \n",
      " 23  Triple               130 non-null    int64         \n",
      " 24  Jonrones             130 non-null    int64         \n",
      " 25  Carreras_Impulsadas  130 non-null    int64         \n",
      " 26  Boletos              130 non-null    int64         \n",
      " 27  Ponches              130 non-null    int64         \n",
      " 28  Bases_Robadas        130 non-null    int64         \n",
      " 29  Atrapado_Robando     130 non-null    int64         \n",
      " 30  Promedio             130 non-null    float64       \n",
      " 31  Link_Ficha_Player    130 non-null    object        \n",
      " 32  IMC                  130 non-null    float64       \n",
      "dtypes: datetime64[ns](2), float64(7), int64(15), object(9)\n",
      "memory usage: 34.5+ KB\n"
     ]
    }
   ],
   "source": [
    "df_fullplayer_stat.info()"
   ]
  },
  {
   "cell_type": "code",
   "execution_count": 22,
   "id": "e2192f57",
   "metadata": {},
   "outputs": [],
   "source": [
    "#GUARDAR EL DF COMO ARCHIVO CSV\n",
    "df_fullplayer_stat.to_csv(\"Jugadores_FULLSTAT_2022.csv\", index = False, sep = \",\")"
   ]
  },
  {
   "cell_type": "code",
   "execution_count": null,
   "id": "8b0e78f3",
   "metadata": {},
   "outputs": [],
   "source": []
  },
  {
   "cell_type": "code",
   "execution_count": null,
   "id": "4644d423",
   "metadata": {},
   "outputs": [],
   "source": []
  },
  {
   "cell_type": "code",
   "execution_count": null,
   "id": "f8a50bb7",
   "metadata": {},
   "outputs": [],
   "source": []
  },
  {
   "cell_type": "code",
   "execution_count": null,
   "id": "ab89d3ae",
   "metadata": {},
   "outputs": [],
   "source": []
  }
 ],
 "metadata": {
  "kernelspec": {
   "display_name": "Python 3 (ipykernel)",
   "language": "python",
   "name": "python3"
  },
  "language_info": {
   "codemirror_mode": {
    "name": "ipython",
    "version": 3
   },
   "file_extension": ".py",
   "mimetype": "text/x-python",
   "name": "python",
   "nbconvert_exporter": "python",
   "pygments_lexer": "ipython3",
   "version": "3.10.9"
  }
 },
 "nbformat": 4,
 "nbformat_minor": 5
}
