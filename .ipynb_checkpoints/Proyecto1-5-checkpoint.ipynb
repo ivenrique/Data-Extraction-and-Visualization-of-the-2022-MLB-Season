{
 "cells": [
  {
   "cell_type": "markdown",
   "id": "8f02dc3c",
   "metadata": {},
   "source": [
    "# ETL DE UNA BASE DE ESTADÍSTICAS DEPORTIVAS DE BASEBALL"
   ]
  },
  {
   "cell_type": "markdown",
   "id": "1b8689f8-1f10-4ebc-acdc-d8ab609c426b",
   "metadata": {},
   "source": [
    "## INTRODUCCIÓN"
   ]
  },
  {
   "cell_type": "markdown",
   "id": "80f9e368-5f95-4d7b-98e4-4291ae71a3ff",
   "metadata": {},
   "source": [
    "La Extracción, Transformación, y Carga (Extraction, Transform, Load - ETL) es un proceso fundamental en Ciencia de Datos para la obtención y organización de información. Esta se compone de tres fases sucesivas que se desarrollan de diversas maneras a lo largo del presente proyecto:\n",
    "\n",
    "    1. Extracción mediante Web Scraping y APIs.\n",
    "    2. Transformación mediante diferentes librerías de Pandas y Numpy.\n",
    "    3. Carga a Airtable.\n",
    "    \n",
    "Entre las principales competencias de cualquier Científico o Analista de Datos, se encuentra la comunicación efectiva. Es por ello que en este trabajo también se incluyen apartados de análisis de la información y su visualización."
   ]
  },
  {
   "cell_type": "markdown",
   "id": "ca6e9f04-652b-42eb-9e2f-ae9d9ffbb49f",
   "metadata": {},
   "source": [
    "## OBJETIVOS DEL ESTUDIO"
   ]
  },
  {
   "cell_type": "markdown",
   "id": "f07d95c6",
   "metadata": {},
   "source": [
    "Los objetivos del presente proyecto de carácter didáctico son:\n",
    "    \n",
    "   1. Ejecutar la extracción y transformación de datos mediante Web Scrapping y APIS.\n",
    "   \n",
    "   2. Realizar la subida efectiva de esta información a AIRTABLE, como herramienta de   trabajo en nube.\n",
    "   \n",
    "   3. Representar visualmente la información extraída de manera efectiva.\n",
    "   \n",
    "   4. Comprender principales aspectos de relevancia e Insights de la información exrtaída.\n",
    "   \n",
    "    "
   ]
  },
  {
   "cell_type": "markdown",
   "id": "530f2be0-15aa-4227-8214-22da2797b4d4",
   "metadata": {},
   "source": [
    "# 0. PASOS PREVIOS"
   ]
  },
  {
   "cell_type": "markdown",
   "id": "568b2ca1",
   "metadata": {},
   "source": [
    "## 0. 1 Librerías"
   ]
  },
  {
   "cell_type": "code",
   "execution_count": 1,
   "id": "811c69e2",
   "metadata": {},
   "outputs": [
    {
     "name": "stdout",
     "output_type": "stream",
     "text": [
      "CPU times: user 2 µs, sys: 0 ns, total: 2 µs\n",
      "Wall time: 2.86 µs\n"
     ]
    },
    {
     "data": {
      "text/html": [
       "        <script type=\"text/javascript\">\n",
       "        window.PlotlyConfig = {MathJaxConfig: 'local'};\n",
       "        if (window.MathJax && window.MathJax.Hub && window.MathJax.Hub.Config) {window.MathJax.Hub.Config({SVG: {font: \"STIX-Web\"}});}\n",
       "        if (typeof require !== 'undefined') {\n",
       "        require.undef(\"plotly\");\n",
       "        requirejs.config({\n",
       "            paths: {\n",
       "                'plotly': ['https://cdn.plot.ly/plotly-2.12.1.min']\n",
       "            }\n",
       "        });\n",
       "        require(['plotly'], function(Plotly) {\n",
       "            window._Plotly = Plotly;\n",
       "        });\n",
       "        }\n",
       "        </script>\n",
       "        "
      ]
     },
     "metadata": {},
     "output_type": "display_data"
    }
   ],
   "source": [
    "%time\n",
    "import requests\n",
    "from pprint import pprint\n",
    "import numpy as np\n",
    "import pandas as pd\n",
    "from time import sleep\n",
    "import json\n",
    "from bs4 import BeautifulSoup\n",
    "from selenium import webdriver\n",
    "from selenium.webdriver.common.by import By\n",
    "import matplotlib.pyplot as plt\n",
    "import seaborn as sns\n",
    "import folium\n",
    "import cufflinks as cf\n",
    "from IPython.display import display,HTML\n",
    "import plotly.express as px\n",
    "import re\n",
    "from datetime import datetime\n"
   ]
  },
  {
   "cell_type": "markdown",
   "id": "45d87e14-db76-4f2d-b9fb-c27a60bee8da",
   "metadata": {},
   "source": [
    "## 0. 2 Funciones"
   ]
  },
  {
   "cell_type": "markdown",
   "id": "889b29f5",
   "metadata": {},
   "source": [
    "## 1. EXTRACCIÓN DE LA INFORMACIÓN"
   ]
  },
  {
   "cell_type": "markdown",
   "id": "fa2cd559",
   "metadata": {},
   "source": [
    "## 1.1 API RapidaApi Baseball"
   ]
  },
  {
   "cell_type": "markdown",
   "id": "5c21d95e",
   "metadata": {},
   "source": [
    "### 1.1.1 Extracción equipos"
   ]
  },
  {
   "cell_type": "code",
   "execution_count": 2,
   "id": "22877b9a",
   "metadata": {
    "scrolled": true
   },
   "outputs": [
    {
     "name": "stdout",
     "output_type": "stream",
     "text": [
      "{'errors': [],\n",
      " 'get': 'teams',\n",
      " 'parameters': {'league': '1', 'season': '2020'},\n",
      " 'response': [{'country': {'code': 'US',\n",
      "                           'flag': 'https://media-2.api-sports.io/flags/us.svg',\n",
      "                           'id': 1,\n",
      "                           'name': 'USA'},\n",
      "               'id': 2,\n",
      "               'logo': 'https://media-2.api-sports.io/baseball/teams/2.png',\n",
      "               'name': 'Arizona Diamondbacks',\n",
      "               'national': False},\n",
      "              {'country': {'code': 'US',\n",
      "                           'flag': 'https://media-3.api-sports.io/flags/us.svg',\n",
      "                           'id': 1,\n",
      "                           'name': 'USA'},\n",
      "               'id': 3,\n",
      "               'logo': 'https://media-2.api-sports.io/baseball/teams/3.png',\n",
      "               'name': 'Atlanta Braves',\n",
      "               'national': False},\n",
      "              {'country': {'code': 'US',\n",
      "                           'flag': 'https://media-3.api-sports.io/flags/us.svg',\n",
      "                           'id': 1,\n",
      "                           'name': 'USA'},\n",
      "               'id': 4,\n",
      "               'logo': 'https://media-1.api-sports.io/baseball/teams/4.png',\n",
      "               'name': 'Baltimore Orioles',\n",
      "               'national': False},\n",
      "              {'country': {'code': 'US',\n",
      "                           'flag': 'https://media-3.api-sports.io/flags/us.svg',\n",
      "                           'id': 1,\n",
      "                           'name': 'USA'},\n",
      "               'id': 5,\n",
      "               'logo': 'https://media-1.api-sports.io/baseball/teams/5.png',\n",
      "               'name': 'Boston Red Sox',\n",
      "               'national': False},\n",
      "              {'country': {'code': 'US',\n",
      "                           'flag': 'https://media-2.api-sports.io/flags/us.svg',\n",
      "                           'id': 1,\n",
      "                           'name': 'USA'},\n",
      "               'id': 39,\n",
      "               'logo': 'https://media-2.api-sports.io/baseball/teams/39.png',\n",
      "               'name': 'Canada',\n",
      "               'national': False},\n",
      "              {'country': {'code': 'US',\n",
      "                           'flag': 'https://media-1.api-sports.io/flags/us.svg',\n",
      "                           'id': 1,\n",
      "                           'name': 'USA'},\n",
      "               'id': 6,\n",
      "               'logo': 'https://media-2.api-sports.io/baseball/teams/6.png',\n",
      "               'name': 'Chicago Cubs',\n",
      "               'national': False},\n",
      "              {'country': {'code': 'US',\n",
      "                           'flag': 'https://media-2.api-sports.io/flags/us.svg',\n",
      "                           'id': 1,\n",
      "                           'name': 'USA'},\n",
      "               'id': 7,\n",
      "               'logo': 'https://media-1.api-sports.io/baseball/teams/7.png',\n",
      "               'name': 'Chicago White Sox',\n",
      "               'national': False},\n",
      "              {'country': {'code': 'US',\n",
      "                           'flag': 'https://media-3.api-sports.io/flags/us.svg',\n",
      "                           'id': 1,\n",
      "                           'name': 'USA'},\n",
      "               'id': 8,\n",
      "               'logo': 'https://media-2.api-sports.io/baseball/teams/8.png',\n",
      "               'name': 'Cincinnati Reds',\n",
      "               'national': False},\n",
      "              {'country': {'code': 'US',\n",
      "                           'flag': 'https://media-1.api-sports.io/flags/us.svg',\n",
      "                           'id': 1,\n",
      "                           'name': 'USA'},\n",
      "               'id': 9,\n",
      "               'logo': 'https://media-2.api-sports.io/baseball/teams/9.png',\n",
      "               'name': 'Cleveland Indians',\n",
      "               'national': False},\n",
      "              {'country': {'code': 'US',\n",
      "                           'flag': 'https://media-1.api-sports.io/flags/us.svg',\n",
      "                           'id': 1,\n",
      "                           'name': 'USA'},\n",
      "               'id': 10,\n",
      "               'logo': 'https://media-2.api-sports.io/baseball/teams/10.png',\n",
      "               'name': 'Colorado Rockies',\n",
      "               'national': False},\n",
      "              {'country': {'code': 'US',\n",
      "                           'flag': 'https://media-2.api-sports.io/flags/us.svg',\n",
      "                           'id': 1,\n",
      "                           'name': 'USA'},\n",
      "               'id': 12,\n",
      "               'logo': 'https://media-1.api-sports.io/baseball/teams/12.png',\n",
      "               'name': 'Detroit Tigers',\n",
      "               'national': False},\n",
      "              {'country': {'code': 'US',\n",
      "                           'flag': 'https://media-2.api-sports.io/flags/us.svg',\n",
      "                           'id': 1,\n",
      "                           'name': 'USA'},\n",
      "               'id': 15,\n",
      "               'logo': 'https://media-1.api-sports.io/baseball/teams/15.png',\n",
      "               'name': 'Houston Astros',\n",
      "               'national': False},\n",
      "              {'country': {'code': 'US',\n",
      "                           'flag': 'https://media-3.api-sports.io/flags/us.svg',\n",
      "                           'id': 1,\n",
      "                           'name': 'USA'},\n",
      "               'id': 16,\n",
      "               'logo': 'https://media-3.api-sports.io/baseball/teams/16.png',\n",
      "               'name': 'Kansas City Royals',\n",
      "               'national': False},\n",
      "              {'country': {'code': 'US',\n",
      "                           'flag': 'https://media-1.api-sports.io/flags/us.svg',\n",
      "                           'id': 1,\n",
      "                           'name': 'USA'},\n",
      "               'id': 17,\n",
      "               'logo': 'https://media-3.api-sports.io/baseball/teams/17.png',\n",
      "               'name': 'Los Angeles Angels',\n",
      "               'national': False},\n",
      "              {'country': {'code': 'US',\n",
      "                           'flag': 'https://media-2.api-sports.io/flags/us.svg',\n",
      "                           'id': 1,\n",
      "                           'name': 'USA'},\n",
      "               'id': 18,\n",
      "               'logo': 'https://media-2.api-sports.io/baseball/teams/18.png',\n",
      "               'name': 'Los Angeles Dodgers',\n",
      "               'national': False},\n",
      "              {'country': {'code': 'US',\n",
      "                           'flag': 'https://media-3.api-sports.io/flags/us.svg',\n",
      "                           'id': 1,\n",
      "                           'name': 'USA'},\n",
      "               'id': 19,\n",
      "               'logo': 'https://media-1.api-sports.io/baseball/teams/19.png',\n",
      "               'name': 'Miami Marlins',\n",
      "               'national': False},\n",
      "              {'country': {'code': 'US',\n",
      "                           'flag': 'https://media-2.api-sports.io/flags/us.svg',\n",
      "                           'id': 1,\n",
      "                           'name': 'USA'},\n",
      "               'id': 20,\n",
      "               'logo': 'https://media-2.api-sports.io/baseball/teams/20.png',\n",
      "               'name': 'Milwaukee Brewers',\n",
      "               'national': False},\n",
      "              {'country': {'code': 'US',\n",
      "                           'flag': 'https://media-3.api-sports.io/flags/us.svg',\n",
      "                           'id': 1,\n",
      "                           'name': 'USA'},\n",
      "               'id': 21,\n",
      "               'logo': 'https://media-2.api-sports.io/baseball/teams/21.png',\n",
      "               'name': 'Minnesota G.',\n",
      "               'national': False},\n",
      "              {'country': {'code': 'US',\n",
      "                           'flag': 'https://media-1.api-sports.io/flags/us.svg',\n",
      "                           'id': 1,\n",
      "                           'name': 'USA'},\n",
      "               'id': 22,\n",
      "               'logo': 'https://media-2.api-sports.io/baseball/teams/22.png',\n",
      "               'name': 'Minnesota Twins',\n",
      "               'national': False},\n",
      "              {'country': {'code': 'US',\n",
      "                           'flag': 'https://media-1.api-sports.io/flags/us.svg',\n",
      "                           'id': 1,\n",
      "                           'name': 'USA'},\n",
      "               'id': 24,\n",
      "               'logo': 'https://media-3.api-sports.io/baseball/teams/24.png',\n",
      "               'name': 'New York Mets',\n",
      "               'national': False},\n",
      "              {'country': {'code': 'US',\n",
      "                           'flag': 'https://media-2.api-sports.io/flags/us.svg',\n",
      "                           'id': 1,\n",
      "                           'name': 'USA'},\n",
      "               'id': 25,\n",
      "               'logo': 'https://media-1.api-sports.io/baseball/teams/25.png',\n",
      "               'name': 'New York Yankees',\n",
      "               'national': False},\n",
      "              {'country': {'code': 'US',\n",
      "                           'flag': 'https://media-3.api-sports.io/flags/us.svg',\n",
      "                           'id': 1,\n",
      "                           'name': 'USA'},\n",
      "               'id': 43,\n",
      "               'logo': 'https://media-1.api-sports.io/baseball/teams/43.png',\n",
      "               'name': 'Northeastern',\n",
      "               'national': False},\n",
      "              {'country': {'code': 'US',\n",
      "                           'flag': 'https://media-2.api-sports.io/flags/us.svg',\n",
      "                           'id': 1,\n",
      "                           'name': 'USA'},\n",
      "               'id': 26,\n",
      "               'logo': 'https://media-1.api-sports.io/baseball/teams/26.png',\n",
      "               'name': 'Oakland Athletics',\n",
      "               'national': False},\n",
      "              {'country': {'code': 'US',\n",
      "                           'flag': 'https://media-2.api-sports.io/flags/us.svg',\n",
      "                           'id': 1,\n",
      "                           'name': 'USA'},\n",
      "               'id': 27,\n",
      "               'logo': 'https://media-3.api-sports.io/baseball/teams/27.png',\n",
      "               'name': 'Philadelphia Phillies',\n",
      "               'national': False},\n",
      "              {'country': {'code': 'US',\n",
      "                           'flag': 'https://media-1.api-sports.io/flags/us.svg',\n",
      "                           'id': 1,\n",
      "                           'name': 'USA'},\n",
      "               'id': 28,\n",
      "               'logo': 'https://media-2.api-sports.io/baseball/teams/28.png',\n",
      "               'name': 'Pittsburgh Pirates',\n",
      "               'national': False},\n",
      "              {'country': {'code': 'US',\n",
      "                           'flag': 'https://media-3.api-sports.io/flags/us.svg',\n",
      "                           'id': 1,\n",
      "                           'name': 'USA'},\n",
      "               'id': 30,\n",
      "               'logo': 'https://media-2.api-sports.io/baseball/teams/30.png',\n",
      "               'name': 'San Diego Padres',\n",
      "               'national': False},\n",
      "              {'country': {'code': 'US',\n",
      "                           'flag': 'https://media-2.api-sports.io/flags/us.svg',\n",
      "                           'id': 1,\n",
      "                           'name': 'USA'},\n",
      "               'id': 31,\n",
      "               'logo': 'https://media-1.api-sports.io/baseball/teams/31.png',\n",
      "               'name': 'San Francisco Giants',\n",
      "               'national': False},\n",
      "              {'country': {'code': 'US',\n",
      "                           'flag': 'https://media-2.api-sports.io/flags/us.svg',\n",
      "                           'id': 1,\n",
      "                           'name': 'USA'},\n",
      "               'id': 32,\n",
      "               'logo': 'https://media-3.api-sports.io/baseball/teams/32.png',\n",
      "               'name': 'Seattle Mariners',\n",
      "               'national': False},\n",
      "              {'country': {'code': 'US',\n",
      "                           'flag': 'https://media-1.api-sports.io/flags/us.svg',\n",
      "                           'id': 1,\n",
      "                           'name': 'USA'},\n",
      "               'id': 46,\n",
      "               'logo': 'https://media-1.api-sports.io/baseball/teams/46.png',\n",
      "               'name': 'Southeastern',\n",
      "               'national': False},\n",
      "              {'country': {'code': 'US',\n",
      "                           'flag': 'https://media-3.api-sports.io/flags/us.svg',\n",
      "                           'id': 1,\n",
      "                           'name': 'USA'},\n",
      "               'id': 33,\n",
      "               'logo': 'https://media-2.api-sports.io/baseball/teams/33.png',\n",
      "               'name': 'St.Louis Cardinals',\n",
      "               'national': False},\n",
      "              {'country': {'code': 'US',\n",
      "                           'flag': 'https://media-3.api-sports.io/flags/us.svg',\n",
      "                           'id': 1,\n",
      "                           'name': 'USA'},\n",
      "               'id': 34,\n",
      "               'logo': 'https://media-2.api-sports.io/baseball/teams/34.png',\n",
      "               'name': 'Tampa Bay Rays',\n",
      "               'national': False},\n",
      "              {'country': {'code': 'US',\n",
      "                           'flag': 'https://media-1.api-sports.io/flags/us.svg',\n",
      "                           'id': 1,\n",
      "                           'name': 'USA'},\n",
      "               'id': 35,\n",
      "               'logo': 'https://media-3.api-sports.io/baseball/teams/35.png',\n",
      "               'name': 'Texas Rangers',\n",
      "               'national': False},\n",
      "              {'country': {'code': 'US',\n",
      "                           'flag': 'https://media-1.api-sports.io/flags/us.svg',\n",
      "                           'id': 1,\n",
      "                           'name': 'USA'},\n",
      "               'id': 36,\n",
      "               'logo': 'https://media-3.api-sports.io/baseball/teams/36.png',\n",
      "               'name': 'Toronto Blue Jays',\n",
      "               'national': False},\n",
      "              {'country': {'code': 'US',\n",
      "                           'flag': 'https://media-1.api-sports.io/flags/us.svg',\n",
      "                           'id': 1,\n",
      "                           'name': 'USA'},\n",
      "               'id': 37,\n",
      "               'logo': 'https://media-2.api-sports.io/baseball/teams/37.png',\n",
      "               'name': 'Washington Nationals',\n",
      "               'national': False}],\n",
      " 'results': 34}\n"
     ]
    }
   ],
   "source": [
    "\n",
    "url = \"https://api-baseball.p.rapidapi.com/teams\"\n",
    "\n",
    "querystring = {\"league\":\"1\",\"season\":\"2020\"}\n",
    "\n",
    "headers = {\n",
    "    \"X-RapidAPI-Key\": \"f31944184emsh76b64704e55403ap1dfef8jsn43e6257490ad\",\n",
    "    \"X-RapidAPI-Host\": \"api-baseball.p.rapidapi.com\"\n",
    "}\n",
    "\n",
    "response = requests.get(url, headers=headers, params=querystring)\n",
    "\n",
    "pprint(response.json())\n",
    "\n"
   ]
  },
  {
   "cell_type": "code",
   "execution_count": 3,
   "id": "5532b7e2",
   "metadata": {},
   "outputs": [],
   "source": [
    "equipos = response.json()"
   ]
  },
  {
   "cell_type": "code",
   "execution_count": 4,
   "id": "f5d4e7e8",
   "metadata": {},
   "outputs": [],
   "source": [
    "equipos2 = equipos[\"response\"]"
   ]
  },
  {
   "cell_type": "code",
   "execution_count": 5,
   "id": "ea51b44a",
   "metadata": {
    "scrolled": false
   },
   "outputs": [],
   "source": [
    "\n",
    "equipos_list = list()\n",
    "\n",
    "for i in equipos2:\n",
    "\n",
    "    id = i[\"id\"]\n",
    "    name = i[\"name\"]\n",
    "    logo = i[\"logo\"]\n",
    "    country = i[\"country\"][\"name\"]\n",
    "    \n",
    "    equipos_list.append([id, name, logo, country])\n",
    "\n",
    "equipos_df= pd.DataFrame(data = equipos_list, columns = [\"id\",\"name\",\"logo\",\"country\"])"
   ]
  },
  {
   "cell_type": "markdown",
   "id": "a71827d4",
   "metadata": {},
   "source": [
    "Tras revisar la tabla, se detectan varios equipos que no pertenecen a la categoría, por lo que se procede a su eliminación. Esta acción entraría dentro del apartado de Transform, pero dado que se necesita la lista de equipos para obtener las estadísitcas, se procede a eliminarlos."
   ]
  },
  {
   "cell_type": "code",
   "execution_count": 6,
   "id": "e45a13e6",
   "metadata": {
    "scrolled": true
   },
   "outputs": [],
   "source": [
    "equipos_df.drop([4,21,17,28], axis=0, inplace= True)"
   ]
  },
  {
   "cell_type": "markdown",
   "id": "576c76de",
   "metadata": {},
   "source": [
    "Para la extracciónd de las estadísticas de los equipos,  obtenemos los códigos de dodos ellos, ya que serán necesarios para iterar en el suguiente apartado."
   ]
  },
  {
   "cell_type": "code",
   "execution_count": 7,
   "id": "ec34f023",
   "metadata": {},
   "outputs": [],
   "source": [
    "lista_equipos = equipos_df[\"id\"].unique()\n",
    "lista_equipos_def = lista_equipos.tolist()"
   ]
  },
  {
   "cell_type": "code",
   "execution_count": 8,
   "id": "6d52b24a",
   "metadata": {},
   "outputs": [
    {
     "data": {
      "text/plain": [
       "[2,\n",
       " 3,\n",
       " 4,\n",
       " 5,\n",
       " 6,\n",
       " 7,\n",
       " 8,\n",
       " 9,\n",
       " 10,\n",
       " 12,\n",
       " 15,\n",
       " 16,\n",
       " 17,\n",
       " 18,\n",
       " 19,\n",
       " 20,\n",
       " 22,\n",
       " 24,\n",
       " 25,\n",
       " 26,\n",
       " 27,\n",
       " 28,\n",
       " 30,\n",
       " 31,\n",
       " 32,\n",
       " 33,\n",
       " 34,\n",
       " 35,\n",
       " 36,\n",
       " 37]"
      ]
     },
     "execution_count": 8,
     "metadata": {},
     "output_type": "execute_result"
    }
   ],
   "source": [
    "lista_equipos_def"
   ]
  },
  {
   "cell_type": "markdown",
   "id": "b3ef7b82",
   "metadata": {},
   "source": [
    "### 1.1.2 Estadísticas de los equipos"
   ]
  },
  {
   "cell_type": "markdown",
   "id": "a4590c72",
   "metadata": {},
   "source": [
    "Para esta segunda extracción, se aplica un método idéntico al anterior, pero acudiendo a otro API:"
   ]
  },
  {
   "cell_type": "markdown",
   "id": "03df2735",
   "metadata": {},
   "source": [
    "En \"querystring\" seleccionamos los parámetros elegidos para la consulta. Se realizara una consulta para cada una de las temporadas estudiadas y para cada uno de los equipos."
   ]
  },
  {
   "cell_type": "code",
   "execution_count": 9,
   "id": "ad9420b4",
   "metadata": {},
   "outputs": [
    {
     "data": {
      "text/plain": [
       "[2,\n",
       " 3,\n",
       " 4,\n",
       " 5,\n",
       " 6,\n",
       " 7,\n",
       " 8,\n",
       " 9,\n",
       " 10,\n",
       " 12,\n",
       " 15,\n",
       " 16,\n",
       " 17,\n",
       " 18,\n",
       " 19,\n",
       " 20,\n",
       " 22,\n",
       " 24,\n",
       " 25,\n",
       " 26,\n",
       " 27,\n",
       " 28,\n",
       " 30,\n",
       " 31,\n",
       " 32,\n",
       " 33,\n",
       " 34,\n",
       " 35,\n",
       " 36,\n",
       " 37]"
      ]
     },
     "execution_count": 9,
     "metadata": {},
     "output_type": "execute_result"
    }
   ],
   "source": [
    "lista_equipos_def"
   ]
  },
  {
   "cell_type": "code",
   "execution_count": null,
   "id": "93219c15",
   "metadata": {},
   "outputs": [],
   "source": [
    "lista_ori = list()\n",
    "\n",
    "for i in lista_equipos_def:    \n",
    "    url2 = \"https://api-baseball.p.rapidapi.com/teams/statistics\"\n",
    "\n",
    "    querystring = {\"league\":\"1\",\"season\":\"2022\",\"team\": i}\n",
    "\n",
    "    headers = {\n",
    "        \"X-RapidAPI-Key\": \"3db6ee68d3mshf8c01e71a32be6ep1f9631jsndcfefb964947\",\n",
    "        \"X-RapidAPI-Host\": \"api-baseball.p.rapidapi.com\"\n",
    "    }\n",
    "\n",
    "    response2 = requests.get(url2, headers=headers, params=querystring)\n",
    "    stats_pre = response2.json()\n",
    "    stats =  stats_pre[\"response\"]\n",
    "    lista_ori.append(stats)\n",
    "    sleep(10)\n",
    "\n",
    "pprint(lista_ori)"
   ]
  },
  {
   "cell_type": "markdown",
   "id": "b839b536",
   "metadata": {},
   "source": [
    "COn la informaciónd de cada equipo, se procede a su transformación en un único DataFrame:"
   ]
  },
  {
   "cell_type": "code",
   "execution_count": null,
   "id": "41dbfb64",
   "metadata": {
    "scrolled": true
   },
   "outputs": [],
   "source": [
    "pre_df_stats = list()\n",
    "for i in range(0,len(lista_ori)):\n",
    "    codigo = lista_ori[i][\"team\"][\"id\"]\n",
    "    equipo = lista_ori[i][\"team\"][\"name\"]\n",
    "    jugados = lista_ori[i][\"games\"][\"played\"][\"all\"]\n",
    "    ganados = lista_ori[i][\"games\"][\"wins\"][\"all\"][\"total\"]\n",
    "    perdidos = lista_ori[i][\"games\"][\"loses\"][\"all\"][\"total\"]\n",
    "    puntos_contra = lista_ori[i][\"points\"][\"against\"][\"total\"][\"all\"]\n",
    "    puntos_contra_casa = lista_ori[i][\"points\"][\"against\"][\"total\"][\"home\"]\n",
    "    puntos_contra_visit = lista_ori[i][\"points\"][\"against\"][\"total\"][\"away\"]\n",
    "    puntos_favor = lista_ori[i][\"points\"][\"for\"][\"total\"][\"all\"]\n",
    "    puntos_favor_casa = lista_ori[i][\"points\"][\"for\"][\"total\"][\"home\"]\n",
    "    puntos_favor_visit = lista_ori[i][\"points\"][\"for\"][\"total\"][\"away\"]\n",
    "    \n",
    "    pre_df_stats.append([codigo,equipo,jugados,ganados,perdidos,puntos_contra,puntos_contra_casa,\n",
    "                         puntos_contra_visit,puntos_favor,puntos_favor_casa,puntos_favor_visit])\n",
    "    \n",
    "       \n",
    "stats_df = pd.DataFrame(data = pre_df_stats, columns = [\"codigo\",\"equipo\",\"jugados\",\"ganados\",\"perdidos\",\n",
    "                                                       \"puntos_contra\",\"puntos_contra_casa\",\n",
    "                                                       \"puntos_contra_visit\",\"puntos_favor\",\n",
    "                                                       \"puntos_favor_casa\",\"puntos_favor_visit\"])\n",
    "\n",
    "\n",
    "    "
   ]
  },
  {
   "cell_type": "markdown",
   "id": "d4250aea",
   "metadata": {},
   "source": [
    "## 1.2 Web Scraping"
   ]
  },
  {
   "cell_type": "markdown",
   "id": "e0c7e9db",
   "metadata": {},
   "source": [
    "### 1.2.1 Información de los jugadores"
   ]
  },
  {
   "cell_type": "markdown",
   "id": "fa46d434",
   "metadata": {},
   "source": [
    "En primer lugar se obtienen las webs de las que se realiza la extracción de  información. Se consideran los 130 mejores jugadores en la temporada regular 2022."
   ]
  },
  {
   "cell_type": "code",
   "execution_count": null,
   "id": "f86273ff",
   "metadata": {},
   "outputs": [],
   "source": [
    "urls_paginas=[]\n",
    "for i in range(1,8):\n",
    "    string_url = f\"https://www.mlb.com/es/stats/2022?page={i}\"\n",
    "    urls_paginas.append(string_url)\n",
    "print(urls_paginas)"
   ]
  },
  {
   "cell_type": "markdown",
   "id": "789137d4",
   "metadata": {},
   "source": [
    "El siguiente código genera una lista con los datos de los jugadores."
   ]
  },
  {
   "cell_type": "code",
   "execution_count": null,
   "id": "56539a1c",
   "metadata": {},
   "outputs": [],
   "source": [
    "Nombre_Apellido=[]\n",
    "lista_ref=[]\n",
    "lista_link_player=[]\n",
    "for url in (urls_paginas):          \n",
    "               \n",
    "        response = requests.get(url)\n",
    "        soup = BeautifulSoup(response.text, \"html.parser\")\n",
    "                \n",
    "        for bs in soup.find_all(\"span\", class_=\"full-3fV3c9pF\"):\n",
    "            Nombre_Apellido.append(bs.text)      \n",
    "            \n",
    "        for bs in soup.find_all(\"div\", class_=\"top-wrapper-1NLTqKbE\"):            \n",
    "            ref=bs.find(class_=\"bui-link\")[\"href\"].split(\"/\")[-1]\n",
    "            lista_ref.append(ref)\n",
    "            \n",
    "            url_jugador= f\"https://www.mlb.com/es/player/{ref}\"\n",
    "            lista_link_player.append(url_jugador)\n",
    "            #print(url_jugador)\n",
    "len(lista_link_player)\n",
    "Nombre=[Nombre_Apellido[x]for x in range(0,len(Nombre_Apellido),2)]\n",
    "Apellido=[Nombre_Apellido[x]for x in range(1,len(Nombre_Apellido),2)]"
   ]
  },
  {
   "cell_type": "markdown",
   "id": "b589e9dc",
   "metadata": {},
   "source": [
    "El siguiente código prepara los datos para el Data Frame definitivo."
   ]
  },
  {
   "cell_type": "code",
   "execution_count": null,
   "id": "31b8c260",
   "metadata": {},
   "outputs": [],
   "source": [
    "Team=[]\n",
    "Number=[]\n",
    "Posicion=[]\n",
    "Edad=[]\n",
    "Fecha_nac=[]\n",
    "Lugar_nac=[]\n",
    "Fecha_Debut=[]\n",
    "Peso=[]\n",
    "Estatura=[]\n",
    "Mano_Bateo=[]\n",
    "Mano_Lanzar=[]\n",
    "\n",
    "\n",
    "c=0\n",
    "for jugador in (lista_link_player):\n",
    "    \n",
    "    print(f\"Faltan {len(lista_link_player)- c } jugadores\")\n",
    "    print(jugador)    \n",
    "    c+=1\n",
    "    \n",
    "    response = requests.get(jugador)\n",
    "    soup = BeautifulSoup(response.text, \"html.parser\")\n",
    "    sleep(0.04)\n",
    "        \n",
    "    #EQUIPO###########\n",
    "    equipo=soup.find(\"img\").get(\"alt\")    \n",
    "    Team.append(equipo)\n",
    "    sleep(0.02)\n",
    "    \n",
    "    #DORSAL###########\n",
    "    numero=soup.find(\"span\", class_=\"player-header--vitals-number\").text.replace(\"#\", \"\")\n",
    "    Number.append(numero)\n",
    "    sleep(0.02)\n",
    "    \n",
    "    #POSICION##########\n",
    "    posicion=soup.find(\"ul\").text.strip().split()[0]\n",
    "    Posicion.append(posicion)\n",
    "    sleep(0.01)\n",
    "    \n",
    "    #FECHA NAC,EDAD, FECHA DEBUT\n",
    "    datos=soup.find_all(\"ul\")[1].text.split(\"\\n\")\n",
    "    for i, j in enumerate(datos):\n",
    "        if j.startswith(\"Nacido:\"):\n",
    "            nacido=(j.split(\":\")[1])\n",
    "            Fecha_nac.append(nacido[1:])\n",
    "            \n",
    "            \n",
    "            Lugar_nac.append(datos[i+1].split(\",\")[-1])\n",
    "            \n",
    "        if j.startswith(\"Debut\"):\n",
    "            debut=(j.split(\":\")[1])\n",
    "            Fecha_Debut.append(debut)     \n",
    "       \n",
    "    #PESO###########\n",
    "    peso=soup.find(\"ul\").text.strip().split()[-3].split(\"/\")[1]\n",
    "    Peso.append(peso)\n",
    "    sleep(0.2)\n",
    "    \n",
    "    \n",
    "    #ESTATURA\n",
    "    a=float(soup.find(\"ul\").text.strip().split()[3].split(\"'\")[0])* 0.3048\n",
    "    b=float(soup.find(\"ul\").text.strip().split()[4][0])*0.0254\n",
    "    estatura=round((a+b),2)\n",
    "    Estatura.append(estatura)\n",
    "    sleep(0.2)\n",
    "    \n",
    "    #MANO DE BATEO\n",
    "    mano_bateo=soup.find(\"ul\").text.strip().split()[2][0]\n",
    "    Mano_Bateo.append(mano_bateo)\n",
    "    sleep(0.2)\n",
    "    \n",
    "    #MANO DE LANZAR\n",
    "    mano_lanzar=soup.find(\"ul\").text.strip().split()[2][-1]\n",
    "    Mano_Lanzar.append(mano_lanzar)\n",
    "    sleep(0.2)\n",
    "    \n",
    "\n",
    "for i in Fecha_nac:\n",
    "    edad=(datetime.now() - datetime.strptime(i, \"%m/%d/%Y\")).days // 365\n",
    "    Edad.append(edad)\n"
   ]
  },
  {
   "cell_type": "markdown",
   "id": "e010094b",
   "metadata": {},
   "source": [
    "Ahora creamos el DF definitvo de los jugadores."
   ]
  },
  {
   "cell_type": "code",
   "execution_count": null,
   "id": "b6d85b95",
   "metadata": {
    "scrolled": true
   },
   "outputs": [],
   "source": [
    "df_idplayers=pd.DataFrame()\n",
    "\n",
    "df_idplayers[\"id\"]=lista_ref\n",
    "df_idplayers[\"Nombre\"]=Nombre\n",
    "df_idplayers[\"Apellido\"]=Apellido\n",
    "df_idplayers[\"Posicion\"]=Posicion\n",
    "df_idplayers[\"Dorsal\"]=Number\n",
    "df_idplayers[\"Equipo\"]=Team\n",
    "df_idplayers[\"Fecha Nac\"]=Fecha_nac\n",
    "df_idplayers[\"Edad\"]=Edad\n",
    "df_idplayers[\"Lugar_Nacimiento\"]=Lugar_nac\n",
    "df_idplayers[\"F_Debut\"]=Fecha_Debut\n",
    "df_idplayers[\"Peso\"]=Peso\n",
    "df_idplayers[\"Estatura(mtrs)\"]=Estatura\n",
    "df_idplayers[\"Mano_Bateo\"]=Mano_Bateo\n",
    "df_idplayers[\"Mano_Lanzar\"]=Mano_Lanzar\n",
    "df_idplayers[\"Link_Ficha_Player\"]=lista_link_player"
   ]
  },
  {
   "cell_type": "markdown",
   "id": "21ceabb0",
   "metadata": {},
   "source": [
    "### 1.2.2 Stats de los Jugadores"
   ]
  },
  {
   "cell_type": "code",
   "execution_count": null,
   "id": "f152ac1f",
   "metadata": {},
   "outputs": [],
   "source": [
    "urls_paginas=[]\n",
    "for i in range(1,8):\n",
    "    string_url = f\"https://www.mlb.com/es/stats/2022?page={i}\"\n",
    "    urls_paginas.append(string_url)\n",
    "print(urls_paginas)"
   ]
  },
  {
   "cell_type": "code",
   "execution_count": null,
   "id": "eba69770",
   "metadata": {},
   "outputs": [],
   "source": [
    "Nombre_Apellido=[]\n",
    "lista_ref=[]\n",
    "lista_link_player=[]\n",
    "EQUIPO=[]\n",
    "J=[]\n",
    "TB=[]\n",
    "C=[]\n",
    "H=[]\n",
    "DOBLE=[]\n",
    "TRIPLE=[]\n",
    "HR=[]\n",
    "CI=[]\n",
    "BB=[]\n",
    "P=[]\n",
    "BR=[]\n",
    "AR=[]\n",
    "PRO=[]\n",
    "OBP=[]\n",
    "SLG=[]\n",
    "\n",
    "for url in (urls_paginas):          \n",
    "               \n",
    "        response = requests.get(url)\n",
    "        soup = BeautifulSoup(response.text, \"html.parser\")\n",
    "        \n",
    "        print(url)\n",
    "        \n",
    "        ########NOMBRE Y APELLIDO\n",
    "        for bs in soup.find_all(\"span\", class_=\"full-3fV3c9pF\"):\n",
    "            Nombre_Apellido.append(bs.text)      \n",
    "        ############ ID   \n",
    "        for bs in soup.find_all(\"div\", class_=\"top-wrapper-1NLTqKbE\"):            \n",
    "            ref=bs.find(class_=\"bui-link\")[\"href\"].split(\"/\")[-1]\n",
    "            lista_ref.append(ref)\n",
    "        ######URL JUGADOR    \n",
    "            url_jugador= f\"https://www.mlb.com/es/player/{ref}\"\n",
    "            lista_link_player.append(url_jugador)\n",
    "        ###### EQUIPO\n",
    "        for bs in soup.find_all(class_=\"col-group-end-2UJpJVwW number-aY5arzrB align-left-3L2SU-Mk is-table-pinned-1WfPW2jT\"):\n",
    "            EQUIPO.append(bs.text)\n",
    "            \n",
    "        #### J,C,BB,BR,PRO    \n",
    "        a=soup.find_all(\"td\",class_=\"col-group-start-sa9unvY0 number-aY5arzrB align-right-3nN_D3xs is-table-pinned-1WfPW2jT\")\n",
    "        for x in range(0, len(a),5):\n",
    "            J.append(a[x:x+5][0].text)\n",
    "            C.append(a[x:x+5][1].text)\n",
    "            BB.append(a[x:x+5][2].text)\n",
    "            BR.append(a[x:x+5][3].text)\n",
    "            PRO.append(a[x:x+5][4].text)\n",
    "            \n",
    "        ######## TB, CI, P, AR   \n",
    "        b=soup.find_all(class_=\"col-group-end-2UJpJVwW number-aY5arzrB align-right-3nN_D3xs is-table-pinned-1WfPW2jT\")\n",
    "        for x in range(0, len(b),4):\n",
    "            TB.append(b[x:x+4][0].text)\n",
    "            CI.append(b[x:x+4][1].text)\n",
    "            P.append(b[x:x+4][2].text)\n",
    "            AR.append(b[x:x+4][3].text)\n",
    "        \n",
    "        ######## H, DOBLE, TRIPLE, HR, OBP, SLG\n",
    "        c=soup.find_all(class_=\"number-aY5arzrB align-right-3nN_D3xs is-table-pinned-1WfPW2jT\")\n",
    "        for x in range(0, len(c),6):\n",
    "            H.append(c[x:x+6][0].text)\n",
    "            DOBLE.append(c[x:x+6][1].text)\n",
    "            TRIPLE.append(c[x:x+6][2].text)\n",
    "            HR.append(c[x:x+6][3].text)\n",
    "            OBP.append(c[x:x+6][4].text)\n",
    "            SLG.append(c[x:x+6][5].text)          \n",
    "            \n",
    "            \n",
    "            \n",
    "            \n",
    "len(lista_link_player)\n",
    "Nombre=[Nombre_Apellido[x]for x in range(0,len(Nombre_Apellido),2)]\n",
    "Apellido=[Nombre_Apellido[x]for x in range(1,len(Nombre_Apellido),2)]\n",
    "            "
   ]
  },
  {
   "cell_type": "code",
   "execution_count": null,
   "id": "1730362d",
   "metadata": {},
   "outputs": [],
   "source": [
    "df_player_stat=pd.DataFrame()\n",
    "\n",
    "df_player_stat[\"id\"]=lista_ref\n",
    "df_player_stat[\"Nombre\"]=Nombre\n",
    "df_player_stat[\"Apellido\"]=Apellido\n",
    "df_player_stat[\"Team\"]=EQUIPO\n",
    "df_player_stat[\"Juegos_Jugados\"]=J\n",
    "df_player_stat[\"Turnos_Bate\"]=TB\n",
    "df_player_stat[\"Carrera\"]=C\n",
    "df_player_stat[\"Hits\"]=H\n",
    "df_player_stat[\"Dobles\"]=DOBLE\n",
    "df_player_stat[\"Triple\"]=TRIPLE\n",
    "df_player_stat[\"Jonrones\"]=HR\n",
    "df_player_stat[\"Carreras_Impulsadas\"]=CI\n",
    "df_player_stat[\"Boletos\"]=BB\n",
    "df_player_stat[\"Ponches\"]=P\n",
    "df_player_stat[\"Bases_Robadas\"]=BR\n",
    "df_player_stat[\"Atrapado_Robando\"]=AR\n",
    "df_player_stat[\"Promedio\"]=PRO\n",
    "df_player_stat[\"%_On_Base\"]=OBP\n",
    "df_player_stat[\"Slugging\"]=SLG"
   ]
  },
  {
   "cell_type": "markdown",
   "id": "21c95585",
   "metadata": {},
   "source": [
    "### 1.2.3 Información de los Salarios"
   ]
  },
  {
   "cell_type": "code",
   "execution_count": null,
   "id": "0381835a",
   "metadata": {},
   "outputs": [],
   "source": [
    "url = \"https://www.spotrac.com/mlb/boston-red-sox/payroll/2022/\""
   ]
  },
  {
   "cell_type": "code",
   "execution_count": null,
   "id": "9c83a711",
   "metadata": {},
   "outputs": [],
   "source": [
    "response = requests.get(url)\n",
    "\n",
    "soup = BeautifulSoup(response.text, \"html.parser\")"
   ]
  },
  {
   "cell_type": "code",
   "execution_count": null,
   "id": "51962584",
   "metadata": {},
   "outputs": [],
   "source": [
    "response"
   ]
  },
  {
   "cell_type": "code",
   "execution_count": null,
   "id": "eeebe2ea",
   "metadata": {},
   "outputs": [],
   "source": [
    "nombre = soup.find('td', class_='player')\n",
    "nombre.find(\"a\").text\n"
   ]
  },
  {
   "cell_type": "code",
   "execution_count": null,
   "id": "ea0f866c",
   "metadata": {},
   "outputs": [],
   "source": [
    "salario = soup.find('td', class_='right')\n",
    "salario.text"
   ]
  },
  {
   "cell_type": "code",
   "execution_count": null,
   "id": "c47438c9",
   "metadata": {},
   "outputs": [],
   "source": [
    "equipos_mlb = [\"arizona-diamondbacks\", \"atlanta-braves\", \"baltimore-orioles\", \"boston-red-sox\", \"chicago-cubs\", \"chicago-white-sox\", \"cincinnati-reds\", \"cleveland-guardians\", \"colorado-rockies\", \"detroit-tigers\", \"houston-astros\", \"kansas-city-royals\", \"los-angeles-angels\", \"los-angeles-dodgers\", \"miami-marlins\", \"milwaukee-brewers\", \"minnesota-twins\", \"new-york-yankees\", \"new-york-mets\", \"oakland-athletics\", \"philadelphia-phillies\", \"pittsburgh-pirates\", \"san-diego-padres\", \"san-francisco-giants\", \"seattle-mariners\", \"st-louis-cardinals\", \"tampa-bay-rays\", \"texas-rangers\", \"toronto-blue-jays\", \"washington-nationals\"]\n"
   ]
  },
  {
   "cell_type": "code",
   "execution_count": null,
   "id": "2c20c3ac",
   "metadata": {},
   "outputs": [],
   "source": [
    "urls_equipos= []\n",
    "for x in equipos_mlb :\n",
    "    urls_equipos.append(f\"https://www.spotrac.com/mlb/{x}/payroll/2022/\")\n",
    "    \n",
    "urls_equipos"
   ]
  },
  {
   "cell_type": "code",
   "execution_count": null,
   "id": "ba171600",
   "metadata": {},
   "outputs": [],
   "source": [
    "url= \"https://www.spotrac.com/mlb/\"\n",
    "response = requests.get(url)\n",
    "soup = BeautifulSoup(response.text, \"html.parser\")\n",
    "season= 2022\n",
    "team_bs=soup.find_all(\"a\", class_=\"team-name\")\n",
    "team_webs=[team_bs[x][\"href\"] + f\"{season}/\" for x in range(len(team_bs))]\n",
    "team_webs"
   ]
  },
  {
   "cell_type": "code",
   "execution_count": null,
   "id": "fbb03d29",
   "metadata": {},
   "outputs": [],
   "source": [
    "for i in team_webs:\n",
    "    response = requests.get(i)\n",
    "    soup = BeautifulSoup(response.text, \"html.parser\")\n",
    "    \n",
    "    \n",
    "    break"
   ]
  },
  {
   "cell_type": "code",
   "execution_count": null,
   "id": "61de4d10",
   "metadata": {},
   "outputs": [],
   "source": [
    "len([x.text for x in soup.find_all(\"td\", class_ = \"right\")][:28*5])"
   ]
  },
  {
   "cell_type": "code",
   "execution_count": null,
   "id": "4eaadc4c",
   "metadata": {},
   "outputs": [],
   "source": [
    "[x for x in soup.find_all(\"span\", class_ =\"cap\")]"
   ]
  },
  {
   "cell_type": "code",
   "execution_count": null,
   "id": "f63eb499",
   "metadata": {},
   "outputs": [],
   "source": [
    "lst_nombres = []\n",
    "lst_salarios = []\n",
    "lst_edades = []\n",
    "lst_equipos = []\n",
    "lst_posiciones = []\n",
    "lst_payrolls = []\n",
    "\n",
    "for i in urls_equipos:\n",
    "    response = requests.get(i)\n",
    "    soup = BeautifulSoup(response.text, \"html.parser\")\n",
    "    \n",
    "    for x in [x.find(\"a\") for x in soup.find_all(\"td\",class_ =\"player\")][:28]:\n",
    "        if x != None:\n",
    "            lst_nombres.append(x.text)\n",
    "            lst_equipos.append(i.split(\"/\")[-4].replace(\"-\",\" \").title())\n",
    "        else:\n",
    "            break \n",
    "    \n",
    "\n",
    "#     for j in soup.find(\"td\", class_ = \"right\"):\n",
    "\n",
    "    salarios = np.array([x.text[1:] for x in soup.find_all(\"td\", class_ = \"right\")][:28*5]).reshape(28, 5)\n",
    "    \n",
    "    for s in salarios:\n",
    "        lst_salarios.append(s)\n",
    "\n",
    "#     for m in soup.find(\"span\", class_ =\"cap\"):\n",
    "#         lst_edades.append(m.text)\n",
    "\n",
    "    lst_posiciones.extend([x.text for x in soup.find_all(\"span\", class_ = \"cap\")[1::8]][:28])\n",
    "    \n",
    "    lst_payrolls.extend([x.text for x in soup.find_all(\"td\", class_ = \"center\")][3::5][:28])"
   ]
  },
  {
   "cell_type": "code",
   "execution_count": null,
   "id": "26741e1c",
   "metadata": {},
   "outputs": [],
   "source": [
    "df_salarios =pd.DataFrame(lst_salarios,\n",
    "                          columns = [\"Salario base\", \"Signing Bonus\", \"Incentives\", \"Payroll salary \", \"ADJ Salary\"])\n",
    "\n",
    "df_salarios[\"Nombre\"]   = lst_nombres \n",
    "df_salarios[\"Equipo\"]   = lst_equipos\n",
    "df_salarios[\"Posicion\"] = lst_posiciones\n",
    "df_salarios[\"Payroll\"]  = lst_payrolls\n",
    "\n",
    "# df_salarios[\"Edad\"] = lst_edades\n",
    "# df_salarios[\"Sueldo\"] = lst_salarios\n"
   ]
  },
  {
   "cell_type": "code",
   "execution_count": null,
   "id": "025bcb6a",
   "metadata": {},
   "outputs": [],
   "source": [
    "df_salarios = df_salarios[[\"Nombre\", \"Equipo\", \"Posicion\", \"Salario base\", \"Signing Bonus\", \"Incentives\", \"Payroll salary \", \"ADJ Salary\", \"Payroll\"]]\n"
   ]
  },
  {
   "cell_type": "markdown",
   "id": "431b1c10",
   "metadata": {},
   "source": [
    "### 1.2.4 Información de los Estadios"
   ]
  },
  {
   "cell_type": "code",
   "execution_count": null,
   "id": "c3cc92c0",
   "metadata": {},
   "outputs": [],
   "source": [
    "url = \"https://es.wikipedia.org/wiki/Anexo:Estadios_de_B%C3%A9isbol_de_las_Grandes_Ligas\"\n",
    "\n",
    "response = requests.get(url)\n",
    "\n",
    "soup = BeautifulSoup(response.text, \"html.parser\")\n",
    "\n",
    "equipos =soup.find(\"div\",class_ = \"mw-parser-output\")\n",
    "\n",
    "estadios = []\n",
    "\n",
    "for i in range(2,240,8):   #hacemos salto de 8 para saltar info sobrante\n",
    "    estadios.append(equipos.find_all(\"td\")[i].text)\n",
    "\n",
    "capacidad = []   \n",
    "\n",
    "for i in range(3,240,8):\n",
    "    capacidad.append(equipos.find_all(\"td\")[i].text)\n",
    "    \n",
    "enlaces = []\n",
    " \n",
    "for i in range(2,240,8):  \n",
    "    enlaces.append(equipos.find_all(\"td\")[i].find(\"a\")[\"href\"])\n",
    "\n",
    "urls_estadios= []\n",
    "for x in enlaces:\n",
    "    urls_estadios.append(f\"https://es.wikipedia.org/{x}\")\n",
    "    \n",
    "\n",
    "url = \"https://es.wikipedia.org/wiki/Dodger_Stadium\"\n",
    "\n",
    "response = requests.get(url)\n",
    "\n",
    "soup = BeautifulSoup(response.text, \"html.parser\")\n",
    "\n",
    "soup.find(\"span\",class_ =\"latitude\").text\n",
    "soup.find(\"span\",class_ =\"longitude\").text\n",
    "\n",
    "\n",
    "lst_latitud = []\n",
    "lst_longitud = []\n",
    "\n",
    "for i in urls_estadios:\n",
    "    response = requests.get(i)\n",
    "    soup = BeautifulSoup(response.text, \"html.parser\")\n",
    "    \n",
    "    for x in soup.find(\"span\",class_ =\"latitude\"):\n",
    "        lst_latitud.append(x.text)\n",
    "        \n",
    "    for j in soup.find(\"span\",class_ =\"longitude\"):\n",
    "        lst_longitud.append(j.text)\n",
    "              \n",
    "\n",
    "def convertir_a_decimal(coordenada):\n",
    "    grados, minutos, segundos = map(float, re.findall(r'\\d+', coordenada))\n",
    "    decimal = grados + minutos/60 + segundos/3600\n",
    "    return decimal\n",
    "\n",
    "latitudes = []\n",
    "\n",
    "for latitud in lst_latitud:\n",
    "    decimal_latitud = convertir_a_decimal(latitud)\n",
    "    latitudes.append(decimal_latitud)\n",
    "latitudes_float = [float(latitud) for latitud in latitudes]\n",
    "               \n",
    "longitudes_decimales = []\n",
    "\n",
    "for longitud in lst_longitud:\n",
    "    decimal_longitud = convertir_a_decimal(longitud)\n",
    "    longitudes_decimales.append(decimal_longitud)\n",
    "longitudes_float = [float(latitud) for latitud in longitudes_decimales]\n",
    "    \n",
    "longitudes = [-x for x in longitudes_decimales]   \n",
    "\n",
    "\n",
    "df_estadios=pd.DataFrame()\n",
    "\n",
    "df_estadios[\"Nombre\"]= estadios\n",
    "df_estadios[\"Capacidad\"]= capacidad\n",
    "df_estadios[\"Latitud\"]= latitudes\n",
    "df_estadios[\"Longitud\"]= longitudes\n",
    "df_estadios[\"Enlace\"]= urls_estadios\n"
   ]
  },
  {
   "cell_type": "markdown",
   "id": "8f993c72",
   "metadata": {},
   "source": [
    "# 2. Transformación de los Datos."
   ]
  },
  {
   "cell_type": "markdown",
   "id": "156d2877",
   "metadata": {},
   "source": [
    "Como paso previo, y a fin de revisar la calidad de dato en otro formato, exportamos los DF a excel para una primera revisión."
   ]
  },
  {
   "cell_type": "code",
   "execution_count": null,
   "id": "09f8aebb",
   "metadata": {},
   "outputs": [],
   "source": [
    "equipos_df.to_excel(\"equipos_excel.xlsx\", index = False)"
   ]
  },
  {
   "cell_type": "code",
   "execution_count": null,
   "id": "640a8a16",
   "metadata": {},
   "outputs": [],
   "source": [
    "stats_df.to_excel(\"stats_excel.xlsx\", index = False)"
   ]
  },
  {
   "cell_type": "code",
   "execution_count": null,
   "id": "da42d9dc",
   "metadata": {},
   "outputs": [],
   "source": [
    "df_idplayers.to_excel(\"idplayers_excel.xlsx\", index = False)"
   ]
  },
  {
   "cell_type": "code",
   "execution_count": null,
   "id": "a4432cc2",
   "metadata": {},
   "outputs": [],
   "source": [
    "df_player_stat.to_excel(\"df_player_stat.xlsx\", index = False)"
   ]
  },
  {
   "cell_type": "code",
   "execution_count": null,
   "id": "a339dbd1",
   "metadata": {},
   "outputs": [],
   "source": [
    "df_estadios.to_excel(\"estadios_excel.xlsx\", index = False)"
   ]
  },
  {
   "cell_type": "code",
   "execution_count": null,
   "id": "77239cb5",
   "metadata": {},
   "outputs": [],
   "source": [
    "df_salarios.to_excel(\"salarios_excel.xlsx\", index = False)"
   ]
  },
  {
   "cell_type": "markdown",
   "id": "ed1d6473",
   "metadata": {},
   "source": [
    "Como primer paso,  configuramos el código del equipo como index para relacionar con facilidad los diferentes Data Frames extraídos, consultando tanto la coherencia de los datos como su estructura."
   ]
  },
  {
   "cell_type": "markdown",
   "id": "84b35b42",
   "metadata": {},
   "source": [
    "## 2.1 Detección de nulos y duplicados"
   ]
  },
  {
   "cell_type": "markdown",
   "id": "7e55ed17",
   "metadata": {},
   "source": [
    "### 2.1.1 Equipos"
   ]
  },
  {
   "cell_type": "code",
   "execution_count": null,
   "id": "cb7b562f",
   "metadata": {},
   "outputs": [],
   "source": [
    "equipos_df.isnull().sum()"
   ]
  },
  {
   "cell_type": "code",
   "execution_count": null,
   "id": "40dd0ec8",
   "metadata": {},
   "outputs": [],
   "source": [
    "equipos_df.duplicated().sum()"
   ]
  },
  {
   "cell_type": "code",
   "execution_count": null,
   "id": "d8a34d33",
   "metadata": {},
   "outputs": [],
   "source": [
    "stats_df.isnull().sum()"
   ]
  },
  {
   "cell_type": "code",
   "execution_count": null,
   "id": "e2de016a",
   "metadata": {},
   "outputs": [],
   "source": [
    "stats_df.duplicated().sum()"
   ]
  },
  {
   "cell_type": "markdown",
   "id": "0eea1f67",
   "metadata": {},
   "source": [
    "### 2.1.2 Jugadores"
   ]
  },
  {
   "cell_type": "code",
   "execution_count": null,
   "id": "cdb8c179",
   "metadata": {
    "scrolled": false
   },
   "outputs": [],
   "source": [
    "df_idplayers.isnull().sum()"
   ]
  },
  {
   "cell_type": "code",
   "execution_count": null,
   "id": "7e77aea7",
   "metadata": {},
   "outputs": [],
   "source": [
    "df_idplayers.duplicated().sum()"
   ]
  },
  {
   "cell_type": "code",
   "execution_count": null,
   "id": "81603744",
   "metadata": {},
   "outputs": [],
   "source": [
    "df_player_stat.isnull().sum()"
   ]
  },
  {
   "cell_type": "code",
   "execution_count": null,
   "id": "0d62bf31",
   "metadata": {},
   "outputs": [],
   "source": [
    "df_player_stat.duplicated().sum()"
   ]
  },
  {
   "cell_type": "markdown",
   "id": "62014fef",
   "metadata": {},
   "source": [
    "### 2.1.3 Estadios"
   ]
  },
  {
   "cell_type": "code",
   "execution_count": null,
   "id": "2cf45062",
   "metadata": {},
   "outputs": [],
   "source": [
    "df_estadios.isnull().sum()"
   ]
  },
  {
   "cell_type": "code",
   "execution_count": null,
   "id": "12148496",
   "metadata": {},
   "outputs": [],
   "source": [
    "df_estadios.isnull().sum()"
   ]
  },
  {
   "cell_type": "markdown",
   "id": "75a1c895",
   "metadata": {},
   "source": [
    "### 2.1.4 Salarios"
   ]
  },
  {
   "cell_type": "code",
   "execution_count": null,
   "id": "fbf1e189",
   "metadata": {},
   "outputs": [],
   "source": [
    "df_salarios.isnull().sum()"
   ]
  },
  {
   "cell_type": "code",
   "execution_count": null,
   "id": "ea5bc53a",
   "metadata": {},
   "outputs": [],
   "source": [
    "df_salarios.isnull().sum()"
   ]
  },
  {
   "cell_type": "markdown",
   "id": "7cae9caa",
   "metadata": {},
   "source": [
    "## 2.2 Creación de nuevos DataFrames Consolidados y Variables"
   ]
  },
  {
   "cell_type": "markdown",
   "id": "70b87fb0",
   "metadata": {},
   "source": [
    "Se crea un único Data Frame para los equipos y jugadores."
   ]
  },
  {
   "cell_type": "markdown",
   "id": "e97a399e",
   "metadata": {},
   "source": [
    "### 2.2.1 Data Frame Equipos"
   ]
  },
  {
   "cell_type": "markdown",
   "id": "27416c4b",
   "metadata": {},
   "source": [
    "\n",
    "\n",
    "\n",
    "Renombramos la columna de stats_def como id para tener un punto de unión entre ambos Data Frames:\n"
   ]
  },
  {
   "cell_type": "code",
   "execution_count": null,
   "id": "c2ee71a3",
   "metadata": {},
   "outputs": [],
   "source": [
    "stats_df.rename(columns={\"codigo\":\"id\"}, inplace=True)"
   ]
  },
  {
   "cell_type": "code",
   "execution_count": null,
   "id": "286087e1",
   "metadata": {},
   "outputs": [],
   "source": [
    "df_equipos_def = pd.merge(left = equipos_df, right = stats_df, on = \"id\", how = \"outer\")"
   ]
  },
  {
   "cell_type": "code",
   "execution_count": null,
   "id": "f49b7d4d",
   "metadata": {},
   "outputs": [],
   "source": [
    "df_equipos_def.set_index(\"id\", inplace = True)"
   ]
  },
  {
   "cell_type": "markdown",
   "id": "c130d1e1",
   "metadata": {},
   "source": [
    "A continuación procedemos a eliminar columnas inncesarias o repetidas:"
   ]
  },
  {
   "cell_type": "code",
   "execution_count": null,
   "id": "021fe56a",
   "metadata": {},
   "outputs": [],
   "source": [
    "df_equipos_def.drop(columns = [\"name\", \"logo\"], inplace = True)"
   ]
  },
  {
   "cell_type": "markdown",
   "id": "bf68fe5a",
   "metadata": {},
   "source": [
    "#### Creación de nuevas variables  "
   ]
  },
  {
   "cell_type": "markdown",
   "id": "867991c0",
   "metadata": {},
   "source": [
    "En este frame vamos a crear dos nuevas columnas: % puntos favor casa y  puntos favor visitante. Para ello tenemos que comprobar que los datos sobre los que se realiza la operación son de tipo numérico.\n"
   ]
  },
  {
   "cell_type": "code",
   "execution_count": null,
   "id": "d969377d",
   "metadata": {},
   "outputs": [],
   "source": [
    "df_equipos_def.info()"
   ]
  },
  {
   "cell_type": "markdown",
   "id": "ff826237",
   "metadata": {},
   "source": [
    "Comprobado que se trata de números enteros, se procede a generar las columnas:"
   ]
  },
  {
   "cell_type": "code",
   "execution_count": null,
   "id": "882c2f0b",
   "metadata": {},
   "outputs": [],
   "source": [
    "df_equipos_def[\"% puntos casa\"] = (df_equipos_def[\"puntos_favor_casa\"]/\n",
    "                                 (df_equipos_def[\"puntos_favor_casa\"]+\n",
    "                                df_equipos_def[\"puntos_favor_visit\"]))*100\n",
    "\n",
    "df_equipos_def[\"% contra casa\"] = (df_equipos_def[\"puntos_contra_casa\"]/\n",
    "                                 (df_equipos_def[\"puntos_contra_casa\"]+\n",
    "                                df_equipos_def[\"puntos_contra_visit\"]))*100\n",
    "                                  "
   ]
  },
  {
   "cell_type": "markdown",
   "id": "ad45ef1e",
   "metadata": {},
   "source": [
    "Como último paso, redondeamos las columnas nuevas a dos decimales:"
   ]
  },
  {
   "cell_type": "code",
   "execution_count": null,
   "id": "3a985cda",
   "metadata": {},
   "outputs": [],
   "source": [
    "df_equipos_def = df_equipos_def.round({\"% puntos casa\" :2, \"% contra casa\" : 2})"
   ]
  },
  {
   "cell_type": "markdown",
   "id": "61bd6088",
   "metadata": {},
   "source": [
    "### 2.2.2 Jugadores"
   ]
  },
  {
   "cell_type": "code",
   "execution_count": null,
   "id": "3a8878fb",
   "metadata": {},
   "outputs": [],
   "source": [
    "    df_fullplayer_stat=pd.merge(left = df_idplayers, right = df_player_stat, on='id', how = \"outer\")"
   ]
  },
  {
   "cell_type": "markdown",
   "id": "88ab9f85",
   "metadata": {},
   "source": [
    "Eliminamos las columnas repetidas."
   ]
  },
  {
   "cell_type": "code",
   "execution_count": null,
   "id": "0cd1b82d",
   "metadata": {},
   "outputs": [],
   "source": [
    "df_fullplayer_stat.drop(columns=[col for col in df_fullplayer_stat.columns if col.endswith('_2')], inplace=True)"
   ]
  },
  {
   "cell_type": "code",
   "execution_count": null,
   "id": "9b56d4d8",
   "metadata": {},
   "outputs": [],
   "source": [
    "df_fullplayer_stat.info()"
   ]
  },
  {
   "cell_type": "markdown",
   "id": "d85ca39a",
   "metadata": {},
   "source": [
    "#### Creación de nuevas variables "
   ]
  },
  {
   "cell_type": "markdown",
   "id": "e7908b82",
   "metadata": {},
   "source": [
    "#### OPS – Promedio de Embasado(OBP) + Slugging \n",
    "(agrega porcentaje de embasado y porcentaje de slugging )\n",
    "para obtener un número que une a los dos. Su objetivo es combinar lo bien que un bateador \n",
    "puede llegar a la base, con lo bien que puede batear para promedio y poder."
   ]
  },
  {
   "cell_type": "code",
   "execution_count": null,
   "id": "a379e2f0",
   "metadata": {},
   "outputs": [],
   "source": [
    "#Creamos la columna\n",
    "df_fullplayer_stat[\"OPS\"]=df_fullplayer_stat[\"%_On_Base\"]+df_fullplayer_stat[\"Slugging\"]"
   ]
  },
  {
   "cell_type": "code",
   "execution_count": null,
   "id": "9cccba57",
   "metadata": {},
   "outputs": [],
   "source": [
    "#Convertir la fecha de nacimiento y la fecha debut en datetime\n",
    "df_fullplayer_stat['Fecha Nac'] = pd.to_datetime(df_fullplayer_stat['Fecha Nac'])\n",
    "df_fullplayer_stat['F_Debut'] = pd.to_datetime(df_fullplayer_stat['F_Debut'])"
   ]
  },
  {
   "cell_type": "code",
   "execution_count": null,
   "id": "9d8fb3aa",
   "metadata": {},
   "outputs": [],
   "source": [
    "#Eliminar la columna equipo que se repite\n",
    "df_fullplayer_stat.drop(columns=[\"Equipo\"], inplace=True)"
   ]
  },
  {
   "cell_type": "code",
   "execution_count": null,
   "id": "74f96846",
   "metadata": {},
   "outputs": [],
   "source": [
    "lugar=df_fullplayer_stat[\"Lugar_Nacimiento\"]\n",
    "pais=[]\n",
    "for i in lugar:\n",
    "    if len(i)== 3:\n",
    "        a=\"USA\"\n",
    "        pais.append(a)\n",
    "    else:\n",
    "        pais.append(i[1:])"
   ]
  },
  {
   "cell_type": "code",
   "execution_count": null,
   "id": "cfb3420a",
   "metadata": {},
   "outputs": [],
   "source": [
    "#agrega la cloumna Pais al df\n",
    "df_fullplayer_stat[\"Pais\"]=pais"
   ]
  },
  {
   "cell_type": "code",
   "execution_count": null,
   "id": "a37b7361",
   "metadata": {},
   "outputs": [],
   "source": [
    "df_fullplayer_stat.sample(1)"
   ]
  },
  {
   "cell_type": "code",
   "execution_count": null,
   "id": "2f54333d",
   "metadata": {},
   "outputs": [],
   "source": [
    "column_order =['id','Dorsal', 'Nombre_x', 'Apellido_x','Team', 'Posicion', 'OPS','%_On_Base','Slugging',\n",
    "               'Fecha Nac','Edad','F_Debut', 'Lugar_Nacimiento',\"Pais\",'Peso', 'Estatura(mtrs)',\n",
    "               'Mano_Bateo', 'Mano_Lanzar',  'Juegos_Jugados', 'Turnos_Bate', 'Carrera',\n",
    "               'Hits', 'Dobles', 'Triple', 'Jonrones', 'Carreras_Impulsadas', 'Boletos', \n",
    "               'Ponches', 'Bases_Robadas', 'Atrapado_Robando', 'Promedio',\n",
    "               'Link_Ficha_Player']\n",
    "df_fullplayer_stat = df_fullplayer_stat[column_order]"
   ]
  },
  {
   "cell_type": "code",
   "execution_count": null,
   "id": "02338a8a",
   "metadata": {},
   "outputs": [],
   "source": [
    "df_fullplayer_stat[\"Estatura(mtrs)\"] = df_fullplayer_stat[\"Estatura(mtrs)\"].astype(float)\n"
   ]
  },
  {
   "cell_type": "code",
   "execution_count": null,
   "id": "b9d335b9",
   "metadata": {},
   "outputs": [],
   "source": [
    "df_fullplayer_stat.sample(1)"
   ]
  },
  {
   "cell_type": "code",
   "execution_count": null,
   "id": "2762c684",
   "metadata": {},
   "outputs": [],
   "source": [
    "# df_fullplayer_stat[\"IMC\"]= df_fullplayer_stat.apply(lambda x: x['Peso'] / (x['Estatura(mtrs)'] ** 2), axis=1)"
   ]
  },
  {
   "cell_type": "markdown",
   "id": "45892d0e",
   "metadata": {},
   "source": [
    "# 3. Carga a Airtable"
   ]
  },
  {
   "cell_type": "markdown",
   "id": "8d3cb27f",
   "metadata": {},
   "source": [
    "Unicamente se detallará la subida del DF de Estadios, ya que el proceso es idéntico para cada archivo."
   ]
  },
  {
   "cell_type": "markdown",
   "id": "d3db7e41",
   "metadata": {},
   "source": [
    "## 3.1 Estadios"
   ]
  },
  {
   "cell_type": "markdown",
   "id": "96837f7d",
   "metadata": {},
   "source": [
    "En airtable creamos la tabla y obtenemos la información para el acceso. Base ID y Table ID se obtienen de la URL de tabla. Se crea una columna tipo texto largo para evitar incompatibilidades con la subida.\n",
    "\n",
    "Cabe reseñar que todas las tablas tienen tres registros vacíos que de no eliminarse, permanecerán vacíos tras la subida."
   ]
  },
  {
   "cell_type": "markdown",
   "id": "ea6b82aa",
   "metadata": {},
   "source": [
    "Primero introducimos las credenciales de la cuenta y la tabla:"
   ]
  },
  {
   "cell_type": "code",
   "execution_count": null,
   "id": "6a8bdb9d",
   "metadata": {},
   "outputs": [],
   "source": [
    "API_KEY = \"keyRc6JmNDvpMS5Lj\" # Usuario\n",
    "\n",
    "BASE_ID = \"appAaKrYAjedDeg00\" # Base: Tabla API\n",
    "\n",
    "TABLE_ID = \"tblQkgdfaTTkg5em5\" # Tabla: datos_1\n",
    "\n",
    "airtable_base_url = \"https://api.airtable.com/v0\""
   ]
  },
  {
   "cell_type": "markdown",
   "id": "de3aae7e",
   "metadata": {},
   "source": [
    "Ahora comprobamos las creadenciales, creando headers, como \"llave\" de acceso."
   ]
  },
  {
   "cell_type": "code",
   "execution_count": null,
   "id": "2f821269",
   "metadata": {},
   "outputs": [],
   "source": [
    "headers = {\"Authorization\" : f\"Bearer {API_KEY}\",\n",
    "           \"Content-Type\"  : \"application/json\"}\n",
    "\n",
    "print(headers)"
   ]
  },
  {
   "cell_type": "markdown",
   "id": "de2945c3",
   "metadata": {},
   "source": [
    "Definimos el edpoint"
   ]
  },
  {
   "cell_type": "code",
   "execution_count": null,
   "id": "8faf65f5",
   "metadata": {},
   "outputs": [],
   "source": [
    "endpoint = f\"{airtable_base_url}/{BASE_ID}/{TABLE_ID}\"\n",
    "\n",
    "print(endpoint)"
   ]
  },
  {
   "cell_type": "markdown",
   "id": "41d1e492",
   "metadata": {},
   "source": [
    "Como precaución, pasamos a string la información, y eliminaos los espacios de las columnas, evitando futuras incompatibilidades relacionadas."
   ]
  },
  {
   "cell_type": "code",
   "execution_count": null,
   "id": "43dfc778",
   "metadata": {},
   "outputs": [],
   "source": [
    "df_estadios_subir =df_estadios[df_estadios.columns].astype(str)"
   ]
  },
  {
   "cell_type": "code",
   "execution_count": null,
   "id": "f3ffc2e0-2cf1-472e-8fe2-8b55500a4829",
   "metadata": {},
   "outputs": [],
   "source": [
    "df_estadios_subir2 = [x.strip() for x in df_estadios_subir.columns]"
   ]
  },
  {
   "cell_type": "code",
   "execution_count": null,
   "id": "014fab4a",
   "metadata": {},
   "outputs": [],
   "source": [
    "df_estadios_subir = df_estadios_subir[df_estadios_subir2]"
   ]
  },
  {
   "cell_type": "markdown",
   "id": "39f98b9f",
   "metadata": {},
   "source": [
    "Ahora generamos el bucle que con la información contenida en el DataFrame, generará la estructura requerida por AIRTABLE"
   ]
  },
  {
   "cell_type": "code",
   "execution_count": null,
   "id": "0a0f8b8e",
   "metadata": {},
   "outputs": [],
   "source": [
    "datos_estadios_json = [{\"fields\": df_estadios_subir.iloc[i, : ].to_dict()} for i in range(df_estadios_subir.shape[0])]"
   ]
  },
  {
   "cell_type": "markdown",
   "id": "8c998891",
   "metadata": {},
   "source": [
    "Comprobamos que el archivo está correctamente estructurado."
   ]
  },
  {
   "cell_type": "code",
   "execution_count": null,
   "id": "aaa90d0e",
   "metadata": {
    "scrolled": true
   },
   "outputs": [],
   "source": [
    "pprint(datos_estadios_json)"
   ]
  },
  {
   "cell_type": "markdown",
   "id": "542c507a",
   "metadata": {},
   "source": [
    "Subimos el archivo a AIRTABLE de 10 en 10 registros, y lo comprobamos visualmente."
   ]
  },
  {
   "cell_type": "code",
   "execution_count": null,
   "id": "68b6094e",
   "metadata": {},
   "outputs": [],
   "source": [
    "for i in range(0, df_estadios_subir.shape[0], 10):\n",
    "    \n",
    "    data = {\"records\" : datos_estadios_json[i : i + 10]}\n",
    "    \n",
    "    response = requests.post(url = endpoint, json = data, headers = headers) # POST\n",
    "    \n",
    "    sleep(0.5)"
   ]
  },
  {
   "attachments": {
    "Imagen%2031-5-23%20a%20las%2011.25.jpeg": {
     "image/jpeg": "[encoded data removed]"
    }
   },
   "cell_type": "markdown",
   "id": "b7ae402e",
   "metadata": {},
   "source": [
    "![Imagen%2031-5-23%20a%20las%2011.25.jpeg](attachment:Imagen%2031-5-23%20a%20las%2011.25.jpeg)"
   ]
  },
  {
   "cell_type": "markdown",
   "id": "ff5b9126",
   "metadata": {},
   "source": [
    "## 3.2 Equipos"
   ]
  },
  {
   "cell_type": "code",
   "execution_count": null,
   "id": "3904525a",
   "metadata": {},
   "outputs": [],
   "source": [
    "API_KEY2 = \"keyRc6JmNDvpMS5Lj\" # Usuario\n",
    "\n",
    "BASE_ID2 = \"app8fJkC5OZGBm8GX\" # Base: Tabla API\n",
    "\n",
    "TABLE_ID2 = \"tblCiPoIHRWhwTQEc\" # Tabla: datos_1\n",
    "\n",
    "airtable_base_url2 = \"https://api.airtable.com/v0\""
   ]
  },
  {
   "cell_type": "code",
   "execution_count": null,
   "id": "ff309322",
   "metadata": {},
   "outputs": [],
   "source": [
    "headers2 = {\"Authorization\" : f\"Bearer {API_KEY2}\",\n",
    "           \"Content-Type\"  : \"application/json\"}\n",
    "\n",
    "print(headers2)"
   ]
  },
  {
   "cell_type": "code",
   "execution_count": null,
   "id": "493de2af",
   "metadata": {},
   "outputs": [],
   "source": [
    "endpoint2 = f\"{airtable_base_url2}/{BASE_ID2}/{TABLE_ID2}\"\n",
    "\n",
    "print(endpoint2)"
   ]
  },
  {
   "cell_type": "code",
   "execution_count": null,
   "id": "82f9db2d",
   "metadata": {},
   "outputs": [],
   "source": [
    "df_equipos_subir =df_equipos_def[df_equipos_def.columns].astype(str)"
   ]
  },
  {
   "cell_type": "code",
   "execution_count": null,
   "id": "ad2f6066",
   "metadata": {},
   "outputs": [],
   "source": [
    "df_equipos_subir2 = [x.strip() for x in df_equipos_subir.columns]"
   ]
  },
  {
   "cell_type": "code",
   "execution_count": null,
   "id": "a6fb7985",
   "metadata": {},
   "outputs": [],
   "source": [
    "df_equipos_subir = df_equipos_subir[df_equipos_subir2]"
   ]
  },
  {
   "cell_type": "code",
   "execution_count": null,
   "id": "4563546e",
   "metadata": {},
   "outputs": [],
   "source": [
    "datos_equipos_json = [{\"fields\": df_equipos_subir.iloc[i, : ].to_dict()} for i in range(df_equipos_subir.shape[0])]"
   ]
  },
  {
   "cell_type": "code",
   "execution_count": null,
   "id": "3e3b7003",
   "metadata": {},
   "outputs": [],
   "source": [
    "for i in range(0, df_equipos_subir.shape[0], 10):\n",
    "    \n",
    "    data2 = {\"records\" : datos_equipos_json[i : i + 10]}\n",
    "    \n",
    "    response = requests.post(url = endpoint2, json = data2, headers = headers2) # POST\n",
    "    \n",
    "    sleep(0.5)"
   ]
  },
  {
   "cell_type": "markdown",
   "id": "d0680b95",
   "metadata": {},
   "source": [
    "## 3.3 Jugadores"
   ]
  },
  {
   "cell_type": "code",
   "execution_count": null,
   "id": "bc3cb451",
   "metadata": {},
   "outputs": [],
   "source": [
    "df_fullplayer_stat = df_fullplayer_stat.set_index(\"id\", inplace = True)"
   ]
  },
  {
   "cell_type": "code",
   "execution_count": null,
   "id": "2abd38a1",
   "metadata": {},
   "outputs": [],
   "source": [
    "API_KEY3 = \"keyRc6JmNDvpMS5Lj\" # Usuario\n",
    "\n",
    "BASE_ID3 = \"appTEHKdSyN7fIgla\" # Base: Tabla API\n",
    "\n",
    "TABLE_ID3 = \"tblvnqgrI3o9BM06r\" # Tabla: datos_1\n",
    "\n",
    "airtable_base_url3 = \"https://api.airtable.com/v0\""
   ]
  },
  {
   "cell_type": "code",
   "execution_count": null,
   "id": "f132b262",
   "metadata": {},
   "outputs": [],
   "source": [
    "headers3 = {\"Authorization\" : f\"Bearer {API_KEY3}\",\n",
    "           \"Content-Type\"  : \"application/json\"}\n",
    "\n",
    "print(headers3)"
   ]
  },
  {
   "cell_type": "code",
   "execution_count": null,
   "id": "3d642fdb",
   "metadata": {},
   "outputs": [],
   "source": [
    "endpoint3 = f\"{airtable_base_url3}/{BASE_ID3}/{TABLE_ID3}\"\n",
    "\n",
    "print(endpoint3)"
   ]
  },
  {
   "cell_type": "code",
   "execution_count": null,
   "id": "0bb788c1",
   "metadata": {},
   "outputs": [],
   "source": [
    "df_fullplayer_stat = df_fullplayer_stat[df_fullplayer_stat.columns].astype(str)"
   ]
  },
  {
   "cell_type": "code",
   "execution_count": null,
   "id": "91170214",
   "metadata": {},
   "outputs": [],
   "source": [
    "df_fullplayer_stat_2 = [x.strip() for x in df_fullplayer_stat.columns]"
   ]
  },
  {
   "cell_type": "code",
   "execution_count": null,
   "id": "21bf8e87",
   "metadata": {},
   "outputs": [],
   "source": [
    "df_fullplayer_stat = df_fullplayer_stat[df_fullplayer_stat_2]"
   ]
  },
  {
   "cell_type": "code",
   "execution_count": null,
   "id": "e1d47c83",
   "metadata": {},
   "outputs": [],
   "source": [
    "datos_jugadores_json4 = [{\"fields\": df_fullplayer_stat.iloc[i, : ].to_dict()} for i in range(df_fullplayer_stat.shape[0])]"
   ]
  },
  {
   "cell_type": "code",
   "execution_count": null,
   "id": "ced6822d",
   "metadata": {},
   "outputs": [],
   "source": [
    "for i in range(0, df_fullplayer_stat.shape[0], 10):\n",
    "    \n",
    "    data3 = {\"records\" : datos_jugadores_json4[i : i + 10]}\n",
    "    \n",
    "    response3 = requests.post(url = endpoint3, json = data3, headers = headers3) # POST\n",
    "    \n",
    "    sleep(0.5)"
   ]
  },
  {
   "cell_type": "code",
   "execution_count": null,
   "id": "17025fc2",
   "metadata": {},
   "outputs": [],
   "source": []
  },
  {
   "cell_type": "markdown",
   "id": "c511fb4c",
   "metadata": {},
   "source": [
    "## 3.4 Salarios"
   ]
  },
  {
   "cell_type": "markdown",
   "id": "0c50e24e",
   "metadata": {},
   "source": [
    "Primero configuramos como index el nombre para no duplicar el registro y ahorrar espacio."
   ]
  },
  {
   "cell_type": "code",
   "execution_count": null,
   "id": "5b6efdb6",
   "metadata": {},
   "outputs": [],
   "source": [
    "df_salarios_subir = df_salarios.set_index(\"Nombre\")"
   ]
  },
  {
   "cell_type": "code",
   "execution_count": null,
   "id": "fe128bab",
   "metadata": {},
   "outputs": [],
   "source": [
    "API_KEY4 = \"keyRc6JmNDvpMS5Lj\" # Usuario\n",
    "\n",
    "BASE_ID4 = \"apphnocvtGlSQHAHI\" # Base: Tabla API\n",
    "\n",
    "TABLE_ID4 = \"tblMO9fWZx7icCOhm\" # Tabla: datos_1\n",
    "\n",
    "airtable_base_url4 = \"https://api.airtable.com/v0\""
   ]
  },
  {
   "cell_type": "code",
   "execution_count": null,
   "id": "864fe049",
   "metadata": {},
   "outputs": [],
   "source": [
    "headers4 = {\"Authorization\" : f\"Bearer {API_KEY4}\",\n",
    "           \"Content-Type\"  : \"application/json\"}\n",
    "\n",
    "print(headers4)"
   ]
  },
  {
   "cell_type": "code",
   "execution_count": null,
   "id": "eacf143f",
   "metadata": {},
   "outputs": [],
   "source": [
    "endpoint4 = f\"{airtable_base_url4}/{BASE_ID4}/{TABLE_ID4}\"\n",
    "\n",
    "print(endpoint4)"
   ]
  },
  {
   "cell_type": "code",
   "execution_count": null,
   "id": "37552682",
   "metadata": {},
   "outputs": [],
   "source": [
    "df_salarios_subir = df_salarios[df_salarios.columns].astype(str)"
   ]
  },
  {
   "cell_type": "code",
   "execution_count": null,
   "id": "d86646e5",
   "metadata": {},
   "outputs": [],
   "source": [
    "df_salarios_subir_2 = [x.strip() for x in df_salarios_subir.columns]"
   ]
  },
  {
   "cell_type": "code",
   "execution_count": null,
   "id": "d44cd6f1",
   "metadata": {},
   "outputs": [],
   "source": [
    "datos_salarios_json4 = [{\"fields\": df_salarios_subir.iloc[i, : ].to_dict()} for i in range(df_salarios_subir.shape[0])]"
   ]
  },
  {
   "cell_type": "code",
   "execution_count": null,
   "id": "91690889",
   "metadata": {},
   "outputs": [],
   "source": [
    "pprint(datos_salarios_json4)"
   ]
  },
  {
   "cell_type": "code",
   "execution_count": null,
   "id": "a8568ace",
   "metadata": {},
   "outputs": [],
   "source": [
    "for i in range(0, df_salarios_subir.shape[0], 10):\n",
    "    \n",
    "    data4 = {\"records\" : datos_salarios_json4[i : i + 10]}\n",
    "    \n",
    "    response = requests.post(url = endpoint4, json = data4, headers = headers4) # POST\n",
    "    \n",
    "    sleep(0.5)"
   ]
  },
  {
   "cell_type": "code",
   "execution_count": null,
   "id": "f8c67e97",
   "metadata": {},
   "outputs": [],
   "source": [
    "df_salarios_subir.info()"
   ]
  },
  {
   "cell_type": "markdown",
   "id": "a32a9df1",
   "metadata": {},
   "source": [
    "# 4. Análisis y Visualización"
   ]
  },
  {
   "cell_type": "markdown",
   "id": "292cdc59",
   "metadata": {},
   "source": [
    "## 4.1.  Equipos y stats principales"
   ]
  },
  {
   "cell_type": "code",
   "execution_count": null,
   "id": "8107c394",
   "metadata": {
    "scrolled": true
   },
   "outputs": [],
   "source": [
    "df_equipos_def.sample(2)"
   ]
  },
  {
   "cell_type": "code",
   "execution_count": null,
   "id": "650f8225",
   "metadata": {},
   "outputs": [],
   "source": [
    "para = df_equipos_def.set_index(\"name\")\n",
    "para = para.T\n",
    "para = para[para.index.isin([\"jugados\",\"ganados\",\"perdidos\",\"\"])]"
   ]
  },
  {
   "cell_type": "code",
   "execution_count": null,
   "id": "07f6b4ba",
   "metadata": {
    "scrolled": false
   },
   "outputs": [],
   "source": [
    "para.iplot(kind='bar', \n",
    "                   xTitle='Years',\n",
    "                    yTitle='Population')"
   ]
  },
  {
   "cell_type": "code",
   "execution_count": null,
   "id": "1b671227",
   "metadata": {
    "scrolled": false
   },
   "outputs": [],
   "source": [
    "df_equipos_def.sample(1)"
   ]
  },
  {
   "cell_type": "markdown",
   "id": "b26c7e11",
   "metadata": {},
   "source": [
    "## 4.2 Jugadores estrella y clasificación equipo "
   ]
  },
  {
   "cell_type": "markdown",
   "id": "b3504c32",
   "metadata": {},
   "source": [
    "## 4.3 Estadios"
   ]
  },
  {
   "cell_type": "code",
   "execution_count": null,
   "id": "20658765",
   "metadata": {},
   "outputs": [],
   "source": [
    "# Creo un mapa de Folium centrado en Estados Unidos\n",
    "mapa = folium.Map(location = [36.09024, -97.712891], zoom_start = 3.5)\n",
    "\n",
    "# Creo marcadores en el mapa utilizando los datos del DataFrame\n",
    "for index, row in df_estadios.iterrows():\n",
    "    nombre_html = f\"<b>{row['Nombre']}</b>\" #Para poner la letra en negrita\n",
    "    popup_info = f\"{nombre_html} <br> Capacidad: {row['Capacidad']}\"\n",
    "    folium.Marker(location=[row['Latitud'], row['Longitud']], popup=popup_info).add_to(mapa)\n",
    "\n",
    "# Mostrar el mapa\n",
    "#mapa.save(\"mapa.html\")"
   ]
  },
  {
   "cell_type": "code",
   "execution_count": null,
   "id": "76293507",
   "metadata": {},
   "outputs": [],
   "source": [
    "mapa"
   ]
  },
  {
   "cell_type": "markdown",
   "id": "015451b1",
   "metadata": {},
   "source": [
    "## 4.4 Salarios de Jugadores"
   ]
  },
  {
   "cell_type": "code",
   "execution_count": null,
   "id": "4d891bf4",
   "metadata": {},
   "outputs": [],
   "source": [
    "colores = [\"red\",\"blue\",\"pink\",\"green\",\"orange\",\"yellow\",\"purple\",\"cyan\",\"magenta\",\"lime\"]\n",
    "promedios.plot(kind=\"bar\", color = colores)\n",
    "plt.xlabel(\"Posición\")\n",
    "plt.ylabel(\"Sueldo promedio\")\n",
    "plt.title(\"Comparación de sueldos por posición\")\n",
    "\n",
    "# Mostrar el gráfico\n",
    "plt.show()"
   ]
  },
  {
   "cell_type": "markdown",
   "id": "f3f1c654",
   "metadata": {},
   "source": [
    "# 5. Conclusiones"
   ]
  },
  {
   "cell_type": "code",
   "execution_count": null,
   "id": "d0ba9dd6",
   "metadata": {},
   "outputs": [],
   "source": []
  },
  {
   "cell_type": "code",
   "execution_count": null,
   "id": "60337029",
   "metadata": {},
   "outputs": [],
   "source": []
  }
 ],
 "metadata": {
  "kernelspec": {
   "display_name": "Python 3 (ipykernel)",
   "language": "python",
   "name": "python3"
  },
  "language_info": {
   "codemirror_mode": {
    "name": "ipython",
    "version": 3
   },
   "file_extension": ".py",
   "mimetype": "text/x-python",
   "name": "python",
   "nbconvert_exporter": "python",
   "pygments_lexer": "ipython3",
   "version": "3.11.3"
  }
 },
 "nbformat": 4,
 "nbformat_minor": 5
}
