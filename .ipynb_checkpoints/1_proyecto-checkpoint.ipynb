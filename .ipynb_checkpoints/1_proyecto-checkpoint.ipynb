{
 "cells": [
  {
   "cell_type": "code",
   "execution_count": 61,
   "id": "465818de",
   "metadata": {},
   "outputs": [],
   "source": [
    "import numpy as np\n",
    "import pandas as pd\n",
    "\n",
    "import requests\n",
    "from bs4 import BeautifulSoup\n",
    "\n",
    "from time import sleep\n",
    "\n",
    "from pprint import pprint\n",
    "\n",
    "from selenium import webdriver\n",
    "from selenium.webdriver.common.by import By\n",
    "\n",
    "\n",
    "\n"
   ]
  },
  {
   "cell_type": "markdown",
   "id": "4fed3e2f",
   "metadata": {},
   "source": [
    "### PRUEBA selenium MLB para sacar los equipos de la Liga"
   ]
  },
  {
   "cell_type": "code",
   "execution_count": 2,
   "id": "0121f536",
   "metadata": {},
   "outputs": [],
   "source": [
    "url=\"https://www.mlb.com/es/team\"\n"
   ]
  },
  {
   "cell_type": "code",
   "execution_count": 3,
   "id": "b8a40d7c",
   "metadata": {},
   "outputs": [],
   "source": [
    "# Driver de Chrome\n",
    "chrome_driver = \"chromedriver.exe\""
   ]
  },
  {
   "cell_type": "code",
   "execution_count": 62,
   "id": "b0b02cf6",
   "metadata": {},
   "outputs": [],
   "source": [
    "browser = webdriver.Chrome(executable_path = chrome_driver)\n",
    "\n",
    "browser.get(\"https://www.mlb.com/es/team\")# entra a la pagina\n",
    "\n",
    "browser.maximize_window()\n"
   ]
  },
  {
   "cell_type": "code",
   "execution_count": 63,
   "id": "1e371080",
   "metadata": {},
   "outputs": [],
   "source": [
    "#acepta las cookies\n",
    "\n",
    "browser.find_element(by = By.CSS_SELECTOR, value = \"#onetrust-accept-btn-handler\").click()\n",
    "\n"
   ]
  },
  {
   "cell_type": "markdown",
   "id": "10d22d09",
   "metadata": {},
   "source": [
    "# EXTRACCION DE DATOS"
   ]
  },
  {
   "cell_type": "markdown",
   "id": "e2b6bea6",
   "metadata": {},
   "source": [
    "### Equipos"
   ]
  },
  {
   "cell_type": "code",
   "execution_count": 64,
   "id": "e3aa72f5",
   "metadata": {},
   "outputs": [],
   "source": [
    "#conectar con la pagina\n",
    "response = requests.get(url)\n",
    "\n",
    "soup = BeautifulSoup(response.text, \"html.parser\")\n"
   ]
  },
  {
   "cell_type": "code",
   "execution_count": 65,
   "id": "54203f06",
   "metadata": {},
   "outputs": [
    {
     "name": "stdout",
     "output_type": "stream",
     "text": [
      "<Response [200]>\n",
      "True\n"
     ]
    }
   ],
   "source": [
    "print(response)\n",
    "\n",
    "print(bool(response))"
   ]
  },
  {
   "cell_type": "code",
   "execution_count": null,
   "id": "94dfd406",
   "metadata": {},
   "outputs": [],
   "source": [
    "#equipo\n",
    "#<div class=\"u-text-h4 u-text-flow\">\n",
    "equipos=soup.find_all(class_ =\"u-text-h4 u-text-flow\")"
   ]
  },
  {
   "cell_type": "code",
   "execution_count": null,
   "id": "2bace898",
   "metadata": {},
   "outputs": [],
   "source": [
    "lista_equipos=[equipos[x].text for x in range(0, len(equipos))]"
   ]
  },
  {
   "cell_type": "code",
   "execution_count": null,
   "id": "b065b737",
   "metadata": {},
   "outputs": [],
   "source": [
    "lista_equipos"
   ]
  },
  {
   "cell_type": "markdown",
   "id": "c5844e28",
   "metadata": {},
   "source": [
    "### Estadio(Home)"
   ]
  },
  {
   "cell_type": "code",
   "execution_count": null,
   "id": "3e7b4e71",
   "metadata": {},
   "outputs": [],
   "source": [
    "\n",
    "\n",
    "datos_equipos=soup.find_all(class_=\"p-wysiwyg styles-sc-1ewxgrh-0 styles-sc-9861x0-0 bjPBFY gLBcvo\")"
   ]
  },
  {
   "cell_type": "code",
   "execution_count": null,
   "id": "af98894b",
   "metadata": {},
   "outputs": [],
   "source": [
    "datos_equipos[0].find(\"p\").get_text(separator=\"\\n\").split('\\n')"
   ]
  },
  {
   "cell_type": "code",
   "execution_count": null,
   "id": "eced0a7f",
   "metadata": {},
   "outputs": [],
   "source": []
  },
  {
   "cell_type": "code",
   "execution_count": null,
   "id": "ff2ca1a7",
   "metadata": {},
   "outputs": [],
   "source": [
    "lista_datos_equipos=[datos_equipos[x].find(\"p\").get_text(separator=\"\\n\").split('\\n') for x in range(len(datos_equipos))]"
   ]
  },
  {
   "cell_type": "code",
   "execution_count": null,
   "id": "9d4d37ca",
   "metadata": {
    "scrolled": false
   },
   "outputs": [],
   "source": [
    "pprint(lista_datos_equipos)"
   ]
  },
  {
   "cell_type": "code",
   "execution_count": 66,
   "id": "35f7a60a",
   "metadata": {},
   "outputs": [],
   "source": [
    "browser.quit()"
   ]
  },
  {
   "cell_type": "code",
   "execution_count": null,
   "id": "f4d48ed2",
   "metadata": {},
   "outputs": [],
   "source": []
  },
  {
   "cell_type": "markdown",
   "id": "9b1c064a",
   "metadata": {},
   "source": [
    "## queda pendiente hacer el data frame de equipos"
   ]
  },
  {
   "cell_type": "markdown",
   "id": "60cfca47",
   "metadata": {},
   "source": [
    "\n",
    "## estadistica de equipos"
   ]
  },
  {
   "cell_type": "code",
   "execution_count": null,
   "id": "bfbb7497",
   "metadata": {},
   "outputs": [],
   "source": [
    "\n",
    "browser.find_element(by = By.CSS_SELECTOR, value = \"#react-header > div > header > div > div > div.header__nav-top__nav-container.header__nav-top__nav-container--initialized > div.header__nav-top__nav-container__primary > nav.header__nav-top__nav-items.header__nav-top__nav-items--spillover > ul > li > div.header__nav-top__nav-item--inner > a > span > svg\").click()"
   ]
  },
  {
   "cell_type": "code",
   "execution_count": null,
   "id": "a86f89a7",
   "metadata": {},
   "outputs": [],
   "source": []
  },
  {
   "cell_type": "code",
   "execution_count": null,
   "id": "dd1dc0f7",
   "metadata": {},
   "outputs": [],
   "source": []
  },
  {
   "cell_type": "code",
   "execution_count": 67,
   "id": "963ce8a1",
   "metadata": {},
   "outputs": [],
   "source": [
    "#conecta a la pagina de los jugadores\n",
    "url = \"https://www.mlb.com/es/stats/team\"\n",
    "\n",
    "response = requests.get(url)\n",
    "\n",
    "soup = BeautifulSoup(response.text, \"html.parser\")"
   ]
  },
  {
   "cell_type": "code",
   "execution_count": 68,
   "id": "9dcc046d",
   "metadata": {},
   "outputs": [
    {
     "name": "stdout",
     "output_type": "stream",
     "text": [
      "<Response [200]>\n",
      "True\n"
     ]
    }
   ],
   "source": [
    "print(response)\n",
    "\n",
    "print(bool(response))"
   ]
  },
  {
   "cell_type": "code",
   "execution_count": 69,
   "id": "92fabc42",
   "metadata": {},
   "outputs": [],
   "source": [
    "#EQUIPOS\n",
    "#<span class=\"full-3fV3c9pF\">Texas Rangers</span>2023\n",
    "equipos_stat= soup.find_all(\"span\", class_=\"full-3fV3c9pF\")\n"
   ]
  },
  {
   "cell_type": "code",
   "execution_count": 70,
   "id": "9da83923",
   "metadata": {},
   "outputs": [],
   "source": [
    "lista_equipos_stat=[equipos_stat[x].text for x in range(len(equipos_stat))]"
   ]
  },
  {
   "cell_type": "code",
   "execution_count": 71,
   "id": "f6c156cb",
   "metadata": {},
   "outputs": [
    {
     "data": {
      "text/plain": [
       "['Tampa Bay Rays',\n",
       " 'Texas Rangers',\n",
       " 'Atlanta Braves',\n",
       " 'Los Angeles Dodgers',\n",
       " 'Boston Red Sox',\n",
       " 'St. Louis Cardinals',\n",
       " 'Toronto Blue Jays',\n",
       " 'Arizona Diamondbacks',\n",
       " 'Chicago Cubs',\n",
       " 'Los Angeles Angels',\n",
       " 'Baltimore Orioles',\n",
       " 'Philadelphia Phillies',\n",
       " 'San Francisco Giants',\n",
       " 'Pittsburgh Pirates',\n",
       " 'Colorado Rockies',\n",
       " 'Minnesota Twins',\n",
       " 'New York Yankees',\n",
       " 'Washington Nationals',\n",
       " 'New York Mets',\n",
       " 'Cincinnati Reds',\n",
       " 'Miami Marlins',\n",
       " 'San Diego Padres',\n",
       " 'Seattle Mariners',\n",
       " 'Houston Astros',\n",
       " 'Milwaukee Brewers',\n",
       " 'Chicago White Sox',\n",
       " 'Kansas City Royals',\n",
       " 'Detroit Tigers',\n",
       " 'Oakland Athletics',\n",
       " 'Cleveland Guardians']"
      ]
     },
     "execution_count": 71,
     "metadata": {},
     "output_type": "execute_result"
    }
   ],
   "source": [
    "lista_equipos_stat"
   ]
  },
  {
   "cell_type": "code",
   "execution_count": null,
   "id": "e09b4cc1",
   "metadata": {},
   "outputs": [],
   "source": []
  },
  {
   "cell_type": "code",
   "execution_count": 72,
   "id": "d647a610",
   "metadata": {},
   "outputs": [],
   "source": [
    "columna_bs=soup.find_all(class_=\"bui-text cellheader bui-text\")"
   ]
  },
  {
   "cell_type": "code",
   "execution_count": 73,
   "id": "08b3669a",
   "metadata": {},
   "outputs": [
    {
     "data": {
      "text/plain": [
       "34"
      ]
     },
     "execution_count": 73,
     "metadata": {},
     "output_type": "execute_result"
    }
   ],
   "source": [
    "len(columna_bs)"
   ]
  },
  {
   "cell_type": "code",
   "execution_count": 74,
   "id": "8b02a0d1",
   "metadata": {},
   "outputs": [],
   "source": [
    "lista_columna=[columna_bs[x].text for x in range(0, len(columna_bs),2)]"
   ]
  },
  {
   "cell_type": "code",
   "execution_count": 75,
   "id": "ca728e32",
   "metadata": {
    "scrolled": true
   },
   "outputs": [
    {
     "data": {
      "text/plain": [
       "['EQUIPO',\n",
       " 'LIGA',\n",
       " 'J',\n",
       " 'TB',\n",
       " 'C',\n",
       " 'H',\n",
       " '2B',\n",
       " '3B',\n",
       " 'HR',\n",
       " 'CI',\n",
       " 'BB',\n",
       " 'P',\n",
       " 'BR',\n",
       " 'AR',\n",
       " 'PRO',\n",
       " 'OBP',\n",
       " 'SLG']"
      ]
     },
     "execution_count": 75,
     "metadata": {},
     "output_type": "execute_result"
    }
   ],
   "source": [
    "lista_columna"
   ]
  },
  {
   "cell_type": "code",
   "execution_count": null,
   "id": "5e1b74f5",
   "metadata": {},
   "outputs": [],
   "source": [
    "#################LIGA"
   ]
  },
  {
   "cell_type": "code",
   "execution_count": 76,
   "id": "9bfec5c0",
   "metadata": {},
   "outputs": [],
   "source": [
    "liga_bs=soup.find_all(class_=\"col-group-end-2UJpJVwW number-aY5arzrB align-left-3L2SU-Mk is-table-pinned-1WfPW2jT\" )"
   ]
  },
  {
   "cell_type": "code",
   "execution_count": 77,
   "id": "885a714f",
   "metadata": {},
   "outputs": [],
   "source": [
    "lista_liga=[liga_bs[x].text for x in range(len(liga_bs))]"
   ]
  },
  {
   "cell_type": "code",
   "execution_count": 78,
   "id": "3b22084a",
   "metadata": {},
   "outputs": [
    {
     "data": {
      "text/plain": [
       "['AL',\n",
       " 'AL',\n",
       " 'NL',\n",
       " 'NL',\n",
       " 'AL',\n",
       " 'NL',\n",
       " 'AL',\n",
       " 'NL',\n",
       " 'NL',\n",
       " 'AL',\n",
       " 'AL',\n",
       " 'NL',\n",
       " 'NL',\n",
       " 'NL',\n",
       " 'NL',\n",
       " 'AL',\n",
       " 'AL',\n",
       " 'NL',\n",
       " 'NL',\n",
       " 'NL',\n",
       " 'NL',\n",
       " 'NL',\n",
       " 'AL',\n",
       " 'AL',\n",
       " 'NL',\n",
       " 'AL',\n",
       " 'AL',\n",
       " 'AL',\n",
       " 'AL',\n",
       " 'AL']"
      ]
     },
     "execution_count": 78,
     "metadata": {},
     "output_type": "execute_result"
    }
   ],
   "source": [
    "lista_liga"
   ]
  },
  {
   "cell_type": "code",
   "execution_count": 79,
   "id": "89ec0878",
   "metadata": {},
   "outputs": [],
   "source": [
    "#####JUGADORES"
   ]
  },
  {
   "cell_type": "code",
   "execution_count": 8,
   "id": "2b3089f6",
   "metadata": {},
   "outputs": [],
   "source": [
    "# browser = webdriver.Chrome(executable_path = chrome_driver)\n",
    "\n",
    "# browser.get(\"https://www.mlb.com/es/stats/\")# entra a la pagina\n",
    "\n",
    "# browser.maximize_window()\n",
    "\n"
   ]
  },
  {
   "cell_type": "code",
   "execution_count": 9,
   "id": "ba9a821c",
   "metadata": {},
   "outputs": [],
   "source": [
    "#acepta cookies\n",
    "# browser.find_element(by = By.CSS_SELECTOR, value = \"#onetrust-accept-btn-handler\").click()"
   ]
  },
  {
   "cell_type": "code",
   "execution_count": null,
   "id": "c3f1d223",
   "metadata": {},
   "outputs": [],
   "source": [
    "##############por si utilizo selenium"
   ]
  },
  {
   "cell_type": "code",
   "execution_count": 14,
   "id": "3fa343b1",
   "metadata": {},
   "outputs": [],
   "source": [
    "# browser.quit()"
   ]
  },
  {
   "cell_type": "code",
   "execution_count": 110,
   "id": "956a950f",
   "metadata": {},
   "outputs": [],
   "source": [
    "#para sacra todas url de todos los jugadores\n",
    "urls_paginas=[]\n",
    "for i in range(1,8):\n",
    "    string_url = f\"https://www.mlb.com/es/stats/?page={i}.html\"\n",
    "    urls_paginas.append(string_url)\n",
    "\n"
   ]
  },
  {
   "cell_type": "code",
   "execution_count": 111,
   "id": "8e5ad3ba",
   "metadata": {},
   "outputs": [
    {
     "data": {
      "text/plain": [
       "['https://www.mlb.com/es/stats/?page=1.html',\n",
       " 'https://www.mlb.com/es/stats/?page=2.html',\n",
       " 'https://www.mlb.com/es/stats/?page=3.html',\n",
       " 'https://www.mlb.com/es/stats/?page=4.html',\n",
       " 'https://www.mlb.com/es/stats/?page=5.html',\n",
       " 'https://www.mlb.com/es/stats/?page=6.html',\n",
       " 'https://www.mlb.com/es/stats/?page=7.html']"
      ]
     },
     "execution_count": 111,
     "metadata": {},
     "output_type": "execute_result"
    }
   ],
   "source": [
    "urls_paginas"
   ]
  },
  {
   "cell_type": "code",
   "execution_count": 114,
   "id": "f62180ae",
   "metadata": {},
   "outputs": [],
   "source": [
    "#conecta a la pagina de los jugadores\n",
    "url = urls_paginas[0]\n",
    "\n",
    "response = requests.get(url)\n",
    "\n",
    "soup = BeautifulSoup(response.text, \"html.parser\")"
   ]
  },
  {
   "cell_type": "code",
   "execution_count": 115,
   "id": "432ba3ca",
   "metadata": {
    "scrolled": true
   },
   "outputs": [
    {
     "name": "stdout",
     "output_type": "stream",
     "text": [
      "<Response [200]>\n",
      "True\n"
     ]
    }
   ],
   "source": [
    "print(response)\n",
    "\n",
    "print(bool(response))"
   ]
  },
  {
   "cell_type": "code",
   "execution_count": null,
   "id": "0205be4d",
   "metadata": {},
   "outputs": [],
   "source": [
    "### este codigo es para los nombres y apellidos\n"
   ]
  },
  {
   "cell_type": "code",
   "execution_count": 124,
   "id": "c8400f94",
   "metadata": {},
   "outputs": [],
   "source": [
    "jugador_nombre_apellido_bs=soup.find_all(\"span\", class_=\"full-3fV3c9pF\")"
   ]
  },
  {
   "cell_type": "code",
   "execution_count": 125,
   "id": "2a773576",
   "metadata": {},
   "outputs": [],
   "source": [
    "lista_nombres=[jugador_nombre_apellido_bs[x].text for x in range(0,len(jugador_nombre_apellido_bs),2)]"
   ]
  },
  {
   "cell_type": "code",
   "execution_count": 128,
   "id": "81cdd48f",
   "metadata": {},
   "outputs": [],
   "source": [
    "lista_apellidos=[jugador_nombre_apellido_bs[x].text for x in range(1,len(jugador_nombre_apellido_bs),2)]"
   ]
  },
  {
   "cell_type": "code",
   "execution_count": null,
   "id": "5a1f3fd2",
   "metadata": {},
   "outputs": [],
   "source": [
    "###############################################################"
   ]
  },
  {
   "cell_type": "code",
   "execution_count": null,
   "id": "c93126f9",
   "metadata": {},
   "outputs": [],
   "source": []
  },
  {
   "cell_type": "code",
   "execution_count": null,
   "id": "1956fab3",
   "metadata": {},
   "outputs": [],
   "source": []
  },
  {
   "cell_type": "code",
   "execution_count": null,
   "id": "48a69be9",
   "metadata": {},
   "outputs": [],
   "source": []
  },
  {
   "cell_type": "code",
   "execution_count": 119,
   "id": "67dce4e4",
   "metadata": {
    "scrolled": true
   },
   "outputs": [
    {
     "data": {
      "text/plain": [
       "'Diaz'"
      ]
     },
     "execution_count": 119,
     "metadata": {},
     "output_type": "execute_result"
    }
   ],
   "source": [
    "jugador_nombre_apellido_bs[1].text"
   ]
  },
  {
   "cell_type": "code",
   "execution_count": null,
   "id": "8ba6c504",
   "metadata": {},
   "outputs": [],
   "source": [
    "#CODIGO PARA EXTRAER EL ID DE CADA JUGADOR"
   ]
  },
  {
   "cell_type": "code",
   "execution_count": null,
   "id": "37456eb1",
   "metadata": {},
   "outputs": [],
   "source": [
    "<div class=\"top-wrapper-1NLTqKbE\"><div><a class=\"bui-link \" href=\"/es/player/650490\" tabindex=\"0\" aria-label=\"Yandy Diaz\"><span class=\"full-3fV3c9pF\">Yandy</span><span class=\"short-3OJ0bTju\">Y Díaz</span><span class=\"full-3fV3c9pF\">Diaz</span></a></div><div class=\"position-28TbwVOg\">1B</div></div>"
   ]
  },
  {
   "cell_type": "code",
   "execution_count": 159,
   "id": "95a38eb6",
   "metadata": {},
   "outputs": [],
   "source": [
    "ref=soup.find_all(\"div\", class_=\"top-wrapper-1NLTqKbE\")"
   ]
  },
  {
   "cell_type": "code",
   "execution_count": 172,
   "id": "23133d8e",
   "metadata": {},
   "outputs": [
    {
     "data": {
      "text/plain": [
       "'650490'"
      ]
     },
     "execution_count": 172,
     "metadata": {},
     "output_type": "execute_result"
    }
   ],
   "source": [
    "ref[0].find(class_=\"bui-link\")[\"href\"].split(\"/\")[-1]\n"
   ]
  },
  {
   "cell_type": "code",
   "execution_count": 86,
   "id": "b65f8204",
   "metadata": {},
   "outputs": [
    {
     "data": {
      "text/plain": [
       "<title>Estadísticas de Bateo de Jugadores de MLB del 2023 | Lasmayores.com</title>"
      ]
     },
     "execution_count": 86,
     "metadata": {},
     "output_type": "execute_result"
    }
   ],
   "source": [
    "\n",
    "# Encuentra el elemento <a> con la clase \"bui-link\"\n",
    "a_element = soup.find(\"title\")\n",
    "\n",
    "a_element# Obtiene el valor del atributo \"href\" del elemento <a>\n",
    "\n"
   ]
  },
  {
   "cell_type": "code",
   "execution_count": 52,
   "id": "04b970b0",
   "metadata": {},
   "outputs": [
    {
     "ename": "AttributeError",
     "evalue": "'NoneType' object has no attribute 'find'",
     "output_type": "error",
     "traceback": [
      "\u001b[1;31m---------------------------------------------------------------------------\u001b[0m",
      "\u001b[1;31mAttributeError\u001b[0m                            Traceback (most recent call last)",
      "Cell \u001b[1;32mIn[52], line 1\u001b[0m\n\u001b[1;32m----> 1\u001b[0m jugadores_link\u001b[38;5;241m=\u001b[39m\u001b[43msoup\u001b[49m\u001b[38;5;241;43m.\u001b[39;49m\u001b[43mfind\u001b[49m\u001b[43m(\u001b[49m\u001b[38;5;124;43m\"\u001b[39;49m\u001b[38;5;124;43ma\u001b[39;49m\u001b[38;5;124;43m\"\u001b[39;49m\u001b[43m,\u001b[49m\u001b[43m \u001b[49m\u001b[43mclass_\u001b[49m\u001b[38;5;241;43m=\u001b[39;49m\u001b[38;5;124;43m\"\u001b[39;49m\u001b[38;5;124;43mbui-link\u001b[39;49m\u001b[38;5;124;43m\"\u001b[39;49m\u001b[43m)\u001b[49m\u001b[38;5;241;43m.\u001b[39;49m\u001b[43mfind\u001b[49m(\u001b[38;5;124m\"\u001b[39m\u001b[38;5;124mhref\u001b[39m\u001b[38;5;124m\"\u001b[39m)\n",
      "\u001b[1;31mAttributeError\u001b[0m: 'NoneType' object has no attribute 'find'"
     ]
    }
   ],
   "source": [
    "jugadores_link=soup.find(\"a\", class_=\"bui-link\").find(\"href\")"
   ]
  },
  {
   "cell_type": "code",
   "execution_count": 51,
   "id": "6a1c2d93",
   "metadata": {},
   "outputs": [],
   "source": [
    "jugadores_link"
   ]
  },
  {
   "cell_type": "code",
   "execution_count": null,
   "id": "5367ad85",
   "metadata": {},
   "outputs": [],
   "source": []
  },
  {
   "cell_type": "code",
   "execution_count": null,
   "id": "d3a8a49d",
   "metadata": {},
   "outputs": [],
   "source": []
  },
  {
   "cell_type": "code",
   "execution_count": null,
   "id": "d1d61bdb",
   "metadata": {},
   "outputs": [],
   "source": []
  },
  {
   "cell_type": "code",
   "execution_count": 35,
   "id": "3e644c45",
   "metadata": {},
   "outputs": [],
   "source": [
    "url = \"https://www.mlb.com/es/player/yandy-diaz-650490\"\n",
    "\n",
    "response = requests.get(url)\n",
    "\n",
    "soup = BeautifulSoup(response.text, \"html.parser\")"
   ]
  },
  {
   "cell_type": "code",
   "execution_count": 36,
   "id": "10a5adeb",
   "metadata": {},
   "outputs": [
    {
     "name": "stdout",
     "output_type": "stream",
     "text": [
      "<Response [200]>\n",
      "True\n"
     ]
    }
   ],
   "source": [
    "print(response)\n",
    "\n",
    "print(bool(response))"
   ]
  },
  {
   "cell_type": "code",
   "execution_count": 44,
   "id": "2c8f2aaf",
   "metadata": {},
   "outputs": [],
   "source": [
    "nombre=soup.find(\"li\", class_=\"full-name\")"
   ]
  },
  {
   "cell_type": "code",
   "execution_count": 48,
   "id": "d6497c2b",
   "metadata": {},
   "outputs": [
    {
     "data": {
      "text/plain": [
       "' Yandy Díaz'"
      ]
     },
     "execution_count": 48,
     "metadata": {},
     "output_type": "execute_result"
    }
   ],
   "source": [
    "nombre.text.strip().split(\":\")[1]"
   ]
  },
  {
   "cell_type": "code",
   "execution_count": null,
   "id": "62c47cdd",
   "metadata": {},
   "outputs": [],
   "source": []
  }
 ],
 "metadata": {
  "kernelspec": {
   "display_name": "Python 3 (ipykernel)",
   "language": "python",
   "name": "python3"
  },
  "language_info": {
   "codemirror_mode": {
    "name": "ipython",
    "version": 3
   },
   "file_extension": ".py",
   "mimetype": "text/x-python",
   "name": "python",
   "nbconvert_exporter": "python",
   "pygments_lexer": "ipython3",
   "version": "3.10.9"
  }
 },
 "nbformat": 4,
 "nbformat_minor": 5
}
