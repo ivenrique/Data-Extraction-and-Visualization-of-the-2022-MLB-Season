{
 "cells": [
  {
   "cell_type": "code",
   "execution_count": 139,
   "id": "e77f0c04",
   "metadata": {},
   "outputs": [],
   "source": [
    "import requests\n",
    "from bs4 import BeautifulSoup\n",
    "import numpy as np\n",
    "import pandas as pd\n",
    "\n",
    "from pprint import pprint\n",
    "import shutil"
   ]
  },
  {
   "cell_type": "code",
   "execution_count": 13,
   "id": "a4811bd4",
   "metadata": {},
   "outputs": [],
   "source": [
    "url= \"https://www.spotrac.com/mlb/\"\n",
    "response = requests.get(url)\n",
    "\n",
    "soup = BeautifulSoup(response.text, \"html.parser\")"
   ]
  },
  {
   "cell_type": "code",
   "execution_count": 14,
   "id": "b4e6b3e2",
   "metadata": {},
   "outputs": [
    {
     "data": {
      "text/plain": [
       "<Response [200]>"
      ]
     },
     "execution_count": 14,
     "metadata": {},
     "output_type": "execute_result"
    }
   ],
   "source": [
    "response"
   ]
  },
  {
   "cell_type": "code",
   "execution_count": 15,
   "id": "a2a4ba6f",
   "metadata": {},
   "outputs": [
    {
     "data": {
      "text/plain": [
       "['https://www.spotrac.com/mlb/arizona-diamondbacks/payroll/2022/',\n",
       " 'https://www.spotrac.com/mlb/atlanta-braves/payroll/2022/',\n",
       " 'https://www.spotrac.com/mlb/baltimore-orioles/payroll/2022/',\n",
       " 'https://www.spotrac.com/mlb/boston-red-sox/payroll/2022/',\n",
       " 'https://www.spotrac.com/mlb/chicago-cubs/payroll/2022/',\n",
       " 'https://www.spotrac.com/mlb/chicago-white-sox/payroll/2022/',\n",
       " 'https://www.spotrac.com/mlb/cincinnati-reds/payroll/2022/',\n",
       " 'https://www.spotrac.com/mlb/cleveland-guardians/payroll/2022/',\n",
       " 'https://www.spotrac.com/mlb/colorado-rockies/payroll/2022/',\n",
       " 'https://www.spotrac.com/mlb/detroit-tigers/payroll/2022/',\n",
       " 'https://www.spotrac.com/mlb/houston-astros/payroll/2022/',\n",
       " 'https://www.spotrac.com/mlb/kansas-city-royals/payroll/2022/',\n",
       " 'https://www.spotrac.com/mlb/los-angeles-angels/payroll/2022/',\n",
       " 'https://www.spotrac.com/mlb/los-angeles-dodgers/payroll/2022/',\n",
       " 'https://www.spotrac.com/mlb/miami-marlins/payroll/2022/',\n",
       " 'https://www.spotrac.com/mlb/milwaukee-brewers/payroll/2022/',\n",
       " 'https://www.spotrac.com/mlb/minnesota-twins/payroll/2022/',\n",
       " 'https://www.spotrac.com/mlb/new-york-mets/payroll/2022/',\n",
       " 'https://www.spotrac.com/mlb/new-york-yankees/payroll/2022/',\n",
       " 'https://www.spotrac.com/mlb/oakland-athletics/payroll/2022/',\n",
       " 'https://www.spotrac.com/mlb/philadelphia-phillies/payroll/2022/',\n",
       " 'https://www.spotrac.com/mlb/pittsburgh-pirates/payroll/2022/',\n",
       " 'https://www.spotrac.com/mlb/san-diego-padres/payroll/2022/',\n",
       " 'https://www.spotrac.com/mlb/san-francisco-giants/payroll/2022/',\n",
       " 'https://www.spotrac.com/mlb/seattle-mariners/payroll/2022/',\n",
       " 'https://www.spotrac.com/mlb/st-louis-cardinals/payroll/2022/',\n",
       " 'https://www.spotrac.com/mlb/tampa-bay-rays/payroll/2022/',\n",
       " 'https://www.spotrac.com/mlb/texas-rangers/payroll/2022/',\n",
       " 'https://www.spotrac.com/mlb/toronto-blue-jays/payroll/2022/',\n",
       " 'https://www.spotrac.com/mlb/washington-nationals/payroll/2022/']"
      ]
     },
     "execution_count": 15,
     "metadata": {},
     "output_type": "execute_result"
    }
   ],
   "source": [
    "#WEB EQUIPOS\n",
    "\n",
    "season= 2022\n",
    "team_bs=soup.find_all(\"a\", class_=\"team-name\")\n",
    "team_webs=[team_bs[x][\"href\"] + f\"{season}/\" for x in range(len(team_bs))]\n",
    "team_webs"
   ]
  },
  {
   "cell_type": "code",
   "execution_count": 136,
   "id": "e222d7b3",
   "metadata": {},
   "outputs": [
    {
     "name": "stdout",
     "output_type": "stream",
     "text": [
      "https://www.spotrac.com/mlb/arizona-diamondbacks/payroll/2022/\n",
      "https://www.spotrac.com/mlb/atlanta-braves/payroll/2022/\n",
      "https://www.spotrac.com/mlb/baltimore-orioles/payroll/2022/\n",
      "https://www.spotrac.com/mlb/boston-red-sox/payroll/2022/\n",
      "https://www.spotrac.com/mlb/chicago-cubs/payroll/2022/\n",
      "https://www.spotrac.com/mlb/chicago-white-sox/payroll/2022/\n",
      "https://www.spotrac.com/mlb/cincinnati-reds/payroll/2022/\n",
      "https://www.spotrac.com/mlb/cleveland-guardians/payroll/2022/\n",
      "https://www.spotrac.com/mlb/colorado-rockies/payroll/2022/\n",
      "https://www.spotrac.com/mlb/detroit-tigers/payroll/2022/\n",
      "https://www.spotrac.com/mlb/houston-astros/payroll/2022/\n",
      "https://www.spotrac.com/mlb/kansas-city-royals/payroll/2022/\n",
      "https://www.spotrac.com/mlb/los-angeles-angels/payroll/2022/\n",
      "https://www.spotrac.com/mlb/los-angeles-dodgers/payroll/2022/\n",
      "https://www.spotrac.com/mlb/miami-marlins/payroll/2022/\n",
      "https://www.spotrac.com/mlb/milwaukee-brewers/payroll/2022/\n",
      "https://www.spotrac.com/mlb/minnesota-twins/payroll/2022/\n",
      "https://www.spotrac.com/mlb/new-york-mets/payroll/2022/\n",
      "https://www.spotrac.com/mlb/new-york-yankees/payroll/2022/\n",
      "https://www.spotrac.com/mlb/oakland-athletics/payroll/2022/\n",
      "https://www.spotrac.com/mlb/philadelphia-phillies/payroll/2022/\n",
      "https://www.spotrac.com/mlb/pittsburgh-pirates/payroll/2022/\n",
      "https://www.spotrac.com/mlb/san-diego-padres/payroll/2022/\n",
      "https://www.spotrac.com/mlb/san-francisco-giants/payroll/2022/\n",
      "https://www.spotrac.com/mlb/seattle-mariners/payroll/2022/\n",
      "https://www.spotrac.com/mlb/st-louis-cardinals/payroll/2022/\n",
      "https://www.spotrac.com/mlb/tampa-bay-rays/payroll/2022/\n",
      "https://www.spotrac.com/mlb/texas-rangers/payroll/2022/\n",
      "https://www.spotrac.com/mlb/toronto-blue-jays/payroll/2022/\n",
      "https://www.spotrac.com/mlb/washington-nationals/payroll/2022/\n"
     ]
    }
   ],
   "source": [
    "lst_nombres = []\n",
    "lst_salarios = []\n",
    "lst_edades = []\n",
    "lst_equipos=[]\n",
    "\n",
    "for i in team_webs:\n",
    "    response = requests.get(i)\n",
    "    soup = BeautifulSoup(response.text, \"html.parser\")\n",
    "    print(i)\n",
    "      \n",
    "    for x in range(28):#son 28 jugadores por equipo\n",
    "        bs_name=soup.find_all(\"td\",class_ =\"player\")[x].text.split(\"\\n\")[2]\n",
    "        lst_nombres.append(bs_name)\n",
    "         \n",
    "        lst_equipos.append(i.split(\"/\")[-4].replace(\"-\",\" \").title())\n",
    "            \n",
    "        bs_salary=soup.find_all()\n",
    "        lst_salarios.append(soup.find(\"td\", class_ = \"right\").text)\n",
    "    \n",
    "        #lst_edades.append(soup.find(\"span\", class_ =\"cap\").text)\n",
    " \n",
    "    lst_nombres       "
   ]
  },
  {
   "cell_type": "code",
   "execution_count": 141,
   "id": "30973eb8",
   "metadata": {},
   "outputs": [
    {
     "data": {
      "text/plain": [
       "840"
      ]
     },
     "execution_count": 141,
     "metadata": {},
     "output_type": "execute_result"
    }
   ],
   "source": [
    "\n",
    "   len(lst_nombres)\n"
   ]
  },
  {
   "cell_type": "code",
   "execution_count": 121,
   "id": "1ee577ab",
   "metadata": {},
   "outputs": [
    {
     "data": {
      "text/plain": [
       "840"
      ]
     },
     "execution_count": 121,
     "metadata": {},
     "output_type": "execute_result"
    }
   ],
   "source": [
    "len(lst_equipos)\n"
   ]
  },
  {
   "cell_type": "code",
   "execution_count": 122,
   "id": "b9294717",
   "metadata": {},
   "outputs": [
    {
     "data": {
      "text/plain": [
       "840"
      ]
     },
     "execution_count": 122,
     "metadata": {},
     "output_type": "execute_result"
    }
   ],
   "source": [
    "len(lst_nombres) "
   ]
  },
  {
   "cell_type": "code",
   "execution_count": 123,
   "id": "b6f1ed14",
   "metadata": {
    "scrolled": true
   },
   "outputs": [
    {
     "data": {
      "text/plain": [
       "840"
      ]
     },
     "execution_count": 123,
     "metadata": {},
     "output_type": "execute_result"
    }
   ],
   "source": [
    "len(lst_edades)"
   ]
  },
  {
   "cell_type": "code",
   "execution_count": 17,
   "id": "b196b0d5",
   "metadata": {},
   "outputs": [
    {
     "ename": "ValueError",
     "evalue": "Length of values (900) does not match length of index (30)",
     "output_type": "error",
     "traceback": [
      "\u001b[1;31m---------------------------------------------------------------------------\u001b[0m",
      "\u001b[1;31mValueError\u001b[0m                                Traceback (most recent call last)",
      "Cell \u001b[1;32mIn[17], line 4\u001b[0m\n\u001b[0;32m      1\u001b[0m df_salarios \u001b[38;5;241m=\u001b[39mpd\u001b[38;5;241m.\u001b[39mDataFrame()\n\u001b[0;32m      3\u001b[0m df_salarios[\u001b[38;5;124m\"\u001b[39m\u001b[38;5;124mNombre\u001b[39m\u001b[38;5;124m\"\u001b[39m] \u001b[38;5;241m=\u001b[39m lst_nombres\n\u001b[1;32m----> 4\u001b[0m df_salarios[\u001b[38;5;124m\"\u001b[39m\u001b[38;5;124mEquipo\u001b[39m\u001b[38;5;124m\"\u001b[39m]\u001b[38;5;241m=\u001b[39mlst_equipos\n\u001b[0;32m      5\u001b[0m df_salarios[\u001b[38;5;124m\"\u001b[39m\u001b[38;5;124mEdad\u001b[39m\u001b[38;5;124m\"\u001b[39m] \u001b[38;5;241m=\u001b[39m lst_edades\n\u001b[0;32m      6\u001b[0m df_salarios[\u001b[38;5;124m\"\u001b[39m\u001b[38;5;124mSueldo\u001b[39m\u001b[38;5;124m\"\u001b[39m] \u001b[38;5;241m=\u001b[39m lst_salarios\n",
      "File \u001b[1;32m~\\anaconda3\\lib\\site-packages\\pandas\\core\\frame.py:3980\u001b[0m, in \u001b[0;36mDataFrame.__setitem__\u001b[1;34m(self, key, value)\u001b[0m\n\u001b[0;32m   3977\u001b[0m     \u001b[38;5;28mself\u001b[39m\u001b[38;5;241m.\u001b[39m_setitem_array([key], value)\n\u001b[0;32m   3978\u001b[0m \u001b[38;5;28;01melse\u001b[39;00m:\n\u001b[0;32m   3979\u001b[0m     \u001b[38;5;66;03m# set column\u001b[39;00m\n\u001b[1;32m-> 3980\u001b[0m     \u001b[38;5;28;43mself\u001b[39;49m\u001b[38;5;241;43m.\u001b[39;49m\u001b[43m_set_item\u001b[49m\u001b[43m(\u001b[49m\u001b[43mkey\u001b[49m\u001b[43m,\u001b[49m\u001b[43m \u001b[49m\u001b[43mvalue\u001b[49m\u001b[43m)\u001b[49m\n",
      "File \u001b[1;32m~\\anaconda3\\lib\\site-packages\\pandas\\core\\frame.py:4174\u001b[0m, in \u001b[0;36mDataFrame._set_item\u001b[1;34m(self, key, value)\u001b[0m\n\u001b[0;32m   4164\u001b[0m \u001b[38;5;28;01mdef\u001b[39;00m \u001b[38;5;21m_set_item\u001b[39m(\u001b[38;5;28mself\u001b[39m, key, value) \u001b[38;5;241m-\u001b[39m\u001b[38;5;241m>\u001b[39m \u001b[38;5;28;01mNone\u001b[39;00m:\n\u001b[0;32m   4165\u001b[0m     \u001b[38;5;124;03m\"\"\"\u001b[39;00m\n\u001b[0;32m   4166\u001b[0m \u001b[38;5;124;03m    Add series to DataFrame in specified column.\u001b[39;00m\n\u001b[0;32m   4167\u001b[0m \n\u001b[1;32m   (...)\u001b[0m\n\u001b[0;32m   4172\u001b[0m \u001b[38;5;124;03m    ensure homogeneity.\u001b[39;00m\n\u001b[0;32m   4173\u001b[0m \u001b[38;5;124;03m    \"\"\"\u001b[39;00m\n\u001b[1;32m-> 4174\u001b[0m     value \u001b[38;5;241m=\u001b[39m \u001b[38;5;28;43mself\u001b[39;49m\u001b[38;5;241;43m.\u001b[39;49m\u001b[43m_sanitize_column\u001b[49m\u001b[43m(\u001b[49m\u001b[43mvalue\u001b[49m\u001b[43m)\u001b[49m\n\u001b[0;32m   4176\u001b[0m     \u001b[38;5;28;01mif\u001b[39;00m (\n\u001b[0;32m   4177\u001b[0m         key \u001b[38;5;129;01min\u001b[39;00m \u001b[38;5;28mself\u001b[39m\u001b[38;5;241m.\u001b[39mcolumns\n\u001b[0;32m   4178\u001b[0m         \u001b[38;5;129;01mand\u001b[39;00m value\u001b[38;5;241m.\u001b[39mndim \u001b[38;5;241m==\u001b[39m \u001b[38;5;241m1\u001b[39m\n\u001b[0;32m   4179\u001b[0m         \u001b[38;5;129;01mand\u001b[39;00m \u001b[38;5;129;01mnot\u001b[39;00m is_extension_array_dtype(value)\n\u001b[0;32m   4180\u001b[0m     ):\n\u001b[0;32m   4181\u001b[0m         \u001b[38;5;66;03m# broadcast across multiple columns if necessary\u001b[39;00m\n\u001b[0;32m   4182\u001b[0m         \u001b[38;5;28;01mif\u001b[39;00m \u001b[38;5;129;01mnot\u001b[39;00m \u001b[38;5;28mself\u001b[39m\u001b[38;5;241m.\u001b[39mcolumns\u001b[38;5;241m.\u001b[39mis_unique \u001b[38;5;129;01mor\u001b[39;00m \u001b[38;5;28misinstance\u001b[39m(\u001b[38;5;28mself\u001b[39m\u001b[38;5;241m.\u001b[39mcolumns, MultiIndex):\n",
      "File \u001b[1;32m~\\anaconda3\\lib\\site-packages\\pandas\\core\\frame.py:4915\u001b[0m, in \u001b[0;36mDataFrame._sanitize_column\u001b[1;34m(self, value)\u001b[0m\n\u001b[0;32m   4912\u001b[0m     \u001b[38;5;28;01mreturn\u001b[39;00m _reindex_for_setitem(Series(value), \u001b[38;5;28mself\u001b[39m\u001b[38;5;241m.\u001b[39mindex)\n\u001b[0;32m   4914\u001b[0m \u001b[38;5;28;01mif\u001b[39;00m is_list_like(value):\n\u001b[1;32m-> 4915\u001b[0m     \u001b[43mcom\u001b[49m\u001b[38;5;241;43m.\u001b[39;49m\u001b[43mrequire_length_match\u001b[49m\u001b[43m(\u001b[49m\u001b[43mvalue\u001b[49m\u001b[43m,\u001b[49m\u001b[43m \u001b[49m\u001b[38;5;28;43mself\u001b[39;49m\u001b[38;5;241;43m.\u001b[39;49m\u001b[43mindex\u001b[49m\u001b[43m)\u001b[49m\n\u001b[0;32m   4916\u001b[0m \u001b[38;5;28;01mreturn\u001b[39;00m sanitize_array(value, \u001b[38;5;28mself\u001b[39m\u001b[38;5;241m.\u001b[39mindex, copy\u001b[38;5;241m=\u001b[39m\u001b[38;5;28;01mTrue\u001b[39;00m, allow_2d\u001b[38;5;241m=\u001b[39m\u001b[38;5;28;01mTrue\u001b[39;00m)\n",
      "File \u001b[1;32m~\\anaconda3\\lib\\site-packages\\pandas\\core\\common.py:571\u001b[0m, in \u001b[0;36mrequire_length_match\u001b[1;34m(data, index)\u001b[0m\n\u001b[0;32m    567\u001b[0m \u001b[38;5;124;03m\"\"\"\u001b[39;00m\n\u001b[0;32m    568\u001b[0m \u001b[38;5;124;03mCheck the length of data matches the length of the index.\u001b[39;00m\n\u001b[0;32m    569\u001b[0m \u001b[38;5;124;03m\"\"\"\u001b[39;00m\n\u001b[0;32m    570\u001b[0m \u001b[38;5;28;01mif\u001b[39;00m \u001b[38;5;28mlen\u001b[39m(data) \u001b[38;5;241m!=\u001b[39m \u001b[38;5;28mlen\u001b[39m(index):\n\u001b[1;32m--> 571\u001b[0m     \u001b[38;5;28;01mraise\u001b[39;00m \u001b[38;5;167;01mValueError\u001b[39;00m(\n\u001b[0;32m    572\u001b[0m         \u001b[38;5;124m\"\u001b[39m\u001b[38;5;124mLength of values \u001b[39m\u001b[38;5;124m\"\u001b[39m\n\u001b[0;32m    573\u001b[0m         \u001b[38;5;124mf\u001b[39m\u001b[38;5;124m\"\u001b[39m\u001b[38;5;124m(\u001b[39m\u001b[38;5;132;01m{\u001b[39;00m\u001b[38;5;28mlen\u001b[39m(data)\u001b[38;5;132;01m}\u001b[39;00m\u001b[38;5;124m) \u001b[39m\u001b[38;5;124m\"\u001b[39m\n\u001b[0;32m    574\u001b[0m         \u001b[38;5;124m\"\u001b[39m\u001b[38;5;124mdoes not match length of index \u001b[39m\u001b[38;5;124m\"\u001b[39m\n\u001b[0;32m    575\u001b[0m         \u001b[38;5;124mf\u001b[39m\u001b[38;5;124m\"\u001b[39m\u001b[38;5;124m(\u001b[39m\u001b[38;5;132;01m{\u001b[39;00m\u001b[38;5;28mlen\u001b[39m(index)\u001b[38;5;132;01m}\u001b[39;00m\u001b[38;5;124m)\u001b[39m\u001b[38;5;124m\"\u001b[39m\n\u001b[0;32m    576\u001b[0m     )\n",
      "\u001b[1;31mValueError\u001b[0m: Length of values (900) does not match length of index (30)"
     ]
    }
   ],
   "source": [
    "df_salarios =pd.DataFrame()\n",
    "\n",
    "df_salarios[\"Nombre\"] = lst_nombres\n",
    "df_salarios[\"Equipo\"]=lst_equipos\n",
    "df_salarios[\"Edad\"] = lst_edades\n",
    "df_salarios[\"Sueldo\"] = lst_salarios\n"
   ]
  },
  {
   "cell_type": "code",
   "execution_count": 18,
   "id": "739d5e90",
   "metadata": {},
   "outputs": [
    {
     "data": {
      "text/html": [
       "<div>\n",
       "<style scoped>\n",
       "    .dataframe tbody tr th:only-of-type {\n",
       "        vertical-align: middle;\n",
       "    }\n",
       "\n",
       "    .dataframe tbody tr th {\n",
       "        vertical-align: top;\n",
       "    }\n",
       "\n",
       "    .dataframe thead th {\n",
       "        text-align: right;\n",
       "    }\n",
       "</style>\n",
       "<table border=\"1\" class=\"dataframe\">\n",
       "  <thead>\n",
       "    <tr style=\"text-align: right;\">\n",
       "      <th></th>\n",
       "      <th>Nombre</th>\n",
       "      <th>Edad</th>\n",
       "      <th>Sueldo</th>\n",
       "    </tr>\n",
       "  </thead>\n",
       "  <tbody>\n",
       "    <tr>\n",
       "      <th>0</th>\n",
       "      <td>Madison Bumgarner</td>\n",
       "      <td>32</td>\n",
       "      <td>$23,000,000</td>\n",
       "    </tr>\n",
       "    <tr>\n",
       "      <th>1</th>\n",
       "      <td>Charlie Morton</td>\n",
       "      <td>38</td>\n",
       "      <td>$20,000,000</td>\n",
       "    </tr>\n",
       "    <tr>\n",
       "      <th>2</th>\n",
       "      <td>Jordan Lyles</td>\n",
       "      <td>31</td>\n",
       "      <td>$5,500,000</td>\n",
       "    </tr>\n",
       "    <tr>\n",
       "      <th>3</th>\n",
       "      <td>Xander Bogaerts</td>\n",
       "      <td>29</td>\n",
       "      <td>$20,000,000</td>\n",
       "    </tr>\n",
       "    <tr>\n",
       "      <th>4</th>\n",
       "      <td>Marcus Stroman</td>\n",
       "      <td>31</td>\n",
       "      <td>$25,000,000</td>\n",
       "    </tr>\n",
       "    <tr>\n",
       "      <th>5</th>\n",
       "      <td>Jose Abreu</td>\n",
       "      <td>35</td>\n",
       "      <td>$18,000,000</td>\n",
       "    </tr>\n",
       "    <tr>\n",
       "      <th>6</th>\n",
       "      <td>Donovan Solano</td>\n",
       "      <td>34</td>\n",
       "      <td>$4,500,000</td>\n",
       "    </tr>\n",
       "    <tr>\n",
       "      <th>7</th>\n",
       "      <td>Jose Ramirez</td>\n",
       "      <td>29</td>\n",
       "      <td>$22,000,000</td>\n",
       "    </tr>\n",
       "    <tr>\n",
       "      <th>8</th>\n",
       "      <td>German Marquez</td>\n",
       "      <td>27</td>\n",
       "      <td>$11,000,000</td>\n",
       "    </tr>\n",
       "    <tr>\n",
       "      <th>9</th>\n",
       "      <td>Miguel Cabrera</td>\n",
       "      <td>39</td>\n",
       "      <td>$32,000,000</td>\n",
       "    </tr>\n",
       "    <tr>\n",
       "      <th>10</th>\n",
       "      <td>Jose Altuve</td>\n",
       "      <td>32</td>\n",
       "      <td>$26,000,000</td>\n",
       "    </tr>\n",
       "    <tr>\n",
       "      <th>11</th>\n",
       "      <td>Salvador Perez</td>\n",
       "      <td>32</td>\n",
       "      <td>$18,000,000</td>\n",
       "    </tr>\n",
       "    <tr>\n",
       "      <th>12</th>\n",
       "      <td>Mike Trout</td>\n",
       "      <td>30</td>\n",
       "      <td>$35,450,000</td>\n",
       "    </tr>\n",
       "    <tr>\n",
       "      <th>13</th>\n",
       "      <td>Freddie Freeman</td>\n",
       "      <td>32</td>\n",
       "      <td>$27,000,000</td>\n",
       "    </tr>\n",
       "    <tr>\n",
       "      <th>14</th>\n",
       "      <td>Avisail Garcia</td>\n",
       "      <td>31</td>\n",
       "      <td>$12,000,000</td>\n",
       "    </tr>\n",
       "    <tr>\n",
       "      <th>15</th>\n",
       "      <td>Christian Yelich</td>\n",
       "      <td>30</td>\n",
       "      <td>$26,000,000</td>\n",
       "    </tr>\n",
       "    <tr>\n",
       "      <th>16</th>\n",
       "      <td>Carlos Correa</td>\n",
       "      <td>27</td>\n",
       "      <td>$35,100,000</td>\n",
       "    </tr>\n",
       "    <tr>\n",
       "      <th>17</th>\n",
       "      <td>Gerrit Cole</td>\n",
       "      <td>31</td>\n",
       "      <td>$36,000,000</td>\n",
       "    </tr>\n",
       "    <tr>\n",
       "      <th>18</th>\n",
       "      <td>Max Scherzer</td>\n",
       "      <td>37</td>\n",
       "      <td>$43,333,333</td>\n",
       "    </tr>\n",
       "    <tr>\n",
       "      <th>19</th>\n",
       "      <td>Chad Pinder</td>\n",
       "      <td>30</td>\n",
       "      <td>$2,725,000</td>\n",
       "    </tr>\n",
       "    <tr>\n",
       "      <th>20</th>\n",
       "      <td>Bryce Harper</td>\n",
       "      <td>29</td>\n",
       "      <td>$26,000,000</td>\n",
       "    </tr>\n",
       "    <tr>\n",
       "      <th>21</th>\n",
       "      <td>Ke'Bryan Hayes</td>\n",
       "      <td>25</td>\n",
       "      <td>$10,000,000</td>\n",
       "    </tr>\n",
       "    <tr>\n",
       "      <th>22</th>\n",
       "      <td>Manny Machado</td>\n",
       "      <td>29</td>\n",
       "      <td>$30,000,000</td>\n",
       "    </tr>\n",
       "    <tr>\n",
       "      <th>23</th>\n",
       "      <td>Brandon Crawford</td>\n",
       "      <td>35</td>\n",
       "      <td>$16,000,000</td>\n",
       "    </tr>\n",
       "    <tr>\n",
       "      <th>24</th>\n",
       "      <td>Robbie Ray</td>\n",
       "      <td>30</td>\n",
       "      <td>$21,000,000</td>\n",
       "    </tr>\n",
       "    <tr>\n",
       "      <th>25</th>\n",
       "      <td>Paul Goldschmidt</td>\n",
       "      <td>34</td>\n",
       "      <td>$22,000,000</td>\n",
       "    </tr>\n",
       "    <tr>\n",
       "      <th>26</th>\n",
       "      <td>Corey Kluber</td>\n",
       "      <td>36</td>\n",
       "      <td>$8,000,000</td>\n",
       "    </tr>\n",
       "    <tr>\n",
       "      <th>27</th>\n",
       "      <td>Corey Seager</td>\n",
       "      <td>28</td>\n",
       "      <td>$32,500,000</td>\n",
       "    </tr>\n",
       "    <tr>\n",
       "      <th>28</th>\n",
       "      <td>George Springer</td>\n",
       "      <td>32</td>\n",
       "      <td>$28,000,000</td>\n",
       "    </tr>\n",
       "    <tr>\n",
       "      <th>29</th>\n",
       "      <td>Patrick Corbin</td>\n",
       "      <td>32</td>\n",
       "      <td>$23,000,000</td>\n",
       "    </tr>\n",
       "  </tbody>\n",
       "</table>\n",
       "</div>"
      ],
      "text/plain": [
       "               Nombre Edad       Sueldo\n",
       "0   Madison Bumgarner   32  $23,000,000\n",
       "1      Charlie Morton   38  $20,000,000\n",
       "2        Jordan Lyles   31   $5,500,000\n",
       "3     Xander Bogaerts   29  $20,000,000\n",
       "4      Marcus Stroman   31  $25,000,000\n",
       "5          Jose Abreu   35  $18,000,000\n",
       "6      Donovan Solano   34   $4,500,000\n",
       "7        Jose Ramirez   29  $22,000,000\n",
       "8      German Marquez   27  $11,000,000\n",
       "9      Miguel Cabrera   39  $32,000,000\n",
       "10        Jose Altuve   32  $26,000,000\n",
       "11     Salvador Perez   32  $18,000,000\n",
       "12         Mike Trout   30  $35,450,000\n",
       "13    Freddie Freeman   32  $27,000,000\n",
       "14     Avisail Garcia   31  $12,000,000\n",
       "15   Christian Yelich   30  $26,000,000\n",
       "16      Carlos Correa   27  $35,100,000\n",
       "17        Gerrit Cole   31  $36,000,000\n",
       "18       Max Scherzer   37  $43,333,333\n",
       "19        Chad Pinder   30   $2,725,000\n",
       "20       Bryce Harper   29  $26,000,000\n",
       "21     Ke'Bryan Hayes   25  $10,000,000\n",
       "22      Manny Machado   29  $30,000,000\n",
       "23   Brandon Crawford   35  $16,000,000\n",
       "24         Robbie Ray   30  $21,000,000\n",
       "25   Paul Goldschmidt   34  $22,000,000\n",
       "26       Corey Kluber   36   $8,000,000\n",
       "27       Corey Seager   28  $32,500,000\n",
       "28    George Springer   32  $28,000,000\n",
       "29     Patrick Corbin   32  $23,000,000"
      ]
     },
     "execution_count": 18,
     "metadata": {},
     "output_type": "execute_result"
    }
   ],
   "source": [
    "df_salarios"
   ]
  },
  {
   "cell_type": "code",
   "execution_count": 179,
   "id": "b3523909",
   "metadata": {},
   "outputs": [
    {
     "data": {
      "text/plain": [
       "<Response [200]>"
      ]
     },
     "execution_count": 179,
     "metadata": {},
     "output_type": "execute_result"
    }
   ],
   "source": [
    "url=\"https://www.spotrac.com/mlb/arizona-diamondbacks/payroll/2022/\"\n",
    "\n",
    "response = requests.get(url)\n",
    "\n",
    "soup = BeautifulSoup(response.text, \"html.parser\")\n",
    "response"
   ]
  },
  {
   "cell_type": "code",
   "execution_count": 180,
   "id": "81e50ba3",
   "metadata": {},
   "outputs": [
    {
     "ename": "SyntaxError",
     "evalue": "invalid syntax (2968775412.py, line 3)",
     "output_type": "error",
     "traceback": [
      "\u001b[1;36m  Cell \u001b[1;32mIn[180], line 3\u001b[1;36m\u001b[0m\n\u001b[1;33m    bs_s=soup.find_all(\"td\", class_=\"right\")[i].find(class)\u001b[0m\n\u001b[1;37m                                                     ^\u001b[0m\n\u001b[1;31mSyntaxError\u001b[0m\u001b[1;31m:\u001b[0m invalid syntax\n"
     ]
    }
   ],
   "source": [
    "salary_1equipo=[]\n",
    "for i in range(28):\n",
    "    bs_s=soup.find_all(\"td\", class_=\"right\")[i].find(class)\n",
    "    print(bs_s)\n",
    "    \n",
    "    \n"
   ]
  },
  {
   "cell_type": "code",
   "execution_count": 178,
   "id": "6c080bcd",
   "metadata": {},
   "outputs": [
    {
     "name": "stdout",
     "output_type": "stream",
     "text": [
      "[<tr>\n",
      "<td class=\"player\">\n",
      "<span style=\"display:none\">Hernandez</span>\n",
      "<a href=\"https://www.spotrac.com/redirect/player/11516/\">Cesar Hernandez</a>\n",
      "</td>\n",
      "<td class=\"center small\"><span class=\"cap\" title=\"\">32</span></td>\n",
      "<td class=\"center small\"><span class=\"cap\" title=\"\">2B</span></td>\n",
      "<td class=\"center small\"><span class=\"cap\" title=\"\">Vet</span></td>\n",
      "<td class=\"right\"><span class=\"cap info\" title=\"Base\">$4,000,000</span></td>\n",
      "<td class=\"right\"><span class=\"cap info\" title=\"Signing Bonus\">-</span></td>\n",
      "<td class=\"right\"><span class=\"cap info\" title=\"Signing Bonus\">$500,000</span></td>\n",
      "<td class=\"right\"><span class=\"cap\" title=\"Total Salary including base salary and bonuses\">$4,500,000 </span></td>\n",
      "<td class=\"result right\"><span class=\"cap\" title=\"Total Adjusted Salary including base salary and bonuses\">$4,500,000</span></td>\n",
      "<td class=\"center\">3.55</td>\n",
      "<td class=\"center\">\n",
      "\t\t\t\t\t\t\t\t\t\t\t4,000,000\t\t\t\t\t\t\t\t\t\t</td>\n",
      "</tr>,\n",
      " <tr>\n",
      "<td class=\"player\">\n",
      "<span style=\"display:none\">Fedde</span>\n",
      "<a href=\"https://www.spotrac.com/redirect/player/17694/\">Erick Fedde</a>\n",
      "</td>\n",
      "<td class=\"center small\"><span class=\"cap\" title=\"\">29</span></td>\n",
      "<td class=\"center small\"><span class=\"cap\" title=\"\">SP</span></td>\n",
      "<td class=\"center small\"><span class=\"cap\" title=\"\">Arb 1</span></td>\n",
      "<td class=\"right option-arbitration-avoided\"><span class=\"cap info\" title=\"Base / Arbitration Avoided\">$2,150,000</span></td>\n",
      "<td class=\"right option-arbitration-avoided\"><span class=\"cap info\" title=\"Signing Bonus / Arbitration Avoided\">-</span></td>\n",
      "<td class=\"right option-arbitration-avoided\"><span class=\"cap info\" title=\"Signing Bonus / Arbitration Avoided\">-</span></td>\n",
      "<td class=\"right\"><span class=\"cap option-arbitration-avoided\" title=\"Total Salary including base salary and bonuses\">$2,150,000 </span></td>\n",
      "<td class=\"result right\"><span class=\"cap option-arbitration-avoided\" title=\"Total Adjusted Salary including base salary and bonuses\">$2,150,000</span></td>\n",
      "<td class=\"center option-arbitration-avoided\">1.70</td>\n",
      "<td class=\"center option-arbitration-avoided\">\n",
      "\t\t\t\t\t\t\t\t\t\t\t2,150,000\t\t\t\t\t\t\t\t\t\t</td>\n",
      "</tr>,\n",
      " <tr>\n",
      "<td class=\"player\">\n",
      "<span style=\"display:none\">Cishek</span>\n",
      "<a href=\"https://www.spotrac.com/redirect/player/7395/\">Steve Cishek</a>\n",
      "</td>\n",
      "<td class=\"center small\"><span class=\"cap\" title=\"\">36</span></td>\n",
      "<td class=\"center small\"><span class=\"cap\" title=\"\">RP</span></td>\n",
      "<td class=\"center small\"><span class=\"cap\" title=\"\">Vet</span></td>\n",
      "<td class=\"right\"><span class=\"cap info\" title=\"Base\">$1,750,000</span></td>\n",
      "<td class=\"right\"><span class=\"cap info\" title=\"Signing Bonus\">-</span></td>\n",
      "<td class=\"right\"><span class=\"cap info\" title=\"Signing Bonus\">$250,000</span></td>\n",
      "<td class=\"right\"><span class=\"cap\" title=\"Total Salary including base salary and bonuses\">$2,000,000 </span></td>\n",
      "<td class=\"result right\"><span class=\"cap\" title=\"Total Adjusted Salary including base salary and bonuses\">$2,000,000</span></td>\n",
      "<td class=\"center\">1.58</td>\n",
      "<td class=\"center\">\n",
      "\t\t\t\t\t\t\t\t\t\t\t1,750,000\t\t\t\t\t\t\t\t\t\t</td>\n",
      "</tr>,\n",
      " <tr>\n",
      "<td class=\"player\">\n",
      "<span style=\"display:none\">Sanchez</span>\n",
      "<a href=\"https://www.spotrac.com/redirect/player/339/\">Anibal Sanchez</a>\n",
      "<span class=\"info\" title=\"Two-Way Contract\"><i class=\"fa fa-exchange\"></i></span>\n",
      "</td>\n",
      "<td class=\"center small\"><span class=\"cap\" title=\"\">38</span></td>\n",
      "<td class=\"center small\"><span class=\"cap\" title=\"\">SP</span></td>\n",
      "<td class=\"center small\"><span class=\"cap\" title=\"\">Vet</span></td>\n",
      "<td class=\"right\"><span class=\"cap info\" title=\"Base\">$2,000,000</span></td>\n",
      "<td class=\"right\"><span class=\"cap info\" title=\"Signing Bonus\">-</span></td>\n",
      "<td class=\"right\"><span class=\"cap info\" title=\"Signing Bonus\">-</span></td>\n",
      "<td class=\"right\"><span class=\"cap\" title=\"Total Salary including base salary and bonuses\">$2,000,000 </span></td>\n",
      "<td class=\"result right\"><span class=\"cap\" title=\"Total Adjusted Salary including base salary and bonuses\">$2,000,000</span></td>\n",
      "<td class=\"center\">1.58</td>\n",
      "<td class=\"center\">\n",
      "\t\t\t\t\t\t\t\t\t\t\t2,000,000\t\t\t\t\t\t\t\t\t\t</td>\n",
      "</tr>,\n",
      " <tr>\n",
      "<td class=\"player\">\n",
      "<span style=\"display:none\">Voit</span>\n",
      "<a href=\"https://www.spotrac.com/redirect/player/23734/\">Luke Voit</a>\n",
      "</td>\n",
      "<td class=\"center small\"><span class=\"cap\" title=\"\">31</span></td>\n",
      "<td class=\"center small\"><span class=\"cap\" title=\"\">DH</span></td>\n",
      "<td class=\"center small\"><span class=\"cap\" title=\"\">Arb 2 (S2)</span></td>\n",
      "<td class=\"right option-arbitration-avoided\"><span class=\"cap info\" title=\"Base / Arbitration Avoided\">$5,450,000</span></td>\n",
      "<td class=\"right option-arbitration-avoided\"><span class=\"cap info\" title=\"Signing Bonus / Arbitration Avoided\">-</span></td>\n",
      "<td class=\"right option-arbitration-avoided\"><span class=\"cap info\" title=\"Signing Bonus / Arbitration Avoided\">-</span></td>\n",
      "<td class=\"right\"><span class=\"cap option-arbitration-avoided\" title=\"Total Salary including base salary and bonuses\">$5,450,000 </span></td>\n",
      "<td class=\"result right\"><span class=\"cap option-arbitration-avoided\" title=\"Total Adjusted Salary including base salary and bonuses\">$1,916,480</span></td>\n",
      "<td class=\"center option-arbitration-avoided\">1.51</td>\n",
      "<td class=\"center option-arbitration-avoided\">\n",
      "\t\t\t\t\t\t\t\t\t\t\t1,916,480\t\t\t\t\t\t\t\t\t\t</td>\n",
      "</tr>,\n",
      " <tr>\n",
      "<td class=\"player\">\n",
      "<span style=\"display:none\">Robles</span>\n",
      "<a href=\"https://www.spotrac.com/redirect/player/21289/\">Victor Robles</a>\n",
      "</td>\n",
      "<td class=\"center small\"><span class=\"cap\" title=\"\">25</span></td>\n",
      "<td class=\"center small\"><span class=\"cap\" title=\"\">CF</span></td>\n",
      "<td class=\"center small\"><span class=\"cap\" title=\"\">Arb 1</span></td>\n",
      "<td class=\"right option-arbitration-avoided\"><span class=\"cap info\" title=\"Base / Arbitration Avoided\">$1,650,000</span></td>\n",
      "<td class=\"right option-arbitration-avoided\"><span class=\"cap info\" title=\"Signing Bonus / Arbitration Avoided\">-</span></td>\n",
      "<td class=\"right option-arbitration-avoided\"><span class=\"cap info\" title=\"Signing Bonus / Arbitration Avoided\">-</span></td>\n",
      "<td class=\"right\"><span class=\"cap option-arbitration-avoided\" title=\"Total Salary including base salary and bonuses\">$1,650,000 </span></td>\n",
      "<td class=\"result right\"><span class=\"cap option-arbitration-avoided\" title=\"Total Adjusted Salary including base salary and bonuses\">$1,650,000</span></td>\n",
      "<td class=\"center option-arbitration-avoided\">1.30</td>\n",
      "<td class=\"center option-arbitration-avoided\">\n",
      "\t\t\t\t\t\t\t\t\t\t\t1,650,000\t\t\t\t\t\t\t\t\t\t</td>\n",
      "</tr>,\n",
      " <tr>\n",
      "<td class=\"player\">\n",
      "<span style=\"display:none\">Finnegan</span>\n",
      "<a href=\"https://www.spotrac.com/redirect/player/47064/\">Kyle Finnegan</a>\n",
      "<span class=\"info\" title=\"Two-Way Contract\"><i class=\"fa fa-exchange\"></i></span>\n",
      "</td>\n",
      "<td class=\"center small\"><span class=\"cap\" title=\"\">30</span></td>\n",
      "<td class=\"center small\"><span class=\"cap\" title=\"\">RP/CL</span></td>\n",
      "<td class=\"center small\"><span class=\"cap\" title=\"\">Pre-Arb</span></td>\n",
      "<td class=\"right\"><span class=\"cap info\" title=\"Base\">$725,900</span></td>\n",
      "<td class=\"right\"><span class=\"cap info\" title=\"Signing Bonus\">-</span></td>\n",
      "<td class=\"right\"><span class=\"cap info\" title=\"Signing Bonus\">-</span></td>\n",
      "<td class=\"right\"><span class=\"cap\" title=\"Total Salary including base salary and bonuses\">$725,900 </span></td>\n",
      "<td class=\"result right\"><span class=\"cap\" title=\"Total Adjusted Salary including base salary and bonuses\">$725,900</span></td>\n",
      "<td class=\"center\">0.57</td>\n",
      "<td class=\"center\">\n",
      "\t\t\t\t\t\t\t\t\t\t\t725,900\t\t\t\t\t\t\t\t\t\t</td>\n",
      "</tr>]\n"
     ]
    }
   ],
   "source": [
    "a=soup.find_all(\"tr\")\n",
    "pprint(a[3:10])"
   ]
  },
  {
   "cell_type": "code",
   "execution_count": null,
   "id": "46887bd9",
   "metadata": {},
   "outputs": [],
   "source": []
  },
  {
   "cell_type": "code",
   "execution_count": null,
   "id": "c437b916",
   "metadata": {},
   "outputs": [],
   "source": []
  },
  {
   "cell_type": "code",
   "execution_count": null,
   "id": "d1eb3d1f",
   "metadata": {},
   "outputs": [],
   "source": []
  }
 ],
 "metadata": {
  "kernelspec": {
   "display_name": "Python 3 (ipykernel)",
   "language": "python",
   "name": "python3"
  },
  "language_info": {
   "codemirror_mode": {
    "name": "ipython",
    "version": 3
   },
   "file_extension": ".py",
   "mimetype": "text/x-python",
   "name": "python",
   "nbconvert_exporter": "python",
   "pygments_lexer": "ipython3",
   "version": "3.10.9"
  }
 },
 "nbformat": 4,
 "nbformat_minor": 5
}
